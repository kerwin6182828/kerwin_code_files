{
 "cells": [
  {
   "cell_type": "code",
   "execution_count": 1,
   "metadata": {},
   "outputs": [],
   "source": [
    "import matplotlib.pyplot as plt\n",
    "import numpy as np\n",
    "import pandas as pd\n",
    "import tensorflow as tf\n",
    "import sklearn\n",
    "import cv2\n",
    "from PIL import Image\n",
    "%matplotlib notebook"
   ]
  },
  {
   "cell_type": "code",
   "execution_count": 1,
   "metadata": {},
   "outputs": [],
   "source": [
    "import cv2\n",
    "im1 = cv2.imread(\"k1.jpg\")"
   ]
  },
  {
   "cell_type": "code",
   "execution_count": 4,
   "metadata": {},
   "outputs": [
    {
     "data": {
      "text/plain": [
       "(40, 120, 3)"
      ]
     },
     "execution_count": 4,
     "metadata": {},
     "output_type": "execute_result"
    }
   ],
   "source": [
    "im1.shape"
   ]
  },
  {
   "cell_type": "code",
   "execution_count": 12,
   "metadata": {},
   "outputs": [
    {
     "data": {
      "text/plain": [
       "(40, 120, 3)"
      ]
     },
     "execution_count": 12,
     "metadata": {},
     "output_type": "execute_result"
    }
   ],
   "source": [
    "im2 = plt.imread(\"k1.jpg\")\n",
    "im2.shape"
   ]
  },
  {
   "cell_type": "code",
   "execution_count": 35,
   "metadata": {},
   "outputs": [],
   "source": [
    "hist1 = cv2.calcHist([im1], [0], None, [256], [0, 255])\n",
    "hist2 = cv2.calcHist([im1], [1], None, [256], [0, 255])\n",
    "hist3 = cv2.calcHist([im1], [2], None, [256], [0, 255])\n"
   ]
  },
  {
   "cell_type": "code",
   "execution_count": 41,
   "metadata": {},
   "outputs": [],
   "source": [
    "im2 = cv2.GaussianBlur(im1, (3, 3), 0)"
   ]
  },
  {
   "cell_type": "code",
   "execution_count": 42,
   "metadata": {},
   "outputs": [
    {
     "data": {
      "text/plain": [
       "-1"
      ]
     },
     "execution_count": 42,
     "metadata": {},
     "output_type": "execute_result"
    }
   ],
   "source": [
    "cv2.imshow(\"xxxx\", im2)\n",
    "cv2.waitKey(100)"
   ]
  },
  {
   "cell_type": "code",
   "execution_count": 40,
   "metadata": {},
   "outputs": [
    {
     "data": {
      "text/plain": [
       "3"
      ]
     },
     "execution_count": 40,
     "metadata": {},
     "output_type": "execute_result"
    }
   ],
   "source": [
    "3"
   ]
  },
  {
   "cell_type": "code",
   "execution_count": 2,
   "metadata": {},
   "outputs": [
    {
     "data": {
      "text/plain": [
       "array([[[[2, 2],\n",
       "         [6, 0],\n",
       "         [2, 3],\n",
       "         [9, 1]],\n",
       "\n",
       "        [[4, 0],\n",
       "         [3, 9],\n",
       "         [8, 4],\n",
       "         [2, 0]],\n",
       "\n",
       "        [[5, 7],\n",
       "         [3, 9],\n",
       "         [2, 9],\n",
       "         [9, 4]]],\n",
       "\n",
       "\n",
       "       [[[2, 5],\n",
       "         [3, 7],\n",
       "         [8, 6],\n",
       "         [5, 0]],\n",
       "\n",
       "        [[9, 1],\n",
       "         [6, 4],\n",
       "         [4, 8],\n",
       "         [0, 9]],\n",
       "\n",
       "        [[0, 5],\n",
       "         [4, 4],\n",
       "         [2, 4],\n",
       "         [9, 4]]],\n",
       "\n",
       "\n",
       "       [[[8, 8],\n",
       "         [9, 6],\n",
       "         [1, 3],\n",
       "         [9, 4]],\n",
       "\n",
       "        [[5, 7],\n",
       "         [3, 0],\n",
       "         [1, 4],\n",
       "         [6, 6]],\n",
       "\n",
       "        [[6, 6],\n",
       "         [5, 0],\n",
       "         [3, 6],\n",
       "         [1, 2]]]])"
      ]
     },
     "execution_count": 2,
     "metadata": {},
     "output_type": "execute_result"
    }
   ],
   "source": [
    "a = np.random.randint(0, 10, (3, 3, 4,2))\n",
    "a"
   ]
  },
  {
   "cell_type": "code",
   "execution_count": 5,
   "metadata": {},
   "outputs": [
    {
     "data": {
      "text/plain": [
       "(1, 3, 4, 2)"
      ]
     },
     "execution_count": 5,
     "metadata": {},
     "output_type": "execute_result"
    }
   ],
   "source": [
    "a[:1].shape"
   ]
  },
  {
   "cell_type": "code",
   "execution_count": 23,
   "metadata": {},
   "outputs": [
    {
     "data": {
      "text/plain": [
       "[array([[[ 0,  1,  2,  3,  4],\n",
       "         [ 5,  6,  7,  8,  9],\n",
       "         [10, 11, 12, 13, 14]],\n",
       " \n",
       "        [[15, 16, 17, 18, 19],\n",
       "         [20, 21, 22, 23, 24],\n",
       "         [25, 26, 27, 28, 29]]]), array([[[ 0,  1,  2,  3,  4],\n",
       "         [ 5,  6,  7,  8,  9],\n",
       "         [10, 11, 12, 13, 14]],\n",
       " \n",
       "        [[15, 16, 17, 18, 19],\n",
       "         [20, 21, 22, 23, 24],\n",
       "         [25, 26, 27, 28, 29]]])]"
      ]
     },
     "execution_count": 23,
     "metadata": {},
     "output_type": "execute_result"
    }
   ],
   "source": [
    "n = np.arange(30).reshape(2, 3, 5)\n",
    "l = []\n",
    "l.append(n)\n",
    "l.append(n)\n",
    "l"
   ]
  },
  {
   "cell_type": "code",
   "execution_count": 24,
   "metadata": {},
   "outputs": [
    {
     "data": {
      "text/plain": [
       "array([[[[ 0,  1,  2,  3,  4],\n",
       "         [ 5,  6,  7,  8,  9],\n",
       "         [10, 11, 12, 13, 14]],\n",
       "\n",
       "        [[15, 16, 17, 18, 19],\n",
       "         [20, 21, 22, 23, 24],\n",
       "         [25, 26, 27, 28, 29]]],\n",
       "\n",
       "\n",
       "       [[[ 0,  1,  2,  3,  4],\n",
       "         [ 5,  6,  7,  8,  9],\n",
       "         [10, 11, 12, 13, 14]],\n",
       "\n",
       "        [[15, 16, 17, 18, 19],\n",
       "         [20, 21, 22, 23, 24],\n",
       "         [25, 26, 27, 28, 29]]]])"
      ]
     },
     "execution_count": 24,
     "metadata": {},
     "output_type": "execute_result"
    }
   ],
   "source": [
    "np.array(l)"
   ]
  },
  {
   "cell_type": "code",
   "execution_count": 25,
   "metadata": {},
   "outputs": [
    {
     "data": {
      "text/plain": [
       "(2, 2, 3, 5)"
      ]
     },
     "execution_count": 25,
     "metadata": {},
     "output_type": "execute_result"
    }
   ],
   "source": [
    "np.array(l).shape"
   ]
  },
  {
   "cell_type": "code",
   "execution_count": 16,
   "metadata": {},
   "outputs": [
    {
     "data": {
      "text/plain": [
       "[array([[ 0,  1,  2,  3,  4,  5],\n",
       "        [ 6,  7,  8,  9, 10, 11],\n",
       "        [12, 13, 14, 15, 16, 17],\n",
       "        [18, 19, 20, 21, 22, 23],\n",
       "        [24, 25, 26, 27, 28, 29]])]"
      ]
     },
     "execution_count": 16,
     "metadata": {},
     "output_type": "execute_result"
    }
   ],
   "source": [
    "l"
   ]
  },
  {
   "cell_type": "code",
   "execution_count": null,
   "metadata": {},
   "outputs": [],
   "source": []
  },
  {
   "cell_type": "code",
   "execution_count": null,
   "metadata": {},
   "outputs": [],
   "source": []
  },
  {
   "cell_type": "code",
   "execution_count": 31,
   "metadata": {},
   "outputs": [
    {
     "data": {
      "text/plain": [
       "[<matplotlib.lines.Line2D at 0x24f89569a90>]"
      ]
     },
     "execution_count": 31,
     "metadata": {},
     "output_type": "execute_result"
    },
    {
     "data": {
      "image/png": "[encoded data removed]",
      "text/plain": [
       "<Figure size 432x288 with 1 Axes>"
      ]
     },
     "metadata": {
      "needs_background": "light"
     },
     "output_type": "display_data"
    }
   ],
   "source": [
    "plt.plot(hist1, \"b\")\n",
    "plt.plot(hist2, \"g\")\n",
    "plt.plot(hist3, \"r\")"
   ]
  },
  {
   "cell_type": "code",
   "execution_count": null,
   "metadata": {},
   "outputs": [],
   "source": []
  },
  {
   "cell_type": "code",
   "execution_count": null,
   "metadata": {},
   "outputs": [],
   "source": []
  },
  {
   "cell_type": "code",
   "execution_count": 26,
   "metadata": {},
   "outputs": [
    {
     "data": {
      "text/plain": [
       "(array([  9.,   0.,   0.,   0.,   6.,   0.,   0.,   0.,   0.,   0.,   0.,\n",
       "          0.,   5.,   0.,   0.,   0.,   0.,  17.,   0.,   0., 179.,   0.,\n",
       "          0.,   0.,   0.,   0.,   0.,   0.,   0.,   0.,   0.,  11.,   0.,\n",
       "          0.,   3.,   0.,   0.,   0.,   0.,   0.,   0.,   0.,   0.,   0.,\n",
       "          5.,   0.,   0.,   0.,   0.,   3.,   0.,  10.,   0.,   0.,   0.,\n",
       "          0.,   6.,   0.,   6.,   0.,   0.,   0.,   0.,   0.,   0.,   0.,\n",
       "          0.,   0.,  12.,  14.,   0.,   7.,   0.,   0.,   5., 202.,   0.,\n",
       "          3.,   0.,   0.,   0.,  13.,   0.,   0.,   0.,   0.,   5.,   0.,\n",
       "          2.,   0.,   0.,   8.,   0.,   0.,   0.,  20.,   0.,   0.,   7.,\n",
       "          0.,   0.,   0.,   0.,   0.,   0.,  16.,   0.,   9.,   5.,   0.,\n",
       "          0.,   3.,   0.,   0.,   4.,   0.,   4.,   0.,  12.,   0.,  12.,\n",
       "          0.,   0.,   0.,   0.,   0.,  10.,   0.,   0.,  13.,   5.,   0.,\n",
       "          0.,   0.,  15.,   0.,   0.,   0.,   8.,   4.,   0.,   0.,   0.,\n",
       "          0.,  15.,   0.,   0.,   0.,   0.,  11.,   0.,   0.,  10.,   0.,\n",
       "         13.,   0.,   9.,   9.,   0.,   0.,   0.,   1.,   0.,   0.,   0.,\n",
       "          0.,   0.,   4.,   2.,   0.,   0.,   5.,   0.,   0.,  13.,   0.,\n",
       "          0.,  11.,   6.,   0.,   0.,   0.,   0.,   0.,   0.,   0.,   0.,\n",
       "          0.,   0.,   0.,   0.,   0.,   0.,   0.,   0.,   0.,   0.,   7.,\n",
       "         14.,   0.,   0.,   4.,  12.,   0.,   0.,   0.,   0.,   0.,   0.,\n",
       "          0.,   0.,   0.,   0.,   0.,   0.,   0.,   3., 170.,   0.,   0.,\n",
       "          3.,   0.,   0.,   0.,   0.,   0.,   0.,   0.,   0.,   0.,   0.,\n",
       "         10.,  12.,   0.,   0.,   0.,   0.,   8., 168.,   0.,  11.,   0.,\n",
       "         10.,   0.,   0.,   0.,  15.,   5.,   0.,   0.,   0.,   0.,   8.,\n",
       "          4.,   2.]),\n",
       " array([ 10.        ,  10.95294118,  11.90588235,  12.85882353,\n",
       "         13.81176471,  14.76470588,  15.71764706,  16.67058824,\n",
       "         17.62352941,  18.57647059,  19.52941176,  20.48235294,\n",
       "         21.43529412,  22.38823529,  23.34117647,  24.29411765,\n",
       "         25.24705882,  26.2       ,  27.15294118,  28.10588235,\n",
       "         29.05882353,  30.01176471,  30.96470588,  31.91764706,\n",
       "         32.87058824,  33.82352941,  34.77647059,  35.72941176,\n",
       "         36.68235294,  37.63529412,  38.58823529,  39.54117647,\n",
       "         40.49411765,  41.44705882,  42.4       ,  43.35294118,\n",
       "         44.30588235,  45.25882353,  46.21176471,  47.16470588,\n",
       "         48.11764706,  49.07058824,  50.02352941,  50.97647059,\n",
       "         51.92941176,  52.88235294,  53.83529412,  54.78823529,\n",
       "         55.74117647,  56.69411765,  57.64705882,  58.6       ,\n",
       "         59.55294118,  60.50588235,  61.45882353,  62.41176471,\n",
       "         63.36470588,  64.31764706,  65.27058824,  66.22352941,\n",
       "         67.17647059,  68.12941176,  69.08235294,  70.03529412,\n",
       "         70.98823529,  71.94117647,  72.89411765,  73.84705882,\n",
       "         74.8       ,  75.75294118,  76.70588235,  77.65882353,\n",
       "         78.61176471,  79.56470588,  80.51764706,  81.47058824,\n",
       "         82.42352941,  83.37647059,  84.32941176,  85.28235294,\n",
       "         86.23529412,  87.18823529,  88.14117647,  89.09411765,\n",
       "         90.04705882,  91.        ,  91.95294118,  92.90588235,\n",
       "         93.85882353,  94.81176471,  95.76470588,  96.71764706,\n",
       "         97.67058824,  98.62352941,  99.57647059, 100.52941176,\n",
       "        101.48235294, 102.43529412, 103.38823529, 104.34117647,\n",
       "        105.29411765, 106.24705882, 107.2       , 108.15294118,\n",
       "        109.10588235, 110.05882353, 111.01176471, 111.96470588,\n",
       "        112.91764706, 113.87058824, 114.82352941, 115.77647059,\n",
       "        116.72941176, 117.68235294, 118.63529412, 119.58823529,\n",
       "        120.54117647, 121.49411765, 122.44705882, 123.4       ,\n",
       "        124.35294118, 125.30588235, 126.25882353, 127.21176471,\n",
       "        128.16470588, 129.11764706, 130.07058824, 131.02352941,\n",
       "        131.97647059, 132.92941176, 133.88235294, 134.83529412,\n",
       "        135.78823529, 136.74117647, 137.69411765, 138.64705882,\n",
       "        139.6       , 140.55294118, 141.50588235, 142.45882353,\n",
       "        143.41176471, 144.36470588, 145.31764706, 146.27058824,\n",
       "        147.22352941, 148.17647059, 149.12941176, 150.08235294,\n",
       "        151.03529412, 151.98823529, 152.94117647, 153.89411765,\n",
       "        154.84705882, 155.8       , 156.75294118, 157.70588235,\n",
       "        158.65882353, 159.61176471, 160.56470588, 161.51764706,\n",
       "        162.47058824, 163.42352941, 164.37647059, 165.32941176,\n",
       "        166.28235294, 167.23529412, 168.18823529, 169.14117647,\n",
       "        170.09411765, 171.04705882, 172.        , 172.95294118,\n",
       "        173.90588235, 174.85882353, 175.81176471, 176.76470588,\n",
       "        177.71764706, 178.67058824, 179.62352941, 180.57647059,\n",
       "        181.52941176, 182.48235294, 183.43529412, 184.38823529,\n",
       "        185.34117647, 186.29411765, 187.24705882, 188.2       ,\n",
       "        189.15294118, 190.10588235, 191.05882353, 192.01176471,\n",
       "        192.96470588, 193.91764706, 194.87058824, 195.82352941,\n",
       "        196.77647059, 197.72941176, 198.68235294, 199.63529412,\n",
       "        200.58823529, 201.54117647, 202.49411765, 203.44705882,\n",
       "        204.4       , 205.35294118, 206.30588235, 207.25882353,\n",
       "        208.21176471, 209.16470588, 210.11764706, 211.07058824,\n",
       "        212.02352941, 212.97647059, 213.92941176, 214.88235294,\n",
       "        215.83529412, 216.78823529, 217.74117647, 218.69411765,\n",
       "        219.64705882, 220.6       , 221.55294118, 222.50588235,\n",
       "        223.45882353, 224.41176471, 225.36470588, 226.31764706,\n",
       "        227.27058824, 228.22352941, 229.17647059, 230.12941176,\n",
       "        231.08235294, 232.03529412, 232.98823529, 233.94117647,\n",
       "        234.89411765, 235.84705882, 236.8       , 237.75294118,\n",
       "        238.70588235, 239.65882353, 240.61176471, 241.56470588,\n",
       "        242.51764706, 243.47058824, 244.42352941, 245.37647059,\n",
       "        246.32941176, 247.28235294, 248.23529412, 249.18823529,\n",
       "        250.14117647, 251.09411765, 252.04705882, 253.        ]),\n",
       " <a list of 255 Patch objects>)"
      ]
     },
     "execution_count": 26,
     "metadata": {},
     "output_type": "execute_result"
    },
    {
     "data": {
      "image/png": "[encoded data removed]",
      "text/plain": [
       "<Figure size 432x288 with 1 Axes>"
      ]
     },
     "metadata": {
      "needs_background": "light"
     },
     "output_type": "display_data"
    }
   ],
   "source": [
    "plt.hist(a[a!=255], bins=255)"
   ]
  },
  {
   "cell_type": "code",
   "execution_count": 24,
   "metadata": {},
   "outputs": [
    {
     "data": {
      "text/plain": [
       "(4800, 1)"
      ]
     },
     "execution_count": 24,
     "metadata": {},
     "output_type": "execute_result"
    }
   ],
   "source": [
    "a.reshape(-1, 1).shape"
   ]
  },
  {
   "cell_type": "code",
   "execution_count": 20,
   "metadata": {},
   "outputs": [
    {
     "data": {
      "text/plain": [
       "(array([9.000e+00, 0.000e+00, 0.000e+00, 0.000e+00, 6.000e+00, 0.000e+00,\n",
       "        0.000e+00, 0.000e+00, 0.000e+00, 0.000e+00, 0.000e+00, 0.000e+00,\n",
       "        5.000e+00, 0.000e+00, 0.000e+00, 0.000e+00, 0.000e+00, 1.700e+01,\n",
       "        0.000e+00, 0.000e+00, 1.790e+02, 0.000e+00, 0.000e+00, 0.000e+00,\n",
       "        0.000e+00, 0.000e+00, 0.000e+00, 0.000e+00, 0.000e+00, 0.000e+00,\n",
       "        0.000e+00, 1.100e+01, 0.000e+00, 0.000e+00, 3.000e+00, 0.000e+00,\n",
       "        0.000e+00, 0.000e+00, 0.000e+00, 0.000e+00, 0.000e+00, 0.000e+00,\n",
       "        0.000e+00, 5.000e+00, 0.000e+00, 0.000e+00, 0.000e+00, 0.000e+00,\n",
       "        3.000e+00, 0.000e+00, 0.000e+00, 1.000e+01, 0.000e+00, 0.000e+00,\n",
       "        0.000e+00, 0.000e+00, 6.000e+00, 0.000e+00, 6.000e+00, 0.000e+00,\n",
       "        0.000e+00, 0.000e+00, 0.000e+00, 0.000e+00, 0.000e+00, 0.000e+00,\n",
       "        0.000e+00, 1.200e+01, 1.400e+01, 0.000e+00, 7.000e+00, 0.000e+00,\n",
       "        0.000e+00, 5.000e+00, 2.020e+02, 0.000e+00, 0.000e+00, 3.000e+00,\n",
       "        0.000e+00, 0.000e+00, 0.000e+00, 1.300e+01, 0.000e+00, 0.000e+00,\n",
       "        0.000e+00, 5.000e+00, 0.000e+00, 2.000e+00, 0.000e+00, 0.000e+00,\n",
       "        8.000e+00, 0.000e+00, 0.000e+00, 0.000e+00, 2.000e+01, 0.000e+00,\n",
       "        0.000e+00, 7.000e+00, 0.000e+00, 0.000e+00, 0.000e+00, 0.000e+00,\n",
       "        0.000e+00, 0.000e+00, 0.000e+00, 1.600e+01, 9.000e+00, 5.000e+00,\n",
       "        0.000e+00, 0.000e+00, 3.000e+00, 0.000e+00, 0.000e+00, 4.000e+00,\n",
       "        0.000e+00, 4.000e+00, 0.000e+00, 1.200e+01, 0.000e+00, 1.200e+01,\n",
       "        0.000e+00, 0.000e+00, 0.000e+00, 0.000e+00, 0.000e+00, 1.000e+01,\n",
       "        0.000e+00, 0.000e+00, 1.300e+01, 5.000e+00, 0.000e+00, 0.000e+00,\n",
       "        0.000e+00, 1.500e+01, 0.000e+00, 0.000e+00, 0.000e+00, 8.000e+00,\n",
       "        4.000e+00, 0.000e+00, 0.000e+00, 0.000e+00, 0.000e+00, 1.500e+01,\n",
       "        0.000e+00, 0.000e+00, 0.000e+00, 1.100e+01, 0.000e+00, 0.000e+00,\n",
       "        1.000e+01, 0.000e+00, 0.000e+00, 1.300e+01, 0.000e+00, 9.000e+00,\n",
       "        9.000e+00, 0.000e+00, 0.000e+00, 0.000e+00, 1.000e+00, 0.000e+00,\n",
       "        0.000e+00, 0.000e+00, 0.000e+00, 0.000e+00, 4.000e+00, 2.000e+00,\n",
       "        0.000e+00, 5.000e+00, 0.000e+00, 0.000e+00, 1.300e+01, 0.000e+00,\n",
       "        0.000e+00, 1.100e+01, 6.000e+00, 0.000e+00, 0.000e+00, 0.000e+00,\n",
       "        0.000e+00, 0.000e+00, 0.000e+00, 0.000e+00, 0.000e+00, 0.000e+00,\n",
       "        0.000e+00, 0.000e+00, 0.000e+00, 0.000e+00, 0.000e+00, 0.000e+00,\n",
       "        0.000e+00, 0.000e+00, 0.000e+00, 7.000e+00, 1.400e+01, 0.000e+00,\n",
       "        0.000e+00, 4.000e+00, 1.200e+01, 0.000e+00, 0.000e+00, 0.000e+00,\n",
       "        0.000e+00, 0.000e+00, 0.000e+00, 0.000e+00, 0.000e+00, 0.000e+00,\n",
       "        0.000e+00, 0.000e+00, 0.000e+00, 0.000e+00, 3.000e+00, 1.700e+02,\n",
       "        0.000e+00, 0.000e+00, 3.000e+00, 0.000e+00, 0.000e+00, 0.000e+00,\n",
       "        0.000e+00, 0.000e+00, 0.000e+00, 0.000e+00, 0.000e+00, 0.000e+00,\n",
       "        0.000e+00, 0.000e+00, 1.000e+01, 1.200e+01, 0.000e+00, 0.000e+00,\n",
       "        0.000e+00, 8.000e+00, 1.680e+02, 0.000e+00, 1.100e+01, 0.000e+00,\n",
       "        1.000e+01, 0.000e+00, 0.000e+00, 0.000e+00, 1.500e+01, 5.000e+00,\n",
       "        0.000e+00, 0.000e+00, 0.000e+00, 0.000e+00, 8.000e+00, 4.000e+00,\n",
       "        2.000e+00, 0.000e+00, 3.547e+03]),\n",
       " array([ 10.        ,  10.96078431,  11.92156863,  12.88235294,\n",
       "         13.84313725,  14.80392157,  15.76470588,  16.7254902 ,\n",
       "         17.68627451,  18.64705882,  19.60784314,  20.56862745,\n",
       "         21.52941176,  22.49019608,  23.45098039,  24.41176471,\n",
       "         25.37254902,  26.33333333,  27.29411765,  28.25490196,\n",
       "         29.21568627,  30.17647059,  31.1372549 ,  32.09803922,\n",
       "         33.05882353,  34.01960784,  34.98039216,  35.94117647,\n",
       "         36.90196078,  37.8627451 ,  38.82352941,  39.78431373,\n",
       "         40.74509804,  41.70588235,  42.66666667,  43.62745098,\n",
       "         44.58823529,  45.54901961,  46.50980392,  47.47058824,\n",
       "         48.43137255,  49.39215686,  50.35294118,  51.31372549,\n",
       "         52.2745098 ,  53.23529412,  54.19607843,  55.15686275,\n",
       "         56.11764706,  57.07843137,  58.03921569,  59.        ,\n",
       "         59.96078431,  60.92156863,  61.88235294,  62.84313725,\n",
       "         63.80392157,  64.76470588,  65.7254902 ,  66.68627451,\n",
       "         67.64705882,  68.60784314,  69.56862745,  70.52941176,\n",
       "         71.49019608,  72.45098039,  73.41176471,  74.37254902,\n",
       "         75.33333333,  76.29411765,  77.25490196,  78.21568627,\n",
       "         79.17647059,  80.1372549 ,  81.09803922,  82.05882353,\n",
       "         83.01960784,  83.98039216,  84.94117647,  85.90196078,\n",
       "         86.8627451 ,  87.82352941,  88.78431373,  89.74509804,\n",
       "         90.70588235,  91.66666667,  92.62745098,  93.58823529,\n",
       "         94.54901961,  95.50980392,  96.47058824,  97.43137255,\n",
       "         98.39215686,  99.35294118, 100.31372549, 101.2745098 ,\n",
       "        102.23529412, 103.19607843, 104.15686275, 105.11764706,\n",
       "        106.07843137, 107.03921569, 108.        , 108.96078431,\n",
       "        109.92156863, 110.88235294, 111.84313725, 112.80392157,\n",
       "        113.76470588, 114.7254902 , 115.68627451, 116.64705882,\n",
       "        117.60784314, 118.56862745, 119.52941176, 120.49019608,\n",
       "        121.45098039, 122.41176471, 123.37254902, 124.33333333,\n",
       "        125.29411765, 126.25490196, 127.21568627, 128.17647059,\n",
       "        129.1372549 , 130.09803922, 131.05882353, 132.01960784,\n",
       "        132.98039216, 133.94117647, 134.90196078, 135.8627451 ,\n",
       "        136.82352941, 137.78431373, 138.74509804, 139.70588235,\n",
       "        140.66666667, 141.62745098, 142.58823529, 143.54901961,\n",
       "        144.50980392, 145.47058824, 146.43137255, 147.39215686,\n",
       "        148.35294118, 149.31372549, 150.2745098 , 151.23529412,\n",
       "        152.19607843, 153.15686275, 154.11764706, 155.07843137,\n",
       "        156.03921569, 157.        , 157.96078431, 158.92156863,\n",
       "        159.88235294, 160.84313725, 161.80392157, 162.76470588,\n",
       "        163.7254902 , 164.68627451, 165.64705882, 166.60784314,\n",
       "        167.56862745, 168.52941176, 169.49019608, 170.45098039,\n",
       "        171.41176471, 172.37254902, 173.33333333, 174.29411765,\n",
       "        175.25490196, 176.21568627, 177.17647059, 178.1372549 ,\n",
       "        179.09803922, 180.05882353, 181.01960784, 181.98039216,\n",
       "        182.94117647, 183.90196078, 184.8627451 , 185.82352941,\n",
       "        186.78431373, 187.74509804, 188.70588235, 189.66666667,\n",
       "        190.62745098, 191.58823529, 192.54901961, 193.50980392,\n",
       "        194.47058824, 195.43137255, 196.39215686, 197.35294118,\n",
       "        198.31372549, 199.2745098 , 200.23529412, 201.19607843,\n",
       "        202.15686275, 203.11764706, 204.07843137, 205.03921569,\n",
       "        206.        , 206.96078431, 207.92156863, 208.88235294,\n",
       "        209.84313725, 210.80392157, 211.76470588, 212.7254902 ,\n",
       "        213.68627451, 214.64705882, 215.60784314, 216.56862745,\n",
       "        217.52941176, 218.49019608, 219.45098039, 220.41176471,\n",
       "        221.37254902, 222.33333333, 223.29411765, 224.25490196,\n",
       "        225.21568627, 226.17647059, 227.1372549 , 228.09803922,\n",
       "        229.05882353, 230.01960784, 230.98039216, 231.94117647,\n",
       "        232.90196078, 233.8627451 , 234.82352941, 235.78431373,\n",
       "        236.74509804, 237.70588235, 238.66666667, 239.62745098,\n",
       "        240.58823529, 241.54901961, 242.50980392, 243.47058824,\n",
       "        244.43137255, 245.39215686, 246.35294118, 247.31372549,\n",
       "        248.2745098 , 249.23529412, 250.19607843, 251.15686275,\n",
       "        252.11764706, 253.07843137, 254.03921569, 255.        ]),\n",
       " <a list of 255 Patch objects>)"
      ]
     },
     "execution_count": 20,
     "metadata": {},
     "output_type": "execute_result"
    },
    {
     "data": {
      "image/png": "[encoded data removed]",
      "text/plain": [
       "<Figure size 432x288 with 1 Axes>"
      ]
     },
     "metadata": {
      "needs_background": "light"
     },
     "output_type": "display_data"
    }
   ],
   "source": [
    "plt.hist(a.reshape(-1, 1), bins=255)"
   ]
  },
  {
   "cell_type": "code",
   "execution_count": null,
   "metadata": {},
   "outputs": [],
   "source": []
  },
  {
   "cell_type": "code",
   "execution_count": null,
   "metadata": {},
   "outputs": [],
   "source": []
  },
  {
   "cell_type": "code",
   "execution_count": 10,
   "metadata": {},
   "outputs": [
    {
     "data": {
      "text/plain": [
       "([array([ 0.,  0.,  0.,  0.,  0.,  0.,  0.,  0.,  0., 40.]),\n",
       "  array([ 0.,  0.,  0.,  1.,  1.,  0.,  1.,  0.,  0., 37.]),\n",
       "  array([ 0.,  0.,  0.,  1.,  1.,  3.,  1.,  0.,  0., 34.]),\n",
       "  array([ 0.,  0.,  0.,  3.,  1.,  0.,  1.,  0.,  0., 35.]),\n",
       "  array([ 0.,  0.,  0.,  0.,  1.,  0.,  1.,  0.,  0., 38.]),\n",
       "  array([ 0.,  0.,  0.,  0.,  1.,  0.,  1.,  0.,  0., 38.]),\n",
       "  array([ 0.,  1.,  0.,  0.,  0.,  0.,  1.,  0.,  0., 38.]),\n",
       "  array([ 0.,  1.,  1.,  0.,  1.,  0.,  1.,  0.,  0., 36.]),\n",
       "  array([ 0.,  1.,  1.,  0.,  1.,  0.,  1.,  1.,  0., 35.]),\n",
       "  array([ 1.,  1.,  1.,  0.,  5.,  0.,  1.,  1.,  0., 30.]),\n",
       "  array([ 1.,  1.,  1.,  1.,  1.,  0.,  0.,  1.,  0., 34.]),\n",
       "  array([ 1.,  1.,  1.,  1.,  1.,  0.,  0.,  1.,  0., 34.]),\n",
       "  array([ 1.,  0.,  1.,  1.,  0.,  0.,  0.,  1.,  1., 35.]),\n",
       "  array([ 1.,  0.,  1.,  2.,  0.,  0.,  0.,  1.,  1., 34.]),\n",
       "  array([ 0.,  0.,  1.,  2.,  0.,  0.,  0.,  2.,  0., 35.]),\n",
       "  array([ 0.,  0.,  1.,  2.,  0.,  1.,  0.,  2.,  0., 34.]),\n",
       "  array([ 0.,  0.,  1.,  1.,  0.,  1.,  0.,  2.,  0., 35.]),\n",
       "  array([ 0.,  0.,  1.,  1.,  1.,  1.,  0.,  2.,  0., 34.]),\n",
       "  array([ 0.,  0.,  1.,  2.,  1.,  1.,  0.,  1.,  1., 33.]),\n",
       "  array([10.,  0.,  0.,  1.,  0.,  1.,  0.,  0.,  0., 28.]),\n",
       "  array([15.,  0.,  0.,  1.,  0.,  1.,  0.,  0.,  0., 23.]),\n",
       "  array([18.,  0.,  0.,  1.,  0.,  1.,  0.,  0.,  0., 20.]),\n",
       "  array([14.,  0.,  0.,  2.,  0.,  1.,  1.,  1.,  0., 21.]),\n",
       "  array([10.,  0.,  0.,  2.,  1.,  1.,  1.,  1.,  0., 24.]),\n",
       "  array([ 9.,  0.,  0.,  2.,  1.,  1.,  2.,  0.,  0., 25.]),\n",
       "  array([ 9.,  0.,  0.,  2.,  1.,  1.,  1.,  0.,  0., 26.]),\n",
       "  array([ 8.,  0.,  0.,  1.,  1.,  1.,  1.,  0.,  0., 28.]),\n",
       "  array([ 8.,  0.,  0.,  1.,  0.,  1.,  1.,  0.,  0., 29.]),\n",
       "  array([ 8.,  0.,  0.,  1.,  0.,  1.,  1.,  0.,  0., 29.]),\n",
       "  array([11.,  0.,  2.,  0.,  0.,  1.,  1.,  0.,  0., 25.]),\n",
       "  array([10.,  0.,  1.,  0.,  0.,  0.,  1.,  0.,  0., 28.]),\n",
       "  array([16.,  0.,  1.,  0.,  0.,  0.,  0.,  0.,  0., 23.]),\n",
       "  array([16.,  1.,  1.,  0.,  0.,  0.,  0.,  0.,  0., 22.]),\n",
       "  array([12.,  1.,  1.,  0.,  0.,  0.,  0.,  0.,  0., 26.]),\n",
       "  array([ 5.,  1.,  2.,  0.,  0.,  0.,  0.,  0.,  0., 32.]),\n",
       "  array([ 0.,  0.,  1.,  0.,  0.,  0.,  0.,  0.,  0., 39.]),\n",
       "  array([ 0.,  0.,  4.,  1.,  0.,  0.,  0.,  0.,  0., 35.]),\n",
       "  array([ 0.,  0., 11.,  0.,  0.,  0.,  0.,  0.,  0., 29.]),\n",
       "  array([ 0.,  0., 15.,  0.,  0.,  0.,  0.,  0.,  0., 25.]),\n",
       "  array([ 0.,  0., 15.,  0.,  0.,  0.,  0.,  0.,  0., 25.]),\n",
       "  array([ 0.,  0., 14.,  1.,  0.,  0.,  0.,  0.,  0., 25.]),\n",
       "  array([ 0.,  0., 10.,  1.,  0.,  0.,  0.,  0.,  0., 29.]),\n",
       "  array([ 0.,  0., 10.,  1.,  0.,  0.,  0.,  0.,  0., 29.]),\n",
       "  array([ 1.,  0., 11.,  1.,  0.,  0.,  0.,  0.,  0., 27.]),\n",
       "  array([ 2.,  0., 10.,  1.,  0.,  0.,  0.,  0.,  0., 27.]),\n",
       "  array([ 2.,  0., 10.,  1.,  0.,  0.,  0.,  0.,  0., 27.]),\n",
       "  array([ 2.,  0., 10.,  0.,  0.,  0.,  0.,  0.,  0., 28.]),\n",
       "  array([ 2.,  0., 11.,  0.,  0.,  1.,  0.,  0.,  0., 26.]),\n",
       "  array([ 2.,  0., 11.,  0.,  0.,  1.,  0.,  0.,  0., 26.]),\n",
       "  array([ 1.,  0., 10.,  0.,  0.,  1.,  1.,  0.,  0., 27.]),\n",
       "  array([ 1.,  0., 11.,  0.,  0.,  1.,  2.,  0.,  0., 25.]),\n",
       "  array([ 1.,  0., 11.,  0.,  0.,  1.,  1.,  0.,  0., 26.]),\n",
       "  array([ 1.,  0., 16.,  0.,  0.,  0.,  0.,  0.,  1., 22.]),\n",
       "  array([ 0.,  0., 13.,  0.,  0.,  1.,  0.,  0.,  6., 20.]),\n",
       "  array([ 0.,  0.,  5.,  0.,  0.,  1.,  0.,  0., 13., 21.]),\n",
       "  array([ 0.,  0.,  1.,  0.,  0.,  2.,  0.,  1., 18., 18.]),\n",
       "  array([ 0.,  0.,  0.,  0.,  0.,  2.,  0.,  1., 17., 20.]),\n",
       "  array([ 1.,  0.,  0.,  0.,  0.,  3.,  0.,  1., 10., 25.]),\n",
       "  array([ 1.,  0.,  0.,  0.,  1.,  3.,  0.,  1.,  8., 26.]),\n",
       "  array([ 1.,  0.,  0.,  0.,  1.,  2.,  0.,  1.,  9., 26.]),\n",
       "  array([ 0.,  1.,  0.,  0.,  1.,  2.,  0.,  1.,  9., 26.]),\n",
       "  array([ 0.,  1.,  0.,  0.,  1.,  2.,  0.,  1.,  9., 26.]),\n",
       "  array([ 0.,  1.,  1.,  0.,  1.,  1.,  2.,  1.,  9., 24.]),\n",
       "  array([ 0.,  1.,  0.,  1.,  1.,  1.,  0.,  1.,  9., 26.]),\n",
       "  array([ 0.,  1.,  0.,  1.,  1.,  1.,  1.,  1.,  9., 25.]),\n",
       "  array([ 1.,  0.,  0.,  1.,  1.,  1.,  1.,  1., 12., 22.]),\n",
       "  array([ 1.,  0.,  0.,  1.,  1.,  2.,  0.,  1., 15., 19.]),\n",
       "  array([ 0.,  0.,  1.,  1.,  2.,  1.,  0.,  1., 12., 22.]),\n",
       "  array([ 0.,  0.,  1.,  1.,  0.,  2.,  1.,  1.,  4., 30.]),\n",
       "  array([ 0.,  0.,  1.,  1.,  0.,  2.,  1.,  0.,  0., 35.]),\n",
       "  array([ 0.,  0.,  2.,  1.,  0.,  2.,  1.,  0.,  0., 34.]),\n",
       "  array([ 0.,  0.,  2.,  1.,  0.,  0.,  3.,  0.,  0., 34.]),\n",
       "  array([ 0.,  0.,  2.,  1.,  0.,  0.,  3.,  0.,  0., 34.]),\n",
       "  array([ 0.,  0.,  1.,  1.,  0.,  1.,  3.,  0.,  0., 34.]),\n",
       "  array([ 0.,  0.,  1.,  2.,  0.,  0.,  3.,  0.,  0., 34.]),\n",
       "  array([ 0.,  0.,  0.,  2.,  0.,  1.,  1.,  0.,  0., 36.]),\n",
       "  array([ 0.,  0.,  0.,  0.,  1.,  2.,  1.,  0.,  0., 36.]),\n",
       "  array([ 0.,  0.,  0.,  0.,  1.,  1.,  0.,  0.,  0., 38.]),\n",
       "  array([ 0.,  0.,  0.,  0.,  1.,  0.,  1.,  0.,  0., 38.]),\n",
       "  array([ 0.,  0.,  0.,  0.,  1.,  0.,  1.,  0.,  0., 38.]),\n",
       "  array([ 0.,  0.,  0.,  0.,  1.,  0.,  1.,  0.,  0., 38.]),\n",
       "  array([ 0.,  0.,  0.,  0.,  2.,  0.,  0.,  0.,  0., 38.]),\n",
       "  array([ 0.,  0.,  0.,  0.,  1.,  0.,  0.,  0.,  0., 39.]),\n",
       "  array([ 0.,  0.,  0.,  1.,  1.,  0.,  0.,  0.,  0., 38.]),\n",
       "  array([ 1.,  1.,  1.,  1.,  1.,  0.,  0.,  0.,  0., 35.]),\n",
       "  array([ 0.,  1.,  1.,  1.,  3.,  0.,  0.,  0.,  0., 34.]),\n",
       "  array([ 1.,  1.,  1.,  0.,  4.,  0.,  0.,  0.,  0., 33.]),\n",
       "  array([ 1.,  0.,  1.,  0.,  4.,  0.,  0.,  0.,  0., 34.]),\n",
       "  array([ 1.,  0.,  1.,  0.,  4.,  1.,  0.,  0.,  0., 33.]),\n",
       "  array([ 1.,  0.,  1.,  0.,  4.,  1.,  0.,  0.,  0., 33.]),\n",
       "  array([ 1.,  0.,  0.,  0.,  3.,  1.,  0.,  2.,  0., 33.]),\n",
       "  array([ 1.,  0.,  0.,  0.,  3.,  1.,  0.,  2.,  0., 33.]),\n",
       "  array([ 1.,  0.,  0.,  0.,  3.,  1.,  0.,  0.,  0., 35.]),\n",
       "  array([ 1.,  0.,  0.,  0.,  2.,  1.,  0.,  0.,  0., 36.]),\n",
       "  array([ 1.,  0.,  1.,  0.,  2.,  1.,  0.,  0.,  0., 35.]),\n",
       "  array([ 1.,  0.,  1.,  0.,  1.,  1.,  2.,  0.,  0., 34.]),\n",
       "  array([ 1.,  0.,  1.,  0.,  1.,  1.,  2.,  0.,  0., 34.]),\n",
       "  array([ 0.,  0.,  1.,  0.,  0.,  1.,  2.,  0.,  0., 36.]),\n",
       "  array([ 0.,  0.,  1.,  0.,  0.,  1.,  2.,  0.,  0., 36.]),\n",
       "  array([ 0.,  0.,  1.,  0.,  0.,  1.,  2.,  0.,  0., 36.]),\n",
       "  array([ 0.,  0.,  1.,  0.,  0.,  1.,  1.,  0.,  0., 37.]),\n",
       "  array([ 0.,  0.,  1.,  0.,  0.,  0.,  0.,  0.,  0., 39.]),\n",
       "  array([ 0.,  0.,  1.,  0.,  0.,  0.,  0.,  0.,  0., 39.]),\n",
       "  array([ 0.,  0.,  1.,  0.,  0.,  1.,  0.,  0.,  0., 38.]),\n",
       "  array([ 0.,  0.,  1.,  0.,  0.,  1.,  0.,  0.,  0., 38.]),\n",
       "  array([ 0.,  0.,  1.,  0.,  0.,  1.,  1.,  0.,  0., 37.]),\n",
       "  array([ 0.,  0.,  1.,  0.,  0.,  1.,  1.,  0.,  0., 37.]),\n",
       "  array([ 0.,  0.,  1.,  0.,  0.,  1.,  1.,  0.,  0., 37.]),\n",
       "  array([ 0.,  0.,  0.,  0.,  0.,  1.,  1.,  0.,  0., 38.]),\n",
       "  array([ 0.,  0.,  0.,  0.,  0.,  1.,  1.,  0.,  1., 37.]),\n",
       "  array([ 0.,  0.,  0.,  0.,  0.,  1.,  1.,  0.,  1., 37.]),\n",
       "  array([ 0.,  0.,  0.,  0.,  0.,  0.,  1.,  0.,  0., 39.]),\n",
       "  array([ 0.,  1.,  0.,  0.,  0.,  1.,  1.,  0.,  0., 37.]),\n",
       "  array([ 0.,  1.,  0.,  0.,  0.,  0.,  1.,  0.,  0., 38.]),\n",
       "  array([ 0.,  1.,  0.,  0.,  0.,  0.,  1.,  0.,  0., 38.]),\n",
       "  array([ 0.,  1.,  0.,  0.,  0.,  0.,  1.,  0.,  1., 37.]),\n",
       "  array([ 0.,  1.,  0.,  0.,  0.,  0.,  1.,  0.,  0., 38.]),\n",
       "  array([ 0.,  0.,  0.,  0.,  0.,  0.,  1.,  0.,  0., 39.]),\n",
       "  array([ 0.,  0.,  0.,  0.,  0.,  0.,  1.,  2.,  0., 37.]),\n",
       "  array([ 0.,  0.,  0.,  1.,  0.,  0.,  1.,  0.,  0., 38.])],\n",
       " array([ 10. ,  34.5,  59. ,  83.5, 108. , 132.5, 157. , 181.5, 206. ,\n",
       "        230.5, 255. ]),\n",
       " <a list of 120 Lists of Patches objects>)"
      ]
     },
     "execution_count": 10,
     "metadata": {},
     "output_type": "execute_result"
    },
    {
     "data": {
      "image/png": "[encoded data removed]",
      "text/plain": [
       "<Figure size 432x288 with 1 Axes>"
      ]
     },
     "metadata": {
      "needs_background": "light"
     },
     "output_type": "display_data"
    }
   ],
   "source": [
    "plt.hist(a)"
   ]
  },
  {
   "cell_type": "code",
   "execution_count": null,
   "metadata": {},
   "outputs": [],
   "source": []
  },
  {
   "cell_type": "code",
   "execution_count": null,
   "metadata": {},
   "outputs": [],
   "source": []
  },
  {
   "cell_type": "code",
   "execution_count": null,
   "metadata": {},
   "outputs": [],
   "source": []
  },
  {
   "cell_type": "code",
   "execution_count": null,
   "metadata": {},
   "outputs": [],
   "source": []
  },
  {
   "cell_type": "code",
   "execution_count": 2,
   "metadata": {},
   "outputs": [
    {
     "data": {
      "text/plain": [
       "-1"
      ]
     },
     "execution_count": 2,
     "metadata": {},
     "output_type": "execute_result"
    }
   ],
   "source": [
    "cv2.imshow(\"xx\", im1)\n",
    "cv2.waitKey(2000)"
   ]
  },
  {
   "cell_type": "code",
   "execution_count": null,
   "metadata": {},
   "outputs": [],
   "source": []
  },
  {
   "cell_type": "code",
   "execution_count": null,
   "metadata": {},
   "outputs": [],
   "source": []
  },
  {
   "cell_type": "code",
   "execution_count": null,
   "metadata": {},
   "outputs": [],
   "source": []
  },
  {
   "cell_type": "code",
   "execution_count": null,
   "metadata": {},
   "outputs": [],
   "source": []
  },
  {
   "cell_type": "code",
   "execution_count": null,
   "metadata": {},
   "outputs": [],
   "source": []
  },
  {
   "cell_type": "code",
   "execution_count": null,
   "metadata": {},
   "outputs": [],
   "source": []
  },
  {
   "cell_type": "code",
   "execution_count": null,
   "metadata": {},
   "outputs": [],
   "source": []
  },
  {
   "cell_type": "code",
   "execution_count": null,
   "metadata": {},
   "outputs": [],
   "source": []
  },
  {
   "cell_type": "code",
   "execution_count": null,
   "metadata": {},
   "outputs": [],
   "source": [
    "plt.rcParams[\"figure.figsize\"] = (14,8)\n",
    "\n",
    "n_observations = 100\n",
    "xs = np.linspace(-3, 3, n_observations)\n",
    "ys = np.sin(xs) + np.random.uniform(-0.5, 0.5, n_observations)\n",
    "plt.scatter(xs, ys)\n",
    "plt.show()"
   ]
  },
  {
   "cell_type": "code",
   "execution_count": null,
   "metadata": {},
   "outputs": [],
   "source": [
    "X = tf.placeholder(tf.float32, name='X')\n",
    "Y = tf.placeholder(tf.float32, name='Y')"
   ]
  },
  {
   "cell_type": "code",
   "execution_count": null,
   "metadata": {},
   "outputs": [],
   "source": [
    "W = tf.Variable(tf.random_normal([1]), name='weight')\n",
    "b = tf.Variable(tf.random_normal([1]), name='bias')"
   ]
  },
  {
   "cell_type": "code",
   "execution_count": null,
   "metadata": {},
   "outputs": [],
   "source": [
    "Y_pred = tf.add(tf.multiply(X, W), b)"
   ]
  },
  {
   "cell_type": "code",
   "execution_count": null,
   "metadata": {},
   "outputs": [],
   "source": [
    "loss = tf.square(Y - Y_pred, name='loss')\n",
    "learning_rate = 0.01\n",
    "optimizer = tf.train.GradientDescentOptimizer(learning_rate).minimize(loss)"
   ]
  },
  {
   "cell_type": "code",
   "execution_count": null,
   "metadata": {},
   "outputs": [],
   "source": [
    "n_samples = xs.shape[0]\n",
    "with tf.Session() as sess:\n",
    "\t# 记得初始化所有变量\n",
    "\tsess.run(tf.global_variables_initializer()) \n",
    "\t\n",
    "\twriter = tf.summary.FileWriter('./graphs/linear_reg', sess.graph)\n",
    "\t\n",
    "\t# 训练模型\n",
    "\tfor i in range(50):\n",
    "\t\ttotal_loss = 0\n",
    "\t\tfor x, y in zip(xs, ys):\n",
    "\t\t\t# 通过feed_dic把数据灌进去\n",
    "\t\t\t_, l = sess.run([optimizer, loss], feed_dict={X: x, Y:y}) \n",
    "\t\t\ttotal_loss += l\n",
    "\t\tif i%5 ==0:\n",
    "\t\t\tprint('Epoch {0}: {1}'.format(i, total_loss/n_samples))\n",
    "\n",
    "\t# 关闭writer\n",
    "\twriter.close() \n",
    "\t\n",
    "\t# 取出w和b的值\n",
    "\tW, b = sess.run([W, b]) "
   ]
  },
  {
   "cell_type": "code",
   "execution_count": null,
   "metadata": {},
   "outputs": [],
   "source": [
    "print(W,b)\n",
    "print(\"W:\"+str(W[0]))\n",
    "print(\"b:\"+str(b[0]))"
   ]
  },
  {
   "cell_type": "code",
   "execution_count": null,
   "metadata": {},
   "outputs": [],
   "source": [
    "plt.plot(xs, ys, 'bo', label='Real data')\n",
    "plt.plot(xs, xs * W + b, 'r', label='Predicted data')\n",
    "plt.legend()\n",
    "plt.show()"
   ]
  },
  {
   "cell_type": "code",
   "execution_count": null,
   "metadata": {},
   "outputs": [],
   "source": []
  },
  {
   "cell_type": "code",
   "execution_count": null,
   "metadata": {},
   "outputs": [],
   "source": []
  },
  {
   "cell_type": "code",
   "execution_count": null,
   "metadata": {},
   "outputs": [],
   "source": []
  },
  {
   "cell_type": "code",
   "execution_count": null,
   "metadata": {},
   "outputs": [],
   "source": [
    "np.var([1, 2, 6])"
   ]
  },
  {
   "cell_type": "code",
   "execution_count": null,
   "metadata": {},
   "outputs": [],
   "source": [
    "aa = tf.equal([3], [3])\n",
    "with tf.Session() as sess:\n",
    "    bb = sess.run(aa)\n",
    "    print(bb)\n",
    "    print(sess.run(tf.cast(False, \"float\")))\n",
    "    print(sess.run(tf.reduce_sum([1, 0, 0, 1, 1])))\n",
    "    print(sess.run(tf.argmax([[1, 3, 0], [3, 4, 99]])))"
   ]
  },
  {
   "cell_type": "code",
   "execution_count": null,
   "metadata": {},
   "outputs": [],
   "source": [
    "tf.cast(True, \"float\")"
   ]
  },
  {
   "cell_type": "code",
   "execution_count": null,
   "metadata": {},
   "outputs": [],
   "source": []
  },
  {
   "cell_type": "code",
   "execution_count": null,
   "metadata": {},
   "outputs": [],
   "source": [
    "a = np.array([3,4, 2, 3, 5, 2])"
   ]
  },
  {
   "cell_type": "code",
   "execution_count": null,
   "metadata": {},
   "outputs": [],
   "source": [
    "plt.plot(a, \"r-\")"
   ]
  },
  {
   "cell_type": "code",
   "execution_count": null,
   "metadata": {},
   "outputs": [],
   "source": []
  },
  {
   "cell_type": "code",
   "execution_count": null,
   "metadata": {},
   "outputs": [],
   "source": []
  },
  {
   "cell_type": "code",
   "execution_count": null,
   "metadata": {},
   "outputs": [],
   "source": [
    "with tf.variable_scope(\"foo\"):\n",
    "    v = tf.get_variable(\"v\", [1]) #v.name == \"foo/v:0\""
   ]
  },
  {
   "cell_type": "code",
   "execution_count": null,
   "metadata": {},
   "outputs": [],
   "source": [
    "v.name"
   ]
  },
  {
   "cell_type": "code",
   "execution_count": null,
   "metadata": {},
   "outputs": [],
   "source": [
    "# with tf.variable_scope(\"one\"):\n",
    "#     a = tf.get_variable(\"v\", [1]) #a.name == \"one/v:0\"\n",
    "# with tf.variable_scope(\"one\"):\n",
    "#     b = tf.get_variable(\"v\", [1]) #创建两个名字一样的变量会报错 ValueError: Variable one/v already exists \n",
    "with tf.variable_scope(\"one\", reuse = True): #注意reuse的作用。\n",
    "    c = tf.get_variable(\"v\", [1]) #c.name == \"one/v:0\" 成功共享，因为设置了reuse\n",
    "\n",
    "assert a==c #Assertion is true, they refer to the same object.\n"
   ]
  },
  {
   "cell_type": "code",
   "execution_count": null,
   "metadata": {},
   "outputs": [],
   "source": [
    "a"
   ]
  },
  {
   "cell_type": "code",
   "execution_count": null,
   "metadata": {},
   "outputs": [],
   "source": [
    "c"
   ]
  },
  {
   "cell_type": "code",
   "execution_count": null,
   "metadata": {},
   "outputs": [],
   "source": [
    "a==c"
   ]
  },
  {
   "cell_type": "code",
   "execution_count": null,
   "metadata": {},
   "outputs": [],
   "source": []
  },
  {
   "cell_type": "code",
   "execution_count": null,
   "metadata": {},
   "outputs": [],
   "source": [
    "im1 = cv2.imread(\"k1.jpg\")"
   ]
  },
  {
   "cell_type": "code",
   "execution_count": null,
   "metadata": {},
   "outputs": [],
   "source": [
    "cv2.imshow(\"xx\", im1)\n",
    "cv2.waitKey()"
   ]
  },
  {
   "cell_type": "code",
   "execution_count": null,
   "metadata": {},
   "outputs": [],
   "source": []
  },
  {
   "cell_type": "code",
   "execution_count": null,
   "metadata": {},
   "outputs": [],
   "source": []
  },
  {
   "cell_type": "code",
   "execution_count": null,
   "metadata": {},
   "outputs": [],
   "source": []
  },
  {
   "cell_type": "code",
   "execution_count": null,
   "metadata": {},
   "outputs": [],
   "source": []
  },
  {
   "cell_type": "code",
   "execution_count": null,
   "metadata": {},
   "outputs": [],
   "source": []
  },
  {
   "cell_type": "code",
   "execution_count": null,
   "metadata": {},
   "outputs": [],
   "source": []
  },
  {
   "cell_type": "code",
   "execution_count": null,
   "metadata": {},
   "outputs": [],
   "source": []
  },
  {
   "cell_type": "code",
   "execution_count": null,
   "metadata": {},
   "outputs": [],
   "source": []
  },
  {
   "cell_type": "code",
   "execution_count": null,
   "metadata": {},
   "outputs": [],
   "source": []
  },
  {
   "cell_type": "code",
   "execution_count": null,
   "metadata": {},
   "outputs": [],
   "source": []
  },
  {
   "cell_type": "code",
   "execution_count": null,
   "metadata": {},
   "outputs": [],
   "source": []
  },
  {
   "cell_type": "code",
   "execution_count": null,
   "metadata": {},
   "outputs": [],
   "source": []
  },
  {
   "cell_type": "code",
   "execution_count": null,
   "metadata": {},
   "outputs": [],
   "source": []
  },
  {
   "cell_type": "code",
   "execution_count": null,
   "metadata": {},
   "outputs": [],
   "source": []
  }
 ],
 "metadata": {
  "kernelspec": {
   "display_name": "Python 3",
   "language": "python",
   "name": "python3"
  },
  "language_info": {
   "codemirror_mode": {
    "name": "ipython",
    "version": 3
   },
   "file_extension": ".py",
   "mimetype": "text/x-python",
   "name": "python",
   "nbconvert_exporter": "python",
   "pygments_lexer": "ipython3",
   "version": "3.6.0"
  }
 },
 "nbformat": 4,
 "nbformat_minor": 2
}
