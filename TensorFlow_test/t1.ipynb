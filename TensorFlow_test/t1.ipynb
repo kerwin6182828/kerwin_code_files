{
 "cells": [
  {
   "cell_type": "code",
   "execution_count": 4,
   "metadata": {},
   "outputs": [],
   "source": [
    "import matplotlib.pyplot as plt\n",
    "import numpy as np\n",
    "import pandas as pd\n",
    "import tensorflow as tf\n",
    "import sklearn\n",
    "import cv2\n",
    "from PIL import Image\n",
    "import math\n",
    "%matplotlib notebook"
   ]
  },
  {
   "cell_type": "code",
   "execution_count": 12,
   "metadata": {},
   "outputs": [
    {
     "name": "stderr",
     "output_type": "stream",
     "text": [
      "Using TensorFlow backend.\n"
     ]
    }
   ],
   "source": [
    "import keras\n",
    "from keras.datasets import mnist as mn"
   ]
  },
  {
   "cell_type": "code",
   "execution_count": 1,
   "metadata": {},
   "outputs": [
    {
     "name": "stdout",
     "output_type": "stream",
     "text": [
      "WARNING:tensorflow:From <ipython-input-1-8d823671f147>:4: read_data_sets (from tensorflow.contrib.learn.python.learn.datasets.mnist) is deprecated and will be removed in a future version.\n",
      "Instructions for updating:\n",
      "Please use alternatives such as official/mnist/dataset.py from tensorflow/models.\n",
      "WARNING:tensorflow:From c:\\users\\administrator\\appdata\\local\\programs\\python\\python36\\lib\\site-packages\\tensorflow\\contrib\\learn\\python\\learn\\datasets\\mnist.py:260: maybe_download (from tensorflow.contrib.learn.python.learn.datasets.base) is deprecated and will be removed in a future version.\n",
      "Instructions for updating:\n",
      "Please write your own downloading logic.\n",
      "WARNING:tensorflow:From c:\\users\\administrator\\appdata\\local\\programs\\python\\python36\\lib\\site-packages\\tensorflow\\contrib\\learn\\python\\learn\\datasets\\mnist.py:262: extract_images (from tensorflow.contrib.learn.python.learn.datasets.mnist) is deprecated and will be removed in a future version.\n",
      "Instructions for updating:\n",
      "Please use tf.data to implement this functionality.\n",
      "Extracting /tmp/data\\train-images-idx3-ubyte.gz\n",
      "WARNING:tensorflow:From c:\\users\\administrator\\appdata\\local\\programs\\python\\python36\\lib\\site-packages\\tensorflow\\contrib\\learn\\python\\learn\\datasets\\mnist.py:267: extract_labels (from tensorflow.contrib.learn.python.learn.datasets.mnist) is deprecated and will be removed in a future version.\n",
      "Instructions for updating:\n",
      "Please use tf.data to implement this functionality.\n",
      "Extracting /tmp/data\\train-labels-idx1-ubyte.gz\n",
      "WARNING:tensorflow:From c:\\users\\administrator\\appdata\\local\\programs\\python\\python36\\lib\\site-packages\\tensorflow\\contrib\\learn\\python\\learn\\datasets\\mnist.py:110: dense_to_one_hot (from tensorflow.contrib.learn.python.learn.datasets.mnist) is deprecated and will be removed in a future version.\n",
      "Instructions for updating:\n",
      "Please use tf.one_hot on tensors.\n",
      "Extracting /tmp/data\\t10k-images-idx3-ubyte.gz\n",
      "Extracting /tmp/data\\t10k-labels-idx1-ubyte.gz\n",
      "WARNING:tensorflow:From c:\\users\\administrator\\appdata\\local\\programs\\python\\python36\\lib\\site-packages\\tensorflow\\contrib\\learn\\python\\learn\\datasets\\mnist.py:290: DataSet.__init__ (from tensorflow.contrib.learn.python.learn.datasets.mnist) is deprecated and will be removed in a future version.\n",
      "Instructions for updating:\n",
      "Please use alternatives such as official/mnist/dataset.py from tensorflow/models.\n"
     ]
    }
   ],
   "source": [
    "#一、数据准备阶段、数据处理：\n",
    "\n",
    "from tensorflow.examples.tutorials.mnist import input_data\n",
    "mnist = input_data.read_data_sets(\"/tmp/data\", one_hot=True)\n"
   ]
  },
  {
   "cell_type": "code",
   "execution_count": 129,
   "metadata": {},
   "outputs": [],
   "source": [
    "# 二。 超参数、placeholder、w、b的设定\n",
    "input_features_num = 28*28\n",
    "hidden_layer_1_num = 500\n",
    "output_classes= 10\n",
    "\n",
    "\n",
    "x = tf.placeholder(\"float\", [None,input_features_num], \"x\")\n",
    "y = tf.placeholder(\"float\", [None,output_classes], \"y\")\n",
    "\n",
    "\n",
    "weights = {\n",
    "    \"w1\" : tf.Variable(tf.random_normal([input_features_num, hidden_layer_1_num]), \"w1\"),\n",
    "    \"w2\" : tf.Variable(tf.random_normal([hidden_layer_1_num, output_classes]), \"w2\")\n",
    "\n",
    "}\n",
    "biases = {\n",
    "    \"b1\" : tf.Variable(tf.constant(0.1, shape=[hidden_layer_1_num]), name=\"b1\"),\n",
    "    \"b2\" : tf.Variable(tf.constant(0.1, shape=[output_classes]), name=\"b2\"),\n",
    "}"
   ]
  },
  {
   "cell_type": "code",
   "execution_count": 130,
   "metadata": {},
   "outputs": [],
   "source": [
    "# 三、 定义模型（网络结构）\n",
    "def mlp(x, weights, biases):\n",
    "    layer_1 = tf.matmul(x, weights[\"w1\"])\n",
    "    layer_1 = tf.add(layer_1, biases[\"b1\"])\n",
    "    layer_1 = tf.nn.relu(layer_1, name=\"relu\")\n",
    "    output = tf.matmul(layer_1, weights[\"w2\"])\n",
    "    output = tf.add(output, biases[\"b2\"])\n",
    "    return output\n",
    "pred_model = mlp(x, weights, biases)"
   ]
  },
  {
   "cell_type": "code",
   "execution_count": 131,
   "metadata": {},
   "outputs": [],
   "source": [
    "# 四、 定义（loss + optimizer + metric）\n",
    "loss_all = tf.nn.sparse_softmax_cross_entropy_with_logits(logits=pred_model, labels=tf.argmax(y, 1), name=\"cross_entropy\")\n",
    "loss = tf.reduce_mean(loss_all) + tf.contrib.layers.l2_regularizer(0.0001)(weights[\"w1\"]) + tf.contrib.layers.l2_regularizer(0.0001)(weights[\"w2\"])\n",
    "\n",
    "global_step = tf.Variable(0, trainable=False)\n",
    "learning_rate = tf.train.exponential_decay(0.05, global_step, 600, 0.99)\n",
    "optimizer = tf.train.GradientDescentOptimizer(learning_rate=learning_rate).minimize(loss, global_step=global_step)\n",
    "\n",
    "\n",
    "correct_prediction = tf.equal(tf.argmax(pred_model, 1), tf.argmax(y, 1))\n",
    "accuracy = tf.reduce_mean(tf.cast(correct_prediction, tf.float32))"
   ]
  },
  {
   "cell_type": "code",
   "execution_count": 132,
   "metadata": {
    "scrolled": true
   },
   "outputs": [
    {
     "name": "stdout",
     "output_type": "stream",
     "text": [
      "After 1 training steps, loss on training batch is :   280.8815 \n",
      "After 1 training steps, accuracy on test data is :   [0.11116364] \n",
      "strat: 0\n",
      "\n",
      "\n",
      "\n",
      "After 51 training steps, loss on training batch is :   30.749018 \n",
      "After 51 training steps, accuracy on test data is :   [0.73225456] \n",
      "strat: 5000\n",
      "\n",
      "\n",
      "\n",
      "After 101 training steps, loss on training batch is :   28.642248 \n",
      "After 101 training steps, accuracy on test data is :   [0.8146182] \n",
      "strat: 10000\n",
      "\n",
      "\n",
      "\n",
      "After 151 training steps, loss on training batch is :   32.294525 \n",
      "After 151 training steps, accuracy on test data is :   [0.8340545] \n",
      "strat: 15000\n",
      "\n",
      "\n",
      "\n",
      "After 201 training steps, loss on training batch is :   25.794207 \n",
      "After 201 training steps, accuracy on test data is :   [0.85523635] \n",
      "strat: 20000\n",
      "\n",
      "\n",
      "\n",
      "After 251 training steps, loss on training batch is :   26.228157 \n"
     ]
    },
    {
     "ename": "KeyboardInterrupt",
     "evalue": "",
     "output_type": "error",
     "traceback": [
      "\u001b[1;31m---------------------------------------------------------------------------\u001b[0m",
      "\u001b[1;31mKeyboardInterrupt\u001b[0m                         Traceback (most recent call last)",
      "\u001b[1;32m<ipython-input-132-92712150f02a>\u001b[0m in \u001b[0;36m<module>\u001b[1;34m\u001b[0m\n\u001b[0;32m     14\u001b[0m         \u001b[1;32mif\u001b[0m \u001b[0mi\u001b[0m \u001b[1;33m%\u001b[0m \u001b[1;36m50\u001b[0m \u001b[1;33m==\u001b[0m \u001b[1;36m0\u001b[0m\u001b[1;33m:\u001b[0m\u001b[1;33m\u001b[0m\u001b[0m\n\u001b[0;32m     15\u001b[0m             \u001b[0mprint\u001b[0m\u001b[1;33m(\u001b[0m\u001b[1;34m\"After %s training steps, loss on training batch is :   %s \"\u001b[0m \u001b[1;33m%\u001b[0m \u001b[1;33m(\u001b[0m\u001b[0mstep\u001b[0m\u001b[1;33m,\u001b[0m \u001b[0ml\u001b[0m\u001b[1;33m)\u001b[0m\u001b[1;33m)\u001b[0m\u001b[1;33m\u001b[0m\u001b[0m\n\u001b[1;32m---> 16\u001b[1;33m             \u001b[0macc\u001b[0m \u001b[1;33m=\u001b[0m \u001b[0msess\u001b[0m\u001b[1;33m.\u001b[0m\u001b[0mrun\u001b[0m\u001b[1;33m(\u001b[0m\u001b[1;33m[\u001b[0m\u001b[0maccuracy\u001b[0m\u001b[1;33m]\u001b[0m\u001b[1;33m,\u001b[0m \u001b[0mfeed_dict\u001b[0m\u001b[1;33m=\u001b[0m\u001b[1;33m{\u001b[0m\u001b[0mx\u001b[0m\u001b[1;33m:\u001b[0m\u001b[0mmnist\u001b[0m\u001b[1;33m.\u001b[0m\u001b[0mtrain\u001b[0m\u001b[1;33m.\u001b[0m\u001b[0mimages\u001b[0m\u001b[1;33m,\u001b[0m \u001b[0my\u001b[0m\u001b[1;33m:\u001b[0m\u001b[0mmnist\u001b[0m\u001b[1;33m.\u001b[0m\u001b[0mtrain\u001b[0m\u001b[1;33m.\u001b[0m\u001b[0mlabels\u001b[0m\u001b[1;33m}\u001b[0m\u001b[1;33m)\u001b[0m\u001b[1;33m\u001b[0m\u001b[0m\n\u001b[0m\u001b[0;32m     17\u001b[0m             \u001b[0mprint\u001b[0m\u001b[1;33m(\u001b[0m\u001b[1;34m\"After %s training steps, accuracy on test data is :   %s \"\u001b[0m \u001b[1;33m%\u001b[0m \u001b[1;33m(\u001b[0m\u001b[0mstep\u001b[0m\u001b[1;33m,\u001b[0m \u001b[0macc\u001b[0m\u001b[1;33m)\u001b[0m\u001b[1;33m)\u001b[0m\u001b[1;33m\u001b[0m\u001b[0m\n\u001b[0;32m     18\u001b[0m             \u001b[0mprint\u001b[0m\u001b[1;33m(\u001b[0m\u001b[1;34m\"strat:\"\u001b[0m\u001b[1;33m,\u001b[0m\u001b[0mstart\u001b[0m\u001b[1;33m)\u001b[0m\u001b[1;33m\u001b[0m\u001b[0m\n",
      "\u001b[1;32mc:\\users\\administrator\\appdata\\local\\programs\\python\\python36\\lib\\site-packages\\tensorflow\\python\\client\\session.py\u001b[0m in \u001b[0;36mrun\u001b[1;34m(self, fetches, feed_dict, options, run_metadata)\u001b[0m\n\u001b[0;32m    885\u001b[0m     \u001b[1;32mtry\u001b[0m\u001b[1;33m:\u001b[0m\u001b[1;33m\u001b[0m\u001b[0m\n\u001b[0;32m    886\u001b[0m       result = self._run(None, fetches, feed_dict, options_ptr,\n\u001b[1;32m--> 887\u001b[1;33m                          run_metadata_ptr)\n\u001b[0m\u001b[0;32m    888\u001b[0m       \u001b[1;32mif\u001b[0m \u001b[0mrun_metadata\u001b[0m\u001b[1;33m:\u001b[0m\u001b[1;33m\u001b[0m\u001b[0m\n\u001b[0;32m    889\u001b[0m         \u001b[0mproto_data\u001b[0m \u001b[1;33m=\u001b[0m \u001b[0mtf_session\u001b[0m\u001b[1;33m.\u001b[0m\u001b[0mTF_GetBuffer\u001b[0m\u001b[1;33m(\u001b[0m\u001b[0mrun_metadata_ptr\u001b[0m\u001b[1;33m)\u001b[0m\u001b[1;33m\u001b[0m\u001b[0m\n",
      "\u001b[1;32mc:\\users\\administrator\\appdata\\local\\programs\\python\\python36\\lib\\site-packages\\tensorflow\\python\\client\\session.py\u001b[0m in \u001b[0;36m_run\u001b[1;34m(self, handle, fetches, feed_dict, options, run_metadata)\u001b[0m\n\u001b[0;32m   1108\u001b[0m     \u001b[1;32mif\u001b[0m \u001b[0mfinal_fetches\u001b[0m \u001b[1;32mor\u001b[0m \u001b[0mfinal_targets\u001b[0m \u001b[1;32mor\u001b[0m \u001b[1;33m(\u001b[0m\u001b[0mhandle\u001b[0m \u001b[1;32mand\u001b[0m \u001b[0mfeed_dict_tensor\u001b[0m\u001b[1;33m)\u001b[0m\u001b[1;33m:\u001b[0m\u001b[1;33m\u001b[0m\u001b[0m\n\u001b[0;32m   1109\u001b[0m       results = self._do_run(handle, final_targets, final_fetches,\n\u001b[1;32m-> 1110\u001b[1;33m                              feed_dict_tensor, options, run_metadata)\n\u001b[0m\u001b[0;32m   1111\u001b[0m     \u001b[1;32melse\u001b[0m\u001b[1;33m:\u001b[0m\u001b[1;33m\u001b[0m\u001b[0m\n\u001b[0;32m   1112\u001b[0m       \u001b[0mresults\u001b[0m \u001b[1;33m=\u001b[0m \u001b[1;33m[\u001b[0m\u001b[1;33m]\u001b[0m\u001b[1;33m\u001b[0m\u001b[0m\n",
      "\u001b[1;32mc:\\users\\administrator\\appdata\\local\\programs\\python\\python36\\lib\\site-packages\\tensorflow\\python\\client\\session.py\u001b[0m in \u001b[0;36m_do_run\u001b[1;34m(self, handle, target_list, fetch_list, feed_dict, options, run_metadata)\u001b[0m\n\u001b[0;32m   1284\u001b[0m     \u001b[1;32mif\u001b[0m \u001b[0mhandle\u001b[0m \u001b[1;32mis\u001b[0m \u001b[1;32mNone\u001b[0m\u001b[1;33m:\u001b[0m\u001b[1;33m\u001b[0m\u001b[0m\n\u001b[0;32m   1285\u001b[0m       return self._do_call(_run_fn, feeds, fetches, targets, options,\n\u001b[1;32m-> 1286\u001b[1;33m                            run_metadata)\n\u001b[0m\u001b[0;32m   1287\u001b[0m     \u001b[1;32melse\u001b[0m\u001b[1;33m:\u001b[0m\u001b[1;33m\u001b[0m\u001b[0m\n\u001b[0;32m   1288\u001b[0m       \u001b[1;32mreturn\u001b[0m \u001b[0mself\u001b[0m\u001b[1;33m.\u001b[0m\u001b[0m_do_call\u001b[0m\u001b[1;33m(\u001b[0m\u001b[0m_prun_fn\u001b[0m\u001b[1;33m,\u001b[0m \u001b[0mhandle\u001b[0m\u001b[1;33m,\u001b[0m \u001b[0mfeeds\u001b[0m\u001b[1;33m,\u001b[0m \u001b[0mfetches\u001b[0m\u001b[1;33m)\u001b[0m\u001b[1;33m\u001b[0m\u001b[0m\n",
      "\u001b[1;32mc:\\users\\administrator\\appdata\\local\\programs\\python\\python36\\lib\\site-packages\\tensorflow\\python\\client\\session.py\u001b[0m in \u001b[0;36m_do_call\u001b[1;34m(self, fn, *args)\u001b[0m\n\u001b[0;32m   1290\u001b[0m   \u001b[1;32mdef\u001b[0m \u001b[0m_do_call\u001b[0m\u001b[1;33m(\u001b[0m\u001b[0mself\u001b[0m\u001b[1;33m,\u001b[0m \u001b[0mfn\u001b[0m\u001b[1;33m,\u001b[0m \u001b[1;33m*\u001b[0m\u001b[0margs\u001b[0m\u001b[1;33m)\u001b[0m\u001b[1;33m:\u001b[0m\u001b[1;33m\u001b[0m\u001b[0m\n\u001b[0;32m   1291\u001b[0m     \u001b[1;32mtry\u001b[0m\u001b[1;33m:\u001b[0m\u001b[1;33m\u001b[0m\u001b[0m\n\u001b[1;32m-> 1292\u001b[1;33m       \u001b[1;32mreturn\u001b[0m \u001b[0mfn\u001b[0m\u001b[1;33m(\u001b[0m\u001b[1;33m*\u001b[0m\u001b[0margs\u001b[0m\u001b[1;33m)\u001b[0m\u001b[1;33m\u001b[0m\u001b[0m\n\u001b[0m\u001b[0;32m   1293\u001b[0m     \u001b[1;32mexcept\u001b[0m \u001b[0merrors\u001b[0m\u001b[1;33m.\u001b[0m\u001b[0mOpError\u001b[0m \u001b[1;32mas\u001b[0m \u001b[0me\u001b[0m\u001b[1;33m:\u001b[0m\u001b[1;33m\u001b[0m\u001b[0m\n\u001b[0;32m   1294\u001b[0m       \u001b[0mmessage\u001b[0m \u001b[1;33m=\u001b[0m \u001b[0mcompat\u001b[0m\u001b[1;33m.\u001b[0m\u001b[0mas_text\u001b[0m\u001b[1;33m(\u001b[0m\u001b[0me\u001b[0m\u001b[1;33m.\u001b[0m\u001b[0mmessage\u001b[0m\u001b[1;33m)\u001b[0m\u001b[1;33m\u001b[0m\u001b[0m\n",
      "\u001b[1;32mc:\\users\\administrator\\appdata\\local\\programs\\python\\python36\\lib\\site-packages\\tensorflow\\python\\client\\session.py\u001b[0m in \u001b[0;36m_run_fn\u001b[1;34m(feed_dict, fetch_list, target_list, options, run_metadata)\u001b[0m\n\u001b[0;32m   1275\u001b[0m       \u001b[0mself\u001b[0m\u001b[1;33m.\u001b[0m\u001b[0m_extend_graph\u001b[0m\u001b[1;33m(\u001b[0m\u001b[1;33m)\u001b[0m\u001b[1;33m\u001b[0m\u001b[0m\n\u001b[0;32m   1276\u001b[0m       return self._call_tf_sessionrun(\n\u001b[1;32m-> 1277\u001b[1;33m           options, feed_dict, fetch_list, target_list, run_metadata)\n\u001b[0m\u001b[0;32m   1278\u001b[0m \u001b[1;33m\u001b[0m\u001b[0m\n\u001b[0;32m   1279\u001b[0m     \u001b[1;32mdef\u001b[0m \u001b[0m_prun_fn\u001b[0m\u001b[1;33m(\u001b[0m\u001b[0mhandle\u001b[0m\u001b[1;33m,\u001b[0m \u001b[0mfeed_dict\u001b[0m\u001b[1;33m,\u001b[0m \u001b[0mfetch_list\u001b[0m\u001b[1;33m)\u001b[0m\u001b[1;33m:\u001b[0m\u001b[1;33m\u001b[0m\u001b[0m\n",
      "\u001b[1;32mc:\\users\\administrator\\appdata\\local\\programs\\python\\python36\\lib\\site-packages\\tensorflow\\python\\client\\session.py\u001b[0m in \u001b[0;36m_call_tf_sessionrun\u001b[1;34m(self, options, feed_dict, fetch_list, target_list, run_metadata)\u001b[0m\n\u001b[0;32m   1365\u001b[0m     return tf_session.TF_SessionRun_wrapper(\n\u001b[0;32m   1366\u001b[0m         \u001b[0mself\u001b[0m\u001b[1;33m.\u001b[0m\u001b[0m_session\u001b[0m\u001b[1;33m,\u001b[0m \u001b[0moptions\u001b[0m\u001b[1;33m,\u001b[0m \u001b[0mfeed_dict\u001b[0m\u001b[1;33m,\u001b[0m \u001b[0mfetch_list\u001b[0m\u001b[1;33m,\u001b[0m \u001b[0mtarget_list\u001b[0m\u001b[1;33m,\u001b[0m\u001b[1;33m\u001b[0m\u001b[0m\n\u001b[1;32m-> 1367\u001b[1;33m         run_metadata)\n\u001b[0m\u001b[0;32m   1368\u001b[0m \u001b[1;33m\u001b[0m\u001b[0m\n\u001b[0;32m   1369\u001b[0m   \u001b[1;32mdef\u001b[0m \u001b[0m_call_tf_sessionprun\u001b[0m\u001b[1;33m(\u001b[0m\u001b[0mself\u001b[0m\u001b[1;33m,\u001b[0m \u001b[0mhandle\u001b[0m\u001b[1;33m,\u001b[0m \u001b[0mfeed_dict\u001b[0m\u001b[1;33m,\u001b[0m \u001b[0mfetch_list\u001b[0m\u001b[1;33m)\u001b[0m\u001b[1;33m:\u001b[0m\u001b[1;33m\u001b[0m\u001b[0m\n",
      "\u001b[1;31mKeyboardInterrupt\u001b[0m: "
     ]
    }
   ],
   "source": [
    "#  五、 执行训练模型  (mnist数据集)\n",
    "BATCH_SIZE = 100\n",
    "TRAINING_STEPS = 3000\n",
    "\n",
    "\n",
    "with tf.Session() as sess:\n",
    "    sess.run(tf.global_variables_initializer())\n",
    "    \n",
    "    for i in range(TRAINING_STEPS):\n",
    "        start = (i * BATCH_SIZE) % mnist.train.images.shape[0]\n",
    "        end = min(start + BATCH_SIZE, mnist.train.images.shape[0])\n",
    "        xs, ys = mnist.train.images[start:end], mnist.train.labels[start:end]\n",
    "        l, _, step = sess.run([loss, optimizer, global_step], feed_dict={x:xs, y:ys})\n",
    "        if i % 50 == 0:\n",
    "            print(\"After %s training steps, loss on training batch is :   %s \" % (step, l))          \n",
    "            acc = sess.run([accuracy], feed_dict={x:mnist.train.images, y:mnist.train.labels})\n",
    "            print(\"After %s training steps, accuracy on test data is :   %s \" % (step, acc))\n",
    "            print(\"strat:\",start)\n",
    "            print(\"\\n\\n\")\n",
    "    \n"
   ]
  },
  {
   "cell_type": "code",
   "execution_count": null,
   "metadata": {},
   "outputs": [],
   "source": []
  },
  {
   "cell_type": "code",
   "execution_count": null,
   "metadata": {},
   "outputs": [],
   "source": []
  },
  {
   "cell_type": "code",
   "execution_count": 3,
   "metadata": {
    "scrolled": true
   },
   "outputs": [
    {
     "data": {
      "text/plain": [
       "array([[0., 0., 0., 0., 0., 0., 0., 1., 0., 0.],\n",
       "       [0., 0., 1., 0., 0., 0., 0., 0., 0., 0.],\n",
       "       [0., 1., 0., 0., 0., 0., 0., 0., 0., 0.],\n",
       "       [1., 0., 0., 0., 0., 0., 0., 0., 0., 0.],\n",
       "       [0., 0., 0., 0., 1., 0., 0., 0., 0., 0.],\n",
       "       [0., 1., 0., 0., 0., 0., 0., 0., 0., 0.],\n",
       "       [0., 0., 0., 0., 1., 0., 0., 0., 0., 0.],\n",
       "       [0., 0., 0., 0., 0., 0., 0., 0., 0., 1.],\n",
       "       [0., 0., 0., 0., 0., 1., 0., 0., 0., 0.],\n",
       "       [0., 0., 0., 0., 0., 0., 0., 0., 0., 1.]])"
      ]
     },
     "execution_count": 3,
     "metadata": {},
     "output_type": "execute_result"
    }
   ],
   "source": [
    "mnist.test.labels[:10]"
   ]
  },
  {
   "cell_type": "code",
   "execution_count": 10,
   "metadata": {},
   "outputs": [
    {
     "name": "stdout",
     "output_type": "stream",
     "text": [
      "b'x'\n",
      "<tf.Variable 'Variable_2:0' shape=() dtype=string_ref>\n"
     ]
    }
   ],
   "source": [
    "with tf.Session() as sess:\n",
    "    a = tf.Variable(\"x\", 3)\n",
    "    tf.global_variables_initializer().run()\n",
    "\n",
    "    print(sess.run(a))\n",
    "print(a)"
   ]
  },
  {
   "cell_type": "code",
   "execution_count": 24,
   "metadata": {},
   "outputs": [
    {
     "data": {
      "text/plain": [
       "(60000, 784)"
      ]
     },
     "execution_count": 24,
     "metadata": {},
     "output_type": "execute_result"
    }
   ],
   "source": [
    "trainX.shape"
   ]
  },
  {
   "cell_type": "code",
   "execution_count": 26,
   "metadata": {},
   "outputs": [
    {
     "data": {
      "text/html": [
       "<div>\n",
       "<style scoped>\n",
       "    .dataframe tbody tr th:only-of-type {\n",
       "        vertical-align: middle;\n",
       "    }\n",
       "\n",
       "    .dataframe tbody tr th {\n",
       "        vertical-align: top;\n",
       "    }\n",
       "\n",
       "    .dataframe thead th {\n",
       "        text-align: right;\n",
       "    }\n",
       "</style>\n",
       "<table border=\"1\" class=\"dataframe\">\n",
       "  <thead>\n",
       "    <tr style=\"text-align: right;\">\n",
       "      <th></th>\n",
       "      <th>1</th>\n",
       "      <th>2</th>\n",
       "      <th>3</th>\n",
       "      <th>9</th>\n",
       "      <th>zx</th>\n",
       "      <th>zy</th>\n",
       "      <th>zz</th>\n",
       "    </tr>\n",
       "  </thead>\n",
       "  <tbody>\n",
       "    <tr>\n",
       "      <th>0</th>\n",
       "      <td>1</td>\n",
       "      <td>0</td>\n",
       "      <td>0</td>\n",
       "      <td>0</td>\n",
       "      <td>0</td>\n",
       "      <td>0</td>\n",
       "      <td>0</td>\n",
       "    </tr>\n",
       "    <tr>\n",
       "      <th>1</th>\n",
       "      <td>0</td>\n",
       "      <td>1</td>\n",
       "      <td>0</td>\n",
       "      <td>0</td>\n",
       "      <td>0</td>\n",
       "      <td>0</td>\n",
       "      <td>0</td>\n",
       "    </tr>\n",
       "    <tr>\n",
       "      <th>2</th>\n",
       "      <td>0</td>\n",
       "      <td>0</td>\n",
       "      <td>1</td>\n",
       "      <td>0</td>\n",
       "      <td>0</td>\n",
       "      <td>0</td>\n",
       "      <td>0</td>\n",
       "    </tr>\n",
       "    <tr>\n",
       "      <th>3</th>\n",
       "      <td>0</td>\n",
       "      <td>0</td>\n",
       "      <td>0</td>\n",
       "      <td>0</td>\n",
       "      <td>1</td>\n",
       "      <td>0</td>\n",
       "      <td>0</td>\n",
       "    </tr>\n",
       "    <tr>\n",
       "      <th>4</th>\n",
       "      <td>0</td>\n",
       "      <td>0</td>\n",
       "      <td>0</td>\n",
       "      <td>0</td>\n",
       "      <td>0</td>\n",
       "      <td>1</td>\n",
       "      <td>0</td>\n",
       "    </tr>\n",
       "    <tr>\n",
       "      <th>5</th>\n",
       "      <td>0</td>\n",
       "      <td>1</td>\n",
       "      <td>0</td>\n",
       "      <td>0</td>\n",
       "      <td>0</td>\n",
       "      <td>0</td>\n",
       "      <td>0</td>\n",
       "    </tr>\n",
       "    <tr>\n",
       "      <th>6</th>\n",
       "      <td>0</td>\n",
       "      <td>1</td>\n",
       "      <td>0</td>\n",
       "      <td>0</td>\n",
       "      <td>0</td>\n",
       "      <td>0</td>\n",
       "      <td>0</td>\n",
       "    </tr>\n",
       "    <tr>\n",
       "      <th>7</th>\n",
       "      <td>1</td>\n",
       "      <td>0</td>\n",
       "      <td>0</td>\n",
       "      <td>0</td>\n",
       "      <td>0</td>\n",
       "      <td>0</td>\n",
       "      <td>0</td>\n",
       "    </tr>\n",
       "    <tr>\n",
       "      <th>8</th>\n",
       "      <td>0</td>\n",
       "      <td>0</td>\n",
       "      <td>0</td>\n",
       "      <td>1</td>\n",
       "      <td>0</td>\n",
       "      <td>0</td>\n",
       "      <td>0</td>\n",
       "    </tr>\n",
       "    <tr>\n",
       "      <th>9</th>\n",
       "      <td>0</td>\n",
       "      <td>0</td>\n",
       "      <td>0</td>\n",
       "      <td>0</td>\n",
       "      <td>0</td>\n",
       "      <td>0</td>\n",
       "      <td>1</td>\n",
       "    </tr>\n",
       "  </tbody>\n",
       "</table>\n",
       "</div>"
      ],
      "text/plain": [
       "   1  2  3  9  zx  zy  zz\n",
       "0  1  0  0  0   0   0   0\n",
       "1  0  1  0  0   0   0   0\n",
       "2  0  0  1  0   0   0   0\n",
       "3  0  0  0  0   1   0   0\n",
       "4  0  0  0  0   0   1   0\n",
       "5  0  1  0  0   0   0   0\n",
       "6  0  1  0  0   0   0   0\n",
       "7  1  0  0  0   0   0   0\n",
       "8  0  0  0  1   0   0   0\n",
       "9  0  0  0  0   0   0   1"
      ]
     },
     "execution_count": 26,
     "metadata": {},
     "output_type": "execute_result"
    }
   ],
   "source": [
    "a = [1, 2, 3, \"zx\", 'zy', 2, 2, 1, 9, \"zz\"]\n",
    "b = pd.get_dummies(a)\n",
    "b"
   ]
  },
  {
   "cell_type": "code",
   "execution_count": 29,
   "metadata": {},
   "outputs": [
    {
     "data": {
      "text/plain": [
       "Index([1, 2, 3, 9, 'zx', 'zy', 'zz'], dtype='object')"
      ]
     },
     "execution_count": 29,
     "metadata": {},
     "output_type": "execute_result"
    }
   ],
   "source": [
    "b.columns"
   ]
  },
  {
   "cell_type": "code",
   "execution_count": 30,
   "metadata": {},
   "outputs": [
    {
     "data": {
      "text/plain": [
       "'zy'"
      ]
     },
     "execution_count": 30,
     "metadata": {},
     "output_type": "execute_result"
    }
   ],
   "source": [
    "b.columns[5]"
   ]
  },
  {
   "cell_type": "code",
   "execution_count": null,
   "metadata": {},
   "outputs": [],
   "source": []
  },
  {
   "cell_type": "code",
   "execution_count": 32,
   "metadata": {},
   "outputs": [
    {
     "data": {
      "text/plain": [
       "0.6561"
      ]
     },
     "execution_count": 32,
     "metadata": {},
     "output_type": "execute_result"
    }
   ],
   "source": [
    "0.9**4"
   ]
  },
  {
   "cell_type": "code",
   "execution_count": null,
   "metadata": {},
   "outputs": [],
   "source": []
  },
  {
   "cell_type": "code",
   "execution_count": null,
   "metadata": {},
   "outputs": [],
   "source": []
  },
  {
   "cell_type": "code",
   "execution_count": null,
   "metadata": {},
   "outputs": [],
   "source": []
  },
  {
   "cell_type": "code",
   "execution_count": 13,
   "metadata": {},
   "outputs": [
    {
     "name": "stdout",
     "output_type": "stream",
     "text": [
      "(60000, 784)\n",
      "(60000, 10)\n",
      "(10000, 784)\n",
      "(10000, 10)\n"
     ]
    }
   ],
   "source": [
    "#一、数据准备阶段、数据处理：\n",
    "\n",
    "(trainX, trainY), (testX, testY) = mn.load_data()\n",
    "trainY_dummy = np.array(pd.get_dummies(trainY))\n",
    "testY_dummy = np.array(pd.get_dummies(testY))\n",
    "trainX = trainX.reshape(-1, 28*28)\n",
    "testX = testX.reshape(-1, 28*28)\n",
    "print(trainX.shape)\n",
    "print(trainY_dummy.shape)\n",
    "print(testX.shape)\n",
    "print(testY_dummy.shape)"
   ]
  },
  {
   "cell_type": "code",
   "execution_count": 139,
   "metadata": {},
   "outputs": [],
   "source": [
    "# 二。 超参数、placeholder、w、b的设定\n",
    "input_features_num = 28*28\n",
    "hidden_layer_1_num = 500\n",
    "output_classes= 10\n",
    "\n",
    "\n",
    "x = tf.placeholder(\"float\", [None,input_features_num], \"x\")\n",
    "y = tf.placeholder(\"float\", [None,output_classes], \"y\")\n",
    "\n",
    "\n",
    "weights = {\n",
    "    \"w1\" : tf.Variable(tf.random_normal([input_features_num, hidden_layer_1_num]), \"w1\"),\n",
    "    \"w2\" : tf.Variable(tf.random_normal([hidden_layer_1_num, output_classes]), \"w2\")\n",
    "\n",
    "}\n",
    "biases = {\n",
    "    \"b1\" : tf.Variable(tf.constant(0.1, shape=[hidden_layer_1_num]), name=\"b1\"),\n",
    "    \"b2\" : tf.Variable(tf.constant(0.1, shape=[output_classes]), name=\"b2\"),\n",
    "}"
   ]
  },
  {
   "cell_type": "code",
   "execution_count": 140,
   "metadata": {},
   "outputs": [],
   "source": [
    "# 三、 定义模型（网络结构）\n",
    "def mlp(x, weights, biases):\n",
    "    layer_1 = tf.matmul(x, weights[\"w1\"])\n",
    "    layer_1 = tf.add(layer_1, biases[\"b1\"])\n",
    "    layer_1 = tf.nn.relu(layer_1, name=\"relu\")\n",
    "    output = tf.matmul(layer_1, weights[\"w2\"])\n",
    "    output = tf.add(output, biases[\"b2\"])\n",
    "    return output\n",
    "pred_model = mlp(x, weights, biases)"
   ]
  },
  {
   "cell_type": "code",
   "execution_count": 143,
   "metadata": {},
   "outputs": [],
   "source": [
    "# 四、 定义（loss + optimizer + metric）\n",
    "loss_all = tf.nn.sparse_softmax_cross_entropy_with_logits(logits=pred_model, labels=tf.argmax(y, 1), name=\"cross_entropy\")\n",
    "loss = tf.reduce_mean(loss_all) \n",
    "global_step = tf.Variable(0, trainable=False)\n",
    "learning_rate = tf.train.exponential_decay(0.05, global_step, 600, 0.99)\n",
    "optimizer = tf.train.GradientDescentOptimizer(learning_rate=learning_rate).minimize(loss, global_step=global_step)\n",
    "\n",
    "\n",
    "correct_prediction = tf.equal(tf.argmax(pred_model, 1), tf.argmax(y, 1))\n",
    "accuracy = tf.reduce_mean(tf.cast(correct_prediction, tf.float32))"
   ]
  },
  {
   "cell_type": "code",
   "execution_count": 144,
   "metadata": {},
   "outputs": [
    {
     "name": "stdout",
     "output_type": "stream",
     "text": [
      "After 1 training steps, loss on training batch is :   65860.08 \n",
      "After 1 training steps, accuracy on test data is :   [0.101] \n",
      "strat: 0\n",
      "\n",
      "\n",
      "\n",
      "After 51 training steps, loss on training batch is :   2.3010502 \n",
      "After 51 training steps, accuracy on test data is :   [0.1008] \n",
      "strat: 5000\n",
      "\n",
      "\n",
      "\n",
      "After 101 training steps, loss on training batch is :   2.3028915 \n",
      "After 101 training steps, accuracy on test data is :   [0.1149] \n",
      "strat: 10000\n",
      "\n",
      "\n",
      "\n",
      "After 151 training steps, loss on training batch is :   2.3014274 \n",
      "After 151 training steps, accuracy on test data is :   [0.1152] \n",
      "strat: 15000\n",
      "\n",
      "\n",
      "\n",
      "After 201 training steps, loss on training batch is :   2.3000975 \n",
      "After 201 training steps, accuracy on test data is :   [0.1148] \n",
      "strat: 20000\n",
      "\n",
      "\n",
      "\n",
      "After 251 training steps, loss on training batch is :   2.2987683 \n",
      "After 251 training steps, accuracy on test data is :   [0.1148] \n",
      "strat: 25000\n",
      "\n",
      "\n",
      "\n",
      "After 301 training steps, loss on training batch is :   2.304619 \n",
      "After 301 training steps, accuracy on test data is :   [0.1148] \n",
      "strat: 30000\n",
      "\n",
      "\n",
      "\n",
      "After 351 training steps, loss on training batch is :   2.3042982 \n",
      "After 351 training steps, accuracy on test data is :   [0.1148] \n",
      "strat: 35000\n",
      "\n",
      "\n",
      "\n",
      "After 401 training steps, loss on training batch is :   2.2974906 \n",
      "After 401 training steps, accuracy on test data is :   [0.1147] \n",
      "strat: 40000\n",
      "\n",
      "\n",
      "\n",
      "After 451 training steps, loss on training batch is :   2.2991064 \n",
      "After 451 training steps, accuracy on test data is :   [0.1147] \n",
      "strat: 45000\n",
      "\n",
      "\n",
      "\n",
      "After 501 training steps, loss on training batch is :   2.2790291 \n",
      "After 501 training steps, accuracy on test data is :   [0.1147] \n",
      "strat: 50000\n",
      "\n",
      "\n",
      "\n",
      "After 551 training steps, loss on training batch is :   2.3009114 \n",
      "After 551 training steps, accuracy on test data is :   [0.1147] \n",
      "strat: 55000\n",
      "\n",
      "\n",
      "\n",
      "After 601 training steps, loss on training batch is :   3.836765 \n",
      "After 601 training steps, accuracy on test data is :   [0.1147] \n",
      "strat: 0\n",
      "\n",
      "\n",
      "\n",
      "After 651 training steps, loss on training batch is :   2.3013206 \n",
      "After 651 training steps, accuracy on test data is :   [0.1147] \n",
      "strat: 5000\n",
      "\n",
      "\n",
      "\n",
      "After 701 training steps, loss on training batch is :   2.3009787 \n",
      "After 701 training steps, accuracy on test data is :   [0.1147] \n",
      "strat: 10000\n",
      "\n",
      "\n",
      "\n",
      "After 751 training steps, loss on training batch is :   2.29891 \n",
      "After 751 training steps, accuracy on test data is :   [0.1147] \n",
      "strat: 15000\n",
      "\n",
      "\n",
      "\n",
      "After 801 training steps, loss on training batch is :   2.2999067 \n",
      "After 801 training steps, accuracy on test data is :   [0.1147] \n",
      "strat: 20000\n",
      "\n",
      "\n",
      "\n",
      "After 851 training steps, loss on training batch is :   2.2974634 \n",
      "After 851 training steps, accuracy on test data is :   [0.1147] \n",
      "strat: 25000\n",
      "\n",
      "\n",
      "\n",
      "After 901 training steps, loss on training batch is :   2.3047276 \n",
      "After 901 training steps, accuracy on test data is :   [0.1147] \n",
      "strat: 30000\n",
      "\n",
      "\n",
      "\n",
      "After 951 training steps, loss on training batch is :   2.305448 \n",
      "After 951 training steps, accuracy on test data is :   [0.1147] \n",
      "strat: 35000\n",
      "\n",
      "\n",
      "\n",
      "After 1001 training steps, loss on training batch is :   2.2967494 \n",
      "After 1001 training steps, accuracy on test data is :   [0.1147] \n",
      "strat: 40000\n",
      "\n",
      "\n",
      "\n",
      "After 1051 training steps, loss on training batch is :   2.298896 \n",
      "After 1051 training steps, accuracy on test data is :   [0.1147] \n",
      "strat: 45000\n",
      "\n",
      "\n",
      "\n",
      "After 1101 training steps, loss on training batch is :   2.2792726 \n",
      "After 1101 training steps, accuracy on test data is :   [0.1147] \n",
      "strat: 50000\n",
      "\n",
      "\n",
      "\n",
      "After 1151 training steps, loss on training batch is :   2.3006747 \n",
      "After 1151 training steps, accuracy on test data is :   [0.1147] \n",
      "strat: 55000\n",
      "\n",
      "\n",
      "\n",
      "After 1201 training steps, loss on training batch is :   2.2730072 \n",
      "After 1201 training steps, accuracy on test data is :   [0.1147] \n",
      "strat: 0\n",
      "\n",
      "\n",
      "\n",
      "After 1251 training steps, loss on training batch is :   2.30134 \n",
      "After 1251 training steps, accuracy on test data is :   [0.1147] \n",
      "strat: 5000\n",
      "\n",
      "\n",
      "\n",
      "After 1301 training steps, loss on training batch is :   2.300914 \n",
      "After 1301 training steps, accuracy on test data is :   [0.1147] \n",
      "strat: 10000\n",
      "\n",
      "\n",
      "\n",
      "After 1351 training steps, loss on training batch is :   2.2987902 \n",
      "After 1351 training steps, accuracy on test data is :   [0.1147] \n",
      "strat: 15000\n",
      "\n",
      "\n",
      "\n",
      "After 1401 training steps, loss on training batch is :   2.2999375 \n",
      "After 1401 training steps, accuracy on test data is :   [0.1147] \n",
      "strat: 20000\n",
      "\n",
      "\n",
      "\n",
      "After 1451 training steps, loss on training batch is :   2.2974002 \n",
      "After 1451 training steps, accuracy on test data is :   [0.1147] \n",
      "strat: 25000\n",
      "\n",
      "\n",
      "\n",
      "After 1501 training steps, loss on training batch is :   2.304721 \n",
      "After 1501 training steps, accuracy on test data is :   [0.1147] \n",
      "strat: 30000\n",
      "\n",
      "\n",
      "\n",
      "After 1551 training steps, loss on training batch is :   2.3054993 \n",
      "After 1551 training steps, accuracy on test data is :   [0.1147] \n",
      "strat: 35000\n",
      "\n",
      "\n",
      "\n",
      "After 1601 training steps, loss on training batch is :   2.2967105 \n",
      "After 1601 training steps, accuracy on test data is :   [0.1147] \n",
      "strat: 40000\n",
      "\n",
      "\n",
      "\n",
      "After 1651 training steps, loss on training batch is :   2.2988915 \n",
      "After 1651 training steps, accuracy on test data is :   [0.1147] \n",
      "strat: 45000\n",
      "\n",
      "\n",
      "\n",
      "After 1701 training steps, loss on training batch is :   2.2792773 \n",
      "After 1701 training steps, accuracy on test data is :   [0.1147] \n",
      "strat: 50000\n",
      "\n",
      "\n",
      "\n",
      "After 1751 training steps, loss on training batch is :   2.3006654 \n",
      "After 1751 training steps, accuracy on test data is :   [0.1147] \n",
      "strat: 55000\n",
      "\n",
      "\n",
      "\n",
      "After 1801 training steps, loss on training batch is :   2.2729788 \n",
      "After 1801 training steps, accuracy on test data is :   [0.1147] \n",
      "strat: 0\n",
      "\n",
      "\n",
      "\n",
      "After 1851 training steps, loss on training batch is :   2.3013427 \n",
      "After 1851 training steps, accuracy on test data is :   [0.1147] \n",
      "strat: 5000\n",
      "\n",
      "\n",
      "\n",
      "After 1901 training steps, loss on training batch is :   2.30091 \n",
      "After 1901 training steps, accuracy on test data is :   [0.1147] \n",
      "strat: 10000\n",
      "\n",
      "\n",
      "\n"
     ]
    },
    {
     "ename": "KeyboardInterrupt",
     "evalue": "",
     "output_type": "error",
     "traceback": [
      "\u001b[1;31m---------------------------------------------------------------------------\u001b[0m",
      "\u001b[1;31mKeyboardInterrupt\u001b[0m                         Traceback (most recent call last)",
      "\u001b[1;32m<ipython-input-144-6567b857bf52>\u001b[0m in \u001b[0;36m<module>\u001b[1;34m\u001b[0m\n\u001b[0;32m     11\u001b[0m         \u001b[0mend\u001b[0m \u001b[1;33m=\u001b[0m \u001b[0mmin\u001b[0m\u001b[1;33m(\u001b[0m\u001b[0mstart\u001b[0m \u001b[1;33m+\u001b[0m \u001b[0mBATCH_SIZE\u001b[0m\u001b[1;33m,\u001b[0m \u001b[0mtrainX\u001b[0m\u001b[1;33m.\u001b[0m\u001b[0mshape\u001b[0m\u001b[1;33m[\u001b[0m\u001b[1;36m0\u001b[0m\u001b[1;33m]\u001b[0m\u001b[1;33m)\u001b[0m\u001b[1;33m\u001b[0m\u001b[0m\n\u001b[0;32m     12\u001b[0m         \u001b[0mxs\u001b[0m\u001b[1;33m,\u001b[0m \u001b[0mys\u001b[0m \u001b[1;33m=\u001b[0m \u001b[0mtrainX\u001b[0m\u001b[1;33m[\u001b[0m\u001b[0mstart\u001b[0m\u001b[1;33m:\u001b[0m\u001b[0mend\u001b[0m\u001b[1;33m]\u001b[0m\u001b[1;33m,\u001b[0m \u001b[0mtrainY_dummy\u001b[0m\u001b[1;33m[\u001b[0m\u001b[0mstart\u001b[0m\u001b[1;33m:\u001b[0m\u001b[0mend\u001b[0m\u001b[1;33m]\u001b[0m\u001b[1;33m\u001b[0m\u001b[0m\n\u001b[1;32m---> 13\u001b[1;33m         \u001b[0ml\u001b[0m\u001b[1;33m,\u001b[0m \u001b[0m_\u001b[0m\u001b[1;33m,\u001b[0m \u001b[0mstep\u001b[0m \u001b[1;33m=\u001b[0m \u001b[0msess\u001b[0m\u001b[1;33m.\u001b[0m\u001b[0mrun\u001b[0m\u001b[1;33m(\u001b[0m\u001b[1;33m[\u001b[0m\u001b[0mloss\u001b[0m\u001b[1;33m,\u001b[0m \u001b[0moptimizer\u001b[0m\u001b[1;33m,\u001b[0m \u001b[0mglobal_step\u001b[0m\u001b[1;33m]\u001b[0m\u001b[1;33m,\u001b[0m \u001b[0mfeed_dict\u001b[0m\u001b[1;33m=\u001b[0m\u001b[1;33m{\u001b[0m\u001b[0mx\u001b[0m\u001b[1;33m:\u001b[0m\u001b[0mxs\u001b[0m\u001b[1;33m,\u001b[0m \u001b[0my\u001b[0m\u001b[1;33m:\u001b[0m\u001b[0mys\u001b[0m\u001b[1;33m}\u001b[0m\u001b[1;33m)\u001b[0m\u001b[1;33m\u001b[0m\u001b[0m\n\u001b[0m\u001b[0;32m     14\u001b[0m         \u001b[1;32mif\u001b[0m \u001b[0mi\u001b[0m \u001b[1;33m%\u001b[0m \u001b[1;36m50\u001b[0m \u001b[1;33m==\u001b[0m \u001b[1;36m0\u001b[0m\u001b[1;33m:\u001b[0m\u001b[1;33m\u001b[0m\u001b[0m\n\u001b[0;32m     15\u001b[0m             \u001b[0mprint\u001b[0m\u001b[1;33m(\u001b[0m\u001b[1;34m\"After %s training steps, loss on training batch is :   %s \"\u001b[0m \u001b[1;33m%\u001b[0m \u001b[1;33m(\u001b[0m\u001b[0mstep\u001b[0m\u001b[1;33m,\u001b[0m \u001b[0ml\u001b[0m\u001b[1;33m)\u001b[0m\u001b[1;33m)\u001b[0m\u001b[1;33m\u001b[0m\u001b[0m\n",
      "\u001b[1;32mc:\\users\\administrator\\appdata\\local\\programs\\python\\python36\\lib\\site-packages\\tensorflow\\python\\client\\session.py\u001b[0m in \u001b[0;36mrun\u001b[1;34m(self, fetches, feed_dict, options, run_metadata)\u001b[0m\n\u001b[0;32m    885\u001b[0m     \u001b[1;32mtry\u001b[0m\u001b[1;33m:\u001b[0m\u001b[1;33m\u001b[0m\u001b[0m\n\u001b[0;32m    886\u001b[0m       result = self._run(None, fetches, feed_dict, options_ptr,\n\u001b[1;32m--> 887\u001b[1;33m                          run_metadata_ptr)\n\u001b[0m\u001b[0;32m    888\u001b[0m       \u001b[1;32mif\u001b[0m \u001b[0mrun_metadata\u001b[0m\u001b[1;33m:\u001b[0m\u001b[1;33m\u001b[0m\u001b[0m\n\u001b[0;32m    889\u001b[0m         \u001b[0mproto_data\u001b[0m \u001b[1;33m=\u001b[0m \u001b[0mtf_session\u001b[0m\u001b[1;33m.\u001b[0m\u001b[0mTF_GetBuffer\u001b[0m\u001b[1;33m(\u001b[0m\u001b[0mrun_metadata_ptr\u001b[0m\u001b[1;33m)\u001b[0m\u001b[1;33m\u001b[0m\u001b[0m\n",
      "\u001b[1;32mc:\\users\\administrator\\appdata\\local\\programs\\python\\python36\\lib\\site-packages\\tensorflow\\python\\client\\session.py\u001b[0m in \u001b[0;36m_run\u001b[1;34m(self, handle, fetches, feed_dict, options, run_metadata)\u001b[0m\n\u001b[0;32m   1108\u001b[0m     \u001b[1;32mif\u001b[0m \u001b[0mfinal_fetches\u001b[0m \u001b[1;32mor\u001b[0m \u001b[0mfinal_targets\u001b[0m \u001b[1;32mor\u001b[0m \u001b[1;33m(\u001b[0m\u001b[0mhandle\u001b[0m \u001b[1;32mand\u001b[0m \u001b[0mfeed_dict_tensor\u001b[0m\u001b[1;33m)\u001b[0m\u001b[1;33m:\u001b[0m\u001b[1;33m\u001b[0m\u001b[0m\n\u001b[0;32m   1109\u001b[0m       results = self._do_run(handle, final_targets, final_fetches,\n\u001b[1;32m-> 1110\u001b[1;33m                              feed_dict_tensor, options, run_metadata)\n\u001b[0m\u001b[0;32m   1111\u001b[0m     \u001b[1;32melse\u001b[0m\u001b[1;33m:\u001b[0m\u001b[1;33m\u001b[0m\u001b[0m\n\u001b[0;32m   1112\u001b[0m       \u001b[0mresults\u001b[0m \u001b[1;33m=\u001b[0m \u001b[1;33m[\u001b[0m\u001b[1;33m]\u001b[0m\u001b[1;33m\u001b[0m\u001b[0m\n",
      "\u001b[1;32mc:\\users\\administrator\\appdata\\local\\programs\\python\\python36\\lib\\site-packages\\tensorflow\\python\\client\\session.py\u001b[0m in \u001b[0;36m_do_run\u001b[1;34m(self, handle, target_list, fetch_list, feed_dict, options, run_metadata)\u001b[0m\n\u001b[0;32m   1284\u001b[0m     \u001b[1;32mif\u001b[0m \u001b[0mhandle\u001b[0m \u001b[1;32mis\u001b[0m \u001b[1;32mNone\u001b[0m\u001b[1;33m:\u001b[0m\u001b[1;33m\u001b[0m\u001b[0m\n\u001b[0;32m   1285\u001b[0m       return self._do_call(_run_fn, feeds, fetches, targets, options,\n\u001b[1;32m-> 1286\u001b[1;33m                            run_metadata)\n\u001b[0m\u001b[0;32m   1287\u001b[0m     \u001b[1;32melse\u001b[0m\u001b[1;33m:\u001b[0m\u001b[1;33m\u001b[0m\u001b[0m\n\u001b[0;32m   1288\u001b[0m       \u001b[1;32mreturn\u001b[0m \u001b[0mself\u001b[0m\u001b[1;33m.\u001b[0m\u001b[0m_do_call\u001b[0m\u001b[1;33m(\u001b[0m\u001b[0m_prun_fn\u001b[0m\u001b[1;33m,\u001b[0m \u001b[0mhandle\u001b[0m\u001b[1;33m,\u001b[0m \u001b[0mfeeds\u001b[0m\u001b[1;33m,\u001b[0m \u001b[0mfetches\u001b[0m\u001b[1;33m)\u001b[0m\u001b[1;33m\u001b[0m\u001b[0m\n",
      "\u001b[1;32mc:\\users\\administrator\\appdata\\local\\programs\\python\\python36\\lib\\site-packages\\tensorflow\\python\\client\\session.py\u001b[0m in \u001b[0;36m_do_call\u001b[1;34m(self, fn, *args)\u001b[0m\n\u001b[0;32m   1290\u001b[0m   \u001b[1;32mdef\u001b[0m \u001b[0m_do_call\u001b[0m\u001b[1;33m(\u001b[0m\u001b[0mself\u001b[0m\u001b[1;33m,\u001b[0m \u001b[0mfn\u001b[0m\u001b[1;33m,\u001b[0m \u001b[1;33m*\u001b[0m\u001b[0margs\u001b[0m\u001b[1;33m)\u001b[0m\u001b[1;33m:\u001b[0m\u001b[1;33m\u001b[0m\u001b[0m\n\u001b[0;32m   1291\u001b[0m     \u001b[1;32mtry\u001b[0m\u001b[1;33m:\u001b[0m\u001b[1;33m\u001b[0m\u001b[0m\n\u001b[1;32m-> 1292\u001b[1;33m       \u001b[1;32mreturn\u001b[0m \u001b[0mfn\u001b[0m\u001b[1;33m(\u001b[0m\u001b[1;33m*\u001b[0m\u001b[0margs\u001b[0m\u001b[1;33m)\u001b[0m\u001b[1;33m\u001b[0m\u001b[0m\n\u001b[0m\u001b[0;32m   1293\u001b[0m     \u001b[1;32mexcept\u001b[0m \u001b[0merrors\u001b[0m\u001b[1;33m.\u001b[0m\u001b[0mOpError\u001b[0m \u001b[1;32mas\u001b[0m \u001b[0me\u001b[0m\u001b[1;33m:\u001b[0m\u001b[1;33m\u001b[0m\u001b[0m\n\u001b[0;32m   1294\u001b[0m       \u001b[0mmessage\u001b[0m \u001b[1;33m=\u001b[0m \u001b[0mcompat\u001b[0m\u001b[1;33m.\u001b[0m\u001b[0mas_text\u001b[0m\u001b[1;33m(\u001b[0m\u001b[0me\u001b[0m\u001b[1;33m.\u001b[0m\u001b[0mmessage\u001b[0m\u001b[1;33m)\u001b[0m\u001b[1;33m\u001b[0m\u001b[0m\n",
      "\u001b[1;32mc:\\users\\administrator\\appdata\\local\\programs\\python\\python36\\lib\\site-packages\\tensorflow\\python\\client\\session.py\u001b[0m in \u001b[0;36m_run_fn\u001b[1;34m(feed_dict, fetch_list, target_list, options, run_metadata)\u001b[0m\n\u001b[0;32m   1275\u001b[0m       \u001b[0mself\u001b[0m\u001b[1;33m.\u001b[0m\u001b[0m_extend_graph\u001b[0m\u001b[1;33m(\u001b[0m\u001b[1;33m)\u001b[0m\u001b[1;33m\u001b[0m\u001b[0m\n\u001b[0;32m   1276\u001b[0m       return self._call_tf_sessionrun(\n\u001b[1;32m-> 1277\u001b[1;33m           options, feed_dict, fetch_list, target_list, run_metadata)\n\u001b[0m\u001b[0;32m   1278\u001b[0m \u001b[1;33m\u001b[0m\u001b[0m\n\u001b[0;32m   1279\u001b[0m     \u001b[1;32mdef\u001b[0m \u001b[0m_prun_fn\u001b[0m\u001b[1;33m(\u001b[0m\u001b[0mhandle\u001b[0m\u001b[1;33m,\u001b[0m \u001b[0mfeed_dict\u001b[0m\u001b[1;33m,\u001b[0m \u001b[0mfetch_list\u001b[0m\u001b[1;33m)\u001b[0m\u001b[1;33m:\u001b[0m\u001b[1;33m\u001b[0m\u001b[0m\n",
      "\u001b[1;32mc:\\users\\administrator\\appdata\\local\\programs\\python\\python36\\lib\\site-packages\\tensorflow\\python\\client\\session.py\u001b[0m in \u001b[0;36m_call_tf_sessionrun\u001b[1;34m(self, options, feed_dict, fetch_list, target_list, run_metadata)\u001b[0m\n\u001b[0;32m   1365\u001b[0m     return tf_session.TF_SessionRun_wrapper(\n\u001b[0;32m   1366\u001b[0m         \u001b[0mself\u001b[0m\u001b[1;33m.\u001b[0m\u001b[0m_session\u001b[0m\u001b[1;33m,\u001b[0m \u001b[0moptions\u001b[0m\u001b[1;33m,\u001b[0m \u001b[0mfeed_dict\u001b[0m\u001b[1;33m,\u001b[0m \u001b[0mfetch_list\u001b[0m\u001b[1;33m,\u001b[0m \u001b[0mtarget_list\u001b[0m\u001b[1;33m,\u001b[0m\u001b[1;33m\u001b[0m\u001b[0m\n\u001b[1;32m-> 1367\u001b[1;33m         run_metadata)\n\u001b[0m\u001b[0;32m   1368\u001b[0m \u001b[1;33m\u001b[0m\u001b[0m\n\u001b[0;32m   1369\u001b[0m   \u001b[1;32mdef\u001b[0m \u001b[0m_call_tf_sessionprun\u001b[0m\u001b[1;33m(\u001b[0m\u001b[0mself\u001b[0m\u001b[1;33m,\u001b[0m \u001b[0mhandle\u001b[0m\u001b[1;33m,\u001b[0m \u001b[0mfeed_dict\u001b[0m\u001b[1;33m,\u001b[0m \u001b[0mfetch_list\u001b[0m\u001b[1;33m)\u001b[0m\u001b[1;33m:\u001b[0m\u001b[1;33m\u001b[0m\u001b[0m\n",
      "\u001b[1;31mKeyboardInterrupt\u001b[0m: "
     ]
    }
   ],
   "source": [
    "#  五、 执行训练模型  （trainX数据集）\n",
    "BATCH_SIZE = 100\n",
    "TRAINING_STEPS = 3000\n",
    "\n",
    "\n",
    "with tf.Session() as sess:\n",
    "    sess.run(tf.global_variables_initializer())\n",
    "    \n",
    "    for i in range(TRAINING_STEPS):\n",
    "        start = (i * BATCH_SIZE) % trainX.shape[0]\n",
    "        end = min(start + BATCH_SIZE, trainX.shape[0])\n",
    "        xs, ys = trainX[start:end], trainY_dummy[start:end]\n",
    "        l, _, step = sess.run([loss, optimizer, global_step], feed_dict={x:xs, y:ys})\n",
    "        if i % 50 == 0:\n",
    "            print(\"After %s training steps, loss on training batch is :   %s \" % (step, l))          \n",
    "            acc = sess.run([accuracy], feed_dict={x:testX, y:testY_dummy})\n",
    "            print(\"After %s training steps, accuracy on test data is :   %s \" % (step, acc))\n",
    "            print(\"strat:\",start)\n",
    "            print(\"\\n\\n\")\n",
    "    "
   ]
  },
  {
   "cell_type": "code",
   "execution_count": null,
   "metadata": {},
   "outputs": [],
   "source": []
  },
  {
   "cell_type": "code",
   "execution_count": null,
   "metadata": {},
   "outputs": [],
   "source": []
  },
  {
   "cell_type": "code",
   "execution_count": null,
   "metadata": {},
   "outputs": [],
   "source": []
  },
  {
   "cell_type": "code",
   "execution_count": null,
   "metadata": {},
   "outputs": [],
   "source": []
  },
  {
   "cell_type": "code",
   "execution_count": null,
   "metadata": {},
   "outputs": [],
   "source": []
  },
  {
   "cell_type": "code",
   "execution_count": null,
   "metadata": {},
   "outputs": [],
   "source": []
  },
  {
   "cell_type": "code",
   "execution_count": null,
   "metadata": {},
   "outputs": [],
   "source": []
  },
  {
   "cell_type": "code",
   "execution_count": null,
   "metadata": {},
   "outputs": [],
   "source": []
  },
  {
   "cell_type": "code",
   "execution_count": null,
   "metadata": {},
   "outputs": [],
   "source": []
  },
  {
   "cell_type": "code",
   "execution_count": null,
   "metadata": {},
   "outputs": [],
   "source": []
  },
  {
   "cell_type": "code",
   "execution_count": null,
   "metadata": {},
   "outputs": [],
   "source": []
  },
  {
   "cell_type": "code",
   "execution_count": null,
   "metadata": {},
   "outputs": [],
   "source": []
  },
  {
   "cell_type": "code",
   "execution_count": null,
   "metadata": {},
   "outputs": [],
   "source": []
  },
  {
   "cell_type": "code",
   "execution_count": null,
   "metadata": {},
   "outputs": [],
   "source": []
  },
  {
   "cell_type": "code",
   "execution_count": null,
   "metadata": {},
   "outputs": [],
   "source": []
  },
  {
   "cell_type": "code",
   "execution_count": null,
   "metadata": {},
   "outputs": [],
   "source": []
  },
  {
   "cell_type": "code",
   "execution_count": null,
   "metadata": {},
   "outputs": [],
   "source": []
  },
  {
   "cell_type": "code",
   "execution_count": 112,
   "metadata": {},
   "outputs": [
    {
     "name": "stdout",
     "output_type": "stream",
     "text": [
      "After 1 training steps, loss on training batch is :   48511.555 \n",
      "After 1 training steps, accuracy on test data is :   [0.098] \n",
      "strat: 0\n",
      "\n",
      "\n",
      "\n",
      "After 51 training steps, loss on training batch is :   51281064.0 \n",
      "After 51 training steps, accuracy on test data is :   [0.1051] \n",
      "strat: 5000\n",
      "\n",
      "\n",
      "\n",
      "After 101 training steps, loss on training batch is :   51255496.0 \n",
      "After 101 training steps, accuracy on test data is :   [0.1047] \n",
      "strat: 10000\n",
      "\n",
      "\n",
      "\n",
      "After 151 training steps, loss on training batch is :   51229960.0 \n",
      "After 151 training steps, accuracy on test data is :   [0.1045] \n",
      "strat: 15000\n",
      "\n",
      "\n",
      "\n",
      "After 201 training steps, loss on training batch is :   51204450.0 \n",
      "After 201 training steps, accuracy on test data is :   [0.1168] \n",
      "strat: 20000\n",
      "\n",
      "\n",
      "\n",
      "After 251 training steps, loss on training batch is :   51178964.0 \n",
      "After 251 training steps, accuracy on test data is :   [0.1168] \n",
      "strat: 25000\n",
      "\n",
      "\n",
      "\n",
      "After 301 training steps, loss on training batch is :   51153504.0 \n",
      "After 301 training steps, accuracy on test data is :   [0.1164] \n",
      "strat: 30000\n",
      "\n",
      "\n",
      "\n",
      "After 351 training steps, loss on training batch is :   51128076.0 \n",
      "After 351 training steps, accuracy on test data is :   [0.1165] \n",
      "strat: 35000\n",
      "\n",
      "\n",
      "\n",
      "After 401 training steps, loss on training batch is :   51102680.0 \n",
      "After 401 training steps, accuracy on test data is :   [0.1165] \n",
      "strat: 40000\n",
      "\n",
      "\n",
      "\n",
      "After 451 training steps, loss on training batch is :   51077304.0 \n",
      "After 451 training steps, accuracy on test data is :   [0.1167] \n",
      "strat: 45000\n",
      "\n",
      "\n",
      "\n",
      "After 501 training steps, loss on training batch is :   51051948.0 \n",
      "After 501 training steps, accuracy on test data is :   [0.1167] \n",
      "strat: 50000\n",
      "\n",
      "\n",
      "\n",
      "After 551 training steps, loss on training batch is :   51026610.0 \n",
      "After 551 training steps, accuracy on test data is :   [0.1167] \n",
      "strat: 55000\n",
      "\n",
      "\n",
      "\n",
      "After 601 training steps, loss on training batch is :   51001280.0 \n"
     ]
    },
    {
     "ename": "KeyboardInterrupt",
     "evalue": "",
     "output_type": "error",
     "traceback": [
      "\u001b[1;31m---------------------------------------------------------------------------\u001b[0m",
      "\u001b[1;31mKeyboardInterrupt\u001b[0m                         Traceback (most recent call last)",
      "\u001b[1;32m<ipython-input-112-2c8118acd9bd>\u001b[0m in \u001b[0;36m<module>\u001b[1;34m\u001b[0m\n\u001b[0;32m     14\u001b[0m         \u001b[1;32mif\u001b[0m \u001b[0mi\u001b[0m \u001b[1;33m%\u001b[0m \u001b[1;36m50\u001b[0m \u001b[1;33m==\u001b[0m \u001b[1;36m0\u001b[0m\u001b[1;33m:\u001b[0m\u001b[1;33m\u001b[0m\u001b[0m\n\u001b[0;32m     15\u001b[0m             \u001b[0mprint\u001b[0m\u001b[1;33m(\u001b[0m\u001b[1;34m\"After %s training steps, loss on training batch is :   %s \"\u001b[0m \u001b[1;33m%\u001b[0m \u001b[1;33m(\u001b[0m\u001b[0mstep\u001b[0m\u001b[1;33m,\u001b[0m \u001b[0ml\u001b[0m\u001b[1;33m)\u001b[0m\u001b[1;33m)\u001b[0m\u001b[1;33m\u001b[0m\u001b[0m\n\u001b[1;32m---> 16\u001b[1;33m             \u001b[0macc\u001b[0m \u001b[1;33m=\u001b[0m \u001b[0msess\u001b[0m\u001b[1;33m.\u001b[0m\u001b[0mrun\u001b[0m\u001b[1;33m(\u001b[0m\u001b[1;33m[\u001b[0m\u001b[0maccuracy\u001b[0m\u001b[1;33m]\u001b[0m\u001b[1;33m,\u001b[0m \u001b[0mfeed_dict\u001b[0m\u001b[1;33m=\u001b[0m\u001b[1;33m{\u001b[0m\u001b[0mx\u001b[0m\u001b[1;33m:\u001b[0m\u001b[0mtestX\u001b[0m\u001b[1;33m,\u001b[0m \u001b[0my\u001b[0m\u001b[1;33m:\u001b[0m\u001b[0mtestY_dummy\u001b[0m\u001b[1;33m}\u001b[0m\u001b[1;33m)\u001b[0m\u001b[1;33m\u001b[0m\u001b[0m\n\u001b[0m\u001b[0;32m     17\u001b[0m             \u001b[0mprint\u001b[0m\u001b[1;33m(\u001b[0m\u001b[1;34m\"After %s training steps, accuracy on test data is :   %s \"\u001b[0m \u001b[1;33m%\u001b[0m \u001b[1;33m(\u001b[0m\u001b[0mstep\u001b[0m\u001b[1;33m,\u001b[0m \u001b[0macc\u001b[0m\u001b[1;33m)\u001b[0m\u001b[1;33m)\u001b[0m\u001b[1;33m\u001b[0m\u001b[0m\n\u001b[0;32m     18\u001b[0m             \u001b[0mprint\u001b[0m\u001b[1;33m(\u001b[0m\u001b[1;34m\"strat:\"\u001b[0m\u001b[1;33m,\u001b[0m\u001b[0mstart\u001b[0m\u001b[1;33m)\u001b[0m\u001b[1;33m\u001b[0m\u001b[0m\n",
      "\u001b[1;32mc:\\users\\administrator\\appdata\\local\\programs\\python\\python36\\lib\\site-packages\\tensorflow\\python\\client\\session.py\u001b[0m in \u001b[0;36mrun\u001b[1;34m(self, fetches, feed_dict, options, run_metadata)\u001b[0m\n\u001b[0;32m    885\u001b[0m     \u001b[1;32mtry\u001b[0m\u001b[1;33m:\u001b[0m\u001b[1;33m\u001b[0m\u001b[0m\n\u001b[0;32m    886\u001b[0m       result = self._run(None, fetches, feed_dict, options_ptr,\n\u001b[1;32m--> 887\u001b[1;33m                          run_metadata_ptr)\n\u001b[0m\u001b[0;32m    888\u001b[0m       \u001b[1;32mif\u001b[0m \u001b[0mrun_metadata\u001b[0m\u001b[1;33m:\u001b[0m\u001b[1;33m\u001b[0m\u001b[0m\n\u001b[0;32m    889\u001b[0m         \u001b[0mproto_data\u001b[0m \u001b[1;33m=\u001b[0m \u001b[0mtf_session\u001b[0m\u001b[1;33m.\u001b[0m\u001b[0mTF_GetBuffer\u001b[0m\u001b[1;33m(\u001b[0m\u001b[0mrun_metadata_ptr\u001b[0m\u001b[1;33m)\u001b[0m\u001b[1;33m\u001b[0m\u001b[0m\n",
      "\u001b[1;32mc:\\users\\administrator\\appdata\\local\\programs\\python\\python36\\lib\\site-packages\\tensorflow\\python\\client\\session.py\u001b[0m in \u001b[0;36m_run\u001b[1;34m(self, handle, fetches, feed_dict, options, run_metadata)\u001b[0m\n\u001b[0;32m   1108\u001b[0m     \u001b[1;32mif\u001b[0m \u001b[0mfinal_fetches\u001b[0m \u001b[1;32mor\u001b[0m \u001b[0mfinal_targets\u001b[0m \u001b[1;32mor\u001b[0m \u001b[1;33m(\u001b[0m\u001b[0mhandle\u001b[0m \u001b[1;32mand\u001b[0m \u001b[0mfeed_dict_tensor\u001b[0m\u001b[1;33m)\u001b[0m\u001b[1;33m:\u001b[0m\u001b[1;33m\u001b[0m\u001b[0m\n\u001b[0;32m   1109\u001b[0m       results = self._do_run(handle, final_targets, final_fetches,\n\u001b[1;32m-> 1110\u001b[1;33m                              feed_dict_tensor, options, run_metadata)\n\u001b[0m\u001b[0;32m   1111\u001b[0m     \u001b[1;32melse\u001b[0m\u001b[1;33m:\u001b[0m\u001b[1;33m\u001b[0m\u001b[0m\n\u001b[0;32m   1112\u001b[0m       \u001b[0mresults\u001b[0m \u001b[1;33m=\u001b[0m \u001b[1;33m[\u001b[0m\u001b[1;33m]\u001b[0m\u001b[1;33m\u001b[0m\u001b[0m\n",
      "\u001b[1;32mc:\\users\\administrator\\appdata\\local\\programs\\python\\python36\\lib\\site-packages\\tensorflow\\python\\client\\session.py\u001b[0m in \u001b[0;36m_do_run\u001b[1;34m(self, handle, target_list, fetch_list, feed_dict, options, run_metadata)\u001b[0m\n\u001b[0;32m   1284\u001b[0m     \u001b[1;32mif\u001b[0m \u001b[0mhandle\u001b[0m \u001b[1;32mis\u001b[0m \u001b[1;32mNone\u001b[0m\u001b[1;33m:\u001b[0m\u001b[1;33m\u001b[0m\u001b[0m\n\u001b[0;32m   1285\u001b[0m       return self._do_call(_run_fn, feeds, fetches, targets, options,\n\u001b[1;32m-> 1286\u001b[1;33m                            run_metadata)\n\u001b[0m\u001b[0;32m   1287\u001b[0m     \u001b[1;32melse\u001b[0m\u001b[1;33m:\u001b[0m\u001b[1;33m\u001b[0m\u001b[0m\n\u001b[0;32m   1288\u001b[0m       \u001b[1;32mreturn\u001b[0m \u001b[0mself\u001b[0m\u001b[1;33m.\u001b[0m\u001b[0m_do_call\u001b[0m\u001b[1;33m(\u001b[0m\u001b[0m_prun_fn\u001b[0m\u001b[1;33m,\u001b[0m \u001b[0mhandle\u001b[0m\u001b[1;33m,\u001b[0m \u001b[0mfeeds\u001b[0m\u001b[1;33m,\u001b[0m \u001b[0mfetches\u001b[0m\u001b[1;33m)\u001b[0m\u001b[1;33m\u001b[0m\u001b[0m\n",
      "\u001b[1;32mc:\\users\\administrator\\appdata\\local\\programs\\python\\python36\\lib\\site-packages\\tensorflow\\python\\client\\session.py\u001b[0m in \u001b[0;36m_do_call\u001b[1;34m(self, fn, *args)\u001b[0m\n\u001b[0;32m   1290\u001b[0m   \u001b[1;32mdef\u001b[0m \u001b[0m_do_call\u001b[0m\u001b[1;33m(\u001b[0m\u001b[0mself\u001b[0m\u001b[1;33m,\u001b[0m \u001b[0mfn\u001b[0m\u001b[1;33m,\u001b[0m \u001b[1;33m*\u001b[0m\u001b[0margs\u001b[0m\u001b[1;33m)\u001b[0m\u001b[1;33m:\u001b[0m\u001b[1;33m\u001b[0m\u001b[0m\n\u001b[0;32m   1291\u001b[0m     \u001b[1;32mtry\u001b[0m\u001b[1;33m:\u001b[0m\u001b[1;33m\u001b[0m\u001b[0m\n\u001b[1;32m-> 1292\u001b[1;33m       \u001b[1;32mreturn\u001b[0m \u001b[0mfn\u001b[0m\u001b[1;33m(\u001b[0m\u001b[1;33m*\u001b[0m\u001b[0margs\u001b[0m\u001b[1;33m)\u001b[0m\u001b[1;33m\u001b[0m\u001b[0m\n\u001b[0m\u001b[0;32m   1293\u001b[0m     \u001b[1;32mexcept\u001b[0m \u001b[0merrors\u001b[0m\u001b[1;33m.\u001b[0m\u001b[0mOpError\u001b[0m \u001b[1;32mas\u001b[0m \u001b[0me\u001b[0m\u001b[1;33m:\u001b[0m\u001b[1;33m\u001b[0m\u001b[0m\n\u001b[0;32m   1294\u001b[0m       \u001b[0mmessage\u001b[0m \u001b[1;33m=\u001b[0m \u001b[0mcompat\u001b[0m\u001b[1;33m.\u001b[0m\u001b[0mas_text\u001b[0m\u001b[1;33m(\u001b[0m\u001b[0me\u001b[0m\u001b[1;33m.\u001b[0m\u001b[0mmessage\u001b[0m\u001b[1;33m)\u001b[0m\u001b[1;33m\u001b[0m\u001b[0m\n",
      "\u001b[1;32mc:\\users\\administrator\\appdata\\local\\programs\\python\\python36\\lib\\site-packages\\tensorflow\\python\\client\\session.py\u001b[0m in \u001b[0;36m_run_fn\u001b[1;34m(feed_dict, fetch_list, target_list, options, run_metadata)\u001b[0m\n\u001b[0;32m   1275\u001b[0m       \u001b[0mself\u001b[0m\u001b[1;33m.\u001b[0m\u001b[0m_extend_graph\u001b[0m\u001b[1;33m(\u001b[0m\u001b[1;33m)\u001b[0m\u001b[1;33m\u001b[0m\u001b[0m\n\u001b[0;32m   1276\u001b[0m       return self._call_tf_sessionrun(\n\u001b[1;32m-> 1277\u001b[1;33m           options, feed_dict, fetch_list, target_list, run_metadata)\n\u001b[0m\u001b[0;32m   1278\u001b[0m \u001b[1;33m\u001b[0m\u001b[0m\n\u001b[0;32m   1279\u001b[0m     \u001b[1;32mdef\u001b[0m \u001b[0m_prun_fn\u001b[0m\u001b[1;33m(\u001b[0m\u001b[0mhandle\u001b[0m\u001b[1;33m,\u001b[0m \u001b[0mfeed_dict\u001b[0m\u001b[1;33m,\u001b[0m \u001b[0mfetch_list\u001b[0m\u001b[1;33m)\u001b[0m\u001b[1;33m:\u001b[0m\u001b[1;33m\u001b[0m\u001b[0m\n",
      "\u001b[1;32mc:\\users\\administrator\\appdata\\local\\programs\\python\\python36\\lib\\site-packages\\tensorflow\\python\\client\\session.py\u001b[0m in \u001b[0;36m_call_tf_sessionrun\u001b[1;34m(self, options, feed_dict, fetch_list, target_list, run_metadata)\u001b[0m\n\u001b[0;32m   1365\u001b[0m     return tf_session.TF_SessionRun_wrapper(\n\u001b[0;32m   1366\u001b[0m         \u001b[0mself\u001b[0m\u001b[1;33m.\u001b[0m\u001b[0m_session\u001b[0m\u001b[1;33m,\u001b[0m \u001b[0moptions\u001b[0m\u001b[1;33m,\u001b[0m \u001b[0mfeed_dict\u001b[0m\u001b[1;33m,\u001b[0m \u001b[0mfetch_list\u001b[0m\u001b[1;33m,\u001b[0m \u001b[0mtarget_list\u001b[0m\u001b[1;33m,\u001b[0m\u001b[1;33m\u001b[0m\u001b[0m\n\u001b[1;32m-> 1367\u001b[1;33m         run_metadata)\n\u001b[0m\u001b[0;32m   1368\u001b[0m \u001b[1;33m\u001b[0m\u001b[0m\n\u001b[0;32m   1369\u001b[0m   \u001b[1;32mdef\u001b[0m \u001b[0m_call_tf_sessionprun\u001b[0m\u001b[1;33m(\u001b[0m\u001b[0mself\u001b[0m\u001b[1;33m,\u001b[0m \u001b[0mhandle\u001b[0m\u001b[1;33m,\u001b[0m \u001b[0mfeed_dict\u001b[0m\u001b[1;33m,\u001b[0m \u001b[0mfetch_list\u001b[0m\u001b[1;33m)\u001b[0m\u001b[1;33m:\u001b[0m\u001b[1;33m\u001b[0m\u001b[0m\n",
      "\u001b[1;31mKeyboardInterrupt\u001b[0m: "
     ]
    }
   ],
   "source": [
    "#  五、 执行训练模型\n",
    "BATCH_SIZE = 100\n",
    "TRAINING_STEPS = 3000\n",
    "\n",
    "\n",
    "with tf.Session() as sess:\n",
    "    sess.run(tf.global_variables_initializer())\n",
    "    \n",
    "    for i in range(TRAINING_STEPS):\n",
    "        start = (i * BATCH_SIZE) % trainX.shape[0]\n",
    "        end = min(start + BATCH_SIZE, trainX.shape[0])\n",
    "        xs, ys = trainX[start:end], trainY_dummy[start:end]\n",
    "        l, _, step = sess.run([loss, optimizer, global_step], feed_dict={x:xs, y:ys})\n",
    "        if i % 50 == 0:\n",
    "            print(\"After %s training steps, loss on training batch is :   %s \" % (step, l))          \n",
    "            acc = sess.run([accuracy], feed_dict={x:testX, y:testY_dummy})\n",
    "            print(\"After %s training steps, accuracy on test data is :   %s \" % (step, acc))\n",
    "            print(\"strat:\",start)\n",
    "            print(\"\\n\\n\")\n",
    "    \n"
   ]
  },
  {
   "cell_type": "code",
   "execution_count": null,
   "metadata": {},
   "outputs": [],
   "source": []
  },
  {
   "cell_type": "code",
   "execution_count": 64,
   "metadata": {},
   "outputs": [],
   "source": [
    "from tensorflow.examples.tutorials.mnist import input_data\n",
    "mnist = input_data.read_data_sets(\"/tmp/data\", one_hot=True)"
   ]
  },
  {
   "cell_type": "code",
   "execution_count": 66,
   "metadata": {},
   "outputs": [
    {
     "name": "stdout",
     "output_type": "stream",
     "text": [
      "Extracting /tmp/data\\train-images-idx3-ubyte.gz\n",
      "Extracting /tmp/data\\train-labels-idx1-ubyte.gz\n",
      "Extracting /tmp/data\\t10k-images-idx3-ubyte.gz\n",
      "Extracting /tmp/data\\t10k-labels-idx1-ubyte.gz\n"
     ]
    }
   ],
   "source": [
    "mnist = input_data.read_data_sets(\"/tmp/data\", one_hot=True)"
   ]
  },
  {
   "cell_type": "code",
   "execution_count": 73,
   "metadata": {},
   "outputs": [
    {
     "data": {
      "text/plain": [
       "(55000, 784)"
      ]
     },
     "execution_count": 73,
     "metadata": {},
     "output_type": "execute_result"
    }
   ],
   "source": [
    "mnist.train.images.shape"
   ]
  },
  {
   "cell_type": "code",
   "execution_count": 74,
   "metadata": {},
   "outputs": [
    {
     "data": {
      "text/plain": [
       "(55000, 10)"
      ]
     },
     "execution_count": 74,
     "metadata": {},
     "output_type": "execute_result"
    }
   ],
   "source": [
    "mnist.train.labels.shape"
   ]
  },
  {
   "cell_type": "code",
   "execution_count": 76,
   "metadata": {},
   "outputs": [
    {
     "data": {
      "text/plain": [
       "(10000, 784)"
      ]
     },
     "execution_count": 76,
     "metadata": {},
     "output_type": "execute_result"
    }
   ],
   "source": [
    "mnist.test.images.shape"
   ]
  },
  {
   "cell_type": "code",
   "execution_count": 75,
   "metadata": {},
   "outputs": [
    {
     "data": {
      "text/plain": [
       "(10000, 10)"
      ]
     },
     "execution_count": 75,
     "metadata": {},
     "output_type": "execute_result"
    }
   ],
   "source": [
    "mnist.test.labels.shape"
   ]
  },
  {
   "cell_type": "code",
   "execution_count": 85,
   "metadata": {},
   "outputs": [
    {
     "data": {
      "text/plain": [
       "array([[0., 0., 0., ..., 0., 0., 0.],\n",
       "       [0., 0., 0., ..., 0., 0., 0.],\n",
       "       [0., 0., 0., ..., 0., 0., 0.]], dtype=float32)"
      ]
     },
     "execution_count": 85,
     "metadata": {},
     "output_type": "execute_result"
    }
   ],
   "source": [
    "mnist.train.images[:3]"
   ]
  },
  {
   "cell_type": "code",
   "execution_count": 88,
   "metadata": {},
   "outputs": [
    {
     "data": {
      "text/plain": [
       "1625"
      ]
     },
     "execution_count": 88,
     "metadata": {},
     "output_type": "execute_result"
    }
   ],
   "source": [
    "z = trainX[:3] == mnist.train.images[:3]\n",
    "z.sum()"
   ]
  },
  {
   "cell_type": "code",
   "execution_count": 89,
   "metadata": {},
   "outputs": [
    {
     "data": {
      "text/plain": [
       "2352"
      ]
     },
     "execution_count": 89,
     "metadata": {},
     "output_type": "execute_result"
    }
   ],
   "source": [
    "28*28*3"
   ]
  },
  {
   "cell_type": "code",
   "execution_count": 91,
   "metadata": {},
   "outputs": [
    {
     "data": {
      "text/plain": [
       "(784,)"
      ]
     },
     "execution_count": 91,
     "metadata": {},
     "output_type": "execute_result"
    }
   ],
   "source": [
    "trainX[0].shape"
   ]
  },
  {
   "cell_type": "code",
   "execution_count": 92,
   "metadata": {},
   "outputs": [
    {
     "data": {
      "text/plain": [
       "(784,)"
      ]
     },
     "execution_count": 92,
     "metadata": {},
     "output_type": "execute_result"
    }
   ],
   "source": [
    "mnist.train.images[0].shape"
   ]
  },
  {
   "cell_type": "code",
   "execution_count": 104,
   "metadata": {},
   "outputs": [
    {
     "data": {
      "text/plain": [
       "array([5, 0, 4, 1, 9, 2, 1, 3, 1, 4], dtype=uint8)"
      ]
     },
     "execution_count": 104,
     "metadata": {},
     "output_type": "execute_result"
    }
   ],
   "source": [
    "trainY[:10]"
   ]
  },
  {
   "cell_type": "code",
   "execution_count": 115,
   "metadata": {},
   "outputs": [
    {
     "data": {
      "text/plain": [
       "array([[0, 0, 0, 0, 0, 0, 0, 0, 0, 1],\n",
       "       [0, 0, 1, 0, 0, 0, 0, 0, 0, 0],\n",
       "       [0, 0, 0, 0, 0, 0, 0, 0, 0, 1],\n",
       "       [0, 0, 0, 0, 0, 1, 0, 0, 0, 0],\n",
       "       [0, 1, 0, 0, 0, 0, 0, 0, 0, 0],\n",
       "       [0, 0, 0, 0, 0, 0, 0, 0, 1, 0],\n",
       "       [0, 0, 0, 1, 0, 0, 0, 0, 0, 0],\n",
       "       [0, 0, 0, 0, 0, 1, 0, 0, 0, 0],\n",
       "       [0, 0, 0, 0, 0, 0, 1, 0, 0, 0],\n",
       "       [0, 0, 0, 0, 0, 0, 0, 0, 1, 0]], dtype=uint8)"
      ]
     },
     "execution_count": 115,
     "metadata": {},
     "output_type": "execute_result"
    }
   ],
   "source": [
    "trainY_dummy[-10:]"
   ]
  },
  {
   "cell_type": "code",
   "execution_count": 100,
   "metadata": {},
   "outputs": [
    {
     "data": {
      "text/plain": [
       "array([[0., 0., 0., 0., 0., 0., 0., 1., 0., 0.],\n",
       "       [0., 0., 0., 1., 0., 0., 0., 0., 0., 0.],\n",
       "       [0., 0., 0., 0., 1., 0., 0., 0., 0., 0.],\n",
       "       [0., 0., 0., 0., 0., 0., 1., 0., 0., 0.],\n",
       "       [0., 1., 0., 0., 0., 0., 0., 0., 0., 0.],\n",
       "       [0., 0., 0., 0., 0., 0., 0., 0., 1., 0.],\n",
       "       [0., 1., 0., 0., 0., 0., 0., 0., 0., 0.],\n",
       "       [1., 0., 0., 0., 0., 0., 0., 0., 0., 0.],\n",
       "       [0., 0., 0., 0., 0., 0., 0., 0., 0., 1.],\n",
       "       [0., 0., 0., 0., 0., 0., 0., 0., 1., 0.]])"
      ]
     },
     "execution_count": 100,
     "metadata": {},
     "output_type": "execute_result"
    }
   ],
   "source": [
    "mnist.train.labels[:10]"
   ]
  },
  {
   "cell_type": "code",
   "execution_count": 116,
   "metadata": {},
   "outputs": [
    {
     "data": {
      "text/plain": [
       "<matplotlib.image.AxesImage at 0x1908aa39438>"
      ]
     },
     "execution_count": 116,
     "metadata": {},
     "output_type": "execute_result"
    },
    {
     "data": {
      "image/png": "[encoded data removed]",
      "text/plain": [
       "<Figure size 432x288 with 1 Axes>"
      ]
     },
     "metadata": {
      "needs_background": "light"
     },
     "output_type": "display_data"
    }
   ],
   "source": [
    "plt.imshow(trainX[-2].reshape(28, 28))"
   ]
  },
  {
   "cell_type": "code",
   "execution_count": 101,
   "metadata": {
    "scrolled": true
   },
   "outputs": [
    {
     "data": {
      "text/plain": [
       "<matplotlib.image.AxesImage at 0x1908a7d2550>"
      ]
     },
     "execution_count": 101,
     "metadata": {},
     "output_type": "execute_result"
    },
    {
     "data": {
      "image/png": "[encoded data removed]",
      "text/plain": [
       "<Figure size 432x288 with 1 Axes>"
      ]
     },
     "metadata": {
      "needs_background": "light"
     },
     "output_type": "display_data"
    }
   ],
   "source": [
    "plt.imshow(mnist.train.images[0].reshape(28, 28))"
   ]
  },
  {
   "cell_type": "code",
   "execution_count": null,
   "metadata": {},
   "outputs": [],
   "source": []
  },
  {
   "cell_type": "code",
   "execution_count": null,
   "metadata": {},
   "outputs": [],
   "source": []
  },
  {
   "cell_type": "code",
   "execution_count": 72,
   "metadata": {},
   "outputs": [
    {
     "data": {
      "text/plain": [
       "5000.0"
      ]
     },
     "execution_count": 72,
     "metadata": {},
     "output_type": "execute_result"
    }
   ],
   "source": [
    "3000000/600"
   ]
  },
  {
   "cell_type": "code",
   "execution_count": 75,
   "metadata": {},
   "outputs": [
    {
     "data": {
      "text/plain": [
       "0.4840048537100291"
      ]
     },
     "execution_count": 75,
     "metadata": {},
     "output_type": "execute_result"
    }
   ],
   "source": [
    "0.8*(0.99**50)"
   ]
  },
  {
   "cell_type": "code",
   "execution_count": 82,
   "metadata": {},
   "outputs": [],
   "source": [
    "x = np.linspace(0, 1000, 1000)\n",
    "y = (1+x) / (10+x)"
   ]
  },
  {
   "cell_type": "code",
   "execution_count": 83,
   "metadata": {},
   "outputs": [
    {
     "data": {
      "text/plain": [
       "[<matplotlib.lines.Line2D at 0x18bee0bc4a8>]"
      ]
     },
     "execution_count": 83,
     "metadata": {},
     "output_type": "execute_result"
    },
    {
     "data": {
      "image/png": "[encoded data removed]",
      "text/plain": [
       "<Figure size 432x288 with 1 Axes>"
      ]
     },
     "metadata": {
      "needs_background": "light"
     },
     "output_type": "display_data"
    }
   ],
   "source": [
    "# plt.x\n",
    "plt.plot(x, y, \"r:\")"
   ]
  },
  {
   "cell_type": "code",
   "execution_count": 92,
   "metadata": {},
   "outputs": [
    {
     "data": {
      "text/plain": [
       "array([0.1       , 0.18189263, 0.2501251 , 0.30785219, 0.35732666,\n",
       "       0.40020013, 0.43771107, 0.47080636, 0.50022235, 0.52654028,\n",
       "       0.55022511, 0.57165317, 0.59113233, 0.60891692, 0.62521884,\n",
       "       0.64021609, 0.65405925, 0.66687662, 0.67877814, 0.68985857,\n",
       "       0.70020007, 0.70987415, 0.71894342, 0.72746287, 0.73548102,\n",
       "       0.74304087, 0.75018061, 0.75693431, 0.76333246, 0.76940241,\n",
       "       0.77516879, 0.78065382, 0.78587759, 0.79085834, 0.79561264,\n",
       "       0.80015559, 0.80450098, 0.80866142, 0.81264847, 0.81647275,\n",
       "       0.82014403, 0.82367131, 0.8270629 , 0.83032648, 0.83346916,\n",
       "       0.83649755, 0.83941775, 0.84223548, 0.84495603, 0.84758434,\n",
       "       0.85012502, 0.85258239, 0.85496048, 0.85726306, 0.85949367,\n",
       "       0.86165564, 0.86375208, 0.86578594, 0.86775996, 0.86967676,\n",
       "       0.87153879, 0.87334836, 0.87510765, 0.87681874, 0.87848358,\n",
       "       0.88010401, 0.8816818 , 0.8832186 , 0.88471599, 0.88617547,\n",
       "       0.88759845, 0.88898629, 0.89034029, 0.89166165, 0.89295154,\n",
       "       0.89421108, 0.89544133, 0.89664329, 0.89781793, 0.89896618,\n",
       "       0.9000889 , 0.90118694, 0.90226112, 0.90331218, 0.90434089,\n",
       "       0.90534793, 0.90633399, 0.90729972, 0.90824574, 0.90917264,\n",
       "       0.91008101, 0.91097138, 0.9118443 , 0.91270026, 0.91353976,\n",
       "       0.91436327, 0.91517124, 0.91596411, 0.91674229, 0.91750619,\n",
       "       0.91825621, 0.9189927 , 0.91971605, 0.92042659, 0.92112466,\n",
       "       0.92181059, 0.9224847 , 0.92314728, 0.92379863, 0.92443903,\n",
       "       0.92506876, 0.92568807, 0.92629724, 0.9268965 , 0.92748609,\n",
       "       0.92806625, 0.92863719, 0.92919915, 0.92975232, 0.93029692,\n",
       "       0.93083314, 0.93136117, 0.9318812 , 0.93239341, 0.93289798,\n",
       "       0.93339507, 0.93388484, 0.93436747, 0.9348431 , 0.93531189,\n",
       "       0.93577398, 0.93622952, 0.93667864, 0.93712148, 0.93755816,\n",
       "       0.93798883, 0.93841359, 0.93883257, 0.93924589, 0.93965367,\n",
       "       0.940056  , 0.94045301, 0.94084479, 0.94123145, 0.94161309,\n",
       "       0.94198981, 0.94236169, 0.94272884, 0.94309133, 0.94344927,\n",
       "       0.94380274, 0.94415181, 0.94449657, 0.94483711, 0.94517349,\n",
       "       0.94550579, 0.94583409, 0.94615845, 0.94647896, 0.94679567,\n",
       "       0.94710865, 0.94741798, 0.9477237 , 0.9480259 , 0.94832462,\n",
       "       0.94861992, 0.94891187, 0.94920052, 0.94948593, 0.94976814,\n",
       "       0.95004722, 0.95032322, 0.95059619, 0.95086617, 0.95113321,\n",
       "       0.95139737, 0.95165869, 0.95191721, 0.95217299, 0.95242605,\n",
       "       0.95267646, 0.95292424, 0.95316944, 0.95341209, 0.95365225,\n",
       "       0.95388994, 0.95412521, 0.95435809, 0.95458862, 0.95481682,\n",
       "       0.95504275, 0.95526643, 0.9554879 , 0.95570718, 0.95592431,\n",
       "       0.95613932, 0.95635225, 0.95656312, 0.95677196, 0.9569788 ,\n",
       "       0.95718368, 0.95738661, 0.95758762, 0.95778675, 0.95798402,\n",
       "       0.95817945, 0.95837307, 0.95856491, 0.95875499, 0.95894333,\n",
       "       0.95912996, 0.9593149 , 0.95949818, 0.95967981, 0.95985982,\n",
       "       0.96003822, 0.96021505, 0.96039033, 0.96056406, 0.96073628,\n",
       "       0.960907  , 0.96107624, 0.96124402, 0.96141036, 0.96157528,\n",
       "       0.9617388 , 0.96190093, 0.96206169, 0.9622211 , 0.96237918,\n",
       "       0.96253594, 0.9626914 , 0.96284557, 0.96299848, 0.96315013,\n",
       "       0.96330054, 0.96344973, 0.96359772, 0.96374451, 0.96389012,\n",
       "       0.96403456, 0.96417786, 0.96432001, 0.96446105, 0.96460097,\n",
       "       0.96473979, 0.96487753, 0.9650142 , 0.96514981, 0.96528437,\n",
       "       0.9654179 , 0.9655504 , 0.9656819 , 0.96581239, 0.96594189,\n",
       "       0.96607042, 0.96619798, 0.96632458, 0.96645024, 0.96657497,\n",
       "       0.96669877, 0.96682165, 0.96694364, 0.96706473, 0.96718493,\n",
       "       0.96730427, 0.96742273, 0.96754034, 0.96765711, 0.96777304,\n",
       "       0.96788814, 0.96800242, 0.96811589, 0.96822856, 0.96834043,\n",
       "       0.96845152, 0.96856184, 0.96867138, 0.96878017, 0.9688882 ,\n",
       "       0.96899548, 0.96910203, 0.96920785, 0.96931295, 0.96941733,\n",
       "       0.969521  , 0.96962397, 0.96972625, 0.96982785, 0.96992876,\n",
       "       0.970029  , 0.97012858, 0.97022749, 0.97032575, 0.97042337,\n",
       "       0.97052034, 0.97061669, 0.9707124 , 0.97080749, 0.97090197,\n",
       "       0.97099584, 0.9710891 , 0.97118177, 0.97127384, 0.97136533,\n",
       "       0.97145624, 0.97154657, 0.97163633, 0.97172553, 0.97181416,\n",
       "       0.97190225, 0.97198978, 0.97207677, 0.97216322, 0.97224914,\n",
       "       0.97233453, 0.9724194 , 0.97250375, 0.97258758, 0.9726709 ,\n",
       "       0.97275372, 0.97283604, 0.97291786, 0.97299919, 0.97308003,\n",
       "       0.97316039, 0.97324028, 0.97331968, 0.97339862, 0.97347709,\n",
       "       0.9735551 , 0.97363266, 0.97370976, 0.97378641, 0.97386261,\n",
       "       0.97393838, 0.9740137 , 0.97408859, 0.97416305, 0.97423708,\n",
       "       0.97431069, 0.97438389, 0.97445666, 0.97452902, 0.97460098,\n",
       "       0.97467253, 0.97474367, 0.97481442, 0.97488477, 0.97495473,\n",
       "       0.97502431, 0.97509349, 0.9751623 , 0.97523072, 0.97529877,\n",
       "       0.97536645, 0.97543376, 0.97550069, 0.97556727, 0.97563349,\n",
       "       0.97569934, 0.97576485, 0.97583   , 0.9758948 , 0.97595925,\n",
       "       0.97602336, 0.97608713, 0.97615056, 0.97621366, 0.97627642,\n",
       "       0.97633885, 0.97640096, 0.97646273, 0.97652419, 0.97658533,\n",
       "       0.97664615, 0.97670665, 0.97676684, 0.97682672, 0.9768863 ,\n",
       "       0.97694556, 0.97700453, 0.97706319, 0.97712156, 0.97717962,\n",
       "       0.9772374 , 0.97729488, 0.97735207, 0.97740898, 0.9774656 ,\n",
       "       0.97752194, 0.97757799, 0.97763377, 0.97768927, 0.9777445 ,\n",
       "       0.97779945, 0.97785413, 0.97790855, 0.9779627 , 0.97801658,\n",
       "       0.9780702 , 0.97812356, 0.97817665, 0.9782295 , 0.97828208,\n",
       "       0.97833442, 0.9783865 , 0.97843833, 0.97848992, 0.97854125,\n",
       "       0.97859235, 0.9786432 , 0.97869381, 0.97874418, 0.97879431,\n",
       "       0.97884421, 0.97889387, 0.9789433 , 0.9789925 , 0.97904147,\n",
       "       0.97909021, 0.97913873, 0.97918702, 0.97923509, 0.97928293,\n",
       "       0.97933056, 0.97937797, 0.97942516, 0.97947213, 0.9795189 ,\n",
       "       0.97956544, 0.97961178, 0.97965791, 0.97970383, 0.97974954,\n",
       "       0.97979505, 0.97984036, 0.97988546, 0.97993036, 0.97997506,\n",
       "       0.98001956, 0.98006386, 0.98010797, 0.98015188, 0.9801956 ,\n",
       "       0.98023913, 0.98028246, 0.98032561, 0.98036857, 0.98041134,\n",
       "       0.98045392, 0.98049632, 0.98053854, 0.98058057, 0.98062243,\n",
       "       0.9806641 , 0.98070559, 0.98074691, 0.98078805, 0.98082902,\n",
       "       0.98086981, 0.98091042, 0.98095087, 0.98099114, 0.98103125,\n",
       "       0.98107118, 0.98111095, 0.98115055, 0.98118998, 0.98122925,\n",
       "       0.98126836, 0.9813073 , 0.98134609, 0.98138471, 0.98142317,\n",
       "       0.98146147, 0.98149962, 0.98153761, 0.98157544, 0.98161312,\n",
       "       0.98165065, 0.98168802, 0.98172524, 0.98176231, 0.98179923,\n",
       "       0.981836  , 0.98187262, 0.98190909, 0.98194542, 0.9819816 ,\n",
       "       0.98201764, 0.98205353, 0.98208928, 0.98212489, 0.98216036,\n",
       "       0.98219569, 0.98223087, 0.98226592, 0.98230083, 0.98233561,\n",
       "       0.98237024, 0.98240474, 0.98243911, 0.98247334, 0.98250744,\n",
       "       0.98254141, 0.98257524, 0.98260895, 0.98264252, 0.98267597,\n",
       "       0.98270928, 0.98274247, 0.98277553, 0.98280847, 0.98284128,\n",
       "       0.98287396, 0.98290652, 0.98293896, 0.98297127, 0.98300346,\n",
       "       0.98303553, 0.98306748, 0.98309931, 0.98313102, 0.98316261,\n",
       "       0.98319408, 0.98322543, 0.98325667, 0.98328779, 0.9833188 ,\n",
       "       0.98334969, 0.98338047, 0.98341113, 0.98344168, 0.98347212,\n",
       "       0.98350245, 0.98353267, 0.98356277, 0.98359277, 0.98362265,\n",
       "       0.98365243, 0.9836821 , 0.98371166, 0.98374112, 0.98377047,\n",
       "       0.98379971, 0.98382885, 0.98385788, 0.98388681, 0.98391563,\n",
       "       0.98394436, 0.98397298, 0.98400149, 0.98402991, 0.98405823,\n",
       "       0.98408644, 0.98411456, 0.98414258, 0.9841705 , 0.98419832,\n",
       "       0.98422604, 0.98425366, 0.98428119, 0.98430863, 0.98433596,\n",
       "       0.98436321, 0.98439035, 0.98441741, 0.98444437, 0.98447123,\n",
       "       0.98449801, 0.98452469, 0.98455128, 0.98457778, 0.98460419,\n",
       "       0.98463051, 0.98465673, 0.98468287, 0.98470892, 0.98473489,\n",
       "       0.98476076, 0.98478654, 0.98481224, 0.98483786, 0.98486338,\n",
       "       0.98488882, 0.98491418, 0.98493945, 0.98496463, 0.98498973,\n",
       "       0.98501475, 0.98503968, 0.98506454, 0.9850893 , 0.98511399,\n",
       "       0.9851386 , 0.98516312, 0.98518756, 0.98521193, 0.98523621,\n",
       "       0.98526041, 0.98528454, 0.98530858, 0.98533255, 0.98535644,\n",
       "       0.98538025, 0.98540398, 0.98542764, 0.98545122, 0.98547472,\n",
       "       0.98549815, 0.98552151, 0.98554478, 0.98556799, 0.98559112,\n",
       "       0.98561417, 0.98563715, 0.98566006, 0.98568289, 0.98570566,\n",
       "       0.98572834, 0.98575096, 0.98577351, 0.98579598, 0.98581839,\n",
       "       0.98584072, 0.98586299, 0.98588518, 0.9859073 , 0.98592936,\n",
       "       0.98595134, 0.98597326, 0.98599511, 0.98601689, 0.9860386 ,\n",
       "       0.98606025, 0.98608183, 0.98610334, 0.98612479, 0.98614617,\n",
       "       0.98616748, 0.98618873, 0.98620991, 0.98623103, 0.98625208,\n",
       "       0.98627307, 0.986294  , 0.98631486, 0.98633566, 0.98635639,\n",
       "       0.98637707, 0.98639768, 0.98641822, 0.98643871, 0.98645913,\n",
       "       0.9864795 , 0.9864998 , 0.98652004, 0.98654022, 0.98656034,\n",
       "       0.9865804 , 0.9866004 , 0.98662034, 0.98664022, 0.98666004,\n",
       "       0.9866798 , 0.98669951, 0.98671915, 0.98673874, 0.98675827,\n",
       "       0.98677775, 0.98679716, 0.98681652, 0.98683582, 0.98685507,\n",
       "       0.98687426, 0.98689339, 0.98691247, 0.9869315 , 0.98695046,\n",
       "       0.98696938, 0.98698823, 0.98700704, 0.98702579, 0.98704448,\n",
       "       0.98706312, 0.98708171, 0.98710025, 0.98711873, 0.98713716,\n",
       "       0.98715553, 0.98717385, 0.98719213, 0.98721034, 0.98722851,\n",
       "       0.98724663, 0.98726469, 0.98728271, 0.98730067, 0.98731858,\n",
       "       0.98733644, 0.98735425, 0.98737201, 0.98738972, 0.98740739,\n",
       "       0.987425  , 0.98744256, 0.98746008, 0.98747754, 0.98749496,\n",
       "       0.98751233, 0.98752965, 0.98754692, 0.98756414, 0.98758132,\n",
       "       0.98759845, 0.98761553, 0.98763257, 0.98764956, 0.9876665 ,\n",
       "       0.98768339, 0.98770024, 0.98771705, 0.9877338 , 0.98775051,\n",
       "       0.98776718, 0.9877838 , 0.98780038, 0.98781691, 0.98783339,\n",
       "       0.98784984, 0.98786623, 0.98788259, 0.9878989 , 0.98791516,\n",
       "       0.98793138, 0.98794756, 0.98796369, 0.98797979, 0.98799583,\n",
       "       0.98801184, 0.9880278 , 0.98804372, 0.9880596 , 0.98807544,\n",
       "       0.98809123, 0.98810699, 0.9881227 , 0.98813837, 0.98815399,\n",
       "       0.98816958, 0.98818513, 0.98820063, 0.9882161 , 0.98823152,\n",
       "       0.98824691, 0.98826225, 0.98827755, 0.98829282, 0.98830804,\n",
       "       0.98832322, 0.98833837, 0.98835348, 0.98836854, 0.98838357,\n",
       "       0.98839856, 0.98841351, 0.98842842, 0.9884433 , 0.98845813,\n",
       "       0.98847293, 0.98848769, 0.98850241, 0.98851709, 0.98853174,\n",
       "       0.98854635, 0.98856092, 0.98857546, 0.98858996, 0.98860442,\n",
       "       0.98861884, 0.98863323, 0.98864758, 0.9886619 , 0.98867618,\n",
       "       0.98869042, 0.98870463, 0.9887188 , 0.98873294, 0.98874704,\n",
       "       0.98876111, 0.98877514, 0.98878914, 0.9888031 , 0.98881703,\n",
       "       0.98883092, 0.98884477, 0.9888586 , 0.98887239, 0.98888614,\n",
       "       0.98889986, 0.98891355, 0.9889272 , 0.98894082, 0.98895441,\n",
       "       0.98896796, 0.98898148, 0.98899497, 0.98900842, 0.98902184,\n",
       "       0.98903523, 0.98904859, 0.98906191, 0.9890752 , 0.98908846,\n",
       "       0.98910169, 0.98911488, 0.98912804, 0.98914117, 0.98915427,\n",
       "       0.98916734, 0.98918038, 0.98919338, 0.98920635, 0.9892193 ,\n",
       "       0.98923221, 0.98924509, 0.98925794, 0.98927076, 0.98928354,\n",
       "       0.9892963 , 0.98930903, 0.98932173, 0.98933439, 0.98934703,\n",
       "       0.98935964, 0.98937221, 0.98938476, 0.98939728, 0.98940977,\n",
       "       0.98942223, 0.98943466, 0.98944706, 0.98945943, 0.98947177,\n",
       "       0.98948409, 0.98949637, 0.98950863, 0.98952086, 0.98953306,\n",
       "       0.98954523, 0.98955737, 0.98956948, 0.98958157, 0.98959363,\n",
       "       0.98960566, 0.98961766, 0.98962964, 0.98964159, 0.98965351,\n",
       "       0.9896654 , 0.98967726, 0.9896891 , 0.98970091, 0.9897127 ,\n",
       "       0.98972445, 0.98973618, 0.98974789, 0.98975956, 0.98977121,\n",
       "       0.98978284, 0.98979444, 0.98980601, 0.98981755, 0.98982907,\n",
       "       0.98984056, 0.98985203, 0.98986347, 0.98987489, 0.98988628,\n",
       "       0.98989764, 0.98990898, 0.98992029, 0.98993158, 0.98994284,\n",
       "       0.98995408, 0.98996529, 0.98997648, 0.98998764, 0.98999878,\n",
       "       0.99000989, 0.99002098, 0.99003204, 0.99004308, 0.99005409,\n",
       "       0.99006508, 0.99007605, 0.99008699, 0.99009791, 0.9901088 ,\n",
       "       0.99011967, 0.99013052, 0.99014134, 0.99015214, 0.99016291,\n",
       "       0.99017366, 0.99018439, 0.99019509, 0.99020578, 0.99021643,\n",
       "       0.99022707, 0.99023768, 0.99024827, 0.99025883, 0.99026938,\n",
       "       0.99027989, 0.99029039, 0.99030087, 0.99031132, 0.99032175,\n",
       "       0.99033215, 0.99034254, 0.9903529 , 0.99036324, 0.99037356,\n",
       "       0.99038385, 0.99039413, 0.99040438, 0.99041461, 0.99042482,\n",
       "       0.990435  , 0.99044517, 0.99045531, 0.99046543, 0.99047553,\n",
       "       0.99048561, 0.99049567, 0.99050571, 0.99051572, 0.99052572,\n",
       "       0.99053569, 0.99054564, 0.99055557, 0.99056548, 0.99057537,\n",
       "       0.99058524, 0.99059509, 0.99060492, 0.99061472, 0.99062451,\n",
       "       0.99063428, 0.99064402, 0.99065375, 0.99066345, 0.99067314,\n",
       "       0.99068281, 0.99069245, 0.99070208, 0.99071168, 0.99072127,\n",
       "       0.99073083, 0.99074038, 0.9907499 , 0.99075941, 0.9907689 ,\n",
       "       0.99077837, 0.99078782, 0.99079724, 0.99080665, 0.99081605,\n",
       "       0.99082542, 0.99083477, 0.9908441 , 0.99085342, 0.99086271,\n",
       "       0.99087199, 0.99088125, 0.99089049, 0.99089971, 0.99090891,\n",
       "       0.99091809, 0.99092725, 0.9909364 , 0.99094553, 0.99095464,\n",
       "       0.99096373, 0.9909728 , 0.99098186, 0.99099089, 0.99099991,\n",
       "       0.99100891, 0.99101789, 0.99102686, 0.9910358 , 0.99104473,\n",
       "       0.99105364, 0.99106254, 0.99107141, 0.99108027, 0.99108911])"
      ]
     },
     "execution_count": 92,
     "metadata": {},
     "output_type": "execute_result"
    }
   ],
   "source": [
    "y"
   ]
  },
  {
   "cell_type": "code",
   "execution_count": 125,
   "metadata": {},
   "outputs": [],
   "source": [
    "v1 = tf.Variable(0, dtype=tf.float32)\n",
    "step = tf.Variable(0, trainable=False)\n",
    "ema = tf.train.ExponentialMovingAverage(0.99, step)"
   ]
  },
  {
   "cell_type": "code",
   "execution_count": 126,
   "metadata": {},
   "outputs": [],
   "source": [
    "maintain_averages_op = ema.apply([v1])"
   ]
  },
  {
   "cell_type": "code",
   "execution_count": 151,
   "metadata": {},
   "outputs": [
    {
     "name": "stdout",
     "output_type": "stream",
     "text": [
      "(5, 6)\n"
     ]
    }
   ],
   "source": [
    "# x = tf.get_variable(\"xx\", np.arange(30).reshape(5, 6))\n",
    "x = tf.Variable(np.arange(30).reshape(5, 6))\n",
    "with tf.Session() as sess:\n",
    "    init_op = tf.global_variables_initializer()\n",
    "    sess.run(init_op)\n",
    "    print(x.shape)\n",
    "#     print(sess.run(x.shape))\n",
    "\n",
    "   "
   ]
  },
  {
   "cell_type": "code",
   "execution_count": 141,
   "metadata": {},
   "outputs": [
    {
     "name": "stdout",
     "output_type": "stream",
     "text": [
      "['SaveSliceInfo', '_AsTensor', '_OverloadAllOperators', '_OverloadOperator', '_TensorConversionFunction', '__abs__', '__add__', '__and__', '__array_priority__', '__class__', '__delattr__', '__dict__', '__dir__', '__div__', '__doc__', '__eq__', '__floordiv__', '__format__', '__ge__', '__getattribute__', '__getitem__', '__gt__', '__hash__', '__iadd__', '__idiv__', '__imul__', '__init__', '__init_subclass__', '__invert__', '__ipow__', '__irealdiv__', '__isub__', '__iter__', '__itruediv__', '__le__', '__lt__', '__matmul__', '__mod__', '__module__', '__mul__', '__ne__', '__neg__', '__new__', '__or__', '__pow__', '__radd__', '__rand__', '__rdiv__', '__reduce__', '__reduce_ex__', '__repr__', '__rfloordiv__', '__rmatmul__', '__rmod__', '__rmul__', '__ror__', '__rpow__', '__rsub__', '__rtruediv__', '__rxor__', '__setattr__', '__sizeof__', '__str__', '__sub__', '__subclasshook__', '__truediv__', '__weakref__', '__xor__', '_add_variable_with_custom_getter', '_as_graph_element', '_caching_device', '_checkpoint_dependencies', '_constraint', '_deferred_dependencies', '_find_initialized_value_for_variable', '_gather_saveables_for_checkpoint', '_get_save_slice_info', '_graph_key', '_handle_deferred_dependencies', '_in_graph_mode', '_init_from_args', '_init_from_proto', '_initial_value', '_initializer_op', '_lookup_dependency', '_maybe_initialize_checkpointable', '_name_based_attribute_restore', '_no_dependency', '_preload_simple_restoration', '_ref', '_restore_from_checkpoint_position', '_safe_initial_value_from_op', '_safe_initial_value_from_tensor', '_save_slice_info', '_set_save_slice_info', '_shared_name', '_single_restoration_from_checkpoint_position', '_snapshot', '_strided_slice_assign', '_tf_api_names', '_tf_api_names_v1', '_track_checkpointable', '_trainable', '_try_guard_against_uninitialized_dependencies', '_variable', 'assign', 'assign_add', 'assign_sub', 'constraint', 'count_up_to', 'device', 'dtype', 'eval', 'from_proto', 'get_shape', 'graph', 'initial_value', 'initialized_value', 'initializer', 'load', 'name', 'op', 'read_value', 'scatter_add', 'scatter_nd_add', 'scatter_nd_sub', 'scatter_nd_update', 'scatter_sub', 'scatter_update', 'set_shape', 'shape', 'to_proto', 'trainable', 'value']\n"
     ]
    }
   ],
   "source": [
    "print(dir(x))"
   ]
  },
  {
   "cell_type": "code",
   "execution_count": 152,
   "metadata": {},
   "outputs": [
    {
     "name": "stdout",
     "output_type": "stream",
     "text": [
      "3\n"
     ]
    }
   ],
   "source": [
    "if 3: print(3)"
   ]
  },
  {
   "cell_type": "code",
   "execution_count": 154,
   "metadata": {},
   "outputs": [
    {
     "data": {
      "text/plain": [
       "166.66666666666666"
      ]
     },
     "execution_count": 154,
     "metadata": {},
     "output_type": "execute_result"
    }
   ],
   "source": [
    "600000/60/60"
   ]
  },
  {
   "cell_type": "code",
   "execution_count": 155,
   "metadata": {},
   "outputs": [
    {
     "data": {
      "text/plain": [
       "136718.75"
      ]
     },
     "execution_count": 155,
     "metadata": {},
     "output_type": "execute_result"
    }
   ],
   "source": [
    "50000/128*350"
   ]
  },
  {
   "cell_type": "code",
   "execution_count": null,
   "metadata": {},
   "outputs": [],
   "source": []
  },
  {
   "cell_type": "code",
   "execution_count": 142,
   "metadata": {},
   "outputs": [
    {
     "data": {
      "text/plain": [
       "TensorShape([Dimension(5), Dimension(6)])"
      ]
     },
     "execution_count": 142,
     "metadata": {},
     "output_type": "execute_result"
    }
   ],
   "source": [
    "x.shape"
   ]
  },
  {
   "cell_type": "code",
   "execution_count": null,
   "metadata": {},
   "outputs": [],
   "source": []
  },
  {
   "cell_type": "code",
   "execution_count": 39,
   "metadata": {},
   "outputs": [],
   "source": [
    "a = tf.reduce_sum([1, 2, 3])"
   ]
  },
  {
   "cell_type": "code",
   "execution_count": 68,
   "metadata": {},
   "outputs": [
    {
     "ename": "TypeError",
     "evalue": "run() missing 1 required positional argument: 'fetches'",
     "output_type": "error",
     "traceback": [
      "\u001b[1;31m---------------------------------------------------------------------------\u001b[0m",
      "\u001b[1;31mTypeError\u001b[0m                                 Traceback (most recent call last)",
      "\u001b[1;32m<ipython-input-68-cc5c22f8e318>\u001b[0m in \u001b[0;36m<module>\u001b[1;34m\u001b[0m\n\u001b[0;32m      1\u001b[0m \u001b[1;32mwith\u001b[0m \u001b[0mtf\u001b[0m\u001b[1;33m.\u001b[0m\u001b[0mSession\u001b[0m\u001b[1;33m(\u001b[0m\u001b[1;33m)\u001b[0m \u001b[1;32mas\u001b[0m \u001b[0mx\u001b[0m\u001b[1;33m:\u001b[0m\u001b[1;33m\u001b[0m\u001b[0m\n\u001b[1;32m----> 2\u001b[1;33m     \u001b[0mprint\u001b[0m\u001b[1;33m(\u001b[0m\u001b[0mx\u001b[0m\u001b[1;33m.\u001b[0m\u001b[0mrun\u001b[0m\u001b[1;33m(\u001b[0m\u001b[1;33m)\u001b[0m\u001b[1;33m)\u001b[0m\u001b[1;33m\u001b[0m\u001b[0m\n\u001b[0m",
      "\u001b[1;31mTypeError\u001b[0m: run() missing 1 required positional argument: 'fetches'"
     ]
    }
   ],
   "source": [
    "with tf.Session() as x:\n",
    "    print(x.run())"
   ]
  },
  {
   "cell_type": "code",
   "execution_count": 60,
   "metadata": {},
   "outputs": [
    {
     "data": {
      "text/plain": [
       "[<tf.Variable 'Variable:0' shape=(100,) dtype=int32_ref>,\n",
       " <tf.Variable 'Variable_1:0' shape=(100,) dtype=int32_ref>,\n",
       " <tf.Variable 'Variable_2:0' shape=(100,) dtype=int32_ref>,\n",
       " <tf.Variable 'Variable_3:0' shape=(100,) dtype=int32_ref>,\n",
       " <tf.Variable 'mm:0' shape=(3, 4) dtype=float32_ref>,\n",
       " <tf.Variable 'mm_1:0' shape=(100,) dtype=int32_ref>,\n",
       " <tf.Variable 'mm_2:0' shape=(100,) dtype=int32_ref>,\n",
       " <tf.Variable 'pp:0' shape=(100,) dtype=int32_ref>,\n",
       " <tf.Variable 'pp_1:0' shape=(3, 4) dtype=float32_ref>,\n",
       " <tf.Variable 'ppl:0' shape=(3, 4) dtype=float32_ref>]"
      ]
     },
     "execution_count": 60,
     "metadata": {},
     "output_type": "execute_result"
    }
   ],
   "source": [
    "tf.trainable_variables()"
   ]
  },
  {
   "cell_type": "code",
   "execution_count": 55,
   "metadata": {},
   "outputs": [
    {
     "data": {
      "text/plain": [
       "<tf.Variable 'pp:0' shape=(100,) dtype=int32_ref>"
      ]
     },
     "execution_count": 55,
     "metadata": {},
     "output_type": "execute_result"
    }
   ],
   "source": [
    "a = tf.Variable(np.random.randint(0, 10, 100), name=\"pp\")\n",
    "a"
   ]
  },
  {
   "cell_type": "code",
   "execution_count": 58,
   "metadata": {},
   "outputs": [
    {
     "data": {
      "text/plain": [
       "<tf.Variable 'ppl:0' shape=(3, 4) dtype=float32_ref>"
      ]
     },
     "execution_count": 58,
     "metadata": {},
     "output_type": "execute_result"
    }
   ],
   "source": [
    "tf.get_variable(\"ppl\", (3, 4))"
   ]
  },
  {
   "cell_type": "code",
   "execution_count": 64,
   "metadata": {},
   "outputs": [
    {
     "data": {
      "text/plain": [
       "'trainable_variables'"
      ]
     },
     "execution_count": 64,
     "metadata": {},
     "output_type": "execute_result"
    }
   ],
   "source": [
    "tf.GraphKeys.TRAINABLE_VARIABLES"
   ]
  },
  {
   "cell_type": "code",
   "execution_count": null,
   "metadata": {},
   "outputs": [],
   "source": []
  },
  {
   "cell_type": "code",
   "execution_count": null,
   "metadata": {},
   "outputs": [],
   "source": []
  },
  {
   "cell_type": "code",
   "execution_count": null,
   "metadata": {},
   "outputs": [],
   "source": []
  },
  {
   "cell_type": "code",
   "execution_count": null,
   "metadata": {},
   "outputs": [],
   "source": []
  },
  {
   "cell_type": "code",
   "execution_count": null,
   "metadata": {},
   "outputs": [],
   "source": []
  },
  {
   "cell_type": "code",
   "execution_count": null,
   "metadata": {},
   "outputs": [],
   "source": []
  },
  {
   "cell_type": "code",
   "execution_count": null,
   "metadata": {},
   "outputs": [],
   "source": []
  },
  {
   "cell_type": "code",
   "execution_count": null,
   "metadata": {},
   "outputs": [],
   "source": []
  },
  {
   "cell_type": "code",
   "execution_count": null,
   "metadata": {},
   "outputs": [],
   "source": []
  },
  {
   "cell_type": "code",
   "execution_count": null,
   "metadata": {},
   "outputs": [],
   "source": []
  },
  {
   "cell_type": "code",
   "execution_count": null,
   "metadata": {},
   "outputs": [],
   "source": []
  },
  {
   "cell_type": "code",
   "execution_count": null,
   "metadata": {},
   "outputs": [],
   "source": []
  },
  {
   "cell_type": "code",
   "execution_count": null,
   "metadata": {},
   "outputs": [],
   "source": []
  },
  {
   "cell_type": "code",
   "execution_count": null,
   "metadata": {},
   "outputs": [],
   "source": []
  },
  {
   "cell_type": "code",
   "execution_count": null,
   "metadata": {},
   "outputs": [],
   "source": []
  },
  {
   "cell_type": "code",
   "execution_count": null,
   "metadata": {},
   "outputs": [],
   "source": []
  },
  {
   "cell_type": "code",
   "execution_count": null,
   "metadata": {},
   "outputs": [],
   "source": []
  },
  {
   "cell_type": "code",
   "execution_count": null,
   "metadata": {},
   "outputs": [],
   "source": []
  },
  {
   "cell_type": "code",
   "execution_count": null,
   "metadata": {},
   "outputs": [],
   "source": []
  },
  {
   "cell_type": "code",
   "execution_count": null,
   "metadata": {},
   "outputs": [],
   "source": []
  },
  {
   "cell_type": "code",
   "execution_count": null,
   "metadata": {},
   "outputs": [],
   "source": []
  },
  {
   "cell_type": "code",
   "execution_count": null,
   "metadata": {},
   "outputs": [],
   "source": []
  },
  {
   "cell_type": "code",
   "execution_count": null,
   "metadata": {},
   "outputs": [],
   "source": []
  }
 ],
 "metadata": {
  "kernelspec": {
   "display_name": "Python 3",
   "language": "python",
   "name": "python3"
  },
  "language_info": {
   "codemirror_mode": {
    "name": "ipython",
    "version": 3
   },
   "file_extension": ".py",
   "mimetype": "text/x-python",
   "name": "python",
   "nbconvert_exporter": "python",
   "pygments_lexer": "ipython3",
   "version": "3.6.0"
  }
 },
 "nbformat": 4,
 "nbformat_minor": 2
}
