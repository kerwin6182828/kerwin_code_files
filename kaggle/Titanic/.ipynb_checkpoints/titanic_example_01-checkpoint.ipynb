{
 "cells": [
  {
   "cell_type": "code",
   "execution_count": 1,
   "metadata": {},
   "outputs": [],
   "source": [
    "import matplotlib.pyplot as plt\n",
    "import numpy as np\n",
    "import pandas as pd\n",
    "import tensorflow as tf\n",
    "import sklearn\n",
    "import cv2\n",
    "import math\n",
    "from PIL import Image\n",
    "%matplotlib notebook"
   ]
  },
  {
   "cell_type": "code",
   "execution_count": 2,
   "metadata": {},
   "outputs": [],
   "source": [
    "import warnings\n",
    "warnings.filterwarnings(\"ignore\")"
   ]
  },
  {
   "cell_type": "code",
   "execution_count": 3,
   "metadata": {},
   "outputs": [],
   "source": [
    "# 一. 数据读取, 数据大致浏览, label分布观察"
   ]
  },
  {
   "cell_type": "code",
   "execution_count": 240,
   "metadata": {},
   "outputs": [
    {
     "name": "stdout",
     "output_type": "stream",
     "text": [
      "(891, 11)\n",
      "(418, 10)\n"
     ]
    }
   ],
   "source": [
    "# 数据读取\n",
    "TrainData = pd.read_csv('train.csv', index_col=0)\n",
    "TestData = pd.read_csv('test.csv', index_col=0)\n",
    "print(TrainData.shape)\n",
    "print(TestData.shape)"
   ]
  },
  {
   "cell_type": "code",
   "execution_count": 241,
   "metadata": {},
   "outputs": [
    {
     "data": {
      "text/html": [
       "<div>\n",
       "<style scoped>\n",
       "    .dataframe tbody tr th:only-of-type {\n",
       "        vertical-align: middle;\n",
       "    }\n",
       "\n",
       "    .dataframe tbody tr th {\n",
       "        vertical-align: top;\n",
       "    }\n",
       "\n",
       "    .dataframe thead th {\n",
       "        text-align: right;\n",
       "    }\n",
       "</style>\n",
       "<table border=\"1\" class=\"dataframe\">\n",
       "  <thead>\n",
       "    <tr style=\"text-align: right;\">\n",
       "      <th></th>\n",
       "      <th>Survived</th>\n",
       "      <th>Pclass</th>\n",
       "      <th>Name</th>\n",
       "      <th>Sex</th>\n",
       "      <th>Age</th>\n",
       "      <th>SibSp</th>\n",
       "      <th>Parch</th>\n",
       "      <th>Ticket</th>\n",
       "      <th>Fare</th>\n",
       "      <th>Cabin</th>\n",
       "      <th>Embarked</th>\n",
       "    </tr>\n",
       "    <tr>\n",
       "      <th>PassengerId</th>\n",
       "      <th></th>\n",
       "      <th></th>\n",
       "      <th></th>\n",
       "      <th></th>\n",
       "      <th></th>\n",
       "      <th></th>\n",
       "      <th></th>\n",
       "      <th></th>\n",
       "      <th></th>\n",
       "      <th></th>\n",
       "      <th></th>\n",
       "    </tr>\n",
       "  </thead>\n",
       "  <tbody>\n",
       "    <tr>\n",
       "      <th>1</th>\n",
       "      <td>0</td>\n",
       "      <td>3</td>\n",
       "      <td>Braund, Mr. Owen Harris</td>\n",
       "      <td>male</td>\n",
       "      <td>22.0</td>\n",
       "      <td>1</td>\n",
       "      <td>0</td>\n",
       "      <td>A/5 21171</td>\n",
       "      <td>7.2500</td>\n",
       "      <td>NaN</td>\n",
       "      <td>S</td>\n",
       "    </tr>\n",
       "    <tr>\n",
       "      <th>2</th>\n",
       "      <td>1</td>\n",
       "      <td>1</td>\n",
       "      <td>Cumings, Mrs. John Bradley (Florence Briggs Th...</td>\n",
       "      <td>female</td>\n",
       "      <td>38.0</td>\n",
       "      <td>1</td>\n",
       "      <td>0</td>\n",
       "      <td>PC 17599</td>\n",
       "      <td>71.2833</td>\n",
       "      <td>C85</td>\n",
       "      <td>C</td>\n",
       "    </tr>\n",
       "    <tr>\n",
       "      <th>3</th>\n",
       "      <td>1</td>\n",
       "      <td>3</td>\n",
       "      <td>Heikkinen, Miss. Laina</td>\n",
       "      <td>female</td>\n",
       "      <td>26.0</td>\n",
       "      <td>0</td>\n",
       "      <td>0</td>\n",
       "      <td>STON/O2. 3101282</td>\n",
       "      <td>7.9250</td>\n",
       "      <td>NaN</td>\n",
       "      <td>S</td>\n",
       "    </tr>\n",
       "    <tr>\n",
       "      <th>4</th>\n",
       "      <td>1</td>\n",
       "      <td>1</td>\n",
       "      <td>Futrelle, Mrs. Jacques Heath (Lily May Peel)</td>\n",
       "      <td>female</td>\n",
       "      <td>35.0</td>\n",
       "      <td>1</td>\n",
       "      <td>0</td>\n",
       "      <td>113803</td>\n",
       "      <td>53.1000</td>\n",
       "      <td>C123</td>\n",
       "      <td>S</td>\n",
       "    </tr>\n",
       "    <tr>\n",
       "      <th>5</th>\n",
       "      <td>0</td>\n",
       "      <td>3</td>\n",
       "      <td>Allen, Mr. William Henry</td>\n",
       "      <td>male</td>\n",
       "      <td>35.0</td>\n",
       "      <td>0</td>\n",
       "      <td>0</td>\n",
       "      <td>373450</td>\n",
       "      <td>8.0500</td>\n",
       "      <td>NaN</td>\n",
       "      <td>S</td>\n",
       "    </tr>\n",
       "  </tbody>\n",
       "</table>\n",
       "</div>"
      ],
      "text/plain": [
       "             Survived  Pclass  \\\n",
       "PassengerId                     \n",
       "1                   0       3   \n",
       "2                   1       1   \n",
       "3                   1       3   \n",
       "4                   1       1   \n",
       "5                   0       3   \n",
       "\n",
       "                                                          Name     Sex   Age  \\\n",
       "PassengerId                                                                    \n",
       "1                                      Braund, Mr. Owen Harris    male  22.0   \n",
       "2            Cumings, Mrs. John Bradley (Florence Briggs Th...  female  38.0   \n",
       "3                                       Heikkinen, Miss. Laina  female  26.0   \n",
       "4                 Futrelle, Mrs. Jacques Heath (Lily May Peel)  female  35.0   \n",
       "5                                     Allen, Mr. William Henry    male  35.0   \n",
       "\n",
       "             SibSp  Parch            Ticket     Fare Cabin Embarked  \n",
       "PassengerId                                                          \n",
       "1                1      0         A/5 21171   7.2500   NaN        S  \n",
       "2                1      0          PC 17599  71.2833   C85        C  \n",
       "3                0      0  STON/O2. 3101282   7.9250   NaN        S  \n",
       "4                1      0            113803  53.1000  C123        S  \n",
       "5                0      0            373450   8.0500   NaN        S  "
      ]
     },
     "execution_count": 241,
     "metadata": {},
     "output_type": "execute_result"
    }
   ],
   "source": [
    "TrainData.head()"
   ]
  },
  {
   "cell_type": "code",
   "execution_count": 242,
   "metadata": {
    "scrolled": true
   },
   "outputs": [
    {
     "data": {
      "text/html": [
       "<div>\n",
       "<style scoped>\n",
       "    .dataframe tbody tr th:only-of-type {\n",
       "        vertical-align: middle;\n",
       "    }\n",
       "\n",
       "    .dataframe tbody tr th {\n",
       "        vertical-align: top;\n",
       "    }\n",
       "\n",
       "    .dataframe thead th {\n",
       "        text-align: right;\n",
       "    }\n",
       "</style>\n",
       "<table border=\"1\" class=\"dataframe\">\n",
       "  <thead>\n",
       "    <tr style=\"text-align: right;\">\n",
       "      <th></th>\n",
       "      <th>Pclass</th>\n",
       "      <th>Name</th>\n",
       "      <th>Sex</th>\n",
       "      <th>Age</th>\n",
       "      <th>SibSp</th>\n",
       "      <th>Parch</th>\n",
       "      <th>Ticket</th>\n",
       "      <th>Fare</th>\n",
       "      <th>Cabin</th>\n",
       "      <th>Embarked</th>\n",
       "    </tr>\n",
       "    <tr>\n",
       "      <th>PassengerId</th>\n",
       "      <th></th>\n",
       "      <th></th>\n",
       "      <th></th>\n",
       "      <th></th>\n",
       "      <th></th>\n",
       "      <th></th>\n",
       "      <th></th>\n",
       "      <th></th>\n",
       "      <th></th>\n",
       "      <th></th>\n",
       "    </tr>\n",
       "  </thead>\n",
       "  <tbody>\n",
       "    <tr>\n",
       "      <th>892</th>\n",
       "      <td>3</td>\n",
       "      <td>Kelly, Mr. James</td>\n",
       "      <td>male</td>\n",
       "      <td>34.5</td>\n",
       "      <td>0</td>\n",
       "      <td>0</td>\n",
       "      <td>330911</td>\n",
       "      <td>7.8292</td>\n",
       "      <td>NaN</td>\n",
       "      <td>Q</td>\n",
       "    </tr>\n",
       "    <tr>\n",
       "      <th>893</th>\n",
       "      <td>3</td>\n",
       "      <td>Wilkes, Mrs. James (Ellen Needs)</td>\n",
       "      <td>female</td>\n",
       "      <td>47.0</td>\n",
       "      <td>1</td>\n",
       "      <td>0</td>\n",
       "      <td>363272</td>\n",
       "      <td>7.0000</td>\n",
       "      <td>NaN</td>\n",
       "      <td>S</td>\n",
       "    </tr>\n",
       "    <tr>\n",
       "      <th>894</th>\n",
       "      <td>2</td>\n",
       "      <td>Myles, Mr. Thomas Francis</td>\n",
       "      <td>male</td>\n",
       "      <td>62.0</td>\n",
       "      <td>0</td>\n",
       "      <td>0</td>\n",
       "      <td>240276</td>\n",
       "      <td>9.6875</td>\n",
       "      <td>NaN</td>\n",
       "      <td>Q</td>\n",
       "    </tr>\n",
       "    <tr>\n",
       "      <th>895</th>\n",
       "      <td>3</td>\n",
       "      <td>Wirz, Mr. Albert</td>\n",
       "      <td>male</td>\n",
       "      <td>27.0</td>\n",
       "      <td>0</td>\n",
       "      <td>0</td>\n",
       "      <td>315154</td>\n",
       "      <td>8.6625</td>\n",
       "      <td>NaN</td>\n",
       "      <td>S</td>\n",
       "    </tr>\n",
       "    <tr>\n",
       "      <th>896</th>\n",
       "      <td>3</td>\n",
       "      <td>Hirvonen, Mrs. Alexander (Helga E Lindqvist)</td>\n",
       "      <td>female</td>\n",
       "      <td>22.0</td>\n",
       "      <td>1</td>\n",
       "      <td>1</td>\n",
       "      <td>3101298</td>\n",
       "      <td>12.2875</td>\n",
       "      <td>NaN</td>\n",
       "      <td>S</td>\n",
       "    </tr>\n",
       "  </tbody>\n",
       "</table>\n",
       "</div>"
      ],
      "text/plain": [
       "             Pclass                                          Name     Sex  \\\n",
       "PassengerId                                                                 \n",
       "892               3                              Kelly, Mr. James    male   \n",
       "893               3              Wilkes, Mrs. James (Ellen Needs)  female   \n",
       "894               2                     Myles, Mr. Thomas Francis    male   \n",
       "895               3                              Wirz, Mr. Albert    male   \n",
       "896               3  Hirvonen, Mrs. Alexander (Helga E Lindqvist)  female   \n",
       "\n",
       "              Age  SibSp  Parch   Ticket     Fare Cabin Embarked  \n",
       "PassengerId                                                       \n",
       "892          34.5      0      0   330911   7.8292   NaN        Q  \n",
       "893          47.0      1      0   363272   7.0000   NaN        S  \n",
       "894          62.0      0      0   240276   9.6875   NaN        Q  \n",
       "895          27.0      0      0   315154   8.6625   NaN        S  \n",
       "896          22.0      1      1  3101298  12.2875   NaN        S  "
      ]
     },
     "execution_count": 242,
     "metadata": {},
     "output_type": "execute_result"
    }
   ],
   "source": [
    "TestData.head()"
   ]
  },
  {
   "cell_type": "code",
   "execution_count": 243,
   "metadata": {},
   "outputs": [
    {
     "data": {
      "text/plain": [
       "<matplotlib.axes._subplots.AxesSubplot at 0x1c088ca7668>"
      ]
     },
     "execution_count": 243,
     "metadata": {},
     "output_type": "execute_result"
    },
    {
     "data": {
      "image/png": "[encoded data removed]",
      "text/plain": [
       "<Figure size 432x288 with 1 Axes>"
      ]
     },
     "metadata": {
      "needs_background": "light"
     },
     "output_type": "display_data"
    }
   ],
   "source": [
    "TrainData[\"Survived\"].hist()"
   ]
  },
  {
   "cell_type": "code",
   "execution_count": 244,
   "metadata": {},
   "outputs": [
    {
     "data": {
      "text/plain": [
       "PassengerId\n",
       "1    0\n",
       "2    1\n",
       "3    1\n",
       "4    1\n",
       "5    0\n",
       "Name: Survived, dtype: int64"
      ]
     },
     "execution_count": 244,
     "metadata": {},
     "output_type": "execute_result"
    }
   ],
   "source": [
    "# features, labels 拆分\n",
    "t_copy = TrainData.copy()\n",
    "train_labels = t_copy.pop(\"Survived\")\n",
    "train_features = t_copy\n",
    "test_features = TestData.copy()\n",
    "train_labels.head()"
   ]
  },
  {
   "cell_type": "code",
   "execution_count": 245,
   "metadata": {},
   "outputs": [
    {
     "name": "stdout",
     "output_type": "stream",
     "text": [
      "(1309, 10)\n"
     ]
    },
    {
     "data": {
      "text/html": [
       "<div>\n",
       "<style scoped>\n",
       "    .dataframe tbody tr th:only-of-type {\n",
       "        vertical-align: middle;\n",
       "    }\n",
       "\n",
       "    .dataframe tbody tr th {\n",
       "        vertical-align: top;\n",
       "    }\n",
       "\n",
       "    .dataframe thead th {\n",
       "        text-align: right;\n",
       "    }\n",
       "</style>\n",
       "<table border=\"1\" class=\"dataframe\">\n",
       "  <thead>\n",
       "    <tr style=\"text-align: right;\">\n",
       "      <th></th>\n",
       "      <th>Pclass</th>\n",
       "      <th>Name</th>\n",
       "      <th>Sex</th>\n",
       "      <th>Age</th>\n",
       "      <th>SibSp</th>\n",
       "      <th>Parch</th>\n",
       "      <th>Ticket</th>\n",
       "      <th>Fare</th>\n",
       "      <th>Cabin</th>\n",
       "      <th>Embarked</th>\n",
       "    </tr>\n",
       "    <tr>\n",
       "      <th>PassengerId</th>\n",
       "      <th></th>\n",
       "      <th></th>\n",
       "      <th></th>\n",
       "      <th></th>\n",
       "      <th></th>\n",
       "      <th></th>\n",
       "      <th></th>\n",
       "      <th></th>\n",
       "      <th></th>\n",
       "      <th></th>\n",
       "    </tr>\n",
       "  </thead>\n",
       "  <tbody>\n",
       "    <tr>\n",
       "      <th>1</th>\n",
       "      <td>3</td>\n",
       "      <td>Braund, Mr. Owen Harris</td>\n",
       "      <td>male</td>\n",
       "      <td>22.0</td>\n",
       "      <td>1</td>\n",
       "      <td>0</td>\n",
       "      <td>A/5 21171</td>\n",
       "      <td>7.2500</td>\n",
       "      <td>NaN</td>\n",
       "      <td>S</td>\n",
       "    </tr>\n",
       "    <tr>\n",
       "      <th>2</th>\n",
       "      <td>1</td>\n",
       "      <td>Cumings, Mrs. John Bradley (Florence Briggs Th...</td>\n",
       "      <td>female</td>\n",
       "      <td>38.0</td>\n",
       "      <td>1</td>\n",
       "      <td>0</td>\n",
       "      <td>PC 17599</td>\n",
       "      <td>71.2833</td>\n",
       "      <td>C85</td>\n",
       "      <td>C</td>\n",
       "    </tr>\n",
       "    <tr>\n",
       "      <th>3</th>\n",
       "      <td>3</td>\n",
       "      <td>Heikkinen, Miss. Laina</td>\n",
       "      <td>female</td>\n",
       "      <td>26.0</td>\n",
       "      <td>0</td>\n",
       "      <td>0</td>\n",
       "      <td>STON/O2. 3101282</td>\n",
       "      <td>7.9250</td>\n",
       "      <td>NaN</td>\n",
       "      <td>S</td>\n",
       "    </tr>\n",
       "    <tr>\n",
       "      <th>4</th>\n",
       "      <td>1</td>\n",
       "      <td>Futrelle, Mrs. Jacques Heath (Lily May Peel)</td>\n",
       "      <td>female</td>\n",
       "      <td>35.0</td>\n",
       "      <td>1</td>\n",
       "      <td>0</td>\n",
       "      <td>113803</td>\n",
       "      <td>53.1000</td>\n",
       "      <td>C123</td>\n",
       "      <td>S</td>\n",
       "    </tr>\n",
       "    <tr>\n",
       "      <th>5</th>\n",
       "      <td>3</td>\n",
       "      <td>Allen, Mr. William Henry</td>\n",
       "      <td>male</td>\n",
       "      <td>35.0</td>\n",
       "      <td>0</td>\n",
       "      <td>0</td>\n",
       "      <td>373450</td>\n",
       "      <td>8.0500</td>\n",
       "      <td>NaN</td>\n",
       "      <td>S</td>\n",
       "    </tr>\n",
       "  </tbody>\n",
       "</table>\n",
       "</div>"
      ],
      "text/plain": [
       "             Pclass                                               Name  \\\n",
       "PassengerId                                                              \n",
       "1                 3                            Braund, Mr. Owen Harris   \n",
       "2                 1  Cumings, Mrs. John Bradley (Florence Briggs Th...   \n",
       "3                 3                             Heikkinen, Miss. Laina   \n",
       "4                 1       Futrelle, Mrs. Jacques Heath (Lily May Peel)   \n",
       "5                 3                           Allen, Mr. William Henry   \n",
       "\n",
       "                Sex   Age  SibSp  Parch            Ticket     Fare Cabin  \\\n",
       "PassengerId                                                                \n",
       "1              male  22.0      1      0         A/5 21171   7.2500   NaN   \n",
       "2            female  38.0      1      0          PC 17599  71.2833   C85   \n",
       "3            female  26.0      0      0  STON/O2. 3101282   7.9250   NaN   \n",
       "4            female  35.0      1      0            113803  53.1000  C123   \n",
       "5              male  35.0      0      0            373450   8.0500   NaN   \n",
       "\n",
       "            Embarked  \n",
       "PassengerId           \n",
       "1                  S  \n",
       "2                  C  \n",
       "3                  S  \n",
       "4                  S  \n",
       "5                  S  "
      ]
     },
     "execution_count": 245,
     "metadata": {},
     "output_type": "execute_result"
    }
   ],
   "source": [
    "# train, test 暂时合并 (为了统一处理数据)\n",
    "train_test_feature = pd.concat((train_features, test_features), axis=0)\n",
    "print(train_test_feature.shape)\n",
    "train_test_feature.head()"
   ]
  },
  {
   "cell_type": "code",
   "execution_count": null,
   "metadata": {},
   "outputs": [],
   "source": []
  },
  {
   "cell_type": "code",
   "execution_count": 246,
   "metadata": {},
   "outputs": [],
   "source": [
    "# 二. 剔除无用信息,补全缺失值"
   ]
  },
  {
   "cell_type": "code",
   "execution_count": 247,
   "metadata": {},
   "outputs": [
    {
     "name": "stdout",
     "output_type": "stream",
     "text": [
      "(1309, 8)\n"
     ]
    },
    {
     "data": {
      "text/html": [
       "<div>\n",
       "<style scoped>\n",
       "    .dataframe tbody tr th:only-of-type {\n",
       "        vertical-align: middle;\n",
       "    }\n",
       "\n",
       "    .dataframe tbody tr th {\n",
       "        vertical-align: top;\n",
       "    }\n",
       "\n",
       "    .dataframe thead th {\n",
       "        text-align: right;\n",
       "    }\n",
       "</style>\n",
       "<table border=\"1\" class=\"dataframe\">\n",
       "  <thead>\n",
       "    <tr style=\"text-align: right;\">\n",
       "      <th></th>\n",
       "      <th>Pclass</th>\n",
       "      <th>Sex</th>\n",
       "      <th>Age</th>\n",
       "      <th>SibSp</th>\n",
       "      <th>Parch</th>\n",
       "      <th>Fare</th>\n",
       "      <th>Cabin</th>\n",
       "      <th>Embarked</th>\n",
       "    </tr>\n",
       "    <tr>\n",
       "      <th>PassengerId</th>\n",
       "      <th></th>\n",
       "      <th></th>\n",
       "      <th></th>\n",
       "      <th></th>\n",
       "      <th></th>\n",
       "      <th></th>\n",
       "      <th></th>\n",
       "      <th></th>\n",
       "    </tr>\n",
       "  </thead>\n",
       "  <tbody>\n",
       "    <tr>\n",
       "      <th>1</th>\n",
       "      <td>3</td>\n",
       "      <td>male</td>\n",
       "      <td>22.0</td>\n",
       "      <td>1</td>\n",
       "      <td>0</td>\n",
       "      <td>7.2500</td>\n",
       "      <td>NaN</td>\n",
       "      <td>S</td>\n",
       "    </tr>\n",
       "    <tr>\n",
       "      <th>2</th>\n",
       "      <td>1</td>\n",
       "      <td>female</td>\n",
       "      <td>38.0</td>\n",
       "      <td>1</td>\n",
       "      <td>0</td>\n",
       "      <td>71.2833</td>\n",
       "      <td>C85</td>\n",
       "      <td>C</td>\n",
       "    </tr>\n",
       "  </tbody>\n",
       "</table>\n",
       "</div>"
      ],
      "text/plain": [
       "             Pclass     Sex   Age  SibSp  Parch     Fare Cabin Embarked\n",
       "PassengerId                                                            \n",
       "1                 3    male  22.0      1      0   7.2500   NaN        S\n",
       "2                 1  female  38.0      1      0  71.2833   C85        C"
      ]
     },
     "execution_count": 247,
     "metadata": {},
     "output_type": "execute_result"
    }
   ],
   "source": [
    "# 先剔除无用特征(直观感觉)\n",
    "try:\n",
    "    train_test_feature.drop([\"Name\", \"Ticket\"], axis=1, inplace=True)\n",
    "except:\n",
    "    pass\n",
    "print(train_test_feature.shape)\n",
    "train_test_feature.head(2)"
   ]
  },
  {
   "cell_type": "code",
   "execution_count": 248,
   "metadata": {},
   "outputs": [
    {
     "name": "stdout",
     "output_type": "stream",
     "text": [
      "【缺失值】:\n",
      "Pclass         0\n",
      "Sex            0\n",
      "Age          263\n",
      "SibSp          0\n",
      "Parch          0\n",
      "Fare           1\n",
      "Cabin       1014\n",
      "Embarked       2\n",
      "dtype: int64\n"
     ]
    }
   ],
   "source": [
    "print(\"【缺失值】:\")\n",
    "print(train_test_feature.isnull().sum())"
   ]
  },
  {
   "cell_type": "code",
   "execution_count": 249,
   "metadata": {},
   "outputs": [
    {
     "name": "stdout",
     "output_type": "stream",
     "text": [
      "count    1046.000000\n",
      "mean       29.881138\n",
      "std        14.413493\n",
      "min         0.170000\n",
      "25%        21.000000\n",
      "50%        28.000000\n",
      "75%        39.000000\n",
      "max        80.000000\n",
      "Name: Age, dtype: float64\n"
     ]
    },
    {
     "data": {
      "text/plain": [
       "<matplotlib.axes._subplots.AxesSubplot at 0x1c088cd9dd8>"
      ]
     },
     "execution_count": 249,
     "metadata": {},
     "output_type": "execute_result"
    },
    {
     "data": {
      "image/png": "[encoded data removed]",
      "text/plain": [
       "<Figure size 432x288 with 1 Axes>"
      ]
     },
     "metadata": {
      "needs_background": "light"
     },
     "output_type": "display_data"
    }
   ],
   "source": [
    "print(train_test_feature[\"Age\"].describe())\n",
    "train_test_feature[\"Age\"].hist(bins=10)"
   ]
  },
  {
   "cell_type": "code",
   "execution_count": 250,
   "metadata": {
    "scrolled": true
   },
   "outputs": [
    {
     "data": {
      "text/plain": [
       "<matplotlib.axes._subplots.AxesSubplot at 0x1c088d8d208>"
      ]
     },
     "execution_count": 250,
     "metadata": {},
     "output_type": "execute_result"
    },
    {
     "data": {
      "image/png": "[encoded data removed]",
      "text/plain": [
       "<Figure size 432x288 with 1 Axes>"
      ]
     },
     "metadata": {
      "needs_background": "light"
     },
     "output_type": "display_data"
    }
   ],
   "source": [
    "# 填充 Age :\n",
    "train_test_feature.fillna({\"Age\":int(train_test_feature[\"Age\"].mean())}, inplace=True)\n",
    "train_test_feature[\"Age\"].hist(bins=10)"
   ]
  },
  {
   "cell_type": "code",
   "execution_count": 251,
   "metadata": {},
   "outputs": [
    {
     "data": {
      "text/plain": [
       "count    1308.000000\n",
       "mean       33.295479\n",
       "std        51.758668\n",
       "min         0.000000\n",
       "25%         7.895800\n",
       "50%        14.454200\n",
       "75%        31.275000\n",
       "max       512.329200\n",
       "Name: Fare, dtype: float64"
      ]
     },
     "execution_count": 251,
     "metadata": {},
     "output_type": "execute_result"
    }
   ],
   "source": [
    "# 观察缺失项 Fare\n",
    "train_test_feature[\"Fare\"].describe()"
   ]
  },
  {
   "cell_type": "code",
   "execution_count": 252,
   "metadata": {},
   "outputs": [
    {
     "data": {
      "text/plain": [
       "17"
      ]
     },
     "execution_count": 252,
     "metadata": {},
     "output_type": "execute_result"
    }
   ],
   "source": [
    "np.array(train_test_feature.Fare ==0).sum()  # 发现票价为 0 的乘客有这么多, 那应该也可当做缺失值处理了\n",
    "\n",
    "# 而且,我发现一个惊天秘密:  这个Fare是和ticket密切相关的,所以ticket实际上不能被作为无关项"
   ]
  },
  {
   "cell_type": "code",
   "execution_count": 253,
   "metadata": {},
   "outputs": [
    {
     "data": {
      "text/plain": [
       "33.0"
      ]
     },
     "execution_count": 253,
     "metadata": {},
     "output_type": "execute_result"
    }
   ],
   "source": [
    "fare_mt_0 = np.array(train_test_feature.Fare[train_test_feature.Fare >0])\n",
    "fare_mean = fare_mt_0.sum() // fare_mt_0.shape[0]\n",
    "fare_mean # 价格大于0的车票的平均价格"
   ]
  },
  {
   "cell_type": "code",
   "execution_count": 254,
   "metadata": {},
   "outputs": [
    {
     "data": {
      "text/plain": [
       "0"
      ]
     },
     "execution_count": 254,
     "metadata": {},
     "output_type": "execute_result"
    }
   ],
   "source": [
    "# 填充 Fare\n",
    "train_test_feature.Fare[train_test_feature.Fare.isnull()] = fare_mean\n",
    "train_test_feature.Fare[train_test_feature.Fare == 0] = fare_mean\n",
    "np.array(train_test_feature.Fare == 0).sum()"
   ]
  },
  {
   "cell_type": "code",
   "execution_count": 255,
   "metadata": {
    "scrolled": true
   },
   "outputs": [
    {
     "name": "stdout",
     "output_type": "stream",
     "text": [
      "[nan 'C85' 'C123' 'E46' 'G6' 'C103' 'D56' 'A6' 'C23 C25 C27' 'B78' 'D33'\n",
      " 'B30' 'C52' 'B28' 'C83' 'F33' 'F G73' 'E31' 'A5' 'D10 D12' 'D26' 'C110'\n",
      " 'B58 B60' 'E101' 'F E69' 'D47' 'B86' 'F2' 'C2' 'E33' 'B19' 'A7' 'C49'\n",
      " 'F4' 'A32' 'B4' 'B80' 'A31' 'D36' 'D15' 'C93' 'C78' 'D35' 'C87' 'B77'\n",
      " 'E67' 'B94' 'C125' 'C99' 'C118' 'D7' 'A19' 'B49' 'D' 'C22 C26' 'C106'\n",
      " 'C65' 'E36' 'C54' 'B57 B59 B63 B66' 'C7' 'E34' 'C32' 'B18' 'C124' 'C91'\n",
      " 'E40' 'T' 'C128' 'D37' 'B35' 'E50' 'C82' 'B96 B98' 'E10' 'E44' 'A34'\n",
      " 'C104' 'C111' 'C92' 'E38' 'D21' 'E12' 'E63' 'A14' 'B37' 'C30' 'D20' 'B79'\n",
      " 'E25' 'D46' 'B73' 'C95' 'B38' 'B39' 'B22' 'C86' 'C70' 'A16' 'C101' 'C68'\n",
      " 'A10' 'E68' 'B41' 'A20' 'D19' 'D50' 'D9' 'A23' 'B50' 'A26' 'D48' 'E58'\n",
      " 'C126' 'B71' 'B51 B53 B55' 'D49' 'B5' 'B20' 'F G63' 'C62 C64' 'E24' 'C90'\n",
      " 'C45' 'E8' 'B101' 'D45' 'C46' 'D30' 'E121' 'D11' 'E77' 'F38' 'B3' 'D6'\n",
      " 'B82 B84' 'D17' 'A36' 'B102' 'B69' 'E49' 'C47' 'D28' 'E17' 'A24' 'C50'\n",
      " 'B42' 'C148' 'B45' 'B36' 'A21' 'D34' 'A9' 'C31' 'B61' 'C53' 'D43' 'C130'\n",
      " 'C132' 'C55 C57' 'C116' 'F' 'A29' 'C6' 'C28' 'C51' 'C97' 'D22' 'B10'\n",
      " 'E45' 'E52' 'A11' 'B11' 'C80' 'C89' 'F E46' 'B26' 'F E57' 'A18' 'E60'\n",
      " 'E39 E41' 'B52 B54 B56' 'C39' 'B24' 'D40' 'D38' 'C105']\n"
     ]
    },
    {
     "data": {
      "text/html": [
       "<div>\n",
       "<style scoped>\n",
       "    .dataframe tbody tr th:only-of-type {\n",
       "        vertical-align: middle;\n",
       "    }\n",
       "\n",
       "    .dataframe tbody tr th {\n",
       "        vertical-align: top;\n",
       "    }\n",
       "\n",
       "    .dataframe thead th {\n",
       "        text-align: right;\n",
       "    }\n",
       "</style>\n",
       "<table border=\"1\" class=\"dataframe\">\n",
       "  <thead>\n",
       "    <tr style=\"text-align: right;\">\n",
       "      <th></th>\n",
       "      <th>Pclass</th>\n",
       "      <th>Sex</th>\n",
       "      <th>Age</th>\n",
       "      <th>SibSp</th>\n",
       "      <th>Parch</th>\n",
       "      <th>Fare</th>\n",
       "      <th>Cabin</th>\n",
       "      <th>Embarked</th>\n",
       "    </tr>\n",
       "    <tr>\n",
       "      <th>PassengerId</th>\n",
       "      <th></th>\n",
       "      <th></th>\n",
       "      <th></th>\n",
       "      <th></th>\n",
       "      <th></th>\n",
       "      <th></th>\n",
       "      <th></th>\n",
       "      <th></th>\n",
       "    </tr>\n",
       "  </thead>\n",
       "  <tbody>\n",
       "    <tr>\n",
       "      <th>1</th>\n",
       "      <td>3</td>\n",
       "      <td>male</td>\n",
       "      <td>22.0</td>\n",
       "      <td>1</td>\n",
       "      <td>0</td>\n",
       "      <td>7.2500</td>\n",
       "      <td>xxx</td>\n",
       "      <td>S</td>\n",
       "    </tr>\n",
       "    <tr>\n",
       "      <th>2</th>\n",
       "      <td>1</td>\n",
       "      <td>female</td>\n",
       "      <td>38.0</td>\n",
       "      <td>1</td>\n",
       "      <td>0</td>\n",
       "      <td>71.2833</td>\n",
       "      <td>C85</td>\n",
       "      <td>C</td>\n",
       "    </tr>\n",
       "  </tbody>\n",
       "</table>\n",
       "</div>"
      ],
      "text/plain": [
       "             Pclass     Sex   Age  SibSp  Parch     Fare Cabin Embarked\n",
       "PassengerId                                                            \n",
       "1                 3    male  22.0      1      0   7.2500   xxx        S\n",
       "2                 1  female  38.0      1      0  71.2833   C85        C"
      ]
     },
     "execution_count": 255,
     "metadata": {},
     "output_type": "execute_result"
    }
   ],
   "source": [
    "# 填充 Cabin\n",
    "print(train_test_feature[\"Cabin\"].unique())\n",
    "train_test_feature.Cabin.fillna(\"xxx\", inplace=True)\n",
    "train_test_feature.head(2)"
   ]
  },
  {
   "cell_type": "code",
   "execution_count": 256,
   "metadata": {},
   "outputs": [
    {
     "name": "stdout",
     "output_type": "stream",
     "text": [
      "S    914\n",
      "C    270\n",
      "Q    123\n",
      "Name: Embarked, dtype: int64\n"
     ]
    },
    {
     "data": {
      "text/html": [
       "<div>\n",
       "<style scoped>\n",
       "    .dataframe tbody tr th:only-of-type {\n",
       "        vertical-align: middle;\n",
       "    }\n",
       "\n",
       "    .dataframe tbody tr th {\n",
       "        vertical-align: top;\n",
       "    }\n",
       "\n",
       "    .dataframe thead th {\n",
       "        text-align: right;\n",
       "    }\n",
       "</style>\n",
       "<table border=\"1\" class=\"dataframe\">\n",
       "  <thead>\n",
       "    <tr style=\"text-align: right;\">\n",
       "      <th></th>\n",
       "      <th>Pclass</th>\n",
       "      <th>Sex</th>\n",
       "      <th>Age</th>\n",
       "      <th>SibSp</th>\n",
       "      <th>Parch</th>\n",
       "      <th>Fare</th>\n",
       "      <th>Cabin</th>\n",
       "      <th>Embarked</th>\n",
       "    </tr>\n",
       "    <tr>\n",
       "      <th>PassengerId</th>\n",
       "      <th></th>\n",
       "      <th></th>\n",
       "      <th></th>\n",
       "      <th></th>\n",
       "      <th></th>\n",
       "      <th></th>\n",
       "      <th></th>\n",
       "      <th></th>\n",
       "    </tr>\n",
       "  </thead>\n",
       "  <tbody>\n",
       "    <tr>\n",
       "      <th>1</th>\n",
       "      <td>3</td>\n",
       "      <td>male</td>\n",
       "      <td>22.0</td>\n",
       "      <td>1</td>\n",
       "      <td>0</td>\n",
       "      <td>7.2500</td>\n",
       "      <td>xxx</td>\n",
       "      <td>S</td>\n",
       "    </tr>\n",
       "    <tr>\n",
       "      <th>2</th>\n",
       "      <td>1</td>\n",
       "      <td>female</td>\n",
       "      <td>38.0</td>\n",
       "      <td>1</td>\n",
       "      <td>0</td>\n",
       "      <td>71.2833</td>\n",
       "      <td>C85</td>\n",
       "      <td>C</td>\n",
       "    </tr>\n",
       "  </tbody>\n",
       "</table>\n",
       "</div>"
      ],
      "text/plain": [
       "             Pclass     Sex   Age  SibSp  Parch     Fare Cabin Embarked\n",
       "PassengerId                                                            \n",
       "1                 3    male  22.0      1      0   7.2500   xxx        S\n",
       "2                 1  female  38.0      1      0  71.2833   C85        C"
      ]
     },
     "execution_count": 256,
     "metadata": {},
     "output_type": "execute_result"
    }
   ],
   "source": [
    "# 填充 Embarked\n",
    "print(train_test_feature[\"Embarked\"].value_counts())\n",
    "train_test_feature[\"Embarked\"].fillna(\"S\", inplace=True)\n",
    "train_test_feature.head(2)"
   ]
  },
  {
   "cell_type": "code",
   "execution_count": 257,
   "metadata": {},
   "outputs": [
    {
     "name": "stdout",
     "output_type": "stream",
     "text": [
      "Pclass      0\n",
      "Sex         0\n",
      "Age         0\n",
      "SibSp       0\n",
      "Parch       0\n",
      "Fare        0\n",
      "Cabin       0\n",
      "Embarked    0\n",
      "dtype: int64\n"
     ]
    }
   ],
   "source": [
    "print(train_test_feature.isnull().sum())\n",
    "# 可见： 缺失值已经填补完成"
   ]
  },
  {
   "cell_type": "code",
   "execution_count": null,
   "metadata": {},
   "outputs": [],
   "source": []
  },
  {
   "cell_type": "code",
   "execution_count": 258,
   "metadata": {},
   "outputs": [],
   "source": [
    "# 三。 开始分别处理字符型数据（onehot）、数值型数据（是否需要转化）"
   ]
  },
  {
   "cell_type": "code",
   "execution_count": 259,
   "metadata": {},
   "outputs": [
    {
     "data": {
      "text/html": [
       "<div>\n",
       "<style scoped>\n",
       "    .dataframe tbody tr th:only-of-type {\n",
       "        vertical-align: middle;\n",
       "    }\n",
       "\n",
       "    .dataframe tbody tr th {\n",
       "        vertical-align: top;\n",
       "    }\n",
       "\n",
       "    .dataframe thead th {\n",
       "        text-align: right;\n",
       "    }\n",
       "</style>\n",
       "<table border=\"1\" class=\"dataframe\">\n",
       "  <thead>\n",
       "    <tr style=\"text-align: right;\">\n",
       "      <th></th>\n",
       "      <th>Pclass</th>\n",
       "      <th>Age</th>\n",
       "      <th>SibSp</th>\n",
       "      <th>Parch</th>\n",
       "      <th>Fare</th>\n",
       "    </tr>\n",
       "  </thead>\n",
       "  <tbody>\n",
       "    <tr>\n",
       "      <th>count</th>\n",
       "      <td>1309.000000</td>\n",
       "      <td>1309.000000</td>\n",
       "      <td>1309.000000</td>\n",
       "      <td>1309.000000</td>\n",
       "      <td>1309.000000</td>\n",
       "    </tr>\n",
       "    <tr>\n",
       "      <th>mean</th>\n",
       "      <td>2.294882</td>\n",
       "      <td>29.704102</td>\n",
       "      <td>0.498854</td>\n",
       "      <td>0.385027</td>\n",
       "      <td>33.723825</td>\n",
       "    </tr>\n",
       "    <tr>\n",
       "      <th>std</th>\n",
       "      <td>0.837836</td>\n",
       "      <td>12.888034</td>\n",
       "      <td>1.041658</td>\n",
       "      <td>0.865560</td>\n",
       "      <td>51.597683</td>\n",
       "    </tr>\n",
       "    <tr>\n",
       "      <th>min</th>\n",
       "      <td>1.000000</td>\n",
       "      <td>0.170000</td>\n",
       "      <td>0.000000</td>\n",
       "      <td>0.000000</td>\n",
       "      <td>3.170800</td>\n",
       "    </tr>\n",
       "    <tr>\n",
       "      <th>25%</th>\n",
       "      <td>2.000000</td>\n",
       "      <td>22.000000</td>\n",
       "      <td>0.000000</td>\n",
       "      <td>0.000000</td>\n",
       "      <td>7.925000</td>\n",
       "    </tr>\n",
       "    <tr>\n",
       "      <th>50%</th>\n",
       "      <td>3.000000</td>\n",
       "      <td>29.000000</td>\n",
       "      <td>0.000000</td>\n",
       "      <td>0.000000</td>\n",
       "      <td>14.500000</td>\n",
       "    </tr>\n",
       "    <tr>\n",
       "      <th>75%</th>\n",
       "      <td>3.000000</td>\n",
       "      <td>35.000000</td>\n",
       "      <td>1.000000</td>\n",
       "      <td>0.000000</td>\n",
       "      <td>32.500000</td>\n",
       "    </tr>\n",
       "    <tr>\n",
       "      <th>max</th>\n",
       "      <td>3.000000</td>\n",
       "      <td>80.000000</td>\n",
       "      <td>8.000000</td>\n",
       "      <td>9.000000</td>\n",
       "      <td>512.329200</td>\n",
       "    </tr>\n",
       "  </tbody>\n",
       "</table>\n",
       "</div>"
      ],
      "text/plain": [
       "            Pclass          Age        SibSp        Parch         Fare\n",
       "count  1309.000000  1309.000000  1309.000000  1309.000000  1309.000000\n",
       "mean      2.294882    29.704102     0.498854     0.385027    33.723825\n",
       "std       0.837836    12.888034     1.041658     0.865560    51.597683\n",
       "min       1.000000     0.170000     0.000000     0.000000     3.170800\n",
       "25%       2.000000    22.000000     0.000000     0.000000     7.925000\n",
       "50%       3.000000    29.000000     0.000000     0.000000    14.500000\n",
       "75%       3.000000    35.000000     1.000000     0.000000    32.500000\n",
       "max       3.000000    80.000000     8.000000     9.000000   512.329200"
      ]
     },
     "execution_count": 259,
     "metadata": {},
     "output_type": "execute_result"
    }
   ],
   "source": [
    "train_test_feature.describe()"
   ]
  },
  {
   "cell_type": "code",
   "execution_count": 260,
   "metadata": {},
   "outputs": [
    {
     "name": "stdout",
     "output_type": "stream",
     "text": [
      "现数据集中包含 3 个 '非数值'特征:  ['Sex', 'Cabin', 'Embarked']\n"
     ]
    }
   ],
   "source": [
    "str_features = train_test_feature.dtypes == \"object\"\n",
    "print(\"现数据集中包含 %s 个 '非数值'特征: \" % (str_features.sum()), list(train_test_feature.columns[np.array(str_features)]))"
   ]
  },
  {
   "cell_type": "code",
   "execution_count": 261,
   "metadata": {},
   "outputs": [
    {
     "name": "stdout",
     "output_type": "stream",
     "text": [
      "male      843\n",
      "female    466\n",
      "Name: Sex, dtype: int64\n"
     ]
    },
    {
     "data": {
      "text/html": [
       "<div>\n",
       "<style scoped>\n",
       "    .dataframe tbody tr th:only-of-type {\n",
       "        vertical-align: middle;\n",
       "    }\n",
       "\n",
       "    .dataframe tbody tr th {\n",
       "        vertical-align: top;\n",
       "    }\n",
       "\n",
       "    .dataframe thead th {\n",
       "        text-align: right;\n",
       "    }\n",
       "</style>\n",
       "<table border=\"1\" class=\"dataframe\">\n",
       "  <thead>\n",
       "    <tr style=\"text-align: right;\">\n",
       "      <th></th>\n",
       "      <th>Pclass</th>\n",
       "      <th>Sex</th>\n",
       "      <th>Age</th>\n",
       "      <th>SibSp</th>\n",
       "      <th>Parch</th>\n",
       "      <th>Fare</th>\n",
       "      <th>Cabin</th>\n",
       "      <th>Embarked</th>\n",
       "    </tr>\n",
       "    <tr>\n",
       "      <th>PassengerId</th>\n",
       "      <th></th>\n",
       "      <th></th>\n",
       "      <th></th>\n",
       "      <th></th>\n",
       "      <th></th>\n",
       "      <th></th>\n",
       "      <th></th>\n",
       "      <th></th>\n",
       "    </tr>\n",
       "  </thead>\n",
       "  <tbody>\n",
       "    <tr>\n",
       "      <th>1</th>\n",
       "      <td>3</td>\n",
       "      <td>0</td>\n",
       "      <td>22.0</td>\n",
       "      <td>1</td>\n",
       "      <td>0</td>\n",
       "      <td>7.2500</td>\n",
       "      <td>xxx</td>\n",
       "      <td>S</td>\n",
       "    </tr>\n",
       "    <tr>\n",
       "      <th>2</th>\n",
       "      <td>1</td>\n",
       "      <td>1</td>\n",
       "      <td>38.0</td>\n",
       "      <td>1</td>\n",
       "      <td>0</td>\n",
       "      <td>71.2833</td>\n",
       "      <td>C85</td>\n",
       "      <td>C</td>\n",
       "    </tr>\n",
       "  </tbody>\n",
       "</table>\n",
       "</div>"
      ],
      "text/plain": [
       "             Pclass  Sex   Age  SibSp  Parch     Fare Cabin Embarked\n",
       "PassengerId                                                         \n",
       "1                 3    0  22.0      1      0   7.2500   xxx        S\n",
       "2                 1    1  38.0      1      0  71.2833   C85        C"
      ]
     },
     "execution_count": 261,
     "metadata": {},
     "output_type": "execute_result"
    },
    {
     "data": {
      "image/png": "[encoded data removed]",
      "text/plain": [
       "<Figure size 432x288 with 1 Axes>"
      ]
     },
     "metadata": {
      "needs_background": "light"
     },
     "output_type": "display_data"
    }
   ],
   "source": [
    "# ① 将 Sex 的str分类标签,改成 0 和 1 (此代码不要执行多遍)\n",
    "print(train_test_feature[\"Sex\"].value_counts())\n",
    "\n",
    "train_test_feature[\"Sex\"] = [1 if gender==\"female\" else 0 for gender in train_test_feature[\"Sex\"]]\n",
    "train_test_feature[\"Sex\"].hist()\n",
    "train_test_feature.head(2)"
   ]
  },
  {
   "cell_type": "code",
   "execution_count": 262,
   "metadata": {},
   "outputs": [
    {
     "name": "stdout",
     "output_type": "stream",
     "text": [
      "C    709\n",
      "A    323\n",
      "B    277\n",
      "Name: Pclass, dtype: int64\n"
     ]
    }
   ],
   "source": [
    "# ② 将Pclass 数值型 转化为 字符型\n",
    "train_test_feature[\"Pclass\"][train_test_feature[\"Pclass\"] == 1] = \"A\"\n",
    "train_test_feature[\"Pclass\"][train_test_feature[\"Pclass\"] == 2] = \"B\"\n",
    "train_test_feature[\"Pclass\"][train_test_feature[\"Pclass\"] == 3] = \"C\"\n",
    "print(train_test_feature[\"Pclass\"].value_counts())"
   ]
  },
  {
   "cell_type": "code",
   "execution_count": 263,
   "metadata": {},
   "outputs": [
    {
     "data": {
      "text/html": [
       "<div>\n",
       "<style scoped>\n",
       "    .dataframe tbody tr th:only-of-type {\n",
       "        vertical-align: middle;\n",
       "    }\n",
       "\n",
       "    .dataframe tbody tr th {\n",
       "        vertical-align: top;\n",
       "    }\n",
       "\n",
       "    .dataframe thead th {\n",
       "        text-align: right;\n",
       "    }\n",
       "</style>\n",
       "<table border=\"1\" class=\"dataframe\">\n",
       "  <thead>\n",
       "    <tr style=\"text-align: right;\">\n",
       "      <th></th>\n",
       "      <th>Pclass</th>\n",
       "      <th>Sex</th>\n",
       "      <th>Age</th>\n",
       "      <th>SibSp</th>\n",
       "      <th>Parch</th>\n",
       "      <th>Fare</th>\n",
       "      <th>Cabin</th>\n",
       "      <th>Embarked</th>\n",
       "    </tr>\n",
       "    <tr>\n",
       "      <th>PassengerId</th>\n",
       "      <th></th>\n",
       "      <th></th>\n",
       "      <th></th>\n",
       "      <th></th>\n",
       "      <th></th>\n",
       "      <th></th>\n",
       "      <th></th>\n",
       "      <th></th>\n",
       "    </tr>\n",
       "  </thead>\n",
       "  <tbody>\n",
       "    <tr>\n",
       "      <th>1</th>\n",
       "      <td>C</td>\n",
       "      <td>0</td>\n",
       "      <td>22.0</td>\n",
       "      <td>1</td>\n",
       "      <td>0</td>\n",
       "      <td>7.2500</td>\n",
       "      <td>xxx</td>\n",
       "      <td>S</td>\n",
       "    </tr>\n",
       "    <tr>\n",
       "      <th>2</th>\n",
       "      <td>A</td>\n",
       "      <td>1</td>\n",
       "      <td>38.0</td>\n",
       "      <td>1</td>\n",
       "      <td>0</td>\n",
       "      <td>71.2833</td>\n",
       "      <td>C85</td>\n",
       "      <td>C</td>\n",
       "    </tr>\n",
       "    <tr>\n",
       "      <th>3</th>\n",
       "      <td>C</td>\n",
       "      <td>1</td>\n",
       "      <td>26.0</td>\n",
       "      <td>0</td>\n",
       "      <td>0</td>\n",
       "      <td>7.9250</td>\n",
       "      <td>xxx</td>\n",
       "      <td>S</td>\n",
       "    </tr>\n",
       "    <tr>\n",
       "      <th>4</th>\n",
       "      <td>A</td>\n",
       "      <td>1</td>\n",
       "      <td>35.0</td>\n",
       "      <td>1</td>\n",
       "      <td>0</td>\n",
       "      <td>53.1000</td>\n",
       "      <td>C123</td>\n",
       "      <td>S</td>\n",
       "    </tr>\n",
       "    <tr>\n",
       "      <th>5</th>\n",
       "      <td>C</td>\n",
       "      <td>0</td>\n",
       "      <td>35.0</td>\n",
       "      <td>0</td>\n",
       "      <td>0</td>\n",
       "      <td>8.0500</td>\n",
       "      <td>xxx</td>\n",
       "      <td>S</td>\n",
       "    </tr>\n",
       "  </tbody>\n",
       "</table>\n",
       "</div>"
      ],
      "text/plain": [
       "            Pclass  Sex   Age  SibSp  Parch     Fare Cabin Embarked\n",
       "PassengerId                                                        \n",
       "1                C    0  22.0      1      0   7.2500   xxx        S\n",
       "2                A    1  38.0      1      0  71.2833   C85        C\n",
       "3                C    1  26.0      0      0   7.9250   xxx        S\n",
       "4                A    1  35.0      1      0  53.1000  C123        S\n",
       "5                C    0  35.0      0      0   8.0500   xxx        S"
      ]
     },
     "execution_count": 263,
     "metadata": {},
     "output_type": "execute_result"
    }
   ],
   "source": [
    "train_test_feature.head()"
   ]
  },
  {
   "cell_type": "code",
   "execution_count": null,
   "metadata": {},
   "outputs": [],
   "source": []
  },
  {
   "cell_type": "code",
   "execution_count": 264,
   "metadata": {
    "scrolled": true
   },
   "outputs": [
    {
     "data": {
      "text/html": [
       "<div>\n",
       "<style scoped>\n",
       "    .dataframe tbody tr th:only-of-type {\n",
       "        vertical-align: middle;\n",
       "    }\n",
       "\n",
       "    .dataframe tbody tr th {\n",
       "        vertical-align: top;\n",
       "    }\n",
       "\n",
       "    .dataframe thead th {\n",
       "        text-align: right;\n",
       "    }\n",
       "</style>\n",
       "<table border=\"1\" class=\"dataframe\">\n",
       "  <thead>\n",
       "    <tr style=\"text-align: right;\">\n",
       "      <th></th>\n",
       "      <th>Sex</th>\n",
       "      <th>Age</th>\n",
       "      <th>SibSp</th>\n",
       "      <th>Parch</th>\n",
       "      <th>Fare</th>\n",
       "      <th>Pclass_A</th>\n",
       "      <th>Pclass_B</th>\n",
       "      <th>Pclass_C</th>\n",
       "      <th>Cabin_A10</th>\n",
       "      <th>Cabin_A11</th>\n",
       "      <th>...</th>\n",
       "      <th>Cabin_F2</th>\n",
       "      <th>Cabin_F33</th>\n",
       "      <th>Cabin_F38</th>\n",
       "      <th>Cabin_F4</th>\n",
       "      <th>Cabin_G6</th>\n",
       "      <th>Cabin_T</th>\n",
       "      <th>Cabin_xxx</th>\n",
       "      <th>Embarked_C</th>\n",
       "      <th>Embarked_Q</th>\n",
       "      <th>Embarked_S</th>\n",
       "    </tr>\n",
       "    <tr>\n",
       "      <th>PassengerId</th>\n",
       "      <th></th>\n",
       "      <th></th>\n",
       "      <th></th>\n",
       "      <th></th>\n",
       "      <th></th>\n",
       "      <th></th>\n",
       "      <th></th>\n",
       "      <th></th>\n",
       "      <th></th>\n",
       "      <th></th>\n",
       "      <th></th>\n",
       "      <th></th>\n",
       "      <th></th>\n",
       "      <th></th>\n",
       "      <th></th>\n",
       "      <th></th>\n",
       "      <th></th>\n",
       "      <th></th>\n",
       "      <th></th>\n",
       "      <th></th>\n",
       "      <th></th>\n",
       "    </tr>\n",
       "  </thead>\n",
       "  <tbody>\n",
       "    <tr>\n",
       "      <th>1</th>\n",
       "      <td>0</td>\n",
       "      <td>22.0</td>\n",
       "      <td>1</td>\n",
       "      <td>0</td>\n",
       "      <td>7.2500</td>\n",
       "      <td>0</td>\n",
       "      <td>0</td>\n",
       "      <td>1</td>\n",
       "      <td>0</td>\n",
       "      <td>0</td>\n",
       "      <td>...</td>\n",
       "      <td>0</td>\n",
       "      <td>0</td>\n",
       "      <td>0</td>\n",
       "      <td>0</td>\n",
       "      <td>0</td>\n",
       "      <td>0</td>\n",
       "      <td>1</td>\n",
       "      <td>0</td>\n",
       "      <td>0</td>\n",
       "      <td>1</td>\n",
       "    </tr>\n",
       "    <tr>\n",
       "      <th>2</th>\n",
       "      <td>1</td>\n",
       "      <td>38.0</td>\n",
       "      <td>1</td>\n",
       "      <td>0</td>\n",
       "      <td>71.2833</td>\n",
       "      <td>1</td>\n",
       "      <td>0</td>\n",
       "      <td>0</td>\n",
       "      <td>0</td>\n",
       "      <td>0</td>\n",
       "      <td>...</td>\n",
       "      <td>0</td>\n",
       "      <td>0</td>\n",
       "      <td>0</td>\n",
       "      <td>0</td>\n",
       "      <td>0</td>\n",
       "      <td>0</td>\n",
       "      <td>0</td>\n",
       "      <td>1</td>\n",
       "      <td>0</td>\n",
       "      <td>0</td>\n",
       "    </tr>\n",
       "    <tr>\n",
       "      <th>3</th>\n",
       "      <td>1</td>\n",
       "      <td>26.0</td>\n",
       "      <td>0</td>\n",
       "      <td>0</td>\n",
       "      <td>7.9250</td>\n",
       "      <td>0</td>\n",
       "      <td>0</td>\n",
       "      <td>1</td>\n",
       "      <td>0</td>\n",
       "      <td>0</td>\n",
       "      <td>...</td>\n",
       "      <td>0</td>\n",
       "      <td>0</td>\n",
       "      <td>0</td>\n",
       "      <td>0</td>\n",
       "      <td>0</td>\n",
       "      <td>0</td>\n",
       "      <td>1</td>\n",
       "      <td>0</td>\n",
       "      <td>0</td>\n",
       "      <td>1</td>\n",
       "    </tr>\n",
       "    <tr>\n",
       "      <th>4</th>\n",
       "      <td>1</td>\n",
       "      <td>35.0</td>\n",
       "      <td>1</td>\n",
       "      <td>0</td>\n",
       "      <td>53.1000</td>\n",
       "      <td>1</td>\n",
       "      <td>0</td>\n",
       "      <td>0</td>\n",
       "      <td>0</td>\n",
       "      <td>0</td>\n",
       "      <td>...</td>\n",
       "      <td>0</td>\n",
       "      <td>0</td>\n",
       "      <td>0</td>\n",
       "      <td>0</td>\n",
       "      <td>0</td>\n",
       "      <td>0</td>\n",
       "      <td>0</td>\n",
       "      <td>0</td>\n",
       "      <td>0</td>\n",
       "      <td>1</td>\n",
       "    </tr>\n",
       "    <tr>\n",
       "      <th>5</th>\n",
       "      <td>0</td>\n",
       "      <td>35.0</td>\n",
       "      <td>0</td>\n",
       "      <td>0</td>\n",
       "      <td>8.0500</td>\n",
       "      <td>0</td>\n",
       "      <td>0</td>\n",
       "      <td>1</td>\n",
       "      <td>0</td>\n",
       "      <td>0</td>\n",
       "      <td>...</td>\n",
       "      <td>0</td>\n",
       "      <td>0</td>\n",
       "      <td>0</td>\n",
       "      <td>0</td>\n",
       "      <td>0</td>\n",
       "      <td>0</td>\n",
       "      <td>1</td>\n",
       "      <td>0</td>\n",
       "      <td>0</td>\n",
       "      <td>1</td>\n",
       "    </tr>\n",
       "  </tbody>\n",
       "</table>\n",
       "<p>5 rows × 198 columns</p>\n",
       "</div>"
      ],
      "text/plain": [
       "             Sex   Age  SibSp  Parch     Fare  Pclass_A  Pclass_B  Pclass_C  \\\n",
       "PassengerId                                                                   \n",
       "1              0  22.0      1      0   7.2500         0         0         1   \n",
       "2              1  38.0      1      0  71.2833         1         0         0   \n",
       "3              1  26.0      0      0   7.9250         0         0         1   \n",
       "4              1  35.0      1      0  53.1000         1         0         0   \n",
       "5              0  35.0      0      0   8.0500         0         0         1   \n",
       "\n",
       "             Cabin_A10  Cabin_A11     ...      Cabin_F2  Cabin_F33  Cabin_F38  \\\n",
       "PassengerId                           ...                                       \n",
       "1                    0          0     ...             0          0          0   \n",
       "2                    0          0     ...             0          0          0   \n",
       "3                    0          0     ...             0          0          0   \n",
       "4                    0          0     ...             0          0          0   \n",
       "5                    0          0     ...             0          0          0   \n",
       "\n",
       "             Cabin_F4  Cabin_G6  Cabin_T  Cabin_xxx  Embarked_C  Embarked_Q  \\\n",
       "PassengerId                                                                   \n",
       "1                   0         0        0          1           0           0   \n",
       "2                   0         0        0          0           1           0   \n",
       "3                   0         0        0          1           0           0   \n",
       "4                   0         0        0          0           0           0   \n",
       "5                   0         0        0          1           0           0   \n",
       "\n",
       "             Embarked_S  \n",
       "PassengerId              \n",
       "1                     1  \n",
       "2                     0  \n",
       "3                     1  \n",
       "4                     1  \n",
       "5                     1  \n",
       "\n",
       "[5 rows x 198 columns]"
      ]
     },
     "execution_count": 264,
     "metadata": {},
     "output_type": "execute_result"
    }
   ],
   "source": [
    "# ③ 一次性独热编码\n",
    "train_test_feature_dummy = pd.get_dummies(train_test_feature)\n",
    "train_test_feature_dummy.head()"
   ]
  },
  {
   "cell_type": "code",
   "execution_count": 265,
   "metadata": {},
   "outputs": [],
   "source": [
    "# ④ 数值型归一化？ （其实也没啥作用）—— 此处应该不适合，归一后sex变成连续值，age也变成负数\n",
    "# 归一化应该不太适合分类型的数值 ——→较适合回归问题"
   ]
  },
  {
   "cell_type": "code",
   "execution_count": 30,
   "metadata": {},
   "outputs": [],
   "source": [
    "# numerical_features = train_test_feature_dummy.dtypes != \"uint8\"\n",
    "# numerical_features_index = numerical_features.index[numerical_features]\n",
    "# numerical_features_index"
   ]
  },
  {
   "cell_type": "code",
   "execution_count": 31,
   "metadata": {},
   "outputs": [],
   "source": [
    "# import sklearn.preprocessing as sp\n",
    "# train_test_feature_dummy[numerical_features_index] = sp.scale(train_test_feature_dummy[numerical_features_index])\n",
    "# train_test_feature_dummy.head()"
   ]
  },
  {
   "cell_type": "code",
   "execution_count": null,
   "metadata": {},
   "outputs": [],
   "source": []
  },
  {
   "cell_type": "code",
   "execution_count": 32,
   "metadata": {},
   "outputs": [],
   "source": [
    "# 四、 train，test 数据集分离"
   ]
  },
  {
   "cell_type": "code",
   "execution_count": 266,
   "metadata": {},
   "outputs": [
    {
     "name": "stdout",
     "output_type": "stream",
     "text": [
      "(891, 198)\n",
      "(418, 198)\n"
     ]
    }
   ],
   "source": [
    "train_features = train_test_feature_dummy.loc[train_features.index]\n",
    "test_features = train_test_feature_dummy.loc[test_features.index]\n",
    "print(train_features.shape)\n",
    "print(test_features.shape)"
   ]
  },
  {
   "cell_type": "code",
   "execution_count": null,
   "metadata": {},
   "outputs": [],
   "source": []
  },
  {
   "cell_type": "code",
   "execution_count": null,
   "metadata": {},
   "outputs": [],
   "source": []
  },
  {
   "cell_type": "markdown",
   "metadata": {},
   "source": [
    "# 五、 模型选择"
   ]
  },
  {
   "cell_type": "code",
   "execution_count": 34,
   "metadata": {},
   "outputs": [],
   "source": [
    "# 五（一）、 传统机器学习"
   ]
  },
  {
   "cell_type": "code",
   "execution_count": 35,
   "metadata": {},
   "outputs": [],
   "source": [
    "import sklearn.model_selection as ms\n",
    "from sklearn.ensemble import RandomForestClassifier\n",
    "from xgboost import XGBClassifier"
   ]
  },
  {
   "cell_type": "code",
   "execution_count": 36,
   "metadata": {},
   "outputs": [
    {
     "data": {
      "text/plain": [
       "array([0.71641791, 0.72868217, 0.77697842, 0.76335878, 0.69354839])"
      ]
     },
     "execution_count": 36,
     "metadata": {},
     "output_type": "execute_result"
    }
   ],
   "source": [
    "# 先随便设一个模型跑一下，主要想检验一下数据清洗是否正常？\n",
    "model = RandomForestClassifier(n_estimators=100, random_state=618)\n",
    "temp = np.random.permutation(pd.concat([train_features, train_labels], axis=1))  # 只是为了打乱顺序后去做个交叉验证，试试数据是否干净\n",
    "ms.cross_val_score(model, temp[:, :-1], temp[:, -1:], cv=5, scoring=\"f1\")  # 测试用的，代码本身并不重要"
   ]
  },
  {
   "cell_type": "code",
   "execution_count": 37,
   "metadata": {},
   "outputs": [
    {
     "data": {
      "text/plain": [
       "array([[0.75977654, 0.78212291, 0.80898876, 0.76966292, 0.81920904],\n",
       "       [0.7877095 , 0.7877095 , 0.84269663, 0.76966292, 0.83050847],\n",
       "       [0.74860335, 0.79888268, 0.84831461, 0.80337079, 0.84180791],\n",
       "       [0.76536313, 0.7877095 , 0.8258427 , 0.79213483, 0.86440678]])"
      ]
     },
     "execution_count": 37,
     "metadata": {},
     "output_type": "execute_result"
    }
   ],
   "source": [
    "# 学习曲线： 看看怎样的train、varify 比例会更好？  （但感觉没啥用，都是运气成分）\n",
    "_, __, score_matrix = ms.learning_curve(model, train_features, train_labels, train_sizes=[0.6, 0.7, 0.8, 0.9], cv=5)\n",
    "score_matrix"
   ]
  },
  {
   "cell_type": "code",
   "execution_count": 38,
   "metadata": {},
   "outputs": [
    {
     "data": {
      "text/plain": [
       "array([0.78795203, 0.8036574 , 0.80819587, 0.80709139])"
      ]
     },
     "execution_count": 38,
     "metadata": {},
     "output_type": "execute_result"
    }
   ],
   "source": [
    "score_matrix.mean(axis=1)  # 发现0.8的学习比例可能稍微好一些"
   ]
  },
  {
   "cell_type": "code",
   "execution_count": 39,
   "metadata": {},
   "outputs": [
    {
     "name": "stdout",
     "output_type": "stream",
     "text": [
      "(712, 198)\n",
      "(179, 198)\n"
     ]
    }
   ],
   "source": [
    "# 训练集和验证集进行分割  (使用上面测出来的0.8作为分割比例)\n",
    "train_features_split, varify_features_split, train_labels_split, varify_labels_split = ms.train_test_split(train_features, train_labels, test_size=0.2, random_state=618)\n",
    "print(train_features_split.shape)\n",
    "print(varify_features_split.shape)"
   ]
  },
  {
   "cell_type": "code",
   "execution_count": 40,
   "metadata": {},
   "outputs": [
    {
     "name": "stdout",
     "output_type": "stream",
     "text": [
      "0.8117977528089888 {'n_estimators': 200}\n"
     ]
    },
    {
     "data": {
      "text/plain": [
       "{'mean_fit_time': array([0.17595156, 0.374753  , 0.55837186, 0.69830116, 0.86557937]),\n",
       " 'std_fit_time': array([0.0178177 , 0.05142016, 0.04328569, 0.04402832, 0.01668887]),\n",
       " 'mean_score_time': array([0.01617726, 0.03185423, 0.04803276, 0.05820632, 0.07221405]),\n",
       " 'std_score_time': array([0.00143616, 0.00403058, 0.00414693, 0.00023535, 0.00062492]),\n",
       " 'param_n_estimators': masked_array(data=[100, 200, 300, 400, 500],\n",
       "              mask=[False, False, False, False, False],\n",
       "        fill_value='?',\n",
       "             dtype=object),\n",
       " 'params': [{'n_estimators': 100},\n",
       "  {'n_estimators': 200},\n",
       "  {'n_estimators': 300},\n",
       "  {'n_estimators': 400},\n",
       "  {'n_estimators': 500}],\n",
       " 'split0_test_score': array([0.80252101, 0.82352941, 0.81932773, 0.81092437, 0.81512605]),\n",
       " 'split1_test_score': array([0.80590717, 0.8185654 , 0.82278481, 0.82278481, 0.82278481]),\n",
       " 'split2_test_score': array([0.78481013, 0.79324895, 0.78481013, 0.78481013, 0.78059072]),\n",
       " 'mean_test_score': array([0.79775281, 0.81179775, 0.80898876, 0.80617978, 0.80617978]),\n",
       " 'std_test_score': array([0.00924622, 0.01325808, 0.01713713, 0.01585281, 0.01834376]),\n",
       " 'rank_test_score': array([5, 1, 2, 3, 3]),\n",
       " 'split0_train_score': array([0.98312236, 0.98312236, 0.98312236, 0.98312236, 0.98312236]),\n",
       " 'split1_train_score': array([0.98105263, 0.98315789, 0.98315789, 0.98315789, 0.98315789]),\n",
       " 'split2_train_score': array([0.98736842, 0.98736842, 0.98736842, 0.98736842, 0.98736842]),\n",
       " 'mean_train_score': array([0.98384781, 0.98454956, 0.98454956, 0.98454956, 0.98454956]),\n",
       " 'std_train_score': array([0.00262894, 0.00199329, 0.00199329, 0.00199329, 0.00199329])}"
      ]
     },
     "execution_count": 40,
     "metadata": {},
     "output_type": "execute_result"
    }
   ],
   "source": [
    "# 进行交叉验证，选择最佳模型（此处，只是选择“树”的数量）——（仅是为了案例完整性，意义并不大）\n",
    "model = RandomForestClassifier(n_estimators=100, random_state=618)\n",
    "para_list = [{\"n_estimators\":[100, 200, 300, 400, 500]}]\n",
    "model = ms.GridSearchCV(model, para_list, cv=3)\n",
    "model.fit(train_features_split, train_labels_split)\n",
    "print(model.best_score_, model.best_params_)\n",
    "model.cv_results_"
   ]
  },
  {
   "cell_type": "code",
   "execution_count": 41,
   "metadata": {},
   "outputs": [
    {
     "data": {
      "text/plain": [
       "0.8547486033519553"
      ]
     },
     "execution_count": 41,
     "metadata": {},
     "output_type": "execute_result"
    }
   ],
   "source": [
    "# 使用网格搜索后的模型（即训练好的模型）  做预测、评分\n",
    "# model = RandomForestClassifier(n_estimators=100, random_state=618)\n",
    "# model.fit(train_features_split, train_labels_split)\n",
    "model.score(varify_features_split, varify_labels_split)"
   ]
  },
  {
   "cell_type": "code",
   "execution_count": 42,
   "metadata": {},
   "outputs": [
    {
     "data": {
      "text/plain": [
       "(418,)"
      ]
     },
     "execution_count": 42,
     "metadata": {},
     "output_type": "execute_result"
    }
   ],
   "source": [
    "# 开始对 test_features 做真正的预测：\n",
    "pred_y = model.predict(test_features)\n",
    "pred_y.shape"
   ]
  },
  {
   "cell_type": "code",
   "execution_count": 43,
   "metadata": {},
   "outputs": [],
   "source": [
    "Y = pd.DataFrame(test_features.index)\n",
    "Y[\"Survived\"] = pred_y"
   ]
  },
  {
   "cell_type": "code",
   "execution_count": 44,
   "metadata": {},
   "outputs": [
    {
     "data": {
      "text/html": [
       "<div>\n",
       "<style scoped>\n",
       "    .dataframe tbody tr th:only-of-type {\n",
       "        vertical-align: middle;\n",
       "    }\n",
       "\n",
       "    .dataframe tbody tr th {\n",
       "        vertical-align: top;\n",
       "    }\n",
       "\n",
       "    .dataframe thead th {\n",
       "        text-align: right;\n",
       "    }\n",
       "</style>\n",
       "<table border=\"1\" class=\"dataframe\">\n",
       "  <thead>\n",
       "    <tr style=\"text-align: right;\">\n",
       "      <th></th>\n",
       "      <th>PassengerId</th>\n",
       "      <th>Survived</th>\n",
       "    </tr>\n",
       "  </thead>\n",
       "  <tbody>\n",
       "    <tr>\n",
       "      <th>0</th>\n",
       "      <td>892</td>\n",
       "      <td>0</td>\n",
       "    </tr>\n",
       "    <tr>\n",
       "      <th>1</th>\n",
       "      <td>893</td>\n",
       "      <td>0</td>\n",
       "    </tr>\n",
       "    <tr>\n",
       "      <th>2</th>\n",
       "      <td>894</td>\n",
       "      <td>0</td>\n",
       "    </tr>\n",
       "    <tr>\n",
       "      <th>3</th>\n",
       "      <td>895</td>\n",
       "      <td>0</td>\n",
       "    </tr>\n",
       "    <tr>\n",
       "      <th>4</th>\n",
       "      <td>896</td>\n",
       "      <td>0</td>\n",
       "    </tr>\n",
       "  </tbody>\n",
       "</table>\n",
       "</div>"
      ],
      "text/plain": [
       "   PassengerId  Survived\n",
       "0          892         0\n",
       "1          893         0\n",
       "2          894         0\n",
       "3          895         0\n",
       "4          896         0"
      ]
     },
     "execution_count": 44,
     "metadata": {},
     "output_type": "execute_result"
    }
   ],
   "source": [
    "Y.head()"
   ]
  },
  {
   "cell_type": "code",
   "execution_count": 45,
   "metadata": {},
   "outputs": [],
   "source": [
    "Y.to_csv(\"gender_submission.csv\", index=False)"
   ]
  },
  {
   "cell_type": "code",
   "execution_count": null,
   "metadata": {},
   "outputs": [],
   "source": []
  },
  {
   "cell_type": "code",
   "execution_count": 46,
   "metadata": {},
   "outputs": [
    {
     "data": {
      "text/plain": [
       "0.8100558659217877"
      ]
     },
     "execution_count": 46,
     "metadata": {},
     "output_type": "execute_result"
    }
   ],
   "source": [
    "# 使用xgboost试试分数：\n",
    "model = XGBClassifier(max_depth=100)\n",
    "# model = RandomForestClassifier(n_estimators=100, random_state=618)\n",
    "model.fit(train_features_split, train_labels_split)\n",
    "model.score(varify_features_split, varify_labels_split)"
   ]
  },
  {
   "cell_type": "code",
   "execution_count": 47,
   "metadata": {},
   "outputs": [],
   "source": [
    "_, __, score_matrix = ms.learning_curve(model, train_features, train_labels, train_sizes=[0.6, 0.7, 0.8, 0.9], cv=5)"
   ]
  },
  {
   "cell_type": "code",
   "execution_count": 48,
   "metadata": {},
   "outputs": [
    {
     "data": {
      "text/plain": [
       "array([0.81149754, 0.81490613, 0.82050527, 0.81717864])"
      ]
     },
     "execution_count": 48,
     "metadata": {},
     "output_type": "execute_result"
    }
   ],
   "source": [
    "score_matrix.mean(1)"
   ]
  },
  {
   "cell_type": "code",
   "execution_count": 49,
   "metadata": {},
   "outputs": [
    {
     "name": "stdout",
     "output_type": "stream",
     "text": [
      "(712, 198)\n",
      "(179, 198)\n"
     ]
    }
   ],
   "source": [
    "# 训练集和验证集进行分割  (使用上面测出来的0.8作为分割比例)\n",
    "train_features_split, varify_features_split, train_labels_split, varify_labels_split = ms.train_test_split(train_features, train_labels, test_size=0.2, random_state=618)\n",
    "print(train_features_split.shape)\n",
    "print(varify_features_split.shape)"
   ]
  },
  {
   "cell_type": "code",
   "execution_count": 50,
   "metadata": {},
   "outputs": [
    {
     "name": "stdout",
     "output_type": "stream",
     "text": [
      "0.800561797752809 {'max_depth': 100}\n"
     ]
    },
    {
     "data": {
      "text/plain": [
       "{'mean_fit_time': array([1.38192693, 1.36507758, 1.37508543, 1.36359771, 1.36279567]),\n",
       " 'std_fit_time': array([0.03084342, 0.03769008, 0.04412499, 0.04326299, 0.03960818]),\n",
       " 'mean_score_time': array([0.00717187, 0.00700545, 0.00783968, 0.0068353 , 0.00667159]),\n",
       " 'std_score_time': array([0.00023569, 0.00040997, 0.00047272, 0.0002336 , 0.00023625]),\n",
       " 'param_max_depth': masked_array(data=[100, 200, 300, 400, 500],\n",
       "              mask=[False, False, False, False, False],\n",
       "        fill_value='?',\n",
       "             dtype=object),\n",
       " 'params': [{'max_depth': 100},\n",
       "  {'max_depth': 200},\n",
       "  {'max_depth': 300},\n",
       "  {'max_depth': 400},\n",
       "  {'max_depth': 500}],\n",
       " 'split0_test_score': array([0.80252101, 0.80252101, 0.80252101, 0.80252101, 0.80252101]),\n",
       " 'split1_test_score': array([0.8185654, 0.8185654, 0.8185654, 0.8185654, 0.8185654]),\n",
       " 'split2_test_score': array([0.78059072, 0.78059072, 0.78059072, 0.78059072, 0.78059072]),\n",
       " 'mean_test_score': array([0.8005618, 0.8005618, 0.8005618, 0.8005618, 0.8005618]),\n",
       " 'std_test_score': array([0.01555429, 0.01555429, 0.01555429, 0.01555429, 0.01555429]),\n",
       " 'rank_test_score': array([1, 1, 1, 1, 1]),\n",
       " 'split0_train_score': array([0.96413502, 0.96413502, 0.96413502, 0.96413502, 0.96413502]),\n",
       " 'split1_train_score': array([0.97052632, 0.97052632, 0.97052632, 0.97052632, 0.97052632]),\n",
       " 'split2_train_score': array([0.97473684, 0.97473684, 0.97473684, 0.97473684, 0.97473684]),\n",
       " 'mean_train_score': array([0.96979939, 0.96979939, 0.96979939, 0.96979939, 0.96979939]),\n",
       " 'std_train_score': array([0.00435859, 0.00435859, 0.00435859, 0.00435859, 0.00435859])}"
      ]
     },
     "execution_count": 50,
     "metadata": {},
     "output_type": "execute_result"
    }
   ],
   "source": [
    "# 进行交叉验证，选择最佳模型（此处，只是选择“树”的数量）——（仅是为了案例完整性，意义并不大）\n",
    "model = XGBClassifier(max_depth=100)\n",
    "para_list = [{\"max_depth\":[100, 200, 300, 400, 500]}]\n",
    "model = ms.GridSearchCV(model, para_list, cv=3)\n",
    "model.fit(train_features_split, train_labels_split)\n",
    "print(model.best_score_, model.best_params_)\n",
    "model.cv_results_"
   ]
  },
  {
   "cell_type": "code",
   "execution_count": 51,
   "metadata": {},
   "outputs": [
    {
     "data": {
      "text/plain": [
       "0.8100558659217877"
      ]
     },
     "execution_count": 51,
     "metadata": {},
     "output_type": "execute_result"
    }
   ],
   "source": [
    "model.score(varify_features_split, varify_labels_split)"
   ]
  },
  {
   "cell_type": "code",
   "execution_count": 52,
   "metadata": {},
   "outputs": [],
   "source": [
    "pred_y = model.predict(test_features)\n",
    "Y2 = pd.DataFrame(test_features.index)\n",
    "Y2[\"Survived\"] = pred_y\n",
    "Y2.to_csv(\"gender_submission2.csv\", index=False)"
   ]
  },
  {
   "cell_type": "code",
   "execution_count": null,
   "metadata": {},
   "outputs": [],
   "source": []
  },
  {
   "cell_type": "code",
   "execution_count": null,
   "metadata": {},
   "outputs": [],
   "source": []
  },
  {
   "cell_type": "code",
   "execution_count": null,
   "metadata": {},
   "outputs": [],
   "source": []
  },
  {
   "cell_type": "code",
   "execution_count": 53,
   "metadata": {},
   "outputs": [],
   "source": [
    "# 五（二）、 深度神经网络"
   ]
  },
  {
   "cell_type": "code",
   "execution_count": null,
   "metadata": {},
   "outputs": [],
   "source": []
  },
  {
   "cell_type": "code",
   "execution_count": 339,
   "metadata": {},
   "outputs": [
    {
     "data": {
      "text/plain": [
       "198"
      ]
     },
     "execution_count": 339,
     "metadata": {},
     "output_type": "execute_result"
    }
   ],
   "source": [
    "# 一。 数据处理、准备阶段\n",
    "\n",
    "#训练集\n",
    "train_features_split = pd.DataFrame(train_features_split)\n",
    "train_labels_split = pd.DataFrame(train_labels_split, columns=[\"Survived\"])\n",
    "train_labels_split[\"Dead\"] = np.array(train_labels_split[\"Survived\"] == 0, dtype=\"int\")\n",
    "# 因为我的神经网络模型是多分类的，这里把它转成多个输出维度。 （只是用于简便计算）\n",
    "\n",
    "\n",
    "#验证集\n",
    "varify_features_split = pd.DataFrame(varify_features_split)\n",
    "varify_labels_split = pd.DataFrame(varify_labels_split, columns=[\"Survived\"])\n",
    "varify_labels_split[\"Dead\"] = np.array(varify_labels_split[\"Survived\"] == 0, dtype=\"int\")\n",
    "\n",
    "#测试集（提交试用）\n",
    "test_features = test_features\n",
    "\n",
    "train_data_num = train_features.shape[1]\n",
    "train_data_num"
   ]
  },
  {
   "cell_type": "code",
   "execution_count": 340,
   "metadata": {},
   "outputs": [
    {
     "data": {
      "text/html": [
       "<div>\n",
       "<style scoped>\n",
       "    .dataframe tbody tr th:only-of-type {\n",
       "        vertical-align: middle;\n",
       "    }\n",
       "\n",
       "    .dataframe tbody tr th {\n",
       "        vertical-align: top;\n",
       "    }\n",
       "\n",
       "    .dataframe thead th {\n",
       "        text-align: right;\n",
       "    }\n",
       "</style>\n",
       "<table border=\"1\" class=\"dataframe\">\n",
       "  <thead>\n",
       "    <tr style=\"text-align: right;\">\n",
       "      <th></th>\n",
       "      <th>Sex</th>\n",
       "      <th>Age</th>\n",
       "      <th>SibSp</th>\n",
       "      <th>Parch</th>\n",
       "      <th>Fare</th>\n",
       "      <th>Pclass_A</th>\n",
       "      <th>Pclass_B</th>\n",
       "      <th>Pclass_C</th>\n",
       "      <th>Cabin_A10</th>\n",
       "      <th>Cabin_A11</th>\n",
       "      <th>...</th>\n",
       "      <th>Cabin_F2</th>\n",
       "      <th>Cabin_F33</th>\n",
       "      <th>Cabin_F38</th>\n",
       "      <th>Cabin_F4</th>\n",
       "      <th>Cabin_G6</th>\n",
       "      <th>Cabin_T</th>\n",
       "      <th>Cabin_xxx</th>\n",
       "      <th>Embarked_C</th>\n",
       "      <th>Embarked_Q</th>\n",
       "      <th>Embarked_S</th>\n",
       "    </tr>\n",
       "    <tr>\n",
       "      <th>PassengerId</th>\n",
       "      <th></th>\n",
       "      <th></th>\n",
       "      <th></th>\n",
       "      <th></th>\n",
       "      <th></th>\n",
       "      <th></th>\n",
       "      <th></th>\n",
       "      <th></th>\n",
       "      <th></th>\n",
       "      <th></th>\n",
       "      <th></th>\n",
       "      <th></th>\n",
       "      <th></th>\n",
       "      <th></th>\n",
       "      <th></th>\n",
       "      <th></th>\n",
       "      <th></th>\n",
       "      <th></th>\n",
       "      <th></th>\n",
       "      <th></th>\n",
       "      <th></th>\n",
       "    </tr>\n",
       "  </thead>\n",
       "  <tbody>\n",
       "    <tr>\n",
       "      <th>892</th>\n",
       "      <td>0</td>\n",
       "      <td>34.5</td>\n",
       "      <td>0</td>\n",
       "      <td>0</td>\n",
       "      <td>7.8292</td>\n",
       "      <td>0</td>\n",
       "      <td>0</td>\n",
       "      <td>1</td>\n",
       "      <td>0</td>\n",
       "      <td>0</td>\n",
       "      <td>...</td>\n",
       "      <td>0</td>\n",
       "      <td>0</td>\n",
       "      <td>0</td>\n",
       "      <td>0</td>\n",
       "      <td>0</td>\n",
       "      <td>0</td>\n",
       "      <td>1</td>\n",
       "      <td>0</td>\n",
       "      <td>1</td>\n",
       "      <td>0</td>\n",
       "    </tr>\n",
       "    <tr>\n",
       "      <th>893</th>\n",
       "      <td>1</td>\n",
       "      <td>47.0</td>\n",
       "      <td>1</td>\n",
       "      <td>0</td>\n",
       "      <td>7.0000</td>\n",
       "      <td>0</td>\n",
       "      <td>0</td>\n",
       "      <td>1</td>\n",
       "      <td>0</td>\n",
       "      <td>0</td>\n",
       "      <td>...</td>\n",
       "      <td>0</td>\n",
       "      <td>0</td>\n",
       "      <td>0</td>\n",
       "      <td>0</td>\n",
       "      <td>0</td>\n",
       "      <td>0</td>\n",
       "      <td>1</td>\n",
       "      <td>0</td>\n",
       "      <td>0</td>\n",
       "      <td>1</td>\n",
       "    </tr>\n",
       "    <tr>\n",
       "      <th>894</th>\n",
       "      <td>0</td>\n",
       "      <td>62.0</td>\n",
       "      <td>0</td>\n",
       "      <td>0</td>\n",
       "      <td>9.6875</td>\n",
       "      <td>0</td>\n",
       "      <td>1</td>\n",
       "      <td>0</td>\n",
       "      <td>0</td>\n",
       "      <td>0</td>\n",
       "      <td>...</td>\n",
       "      <td>0</td>\n",
       "      <td>0</td>\n",
       "      <td>0</td>\n",
       "      <td>0</td>\n",
       "      <td>0</td>\n",
       "      <td>0</td>\n",
       "      <td>1</td>\n",
       "      <td>0</td>\n",
       "      <td>1</td>\n",
       "      <td>0</td>\n",
       "    </tr>\n",
       "    <tr>\n",
       "      <th>895</th>\n",
       "      <td>0</td>\n",
       "      <td>27.0</td>\n",
       "      <td>0</td>\n",
       "      <td>0</td>\n",
       "      <td>8.6625</td>\n",
       "      <td>0</td>\n",
       "      <td>0</td>\n",
       "      <td>1</td>\n",
       "      <td>0</td>\n",
       "      <td>0</td>\n",
       "      <td>...</td>\n",
       "      <td>0</td>\n",
       "      <td>0</td>\n",
       "      <td>0</td>\n",
       "      <td>0</td>\n",
       "      <td>0</td>\n",
       "      <td>0</td>\n",
       "      <td>1</td>\n",
       "      <td>0</td>\n",
       "      <td>0</td>\n",
       "      <td>1</td>\n",
       "    </tr>\n",
       "    <tr>\n",
       "      <th>896</th>\n",
       "      <td>1</td>\n",
       "      <td>22.0</td>\n",
       "      <td>1</td>\n",
       "      <td>1</td>\n",
       "      <td>12.2875</td>\n",
       "      <td>0</td>\n",
       "      <td>0</td>\n",
       "      <td>1</td>\n",
       "      <td>0</td>\n",
       "      <td>0</td>\n",
       "      <td>...</td>\n",
       "      <td>0</td>\n",
       "      <td>0</td>\n",
       "      <td>0</td>\n",
       "      <td>0</td>\n",
       "      <td>0</td>\n",
       "      <td>0</td>\n",
       "      <td>1</td>\n",
       "      <td>0</td>\n",
       "      <td>0</td>\n",
       "      <td>1</td>\n",
       "    </tr>\n",
       "  </tbody>\n",
       "</table>\n",
       "<p>5 rows × 198 columns</p>\n",
       "</div>"
      ],
      "text/plain": [
       "             Sex   Age  SibSp  Parch     Fare  Pclass_A  Pclass_B  Pclass_C  \\\n",
       "PassengerId                                                                   \n",
       "892            0  34.5      0      0   7.8292         0         0         1   \n",
       "893            1  47.0      1      0   7.0000         0         0         1   \n",
       "894            0  62.0      0      0   9.6875         0         1         0   \n",
       "895            0  27.0      0      0   8.6625         0         0         1   \n",
       "896            1  22.0      1      1  12.2875         0         0         1   \n",
       "\n",
       "             Cabin_A10  Cabin_A11     ...      Cabin_F2  Cabin_F33  Cabin_F38  \\\n",
       "PassengerId                           ...                                       \n",
       "892                  0          0     ...             0          0          0   \n",
       "893                  0          0     ...             0          0          0   \n",
       "894                  0          0     ...             0          0          0   \n",
       "895                  0          0     ...             0          0          0   \n",
       "896                  0          0     ...             0          0          0   \n",
       "\n",
       "             Cabin_F4  Cabin_G6  Cabin_T  Cabin_xxx  Embarked_C  Embarked_Q  \\\n",
       "PassengerId                                                                   \n",
       "892                 0         0        0          1           0           1   \n",
       "893                 0         0        0          1           0           0   \n",
       "894                 0         0        0          1           0           1   \n",
       "895                 0         0        0          1           0           0   \n",
       "896                 0         0        0          1           0           0   \n",
       "\n",
       "             Embarked_S  \n",
       "PassengerId              \n",
       "892                   0  \n",
       "893                   1  \n",
       "894                   0  \n",
       "895                   1  \n",
       "896                   1  \n",
       "\n",
       "[5 rows x 198 columns]"
      ]
     },
     "execution_count": 340,
     "metadata": {},
     "output_type": "execute_result"
    }
   ],
   "source": [
    "test_features.head()"
   ]
  },
  {
   "cell_type": "code",
   "execution_count": 428,
   "metadata": {},
   "outputs": [],
   "source": [
    "# 二。 超参数、placeholder、w、b的设定\n",
    "input_features_num = train_data_num\n",
    "hidden_layer_1_num = 40\n",
    "output_classes= 2\n",
    "\n",
    "\n",
    "x = tf.placeholder(\"float\", [None,input_features_num], \"x\")\n",
    "y = tf.placeholder(\"float\", [None,output_classes], \"y\")\n",
    "\n",
    "\n",
    "weights = {\n",
    "    \"w1\" : tf.Variable(tf.random_normal([input_features_num, hidden_layer_1_num]), \"w1\"),\n",
    "    \"w2\" : tf.Variable(tf.random_normal([hidden_layer_1_num, output_classes]), \"w2\")\n",
    "}\n",
    "biases = {\n",
    "    \"b1\" : tf.Variable(tf.random_normal([hidden_layer_1_num]), \"b1\"),\n",
    "    \"b2\" : tf.Variable(tf.random_normal([output_classes]), \"b2\"),\n",
    "}"
   ]
  },
  {
   "cell_type": "code",
   "execution_count": 429,
   "metadata": {},
   "outputs": [],
   "source": [
    "# 三、 定义模型（网络结构）\n",
    "def mlp(x, weights, biases):\n",
    "    layer_1 = tf.matmul(x, weights[\"w1\"])\n",
    "    layer_1 = tf.add(layer_1, biases[\"b1\"])\n",
    "    layer_1 = tf.nn.relu(layer_1, name=\"relu\")\n",
    "    output = tf.matmul(layer_1, weights[\"w2\"])\n",
    "    output = tf.add(output, biases[\"b2\"])\n",
    "    return output\n",
    "pred_model = mlp(x, weights, biases)"
   ]
  },
  {
   "cell_type": "code",
   "execution_count": 430,
   "metadata": {},
   "outputs": [],
   "source": [
    "# 四、 定义（loss + optimizer + metric）\n",
    "loss_all = tf.nn.softmax_cross_entropy_with_logits_v2(logits=pred_model, labels=y, name=\"cross_entropy\")\n",
    "loss = tf.reduce_mean(loss_all)\n",
    "learning_rate = 0.01\n",
    "optimizer = tf.train.AdamOptimizer(learning_rate=learning_rate).minimize(loss)\n",
    "# TD: metric "
   ]
  },
  {
   "cell_type": "code",
   "execution_count": 444,
   "metadata": {},
   "outputs": [
    {
     "name": "stdout",
     "output_type": "stream",
     "text": [
      "No.0 epoch: average loss = 197.1410\n",
      "No.1 epoch: average loss = 177.3655\n",
      "No.2 epoch: average loss = 157.6366\n",
      "No.3 epoch: average loss = 140.3652\n",
      "No.4 epoch: average loss = 130.4666\n",
      "No.5 epoch: average loss = 122.4573\n",
      "No.6 epoch: average loss = 112.9475\n",
      "No.7 epoch: average loss = 101.7733\n",
      "No.8 epoch: average loss = 89.4239\n",
      "No.9 epoch: average loss = 76.2484\n",
      "No.10 epoch: average loss = 62.5862\n",
      "No.11 epoch: average loss = 49.3962\n",
      "No.12 epoch: average loss = 37.4744\n",
      "No.13 epoch: average loss = 25.7214\n",
      "No.14 epoch: average loss = 14.4461\n",
      "No.15 epoch: average loss = 10.0158\n",
      "No.16 epoch: average loss = 11.8590\n",
      "No.17 epoch: average loss = 13.1554\n",
      "No.18 epoch: average loss = 13.6885\n",
      "No.19 epoch: average loss = 13.7422\n",
      "No.20 epoch: average loss = 13.5693\n",
      "No.21 epoch: average loss = 13.1540\n",
      "No.22 epoch: average loss = 12.2058\n",
      "No.23 epoch: average loss = 10.7538\n",
      "No.24 epoch: average loss = 8.8150\n",
      "No.25 epoch: average loss = 6.5805\n",
      "No.26 epoch: average loss = 4.7041\n",
      "No.27 epoch: average loss = 4.3078\n",
      "No.28 epoch: average loss = 5.0288\n",
      "No.29 epoch: average loss = 4.2508\n",
      "No.30 epoch: average loss = 3.4574\n",
      "No.31 epoch: average loss = 2.9170\n",
      "No.32 epoch: average loss = 2.5821\n",
      "No.33 epoch: average loss = 2.5969\n",
      "No.34 epoch: average loss = 2.3687\n",
      "No.35 epoch: average loss = 1.9260\n",
      "No.36 epoch: average loss = 1.5970\n",
      "No.37 epoch: average loss = 1.5346\n",
      "No.38 epoch: average loss = 1.5516\n",
      "No.39 epoch: average loss = 1.4202\n",
      "No.40 epoch: average loss = 1.1947\n",
      "No.41 epoch: average loss = 1.0976\n",
      "No.42 epoch: average loss = 1.0223\n",
      "No.43 epoch: average loss = 0.9543\n",
      "No.44 epoch: average loss = 0.8740\n",
      "No.45 epoch: average loss = 0.7872\n",
      "No.46 epoch: average loss = 0.7941\n",
      "No.47 epoch: average loss = 0.7199\n",
      "No.48 epoch: average loss = 0.7577\n",
      "No.49 epoch: average loss = 0.7070\n",
      "No.50 epoch: average loss = 0.7070\n",
      "No.51 epoch: average loss = 0.6506\n",
      "No.52 epoch: average loss = 0.6390\n",
      "No.53 epoch: average loss = 0.6458\n",
      "No.54 epoch: average loss = 0.6137\n",
      "No.55 epoch: average loss = 0.5982\n",
      "No.56 epoch: average loss = 0.6015\n",
      "No.57 epoch: average loss = 0.5774\n",
      "No.58 epoch: average loss = 0.5581\n",
      "No.59 epoch: average loss = 0.5482\n"
     ]
    }
   ],
   "source": [
    "#  五、 执行训练模型\n",
    "training_epochs = 60\n",
    "batch_size = 128\n",
    "with tf.Session() as sess:\n",
    "    sess.run(tf.global_variables_initializer())\n",
    "    for i in range(training_epochs):\n",
    "        total_batch_num = math.ceil(train_data_num/batch_size) # 有小数，就往上进（跟地板除的不同）\n",
    "        total_loss = 0\n",
    "        for n in range(total_batch_num):\n",
    "            start_index = n * batch_size\n",
    "            end_index = start_index + batch_size\n",
    "  \n",
    "            xs = train_features_split.iloc[start_index : end_index]\n",
    "            ys = train_labels_split.iloc[start_index : end_index]\n",
    "            \n",
    "            l, _ = sess.run([loss, optimizer], feed_dict={x:xs, y:ys})\n",
    "            total_loss += l\n",
    "        print(\"No.{0} epoch: average loss = {1:.4f}\".format(i, total_loss/total_batch_num))\n",
    "    \n",
    "    # 六、 预测 + 评估     \n",
    "    w,b = sess.run([weights, biases])\n",
    "    pred_y = sess.run(pred_model, feed_dict={x : varify_features_split}) # 此处得到的是模型预测后的分值score\n",
    "    pred_yy = sess.run(tf.nn.softmax(pred_y)) #  经过softmax之后的值，才是各个类别中可能的概率\n",
    "    \n",
    "    \n",
    "    p_y = sess.run(pred_model, feed_dict={x : test_features}) # 此处得到的是模型预测后的分值score\n",
    "    p_yy = sess.run(tf.nn.softmax(p_y)) #  经过softmax之后的值，才是各个类别中可能的概率"
   ]
  },
  {
   "cell_type": "code",
   "execution_count": 445,
   "metadata": {},
   "outputs": [
    {
     "data": {
      "text/plain": [
       "array([0, 1, 1, 0, 1, 0, 1, 1, 0, 0, 1, 1, 1, 0, 0, 1, 0, 1, 1, 1, 1, 1,\n",
       "       1, 0, 1, 1, 1, 0, 1, 1, 1, 1, 1, 1, 0, 1, 1, 0, 1, 1, 1, 1, 0, 1,\n",
       "       0, 0, 1, 0, 1, 0, 0, 1, 0, 0, 1, 1, 1, 1, 0, 0, 1, 0, 1, 0, 0, 1,\n",
       "       0, 0, 1, 0, 1, 1, 1, 0, 1, 1, 0, 0, 1, 1, 0, 0, 0, 0, 0, 1, 1, 0,\n",
       "       0, 1, 0, 0, 0, 0, 1, 1, 1, 1, 1, 0, 1, 0, 1, 1, 1, 1, 1, 0, 1, 1,\n",
       "       0, 1, 1, 1, 0, 1, 1, 0, 0, 1, 1, 0, 1, 1, 0, 0, 1, 1, 0, 0, 1, 1,\n",
       "       1, 0, 1, 0, 1, 1, 1, 0, 1, 1, 1, 1, 0, 1, 1, 1, 0, 1, 0, 1, 0, 1,\n",
       "       1, 1, 1, 1, 1, 0, 1, 1, 1, 1, 1, 1, 1, 0, 0, 1, 1, 0, 1, 1, 0, 1,\n",
       "       1, 1, 1], dtype=int64)"
      ]
     },
     "execution_count": 445,
     "metadata": {},
     "output_type": "execute_result"
    }
   ],
   "source": [
    "ccc = np.argmax(pred_yy, axis=1)\n",
    "ccc"
   ]
  },
  {
   "cell_type": "code",
   "execution_count": 446,
   "metadata": {},
   "outputs": [
    {
     "data": {
      "text/plain": [
       "(179, 2)"
      ]
     },
     "execution_count": 446,
     "metadata": {},
     "output_type": "execute_result"
    }
   ],
   "source": [
    "pred_yy.shape"
   ]
  },
  {
   "cell_type": "code",
   "execution_count": 447,
   "metadata": {},
   "outputs": [
    {
     "data": {
      "text/plain": [
       "array([1, 0, 0, 1, 0, 1, 0, 0, 1, 1, 0, 0, 0, 1, 1, 0, 1, 0, 0, 0, 0, 0,\n",
       "       0, 1, 0, 0, 0, 1, 0, 0, 0, 0, 0, 0, 1, 0, 0, 1, 0, 0, 0, 0, 1, 0,\n",
       "       1, 1, 0, 1, 0, 1, 1, 0, 1, 1, 0, 0, 0, 0, 1, 1, 0, 1, 0, 1, 1, 0,\n",
       "       1, 1, 0, 1, 0, 0, 0, 1, 0, 0, 1, 1, 0, 0, 1, 1, 1, 1, 1, 0, 0, 1,\n",
       "       1, 0, 1, 1, 1, 1, 0, 0, 0, 0, 0, 1, 0, 1, 0, 0, 0, 0, 0, 1, 0, 0,\n",
       "       1, 0, 0, 0, 1, 0, 0, 1, 1, 0, 0, 1, 0, 0, 1, 1, 0, 0, 1, 1, 0, 0,\n",
       "       0, 1, 0, 1, 0, 0, 0, 1, 0, 0, 0, 0, 1, 0, 0, 0, 1, 0, 1, 0, 1, 0,\n",
       "       0, 0, 0, 0, 0, 1, 0, 0, 0, 0, 0, 0, 0, 1, 1, 0, 0, 1, 0, 0, 1, 0,\n",
       "       0, 0, 0])"
      ]
     },
     "execution_count": 447,
     "metadata": {},
     "output_type": "execute_result"
    }
   ],
   "source": [
    "pred_yyy = np.array(ccc == 0, dtype=\"int\")\n",
    "pred_yyy"
   ]
  },
  {
   "cell_type": "code",
   "execution_count": 448,
   "metadata": {},
   "outputs": [
    {
     "data": {
      "text/plain": [
       "array([1, 0, 0, 1, 0, 1, 0, 0, 0, 1, 0, 0, 0, 1, 1, 0, 1, 0, 0, 1, 0, 0,\n",
       "       0, 1, 0, 0, 0, 0, 0, 0, 0, 0, 0, 1, 1, 1, 0, 1, 0, 1, 0, 0, 1, 0,\n",
       "       1, 1, 1, 1, 0, 1, 1, 0, 1, 1, 0, 0, 1, 0, 1, 1, 0, 0, 0, 0, 0, 0,\n",
       "       0, 1, 1, 1, 0, 0, 0, 0, 0, 0, 1, 0, 0, 0, 0, 0, 0, 1, 0, 0, 1, 1,\n",
       "       1, 0, 0, 1, 1, 0, 0, 0, 0, 1, 0, 1, 0, 1, 0, 0, 1, 0, 0, 1, 1, 1,\n",
       "       1, 0, 0, 0, 1, 0, 1, 0, 1, 0, 0, 1, 0, 0, 0, 1, 1, 1, 1, 0, 0, 0,\n",
       "       0, 0, 0, 0, 1, 0, 0, 0, 0, 0, 0, 0, 0, 0, 0, 0, 1, 0, 1, 1, 1, 0,\n",
       "       0, 0, 0, 0, 0, 1, 0, 0, 0, 0, 0, 0, 0, 1, 1, 1, 1, 0, 0, 0, 1, 0,\n",
       "       0, 0, 0], dtype=int64)"
      ]
     },
     "execution_count": 448,
     "metadata": {},
     "output_type": "execute_result"
    }
   ],
   "source": [
    "real = varify_labels_split.values[:, 0]\n",
    "real"
   ]
  },
  {
   "cell_type": "code",
   "execution_count": 449,
   "metadata": {},
   "outputs": [
    {
     "data": {
      "text/plain": [
       "0.770949720670391"
      ]
     },
     "execution_count": 449,
     "metadata": {},
     "output_type": "execute_result"
    }
   ],
   "source": [
    "np.array(pred_yyy == real).sum()/real.shape[0]"
   ]
  },
  {
   "cell_type": "code",
   "execution_count": null,
   "metadata": {},
   "outputs": [],
   "source": []
  },
  {
   "cell_type": "code",
   "execution_count": null,
   "metadata": {},
   "outputs": [],
   "source": []
  },
  {
   "cell_type": "code",
   "execution_count": 450,
   "metadata": {},
   "outputs": [
    {
     "data": {
      "text/plain": [
       "array([0, 1, 0, 0, 1, 0, 1, 0, 1, 0, 0, 1, 1, 0, 1, 0, 0, 0, 1, 1, 0, 1,\n",
       "       1, 1, 1, 0, 1, 0, 1, 0, 0, 0, 1, 1, 1, 0, 1, 0, 0, 0, 1, 1, 0, 1,\n",
       "       0, 0, 1, 0, 0, 1, 1, 0, 1, 0, 0, 0, 0, 0, 0, 1, 0, 0, 0, 1, 1, 1,\n",
       "       1, 0, 1, 0, 1, 0, 1, 1, 1, 1, 0, 1, 0, 1, 1, 0, 0, 0, 0, 0, 1, 1,\n",
       "       1, 1, 1, 0, 1, 0, 1, 0, 0, 0, 1, 0, 1, 0, 0, 0, 1, 0, 0, 0, 0, 0,\n",
       "       1, 1, 1, 1, 0, 0, 0, 1, 1, 0, 0, 0, 1, 0, 0, 1, 0, 0, 0, 0, 0, 0,\n",
       "       1, 0, 0, 0, 1, 0, 1, 1, 0, 1, 1, 0, 1, 0, 0, 0, 1, 0, 1, 1, 0, 1,\n",
       "       0, 0, 0, 1, 1, 1, 1, 1, 1, 0, 0, 1, 0, 0, 1, 0, 0, 1, 0, 0, 1, 1,\n",
       "       1, 0, 1, 1, 0, 1, 1, 0, 1, 0, 1, 0, 0, 0, 0, 1, 0, 0, 1, 0, 1, 1,\n",
       "       0, 1, 1, 0, 1, 1, 0, 1, 1, 0, 1, 0, 0, 0, 0, 0, 0, 0, 1, 0, 1, 0,\n",
       "       1, 0, 1, 0, 1, 1, 0, 1, 0, 0, 0, 1, 0, 0, 0, 0, 1, 0, 1, 1, 1, 1,\n",
       "       1, 0, 1, 0, 1, 0, 0, 1, 1, 0, 1, 0, 0, 0, 0, 0, 1, 0, 0, 0, 1, 1,\n",
       "       1, 0, 0, 0, 1, 0, 0, 0, 1, 0, 0, 0, 0, 0, 0, 0, 1, 0, 1, 1, 1, 0,\n",
       "       0, 0, 1, 0, 0, 1, 0, 1, 0, 0, 1, 0, 0, 0, 0, 1, 0, 0, 1, 1, 0, 0,\n",
       "       0, 0, 0, 0, 0, 1, 1, 1, 1, 0, 0, 0, 0, 1, 0, 1, 1, 0, 1, 0, 0, 0,\n",
       "       1, 1, 0, 1, 0, 1, 0, 1, 0, 0, 0, 0, 1, 1, 0, 1, 0, 1, 0, 1, 1, 0,\n",
       "       0, 0, 1, 0, 1, 0, 0, 0, 0, 1, 1, 0, 1, 1, 0, 0, 1, 0, 0, 1, 1, 0,\n",
       "       1, 1, 0, 0, 1, 0, 0, 0, 1, 1, 0, 1, 0, 0, 0, 0, 1, 1, 1, 0, 0, 1,\n",
       "       0, 1, 0, 0, 1, 0, 1, 1, 1, 0, 0, 1, 1, 1, 1, 1, 1, 0, 1, 0, 0, 0])"
      ]
     },
     "execution_count": 450,
     "metadata": {},
     "output_type": "execute_result"
    }
   ],
   "source": [
    "y__ = np.array(np.argmax(p_yy, axis=1) == 0, dtype=\"int\")\n",
    "y__"
   ]
  },
  {
   "cell_type": "code",
   "execution_count": 451,
   "metadata": {},
   "outputs": [],
   "source": [
    "Y3 = pd.DataFrame(test_features.index)\n",
    "Y3[\"Survived\"] = y__\n",
    "Y3.to_csv(\"gender_submission3.csv\", index=False)"
   ]
  },
  {
   "cell_type": "code",
   "execution_count": null,
   "metadata": {},
   "outputs": [],
   "source": []
  },
  {
   "cell_type": "code",
   "execution_count": 315,
   "metadata": {},
   "outputs": [
    {
     "data": {
      "text/plain": [
       "<tf.Tensor 'x_12:0' shape=(?, 198) dtype=float32>"
      ]
     },
     "execution_count": 315,
     "metadata": {},
     "output_type": "execute_result"
    }
   ],
   "source": [
    "x"
   ]
  },
  {
   "cell_type": "code",
   "execution_count": 323,
   "metadata": {},
   "outputs": [
    {
     "data": {
      "text/plain": [
       "array([[ 75.37705 ,  85.893425],\n",
       "       [117.114365, 107.18087 ],\n",
       "       [149.22195 , 156.16238 ],\n",
       "       [ 57.58512 ,  66.77813 ],\n",
       "       [ 54.9852  ,  39.86261 ],\n",
       "       [ 29.250778,  32.720413],\n",
       "       [ 66.080025,  67.1856  ],\n",
       "       [ 49.608246,  58.64315 ],\n",
       "       [ 40.267105,  33.722206],\n",
       "       [ 26.444878,  47.676933],\n",
       "       [ 62.752426,  72.45988 ],\n",
       "       [102.698456,  98.46258 ],\n",
       "       [116.65435 , 104.1784  ],\n",
       "       [140.19853 , 146.59894 ],\n",
       "       [ 85.03524 ,  99.62582 ],\n",
       "       [ 42.60519 ,  43.12905 ],\n",
       "       [ 78.8421  ,  83.18041 ],\n",
       "       [ 43.125847,  49.212364],\n",
       "       [ 57.496323,  56.32926 ],\n",
       "       [109.75085 , 103.95495 ],\n",
       "       [ 95.139656, 108.69381 ],\n",
       "       [ 23.71132 ,  21.879372],\n",
       "       [ 51.31447 ,  51.744194],\n",
       "       [ 81.96288 ,  82.07563 ],\n",
       "       [466.17026 , 437.5828  ],\n",
       "       [103.99299 , 121.37533 ],\n",
       "       [ 88.37302 ,  77.22463 ],\n",
       "       [ 46.075436,  53.310074],\n",
       "       [ 83.71364 ,  92.17683 ],\n",
       "       [ 50.671577,  59.420647],\n",
       "       [113.69831 , 111.85317 ],\n",
       "       [ 39.728065,  52.84253 ],\n",
       "       [ 82.9644  ,  65.802284],\n",
       "       [ 67.46856 ,  57.97773 ],\n",
       "       [ 62.554283,  77.39991 ],\n",
       "       [ 38.41102 ,  42.332474],\n",
       "       [ 64.136024,  65.42722 ],\n",
       "       [ 48.82432 ,  43.09577 ],\n",
       "       [ 54.255592,  60.655327],\n",
       "       [ 73.5059  ,  73.993645],\n",
       "       [ 87.43862 ,  93.705956],\n",
       "       [ 60.396675,  70.16831 ],\n",
       "       [ 97.13532 , 102.94825 ],\n",
       "       [ 70.63625 ,  64.630745],\n",
       "       [ 78.46075 ,  89.65922 ],\n",
       "       [ 53.147366,  61.888664],\n",
       "       [103.490814,  92.72866 ],\n",
       "       [ 61.158833,  71.651115],\n",
       "       [117.94303 , 126.88903 ],\n",
       "       [ 93.14889 ,  78.59852 ],\n",
       "       [ 72.47502 ,  60.600594],\n",
       "       [ 60.14082 ,  60.732323],\n",
       "       [ 35.361794,  38.922935],\n",
       "       [507.05847 , 500.38242 ],\n",
       "       [ 65.43659 ,  65.221886],\n",
       "       [ 21.160696,  37.485535],\n",
       "       [ 79.88148 ,  87.70304 ],\n",
       "       [ 57.663425,  73.8695  ],\n",
       "       [ 61.403862,  64.52358 ],\n",
       "       [489.5456  , 489.83395 ],\n",
       "       [ 37.9377  ,  39.928307],\n",
       "       [ 72.070244,  76.95373 ],\n",
       "       [ 39.66075 ,  42.8077  ],\n",
       "       [ 50.414543,  45.2564  ],\n",
       "       [559.5102  , 552.07    ],\n",
       "       [ 64.64635 ,  59.600807],\n",
       "       [ 42.65458 ,  34.20907 ],\n",
       "       [ 92.104126,  97.38897 ],\n",
       "       [ 63.736427,  53.373528],\n",
       "       [446.28705 , 401.01797 ],\n",
       "       [ 54.36442 ,  50.700584],\n",
       "       [ 45.36319 ,  50.960045],\n",
       "       [ 64.11245 ,  65.51118 ],\n",
       "       [ 60.349163,  38.762947],\n",
       "       [384.1705  , 361.81912 ],\n",
       "       [384.26224 , 374.757   ],\n",
       "       [ 62.33213 ,  72.453026],\n",
       "       [132.57559 , 105.83724 ],\n",
       "       [ 67.8378  ,  71.91219 ],\n",
       "       [ 54.36442 ,  50.700584],\n",
       "       [ 19.32734 ,  17.848087],\n",
       "       [324.51898 , 313.05338 ],\n",
       "       [111.37736 , 105.3034  ],\n",
       "       [ 62.752426,  72.45988 ],\n",
       "       [ 65.471756,  68.50956 ],\n",
       "       [ 61.411636,  61.739616],\n",
       "       [ 60.352036,  58.795464],\n",
       "       [ 42.665436,  35.33927 ],\n",
       "       [ 64.19634 ,  64.3597  ],\n",
       "       [ 37.428627,  41.771313],\n",
       "       [ 46.661396,  40.952362],\n",
       "       [ 63.081703,  72.4652  ],\n",
       "       [ 67.71879 ,  62.091103],\n",
       "       [ 62.33213 ,  72.453026],\n",
       "       [ 40.666916,  48.32261 ],\n",
       "       [ 53.05892 ,  61.989265],\n",
       "       [148.08444 , 150.38815 ],\n",
       "       [ 62.672844,  72.45858 ],\n",
       "       [ 46.304493,  40.99328 ],\n",
       "       [ 73.75149 ,  82.615166],\n",
       "       [ 74.43079 ,  91.311455],\n",
       "       [ 47.160133,  59.40644 ],\n",
       "       [ 61.158833,  71.651115],\n",
       "       [ 55.011055,  64.73725 ],\n",
       "       [ 39.65718 ,  23.57048 ],\n",
       "       [ 56.831207,  63.880898],\n",
       "       [ 45.476234,  49.74141 ],\n",
       "       [ 61.158833,  71.651115],\n",
       "       [ 61.55213 ,  72.20283 ],\n",
       "       [ 42.569607,  54.50853 ],\n",
       "       [ 88.90415 ,  98.09695 ],\n",
       "       [ 64.216354,  64.33698 ],\n",
       "       [ 74.66988 ,  66.098656],\n",
       "       [ 43.229755,  36.038925],\n",
       "       [334.58804 , 313.05872 ],\n",
       "       [ 30.7513  ,  36.44216 ],\n",
       "       [ 64.78033 ,  70.28866 ],\n",
       "       [ 32.718254,  31.37217 ],\n",
       "       [ 92.19363 ,  99.14596 ],\n",
       "       [ 55.334553,  57.200706],\n",
       "       [ 26.91002 ,  24.616066],\n",
       "       [ 58.984856,  67.82317 ],\n",
       "       [ 73.120094,  72.98101 ],\n",
       "       [ 61.657852,  69.94796 ],\n",
       "       [ 61.158833,  71.651115],\n",
       "       [ 38.43361 ,  35.81707 ],\n",
       "       [ 47.15976 ,  53.7938  ],\n",
       "       [ 51.91008 ,  53.46302 ],\n",
       "       [ 91.14645 , 104.71555 ],\n",
       "       [ 51.266567,  59.059532],\n",
       "       [ 70.896645,  80.07461 ],\n",
       "       [125.47305 , 116.17672 ],\n",
       "       [ 80.440445,  63.605278],\n",
       "       [ 63.873882,  66.1878  ],\n",
       "       [102.720146, 108.02729 ],\n",
       "       [ 51.132507,  59.211983],\n",
       "       [ 55.49675 ,  63.902412],\n",
       "       [ 60.08758 ,  61.180565],\n",
       "       [ 52.337708,  49.036263],\n",
       "       [ 98.88206 ,  99.28863 ],\n",
       "       [ 55.701965,  63.27664 ],\n",
       "       [246.41278 , 225.55469 ],\n",
       "       [433.84207 , 404.83762 ],\n",
       "       [ 55.25293 ,  63.06431 ],\n",
       "       [ 90.67428 ,  89.228905],\n",
       "       [ 58.4908  ,  62.72158 ],\n",
       "       [ 74.6226  ,  62.67823 ],\n",
       "       [ 47.360577,  53.589554],\n",
       "       [ 53.065765,  59.585075],\n",
       "       [ 60.032322,  67.59414 ],\n",
       "       [128.03264 , 114.991875],\n",
       "       [ 60.805443,  70.22405 ],\n",
       "       [142.23796 , 135.8482  ],\n",
       "       [ 90.08746 ,  81.61486 ],\n",
       "       [ 24.666662,  41.445213],\n",
       "       [ 50.924202,  59.448814],\n",
       "       [417.58313 , 400.34552 ],\n",
       "       [ 52.20364 ,  49.188744],\n",
       "       [ 82.998344,  95.948235],\n",
       "       [ 72.642044,  52.789482],\n",
       "       [ 64.18493 ,  64.37272 ],\n",
       "       [ 17.837662,  17.293766],\n",
       "       [ 62.58369 ,  53.85151 ],\n",
       "       [ 65.19411 ,  72.499565],\n",
       "       [ 89.18006 , 101.9838  ],\n",
       "       [ 54.216026,  51.687263],\n",
       "       [ 88.24183 ,  94.31197 ],\n",
       "       [ 37.50802 ,  48.7946  ],\n",
       "       [ 53.212074,  50.325523],\n",
       "       [ 50.996128,  45.594032],\n",
       "       [ 63.694977,  72.4752  ],\n",
       "       [ 56.92417 ,  65.172676],\n",
       "       [ 46.562927,  50.59375 ],\n",
       "       [ 62.6224  ,  70.25358 ],\n",
       "       [105.36231 ,  89.52354 ],\n",
       "       [ 59.28482 ,  52.019875],\n",
       "       [ 52.56792 ,  46.495735],\n",
       "       [ 90.62687 , 119.151115],\n",
       "       [ 88.39829 ,  79.97108 ],\n",
       "       [147.63512 , 128.23077 ],\n",
       "       [ 67.8378  ,  71.91219 ],\n",
       "       [102.13381 , 101.64553 ],\n",
       "       [ 66.16386 ,  62.34646 ],\n",
       "       [ 61.158833,  71.651115],\n",
       "       [475.71704 , 483.21744 ],\n",
       "       [ 89.90146 ,  96.29119 ],\n",
       "       [ 46.757725,  44.714607],\n",
       "       [ 32.410343,  33.053017],\n",
       "       [ 49.833183,  83.01609 ],\n",
       "       [ 87.21369 ,  99.251945],\n",
       "       [ 67.4109  ,  75.36849 ],\n",
       "       [ 53.51806 ,  59.69758 ],\n",
       "       [ 20.321133,  27.378487],\n",
       "       [139.38239 , 153.23514 ],\n",
       "       [ 54.96781 ,  51.228302],\n",
       "       [ 74.28517 ,  82.62383 ],\n",
       "       [295.17303 , 281.95602 ],\n",
       "       [ 42.41398 ,  35.56839 ],\n",
       "       [ 52.488205,  54.753067],\n",
       "       [ 64.17882 ,  65.37856 ],\n",
       "       [ 68.68331 ,  57.803062],\n",
       "       [ 36.317875,  29.61522 ],\n",
       "       [378.82257 , 358.36734 ],\n",
       "       [ 34.550674,  31.982498],\n",
       "       [ 56.337936,  60.14234 ],\n",
       "       [ 52.451187,  57.49659 ],\n",
       "       [ 78.45992 ,  80.21984 ],\n",
       "       [ 54.425774,  57.43598 ],\n",
       "       [ 65.99392 ,  70.91247 ],\n",
       "       [ 53.127373,  61.9114  ],\n",
       "       [ 68.40308 ,  73.00207 ],\n",
       "       [ 65.05784 ,  72.49734 ],\n",
       "       [115.81492 , 110.56391 ],\n",
       "       [136.7076  , 131.7247  ],\n",
       "       [ 95.58608 ,  72.49288 ],\n",
       "       [ 81.150116,  86.83749 ],\n",
       "       [ 64.28482 ,  64.25912 ],\n",
       "       [224.19254 , 226.3913  ],\n",
       "       [331.94656 , 317.0595  ],\n",
       "       [ 62.33213 ,  72.453026],\n",
       "       [ 66.75353 ,  57.973473],\n",
       "       [ 45.50419 ,  50.83158 ],\n",
       "       [ 52.08401 ,  61.600243],\n",
       "       [ 45.27175 ,  51.04335 ],\n",
       "       [122.86935 , 105.10879 ],\n",
       "       [ 77.8544  ,  57.54992 ],\n",
       "       [ 49.12616 ,  56.525627],\n",
       "       [ 64.19634 ,  64.3597  ],\n",
       "       [ 88.53915 ,  98.64559 ],\n",
       "       [ 79.34815 ,  88.324684],\n",
       "       [104.05238 , 100.2209  ],\n",
       "       [ 38.42961 ,  35.68313 ],\n",
       "       [ 43.084778,  48.05758 ],\n",
       "       [ 61.247295,  71.550514],\n",
       "       [ 83.86642 ,  88.974266],\n",
       "       [ 43.468784,  48.23678 ],\n",
       "       [116.446724, 128.41666 ],\n",
       "       [ 41.191734,  46.47287 ],\n",
       "       [ 42.731815,  31.846275],\n",
       "       [133.88144 , 124.38198 ],\n",
       "       [127.97769 , 109.81664 ],\n",
       "       [111.9188  ,  96.9385  ],\n",
       "       [187.29727 , 184.20102 ],\n",
       "       [ 62.77506 ,  72.46023 ],\n",
       "       [ 64.43682 ,  65.03248 ],\n",
       "       [ 85.36052 ,  76.82281 ],\n",
       "       [ 44.372505,  44.31254 ],\n",
       "       [ 89.40234 ,  93.62832 ],\n",
       "       [ 55.334553,  57.200706],\n",
       "       [ 64.25405 ,  54.417564],\n",
       "       [ 60.16517 ,  53.34785 ],\n",
       "       [ 43.53353 ,  48.177803],\n",
       "       [222.15924 , 219.23944 ],\n",
       "       [ 52.239212,  58.043205],\n",
       "       [ 68.97368 ,  81.151085],\n",
       "       [ 63.694977,  72.4752  ],\n",
       "       [ 61.158833,  71.651115],\n",
       "       [ 59.477287,  69.9125  ],\n",
       "       [ 42.60857 ,  38.12545 ],\n",
       "       [ 45.25273 ,  51.06069 ],\n",
       "       [ 79.19677 ,  82.750755],\n",
       "       [ 45.325157,  50.994728],\n",
       "       [ 71.685295,  61.592278],\n",
       "       [ 24.05717 ,  17.205572],\n",
       "       [ 65.964134,  69.779854],\n",
       "       [ 62.752426,  72.45988 ],\n",
       "       [ 50.56723 ,  57.988533],\n",
       "       [ 63.694977,  72.4752  ],\n",
       "       [ 64.136024,  65.42722 ],\n",
       "       [ 38.53105 ,  39.389153],\n",
       "       [101.91773 , 107.58761 ],\n",
       "       [ 61.158833,  71.651115],\n",
       "       [227.14473 , 218.45758 ],\n",
       "       [ 63.573174,  56.33703 ],\n",
       "       [ 62.633827,  70.253746],\n",
       "       [ 38.384155,  40.348457],\n",
       "       [ 61.907066,  68.416145],\n",
       "       [ 84.7687  ,  89.050224],\n",
       "       [ 59.950993,  67.269844],\n",
       "       [ 50.550655,  52.070168],\n",
       "       [ 52.757095,  48.559425],\n",
       "       [ 24.380445,  24.747465],\n",
       "       [ 64.19634 ,  64.3597  ],\n",
       "       [ 19.228727,  13.78524 ],\n",
       "       [ 36.507378,  33.305157],\n",
       "       [ 84.49657 ,  90.27221 ],\n",
       "       [ 64.51268 ,  72.48847 ],\n",
       "       [112.03503 , 106.54572 ],\n",
       "       [ 76.45922 ,  57.457924],\n",
       "       [ 62.33213 ,  72.453026],\n",
       "       [ 56.4208  ,  57.940163],\n",
       "       [ 66.3663  ,  67.55262 ],\n",
       "       [ 62.6224  ,  70.25358 ],\n",
       "       [117.57657 , 116.66439 ],\n",
       "       [ 78.36374 ,  90.17251 ],\n",
       "       [ 55.09377 ,  64.64321 ],\n",
       "       [ 92.35308 ,  85.143684],\n",
       "       [ 50.671577,  59.420647],\n",
       "       [ 62.133617,  62.357735],\n",
       "       [ 62.86582 ,  72.46169 ],\n",
       "       [ 71.64621 ,  80.086815],\n",
       "       [ 71.11013 ,  66.08877 ],\n",
       "       [104.79576 , 100.61053 ],\n",
       "       [ 51.685963,  58.582664],\n",
       "       [ 64.19634 ,  64.3597  ],\n",
       "       [140.00795 , 142.00891 ],\n",
       "       [252.26044 , 258.84735 ],\n",
       "       [ 21.453577,  16.743345],\n",
       "       [127.206184, 122.28127 ],\n",
       "       [ 96.93037 , 100.729805],\n",
       "       [ 40.46861 ,  42.07203 ],\n",
       "       [ 45.092243,  51.94419 ],\n",
       "       [ 63.626842,  72.4741  ],\n",
       "       [ 84.16959 ,  85.30094 ],\n",
       "       [182.28195 , 174.82907 ],\n",
       "       [ 40.588295,  31.590874],\n",
       "       [186.51964 , 190.15472 ],\n",
       "       [ 42.78314 ,  44.902855],\n",
       "       [ 57.156143,  67.38062 ],\n",
       "       [ 37.683846,  49.199646],\n",
       "       [ 55.011055,  64.73725 ],\n",
       "       [ 51.497086,  65.01188 ],\n",
       "       [ 70.26746 ,  64.14976 ],\n",
       "       [ 64.6376  ,  68.706276],\n",
       "       [364.71295 , 345.49985 ],\n",
       "       [ 48.615486,  57.10627 ],\n",
       "       [ 50.831177,  43.634193],\n",
       "       [104.822174,  99.153755],\n",
       "       [ 52.946083,  63.967033],\n",
       "       [ 45.693302,  49.76081 ],\n",
       "       [115.04653 , 102.39901 ],\n",
       "       [ 86.28654 ,  89.6137  ],\n",
       "       [ 62.633827,  70.253746],\n",
       "       [ 41.331097,  30.905113],\n",
       "       [ 57.06016 ,  67.37501 ],\n",
       "       [ 64.43835 ,  73.44036 ],\n",
       "       [ 71.61864 ,  77.365105],\n",
       "       [ 97.82931 ,  96.52279 ],\n",
       "       [ 52.387493,  56.60453 ],\n",
       "       [ 62.6224  ,  70.25358 ],\n",
       "       [ 39.83758 ,  42.67443 ],\n",
       "       [ 72.17989 ,  80.09548 ],\n",
       "       [119.91615 , 116.03249 ],\n",
       "       [998.93665 , 990.91943 ],\n",
       "       [ 67.898315,  64.254585],\n",
       "       [ 38.586926,  30.15667 ],\n",
       "       [ 60.08758 ,  61.180565],\n",
       "       [ 89.75553 ,  86.17104 ],\n",
       "       [ 53.96099 ,  56.499474],\n",
       "       [ 70.43226 ,  64.161385],\n",
       "       [ 93.04573 ,  86.091545],\n",
       "       [ 56.337936,  60.14234 ],\n",
       "       [113.82212 , 109.007256],\n",
       "       [106.8341  , 107.78051 ],\n",
       "       [ 47.76677 ,  38.478745],\n",
       "       [120.673454, 109.21441 ],\n",
       "       [123.27993 , 110.31533 ],\n",
       "       [ 62.797676,  72.46061 ],\n",
       "       [ 61.158833,  71.651115],\n",
       "       [ 68.10154 ,  59.19924 ],\n",
       "       [ 75.132416,  93.42208 ],\n",
       "       [ 53.249138,  47.22689 ],\n",
       "       [ 70.43226 ,  64.161385],\n",
       "       [ 57.58512 ,  66.77813 ],\n",
       "       [ 62.18531 ,  64.75776 ],\n",
       "       [122.64373 , 113.67014 ],\n",
       "       [ 61.414574,  61.73696 ],\n",
       "       [ 54.354885,  49.920784],\n",
       "       [ 93.36166 ,  83.049736],\n",
       "       [ 65.13265 ,  66.08816 ],\n",
       "       [ 44.20777 ,  46.242973],\n",
       "       [222.76346 , 198.2308  ],\n",
       "       [106.22624 , 119.07665 ],\n",
       "       [ 95.07919 , 110.17927 ],\n",
       "       [120.7062  , 112.73675 ],\n",
       "       [462.7099  , 445.68726 ],\n",
       "       [ 45.194252,  38.737312],\n",
       "       [ 47.386795,  49.613884],\n",
       "       [105.60045 , 126.45565 ],\n",
       "       [ 39.098183,  47.18914 ],\n",
       "       [ 61.158833,  71.651115],\n",
       "       [ 55.34815 ,  63.355034],\n",
       "       [ 68.79604 ,  60.476387],\n",
       "       [ 34.97363 ,  35.373283],\n",
       "       [ 65.81092 ,  69.31031 ],\n",
       "       [ 90.7405  ,  87.52343 ],\n",
       "       [ 51.078285,  59.27363 ],\n",
       "       [129.17744 , 143.85526 ],\n",
       "       [ 45.427757,  49.796547],\n",
       "       [ 17.712488,  26.429195],\n",
       "       [142.89609 , 137.10167 ],\n",
       "       [121.89704 ,  99.301384],\n",
       "       [ 33.70996 ,  35.93463 ],\n",
       "       [107.44329 , 118.56069 ],\n",
       "       [ 53.665585,  58.608162],\n",
       "       [ 86.1771  ,  62.188026],\n",
       "       [ 50.98456 ,  58.381294],\n",
       "       [111.356895,  95.3782  ],\n",
       "       [ 47.145508,  53.809998],\n",
       "       [ 65.646515,  77.00584 ],\n",
       "       [284.13028 , 266.32214 ],\n",
       "       [ 83.0947  ,  85.51223 ],\n",
       "       [ 78.9158  ,  74.60136 ],\n",
       "       [ 55.044785,  55.087196],\n",
       "       [ 90.02066 , 100.324   ],\n",
       "       [ 51.20098 ,  41.359802],\n",
       "       [ 49.127136,  51.464226],\n",
       "       [329.33667 , 321.05582 ],\n",
       "       [ 64.17634 ,  64.38244 ],\n",
       "       [ 22.857914,  16.027153],\n",
       "       [ 64.19634 ,  64.3597  ],\n",
       "       [109.93195 , 116.421074],\n",
       "       [ 61.981346,  62.909523],\n",
       "       [ 62.33213 ,  72.453026],\n",
       "       [153.11224 , 136.582   ],\n",
       "       [ 91.63364 ,  96.62353 ],\n",
       "       [ 62.33214 ,  72.45302 ],\n",
       "       [ 59.22412 ,  62.284405]], dtype=float32)"
      ]
     },
     "execution_count": 323,
     "metadata": {},
     "output_type": "execute_result"
    }
   ],
   "source": [
    "y"
   ]
  },
  {
   "cell_type": "code",
   "execution_count": null,
   "metadata": {},
   "outputs": [],
   "source": []
  },
  {
   "cell_type": "code",
   "execution_count": null,
   "metadata": {},
   "outputs": [],
   "source": []
  },
  {
   "cell_type": "code",
   "execution_count": null,
   "metadata": {},
   "outputs": [],
   "source": []
  },
  {
   "cell_type": "code",
   "execution_count": null,
   "metadata": {},
   "outputs": [],
   "source": []
  },
  {
   "cell_type": "code",
   "execution_count": null,
   "metadata": {},
   "outputs": [],
   "source": []
  }
 ],
 "metadata": {
  "kernelspec": {
   "display_name": "Python 3",
   "language": "python",
   "name": "python3"
  },
  "language_info": {
   "codemirror_mode": {
    "name": "ipython",
    "version": 3
   },
   "file_extension": ".py",
   "mimetype": "text/x-python",
   "name": "python",
   "nbconvert_exporter": "python",
   "pygments_lexer": "ipython3",
   "version": "3.6.0"
  }
 },
 "nbformat": 4,
 "nbformat_minor": 2
}
