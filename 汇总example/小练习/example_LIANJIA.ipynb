{
 "cells": [
  {
   "cell_type": "code",
   "execution_count": 451,
   "metadata": {},
   "outputs": [
    {
     "name": "stdout",
     "output_type": "stream",
     "text": [
      "Python version: 3.6.0 (v3.6.0:41df79263a11, Dec 23 2016, 08:06:12) [MSC v.1900 64 bit (AMD64)]\n",
      "pandas version: 0.23.4\n",
      "matplotlib version: 3.0.1\n",
      "NumPy version: 1.15.3\n",
      "SciPy version: 1.1.0\n",
      "IPython version: 7.1.1\n",
      "scikit-learn version: 0.20.0\n",
      "-------------------------\n"
     ]
    }
   ],
   "source": [
    "# This Python 3 environment comes with many helpful analytics libraries installed\n",
    "# It is defined by the kaggle/python docker image: https://github.com/kaggle/docker-python\n",
    "\n",
    "#load packages\n",
    "import sys #access to system parameters https://docs.python.org/3/library/sys.html\n",
    "print(\"Python version: {}\". format(sys.version))\n",
    "\n",
    "import pandas as pd #collection of functions for data processing and analysis modeled after R dataframes with SQL like features\n",
    "print(\"pandas version: {}\". format(pd.__version__))\n",
    "\n",
    "import matplotlib #collection of functions for scientific and publication-ready visualization\n",
    "print(\"matplotlib version: {}\". format(matplotlib.__version__))\n",
    "\n",
    "import numpy as np #foundational package for scientific computing\n",
    "print(\"NumPy version: {}\". format(np.__version__))\n",
    "\n",
    "import scipy as sp #collection of functions for scientific computing and advance mathematics\n",
    "print(\"SciPy version: {}\". format(sp.__version__)) \n",
    "\n",
    "import IPython\n",
    "from IPython import display #pretty printing of dataframes in Jupyter notebook\n",
    "print(\"IPython version: {}\". format(IPython.__version__)) \n",
    "\n",
    "import sklearn #collection of machine learning algorithms\n",
    "print(\"scikit-learn version: {}\". format(sklearn.__version__))\n",
    "\n",
    "#misc libraries\n",
    "import random\n",
    "import time\n",
    "import re\n",
    "\n",
    "\n",
    "#ignore warnings\n",
    "import warnings\n",
    "warnings.filterwarnings('ignore')\n",
    "print('-'*25)\n"
   ]
  },
  {
   "cell_type": "code",
   "execution_count": 2,
   "metadata": {},
   "outputs": [],
   "source": [
    "#Common Model Algorithms\n",
    "from sklearn import svm, tree, linear_model, neighbors, naive_bayes, ensemble, discriminant_analysis, gaussian_process\n",
    "from xgboost import XGBClassifier\n",
    "from xgboost import XGBRegressor\n",
    "\n",
    "\n",
    "#Common Model Helpers\n",
    "from sklearn.preprocessing import OneHotEncoder, LabelEncoder\n",
    "from sklearn import feature_selection\n",
    "from sklearn import model_selection\n",
    "from sklearn import metrics\n",
    "\n",
    "#Visualization\n",
    "import matplotlib as mpl\n",
    "import matplotlib.pyplot as plt\n",
    "import matplotlib.pylab as pylab\n",
    "import seaborn as sns\n",
    "from pandas.tools.plotting import scatter_matrix\n",
    "\n",
    "#Configure Visualization Defaults\n",
    "#%matplotlib inline = show plots in Jupyter Notebook browser\n",
    "%matplotlib inline\n",
    "mpl.style.use('ggplot')\n",
    "sns.set_style('white')\n",
    "pylab.rcParams['figure.figsize'] = 12,8"
   ]
  },
  {
   "cell_type": "code",
   "execution_count": null,
   "metadata": {},
   "outputs": [],
   "source": []
  },
  {
   "cell_type": "code",
   "execution_count": 1254,
   "metadata": {},
   "outputs": [],
   "source": [
    "l1 = pd.read_csv(\"l1.csv\", encoding=\"gb18030\")\n",
    "l2 = pd.read_csv(\"l2.csv\",encoding=\"gb18030\")\n",
    "l1.estate = l1.district + l1.estate"
   ]
  },
  {
   "cell_type": "code",
   "execution_count": 1255,
   "metadata": {},
   "outputs": [],
   "source": [
    "LIANJIA = pd.merge(l1, l3)"
   ]
  },
  {
   "cell_type": "code",
   "execution_count": 1256,
   "metadata": {},
   "outputs": [
    {
     "data": {
      "text/plain": [
       "(13233, 17)"
      ]
     },
     "execution_count": 1256,
     "metadata": {},
     "output_type": "execute_result"
    }
   ],
   "source": [
    "LIANJIA.shape"
   ]
  },
  {
   "cell_type": "code",
   "execution_count": 1257,
   "metadata": {},
   "outputs": [
    {
     "name": "stdout",
     "output_type": "stream",
     "text": [
      "(9233, 17)\n",
      "(4000, 17)\n"
     ]
    }
   ],
   "source": [
    "np.random.seed(618)\n",
    "TEST_NUM = 4000\n",
    "#创建一个随机索引，人为划分test集\n",
    "lianjia = LIANJIA.copy(deep = True)\n",
    "test_data = lianjia.iloc[np.random.permutation(range(lianjia.shape[0]))[:TEST_NUM]]\n",
    "train_data = lianjia.iloc[np.random.permutation(range(lianjia.shape[0]))[TEST_NUM:]]\n",
    "np.random.seed()\n",
    "print(train_data.shape)\n",
    "print(test_data.shape)\n",
    "data_cleaner = [train_data, test_data, lianjia]  ## 这种方法并不好，亲测后觉得很麻烦，还不如先合成一张表，之后再拆开！！！\n",
    "\n",
    "##  之后需要get_dummies， 尼玛两个df很有可能有些值不一样！！！（这样两张结构就不一样了！！！无法用学好的模型进行预测了。。。）"
   ]
  },
  {
   "cell_type": "code",
   "execution_count": 1258,
   "metadata": {
    "scrolled": true
   },
   "outputs": [
    {
     "data": {
      "text/html": [
       "<div>\n",
       "<style scoped>\n",
       "    .dataframe tbody tr th:only-of-type {\n",
       "        vertical-align: middle;\n",
       "    }\n",
       "\n",
       "    .dataframe tbody tr th {\n",
       "        vertical-align: top;\n",
       "    }\n",
       "\n",
       "    .dataframe thead th {\n",
       "        text-align: right;\n",
       "    }\n",
       "</style>\n",
       "<table border=\"1\" class=\"dataframe\">\n",
       "  <thead>\n",
       "    <tr style=\"text-align: right;\">\n",
       "      <th></th>\n",
       "      <th>building_start_year</th>\n",
       "      <th>district</th>\n",
       "      <th>estate</th>\n",
       "      <th>house_id</th>\n",
       "      <th>housing_area</th>\n",
       "      <th>metro</th>\n",
       "      <th>orientation</th>\n",
       "      <th>price</th>\n",
       "      <th>rental_mode</th>\n",
       "      <th>rooms</th>\n",
       "      <th>shi</th>\n",
       "      <th>ting</th>\n",
       "      <th>title</th>\n",
       "      <th>total_floor</th>\n",
       "      <th>wei</th>\n",
       "      <th>zone</th>\n",
       "      <th>total_time</th>\n",
       "    </tr>\n",
       "  </thead>\n",
       "  <tbody>\n",
       "    <tr>\n",
       "      <th>10748</th>\n",
       "      <td>2001</td>\n",
       "      <td>滨江区</td>\n",
       "      <td>滨江区春波小区</td>\n",
       "      <td>1.03103E+11</td>\n",
       "      <td>50.0</td>\n",
       "      <td>距地铁1号线(临平-湘湖)西兴1131米</td>\n",
       "      <td>南</td>\n",
       "      <td>4900.0</td>\n",
       "      <td>暂无数据</td>\n",
       "      <td>2室2厅1卫</td>\n",
       "      <td>2.0</td>\n",
       "      <td>2.0</td>\n",
       "      <td>春波小区 2室2厅 4900元</td>\n",
       "      <td>6.0</td>\n",
       "      <td>1.0</td>\n",
       "      <td>长河</td>\n",
       "      <td>43</td>\n",
       "    </tr>\n",
       "  </tbody>\n",
       "</table>\n",
       "</div>"
      ],
      "text/plain": [
       "      building_start_year district   estate     house_id  housing_area  \\\n",
       "10748                2001      滨江区  滨江区春波小区  1.03103E+11          50.0   \n",
       "\n",
       "                      metro orientation   price rental_mode   rooms  shi  \\\n",
       "10748  距地铁1号线(临平-湘湖)西兴1131米           南  4900.0        暂无数据  2室2厅1卫  2.0   \n",
       "\n",
       "       ting            title  total_floor  wei zone  total_time  \n",
       "10748   2.0  春波小区 2室2厅 4900元          6.0  1.0   长河          43  "
      ]
     },
     "execution_count": 1258,
     "metadata": {},
     "output_type": "execute_result"
    }
   ],
   "source": [
    "train_data.head(1)"
   ]
  },
  {
   "cell_type": "code",
   "execution_count": 1259,
   "metadata": {},
   "outputs": [
    {
     "data": {
      "text/plain": [
       "array([[<matplotlib.axes._subplots.AxesSubplot object at 0x00000133DA3220B8>,\n",
       "        <matplotlib.axes._subplots.AxesSubplot object at 0x00000133DA32F8D0>]],\n",
       "      dtype=object)"
      ]
     },
     "execution_count": 1259,
     "metadata": {},
     "output_type": "execute_result"
    },
    {
     "data": {
      "image/png": "[encoded data removed]",
      "text/plain": [
       "<Figure size 432x288 with 2 Axes>"
      ]
     },
     "metadata": {
      "needs_background": "light"
     },
     "output_type": "display_data"
    }
   ],
   "source": [
    "price = pd.DataFrame({\"price\":lianjia.price, \"price_log\":np.log(lianjia.price)})\n",
    "price.hist(bins=30)"
   ]
  },
  {
   "cell_type": "code",
   "execution_count": 1260,
   "metadata": {},
   "outputs": [],
   "source": [
    "# 这部转化放在学习前，因为现在就把label转化了，数据的特征就看不大出来了（因为log化后的数据本身没啥意义）\n",
    "#将label log化\n",
    "# for data in data_cleaner:\n",
    "#     data.price = np.log(data.price)"
   ]
  },
  {
   "cell_type": "code",
   "execution_count": 1261,
   "metadata": {},
   "outputs": [],
   "source": [
    "# train_data.price.sample(5)"
   ]
  },
  {
   "cell_type": "code",
   "execution_count": 1262,
   "metadata": {},
   "outputs": [
    {
     "data": {
      "text/plain": [
       "building_start_year    0\n",
       "district               0\n",
       "estate                 0\n",
       "house_id               0\n",
       "housing_area           0\n",
       "metro                  0\n",
       "orientation            0\n",
       "price                  0\n",
       "rental_mode            5\n",
       "rooms                  0\n",
       "shi                    0\n",
       "ting                   0\n",
       "title                  0\n",
       "total_floor            0\n",
       "wei                    0\n",
       "zone                   0\n",
       "total_time             0\n",
       "dtype: int64"
      ]
     },
     "execution_count": 1262,
     "metadata": {},
     "output_type": "execute_result"
    }
   ],
   "source": [
    "#首先，看下缺失值的情况\n",
    "lianjia.isnull().sum()"
   ]
  },
  {
   "cell_type": "code",
   "execution_count": 1263,
   "metadata": {
    "scrolled": true
   },
   "outputs": [
    {
     "data": {
      "text/html": [
       "<div>\n",
       "<style scoped>\n",
       "    .dataframe tbody tr th:only-of-type {\n",
       "        vertical-align: middle;\n",
       "    }\n",
       "\n",
       "    .dataframe tbody tr th {\n",
       "        vertical-align: top;\n",
       "    }\n",
       "\n",
       "    .dataframe thead th {\n",
       "        text-align: right;\n",
       "    }\n",
       "</style>\n",
       "<table border=\"1\" class=\"dataframe\">\n",
       "  <thead>\n",
       "    <tr style=\"text-align: right;\">\n",
       "      <th></th>\n",
       "      <th>building_start_year</th>\n",
       "      <th>district</th>\n",
       "      <th>estate</th>\n",
       "      <th>house_id</th>\n",
       "      <th>housing_area</th>\n",
       "      <th>metro</th>\n",
       "      <th>orientation</th>\n",
       "      <th>price</th>\n",
       "      <th>rental_mode</th>\n",
       "      <th>rooms</th>\n",
       "      <th>shi</th>\n",
       "      <th>ting</th>\n",
       "      <th>title</th>\n",
       "      <th>total_floor</th>\n",
       "      <th>wei</th>\n",
       "      <th>zone</th>\n",
       "      <th>total_time</th>\n",
       "    </tr>\n",
       "  </thead>\n",
       "  <tbody>\n",
       "    <tr>\n",
       "      <th>count</th>\n",
       "      <td>13233</td>\n",
       "      <td>13233</td>\n",
       "      <td>13233</td>\n",
       "      <td>13233</td>\n",
       "      <td>13233.000000</td>\n",
       "      <td>13233</td>\n",
       "      <td>13233</td>\n",
       "      <td>13233.000000</td>\n",
       "      <td>13228</td>\n",
       "      <td>13233</td>\n",
       "      <td>13233.000000</td>\n",
       "      <td>13233.000000</td>\n",
       "      <td>13233</td>\n",
       "      <td>13233.000000</td>\n",
       "      <td>13233.000000</td>\n",
       "      <td>13233</td>\n",
       "      <td>1.323300e+04</td>\n",
       "    </tr>\n",
       "    <tr>\n",
       "      <th>unique</th>\n",
       "      <td>50</td>\n",
       "      <td>11</td>\n",
       "      <td>2423</td>\n",
       "      <td>130</td>\n",
       "      <td>NaN</td>\n",
       "      <td>2511</td>\n",
       "      <td>57</td>\n",
       "      <td>NaN</td>\n",
       "      <td>3</td>\n",
       "      <td>191</td>\n",
       "      <td>NaN</td>\n",
       "      <td>NaN</td>\n",
       "      <td>11301</td>\n",
       "      <td>NaN</td>\n",
       "      <td>NaN</td>\n",
       "      <td>102</td>\n",
       "      <td>NaN</td>\n",
       "    </tr>\n",
       "    <tr>\n",
       "      <th>top</th>\n",
       "      <td>2017</td>\n",
       "      <td>余杭区</td>\n",
       "      <td>余杭区合景映月台</td>\n",
       "      <td>1.03103E+11</td>\n",
       "      <td>NaN</td>\n",
       "      <td>暂无数据</td>\n",
       "      <td>南</td>\n",
       "      <td>NaN</td>\n",
       "      <td>暂无数据</td>\n",
       "      <td>2室1厅1卫</td>\n",
       "      <td>NaN</td>\n",
       "      <td>NaN</td>\n",
       "      <td>合景映月台 3室2厅 6000元</td>\n",
       "      <td>NaN</td>\n",
       "      <td>NaN</td>\n",
       "      <td>临平</td>\n",
       "      <td>NaN</td>\n",
       "    </tr>\n",
       "    <tr>\n",
       "      <th>freq</th>\n",
       "      <td>1267</td>\n",
       "      <td>3012</td>\n",
       "      <td>157</td>\n",
       "      <td>12325</td>\n",
       "      <td>NaN</td>\n",
       "      <td>8844</td>\n",
       "      <td>9196</td>\n",
       "      <td>NaN</td>\n",
       "      <td>7815</td>\n",
       "      <td>1807</td>\n",
       "      <td>NaN</td>\n",
       "      <td>NaN</td>\n",
       "      <td>24</td>\n",
       "      <td>NaN</td>\n",
       "      <td>NaN</td>\n",
       "      <td>839</td>\n",
       "      <td>NaN</td>\n",
       "    </tr>\n",
       "    <tr>\n",
       "      <th>mean</th>\n",
       "      <td>NaN</td>\n",
       "      <td>NaN</td>\n",
       "      <td>NaN</td>\n",
       "      <td>NaN</td>\n",
       "      <td>86.253565</td>\n",
       "      <td>NaN</td>\n",
       "      <td>NaN</td>\n",
       "      <td>4893.226026</td>\n",
       "      <td>NaN</td>\n",
       "      <td>NaN</td>\n",
       "      <td>2.422202</td>\n",
       "      <td>1.385098</td>\n",
       "      <td>NaN</td>\n",
       "      <td>16.372553</td>\n",
       "      <td>1.319655</td>\n",
       "      <td>NaN</td>\n",
       "      <td>8.690396e+08</td>\n",
       "    </tr>\n",
       "    <tr>\n",
       "      <th>std</th>\n",
       "      <td>NaN</td>\n",
       "      <td>NaN</td>\n",
       "      <td>NaN</td>\n",
       "      <td>NaN</td>\n",
       "      <td>54.504064</td>\n",
       "      <td>NaN</td>\n",
       "      <td>NaN</td>\n",
       "      <td>3981.663005</td>\n",
       "      <td>NaN</td>\n",
       "      <td>NaN</td>\n",
       "      <td>0.994626</td>\n",
       "      <td>0.566173</td>\n",
       "      <td>NaN</td>\n",
       "      <td>9.686958</td>\n",
       "      <td>0.576642</td>\n",
       "      <td>NaN</td>\n",
       "      <td>9.281984e+09</td>\n",
       "    </tr>\n",
       "    <tr>\n",
       "      <th>min</th>\n",
       "      <td>NaN</td>\n",
       "      <td>NaN</td>\n",
       "      <td>NaN</td>\n",
       "      <td>NaN</td>\n",
       "      <td>3.900000</td>\n",
       "      <td>NaN</td>\n",
       "      <td>NaN</td>\n",
       "      <td>750.000000</td>\n",
       "      <td>NaN</td>\n",
       "      <td>NaN</td>\n",
       "      <td>0.000000</td>\n",
       "      <td>0.000000</td>\n",
       "      <td>NaN</td>\n",
       "      <td>0.000000</td>\n",
       "      <td>0.000000</td>\n",
       "      <td>NaN</td>\n",
       "      <td>5.000000e+00</td>\n",
       "    </tr>\n",
       "    <tr>\n",
       "      <th>25%</th>\n",
       "      <td>NaN</td>\n",
       "      <td>NaN</td>\n",
       "      <td>NaN</td>\n",
       "      <td>NaN</td>\n",
       "      <td>55.610000</td>\n",
       "      <td>NaN</td>\n",
       "      <td>NaN</td>\n",
       "      <td>3180.000000</td>\n",
       "      <td>NaN</td>\n",
       "      <td>NaN</td>\n",
       "      <td>2.000000</td>\n",
       "      <td>1.000000</td>\n",
       "      <td>NaN</td>\n",
       "      <td>7.000000</td>\n",
       "      <td>1.000000</td>\n",
       "      <td>NaN</td>\n",
       "      <td>4.000000e+01</td>\n",
       "    </tr>\n",
       "    <tr>\n",
       "      <th>50%</th>\n",
       "      <td>NaN</td>\n",
       "      <td>NaN</td>\n",
       "      <td>NaN</td>\n",
       "      <td>NaN</td>\n",
       "      <td>85.000000</td>\n",
       "      <td>NaN</td>\n",
       "      <td>NaN</td>\n",
       "      <td>4000.000000</td>\n",
       "      <td>NaN</td>\n",
       "      <td>NaN</td>\n",
       "      <td>2.000000</td>\n",
       "      <td>1.000000</td>\n",
       "      <td>NaN</td>\n",
       "      <td>16.000000</td>\n",
       "      <td>1.000000</td>\n",
       "      <td>NaN</td>\n",
       "      <td>5.400000e+01</td>\n",
       "    </tr>\n",
       "    <tr>\n",
       "      <th>75%</th>\n",
       "      <td>NaN</td>\n",
       "      <td>NaN</td>\n",
       "      <td>NaN</td>\n",
       "      <td>NaN</td>\n",
       "      <td>99.830000</td>\n",
       "      <td>NaN</td>\n",
       "      <td>NaN</td>\n",
       "      <td>5500.000000</td>\n",
       "      <td>NaN</td>\n",
       "      <td>NaN</td>\n",
       "      <td>3.000000</td>\n",
       "      <td>2.000000</td>\n",
       "      <td>NaN</td>\n",
       "      <td>24.000000</td>\n",
       "      <td>2.000000</td>\n",
       "      <td>NaN</td>\n",
       "      <td>6.800000e+01</td>\n",
       "    </tr>\n",
       "    <tr>\n",
       "      <th>max</th>\n",
       "      <td>NaN</td>\n",
       "      <td>NaN</td>\n",
       "      <td>NaN</td>\n",
       "      <td>NaN</td>\n",
       "      <td>3800.000000</td>\n",
       "      <td>NaN</td>\n",
       "      <td>NaN</td>\n",
       "      <td>119625.000000</td>\n",
       "      <td>NaN</td>\n",
       "      <td>NaN</td>\n",
       "      <td>12.000000</td>\n",
       "      <td>6.000000</td>\n",
       "      <td>NaN</td>\n",
       "      <td>60.000000</td>\n",
       "      <td>9.000000</td>\n",
       "      <td>NaN</td>\n",
       "      <td>1.000000e+11</td>\n",
       "    </tr>\n",
       "  </tbody>\n",
       "</table>\n",
       "</div>"
      ],
      "text/plain": [
       "       building_start_year district    estate     house_id  housing_area  \\\n",
       "count                13233    13233     13233        13233  13233.000000   \n",
       "unique                  50       11      2423          130           NaN   \n",
       "top                   2017      余杭区  余杭区合景映月台  1.03103E+11           NaN   \n",
       "freq                  1267     3012       157        12325           NaN   \n",
       "mean                   NaN      NaN       NaN          NaN     86.253565   \n",
       "std                    NaN      NaN       NaN          NaN     54.504064   \n",
       "min                    NaN      NaN       NaN          NaN      3.900000   \n",
       "25%                    NaN      NaN       NaN          NaN     55.610000   \n",
       "50%                    NaN      NaN       NaN          NaN     85.000000   \n",
       "75%                    NaN      NaN       NaN          NaN     99.830000   \n",
       "max                    NaN      NaN       NaN          NaN   3800.000000   \n",
       "\n",
       "        metro orientation          price rental_mode   rooms           shi  \\\n",
       "count   13233       13233   13233.000000       13228   13233  13233.000000   \n",
       "unique   2511          57            NaN           3     191           NaN   \n",
       "top      暂无数据           南            NaN        暂无数据  2室1厅1卫           NaN   \n",
       "freq     8844        9196            NaN        7815    1807           NaN   \n",
       "mean      NaN         NaN    4893.226026         NaN     NaN      2.422202   \n",
       "std       NaN         NaN    3981.663005         NaN     NaN      0.994626   \n",
       "min       NaN         NaN     750.000000         NaN     NaN      0.000000   \n",
       "25%       NaN         NaN    3180.000000         NaN     NaN      2.000000   \n",
       "50%       NaN         NaN    4000.000000         NaN     NaN      2.000000   \n",
       "75%       NaN         NaN    5500.000000         NaN     NaN      3.000000   \n",
       "max       NaN         NaN  119625.000000         NaN     NaN     12.000000   \n",
       "\n",
       "                ting             title   total_floor           wei   zone  \\\n",
       "count   13233.000000             13233  13233.000000  13233.000000  13233   \n",
       "unique           NaN             11301           NaN           NaN    102   \n",
       "top              NaN  合景映月台 3室2厅 6000元           NaN           NaN     临平   \n",
       "freq             NaN                24           NaN           NaN    839   \n",
       "mean        1.385098               NaN     16.372553      1.319655    NaN   \n",
       "std         0.566173               NaN      9.686958      0.576642    NaN   \n",
       "min         0.000000               NaN      0.000000      0.000000    NaN   \n",
       "25%         1.000000               NaN      7.000000      1.000000    NaN   \n",
       "50%         1.000000               NaN     16.000000      1.000000    NaN   \n",
       "75%         2.000000               NaN     24.000000      2.000000    NaN   \n",
       "max         6.000000               NaN     60.000000      9.000000    NaN   \n",
       "\n",
       "          total_time  \n",
       "count   1.323300e+04  \n",
       "unique           NaN  \n",
       "top              NaN  \n",
       "freq             NaN  \n",
       "mean    8.690396e+08  \n",
       "std     9.281984e+09  \n",
       "min     5.000000e+00  \n",
       "25%     4.000000e+01  \n",
       "50%     5.400000e+01  \n",
       "75%     6.800000e+01  \n",
       "max     1.000000e+11  "
      ]
     },
     "execution_count": 1263,
     "metadata": {},
     "output_type": "execute_result"
    }
   ],
   "source": [
    "# 看下整体情况\n",
    "lianjia.describe(include=\"all\")"
   ]
  },
  {
   "cell_type": "code",
   "execution_count": 1264,
   "metadata": {},
   "outputs": [
    {
     "data": {
      "text/plain": [
       "0"
      ]
     },
     "execution_count": 1264,
     "metadata": {},
     "output_type": "execute_result"
    }
   ],
   "source": [
    "# 填补缺失值\n",
    "lianjia.rental_mode[lianjia.rental_mode.isnull()] = \"暂无数据\"\n",
    "lianjia.rental_mode.isnull().sum()"
   ]
  },
  {
   "cell_type": "code",
   "execution_count": 1265,
   "metadata": {},
   "outputs": [
    {
     "name": "stdout",
     "output_type": "stream",
     "text": [
      "<class 'pandas.core.frame.DataFrame'>\n",
      "Int64Index: 13233 entries, 0 to 13232\n",
      "Data columns (total 17 columns):\n",
      "building_start_year    13233 non-null object\n",
      "district               13233 non-null object\n",
      "estate                 13233 non-null object\n",
      "house_id               13233 non-null object\n",
      "housing_area           13233 non-null float64\n",
      "metro                  13233 non-null object\n",
      "orientation            13233 non-null object\n",
      "price                  13233 non-null float64\n",
      "rental_mode            13233 non-null object\n",
      "rooms                  13233 non-null object\n",
      "shi                    13233 non-null float64\n",
      "ting                   13233 non-null float64\n",
      "title                  13233 non-null object\n",
      "total_floor            13233 non-null float64\n",
      "wei                    13233 non-null float64\n",
      "zone                   13233 non-null object\n",
      "total_time             13233 non-null int64\n",
      "dtypes: float64(6), int64(1), object(10)\n",
      "memory usage: 1.8+ MB\n"
     ]
    }
   ],
   "source": [
    "lianjia.info()"
   ]
  },
  {
   "cell_type": "code",
   "execution_count": 1266,
   "metadata": {},
   "outputs": [],
   "source": [
    "# 剔除掉没有用的维度\n",
    "for data in data_cleaner:\n",
    "    data.drop([\"estate\", \"house_id\", \"title\", \"rooms\"], axis=1, inplace=True)"
   ]
  },
  {
   "cell_type": "code",
   "execution_count": 1267,
   "metadata": {},
   "outputs": [
    {
     "name": "stdout",
     "output_type": "stream",
     "text": [
      "<class 'pandas.core.frame.DataFrame'>\n",
      "Int64Index: 13233 entries, 0 to 13232\n",
      "Data columns (total 13 columns):\n",
      "building_start_year    13233 non-null object\n",
      "district               13233 non-null object\n",
      "housing_area           13233 non-null float64\n",
      "metro                  13233 non-null object\n",
      "orientation            13233 non-null object\n",
      "price                  13233 non-null float64\n",
      "rental_mode            13233 non-null object\n",
      "shi                    13233 non-null float64\n",
      "ting                   13233 non-null float64\n",
      "total_floor            13233 non-null float64\n",
      "wei                    13233 non-null float64\n",
      "zone                   13233 non-null object\n",
      "total_time             13233 non-null int64\n",
      "dtypes: float64(6), int64(1), object(6)\n",
      "memory usage: 1.4+ MB\n"
     ]
    }
   ],
   "source": [
    "lianjia.info()"
   ]
  },
  {
   "cell_type": "code",
   "execution_count": 1268,
   "metadata": {},
   "outputs": [],
   "source": [
    "# 设置字段\n",
    "Target = \"price\"\n",
    "Features = lianjia.columns.drop(\"price\").tolist()"
   ]
  },
  {
   "cell_type": "code",
   "execution_count": 1269,
   "metadata": {},
   "outputs": [
    {
     "name": "stdout",
     "output_type": "stream",
     "text": [
      "building_start_year\n",
      "district\n",
      "housing_area\n",
      "metro\n",
      "orientation\n",
      "rental_mode\n",
      "shi\n",
      "ting\n",
      "total_floor\n",
      "wei\n",
      "zone\n",
      "total_time\n"
     ]
    }
   ],
   "source": [
    "for i in Features:\n",
    "    print(i)"
   ]
  },
  {
   "cell_type": "code",
   "execution_count": 1270,
   "metadata": {},
   "outputs": [
    {
     "name": "stdout",
     "output_type": "stream",
     "text": [
      "Survival Correlation by: building_start_year\n",
      "   building_start_year        price\n",
      "0                 1970  3800.000000\n",
      "1                 1978  5000.000000\n",
      "2                 1979  4533.333333\n",
      "3                 1980  3500.000000\n",
      "4                 1981  3900.000000\n",
      "5                 1982  4150.000000\n",
      "6                 1983  4000.000000\n",
      "7                 1984  4188.888889\n",
      "8                 1985  3817.956989\n",
      "9                 1986  4125.641026\n",
      "10                1987  4194.117647\n",
      "11                1988  4177.307692\n",
      "12                1989  4024.375000\n",
      "13                1990  4071.511628\n",
      "14                1991  3945.161290\n",
      "15                1992  4171.428571\n",
      "16                1993  3853.968254\n",
      "17                1994  3784.555556\n",
      "18                1995  4077.326923\n",
      "19                1996  4130.963855\n",
      "20                1997  4540.196078\n",
      "21                1998  4450.928571\n",
      "22                1999  5388.265306\n",
      "23                2000  5098.881988\n",
      "24                2001  7375.893617\n",
      "25                2002  5849.186047\n",
      "26                2003  4824.836478\n",
      "27                2004  5577.309392\n",
      "28                2005  5529.342723\n",
      "29                2006  5123.740157\n",
      "30                2007  6773.177258\n",
      "31                2008  5037.133333\n",
      "32                2009  5262.192192\n",
      "33                2010  5236.956616\n",
      "34                2011  5100.181159\n",
      "35                2012  4664.475524\n",
      "36                2013  5089.738739\n",
      "37                2014  4944.340771\n",
      "38                2015  5092.932462\n",
      "39                2016  4624.978378\n",
      "40                2017  4627.711061\n",
      "41                2018  5607.841727\n",
      "42                2020  3500.000000\n",
      "43                  塔楼  3647.619048\n",
      "44                  平房  4500.000000\n",
      "45                暂无数据  4038.907749\n",
      "46                板塔结合  5985.000000\n",
      "47                  板楼  4453.034130\n",
      "---------- \n",
      "\n",
      "Survival Correlation by: district\n",
      "   district        price\n",
      "0       上城区  7401.708625\n",
      "1       下城区  4904.913499\n",
      "2       下沙区  3366.666667\n",
      "3       临安区  2080.000000\n",
      "4       余杭区  3652.048838\n",
      "5       富阳区  2844.736842\n",
      "6       拱墅区  4622.284722\n",
      "7       江干区  5145.082448\n",
      "8       滨江区  6472.415179\n",
      "9       萧山区  4457.197634\n",
      "10      西湖区  5611.535061\n",
      "---------- \n",
      "\n",
      "Survival Correlation by: metro\n",
      "                          metro         price\n",
      "0                          暂无数据   4566.896770\n",
      "1          距地铁1号线(临平-湘湖)七堡1139米   5400.000000\n",
      "2          距地铁1号线(临平-湘湖)七堡1145米   5350.000000\n",
      "3          距地铁1号线(临平-湘湖)七堡1151米   4650.000000\n",
      "4           距地铁1号线(临平-湘湖)七堡269米   7500.000000\n",
      "5           距地铁1号线(临平-湘湖)七堡282米   7833.333333\n",
      "6           距地铁1号线(临平-湘湖)七堡288米   7350.000000\n",
      "7           距地铁1号线(临平-湘湖)七堡289米   7000.000000\n",
      "8           距地铁1号线(临平-湘湖)七堡420米   7300.000000\n",
      "9          距地铁1号线(临平-湘湖)临平1087米   2700.000000\n",
      "10         距地铁1号线(临平-湘湖)临平1096米   5250.000000\n",
      "11         距地铁1号线(临平-湘湖)临平1103米   8000.000000\n",
      "12         距地铁1号线(临平-湘湖)临平1106米   3000.000000\n",
      "13         距地铁1号线(临平-湘湖)临平1169米   3166.666667\n",
      "14          距地铁1号线(临平-湘湖)临平392米   2500.000000\n",
      "15          距地铁1号线(临平-湘湖)临平443米   3100.000000\n",
      "16          距地铁1号线(临平-湘湖)临平460米   2400.000000\n",
      "17           距地铁1号线(临平-湘湖)临平48米   2833.333333\n",
      "18           距地铁1号线(临平-湘湖)临平49米   4650.000000\n",
      "19          距地铁1号线(临平-湘湖)临平513米   3500.000000\n",
      "20           距地铁1号线(临平-湘湖)临平54米   2824.000000\n",
      "21          距地铁1号线(临平-湘湖)临平554米   3379.125000\n",
      "22          距地铁1号线(临平-湘湖)临平581米   4000.000000\n",
      "23          距地铁1号线(临平-湘湖)临平604米   1900.000000\n",
      "24          距地铁1号线(临平-湘湖)临平622米   3100.000000\n",
      "25          距地铁1号线(临平-湘湖)临平746米   2600.000000\n",
      "26          距地铁1号线(临平-湘湖)临平786米   2500.000000\n",
      "27          距地铁1号线(临平-湘湖)临平842米   4000.000000\n",
      "28          距地铁1号线(临平-湘湖)临平964米   5750.000000\n",
      "29         距地铁1号线(临平-湘湖)乔司1135米   1900.000000\n",
      "...                         ...           ...\n",
      "1897   距地铁地铁1号线(下沙江滨-湘湖)文泽路868米   2500.000000\n",
      "1898   距地铁地铁1号线(下沙江滨-湘湖)文泽路978米   3100.000000\n",
      "1899  距地铁地铁1号线(下沙江滨-湘湖)文海南路836米   4000.000000\n",
      "1900   距地铁地铁1号线(下沙江滨-湘湖)金沙湖135米   3666.666667\n",
      "1901   距地铁地铁1号线(下沙江滨-湘湖)金沙湖284米   5100.000000\n",
      "1902   距地铁地铁1号线(下沙江滨-湘湖)金沙湖310米   4200.000000\n",
      "1903   距地铁地铁1号线(下沙江滨-湘湖)金沙湖382米   4400.000000\n",
      "1904   距地铁地铁1号线(下沙江滨-湘湖)金沙湖400米   5000.000000\n",
      "1905   距地铁地铁1号线(下沙江滨-湘湖)金沙湖404米   4300.000000\n",
      "1906   距地铁地铁1号线(下沙江滨-湘湖)金沙湖438米   4500.000000\n",
      "1907   距地铁地铁1号线(下沙江滨-湘湖)金沙湖488米   5500.000000\n",
      "1908   距地铁地铁1号线(下沙江滨-湘湖)金沙湖551米   5000.000000\n",
      "1909   距地铁地铁1号线(下沙江滨-湘湖)金沙湖584米   4500.000000\n",
      "1910   距地铁地铁1号线(下沙江滨-湘湖)金沙湖585米   4550.000000\n",
      "1911   距地铁地铁1号线(下沙江滨-湘湖)金沙湖666米   4200.000000\n",
      "1912   距地铁地铁1号线(下沙江滨-湘湖)金沙湖705米   8000.000000\n",
      "1913   距地铁地铁1号线(下沙江滨-湘湖)金沙湖743米  32000.000000\n",
      "1914   距地铁地铁1号线(下沙江滨-湘湖)金沙湖764米   5000.000000\n",
      "1915   距地铁地铁1号线(下沙江滨-湘湖)金沙湖797米   4000.000000\n",
      "1916   距地铁地铁1号线(下沙江滨-湘湖)金沙湖825米   6200.000000\n",
      "1917   距地铁地铁1号线(下沙江滨-湘湖)金沙湖835米   4000.000000\n",
      "1918   距地铁地铁1号线(下沙江滨-湘湖)金沙湖908米   8000.000000\n",
      "1919  距地铁地铁1号线(下沙江滨-湘湖)高沙路1040米   3300.000000\n",
      "1920  距地铁地铁1号线(下沙江滨-湘湖)高沙路1157米   4050.000000\n",
      "1921   距地铁地铁1号线(下沙江滨-湘湖)高沙路419米  16000.000000\n",
      "1922   距地铁地铁1号线(下沙江滨-湘湖)高沙路455米   5000.000000\n",
      "1923   距地铁地铁1号线(下沙江滨-湘湖)高沙路481米   5200.000000\n",
      "1924   距地铁地铁1号线(下沙江滨-湘湖)高沙路752米   3500.000000\n",
      "1925    距地铁地铁1号线(下沙江滨-湘湖)高沙路89米   2900.000000\n",
      "1926   距地铁地铁1号线(下沙江滨-湘湖)高沙路972米   4500.000000\n",
      "\n",
      "[1927 rows x 2 columns]\n",
      "---------- \n",
      "\n",
      "Survival Correlation by: orientation\n",
      "     orientation         price\n",
      "0              东   3818.461538\n",
      "1           东 东南   5000.000000\n",
      "2         东 东南 南   7236.842105\n",
      "3       东 东南 南 北   5700.000000\n",
      "4       东 东南 南 西   3900.000000\n",
      "5     东 东南 南 西 北  20000.000000\n",
      "6      东 东南 南 西南   5880.000000\n",
      "7    东 东南 南 西南 西   6571.428571\n",
      "8   东 东南 南 西南 西北   5000.000000\n",
      "9            东 北   6766.666667\n",
      "10        东 北 东北   3800.000000\n",
      "11           东 南   5567.833333\n",
      "12        东 南 东北   4200.000000\n",
      "13         东 南 北   5730.434783\n",
      "14         东 南 西   7000.000000\n",
      "15       东 南 西 北   8050.000000\n",
      "16      东 南 西南 西   6000.000000\n",
      "17           东 西   4158.064516\n",
      "18         东 西 北   3950.000000\n",
      "19          东 西南   5000.000000\n",
      "20            东北   9332.407407\n",
      "21            东南   5777.213974\n",
      "22          东南 北  11000.000000\n",
      "23          东南 南   6559.259259\n",
      "24        东南 南 北   8233.000000\n",
      "25       东南 南 西南   3900.000000\n",
      "26     东南 南 西南 西   4600.000000\n",
      "27  东南 南 西南 西 西北   4250.000000\n",
      "28  东南 南 西南 西北 北   4000.000000\n",
      "29          东南 西   3600.000000\n",
      "30         东南 西北   5300.000000\n",
      "31   东南 西南 西北 东北   6000.000000\n",
      "32             北   3442.500000\n",
      "33             南   4847.078581\n",
      "34           南 东  15000.000000\n",
      "35          南 东北   5840.000000\n",
      "36           南 北   4999.451069\n",
      "37        南 北 东北   4350.000000\n",
      "38           南 西   5400.000000\n",
      "39         南 西 北   5256.428571\n",
      "40          南 西北   5050.000000\n",
      "41          南 西南   4590.000000\n",
      "42        南 西南 西   7500.000000\n",
      "43             西   4018.092857\n",
      "44           西 北  11666.666667\n",
      "45          西 西北  11500.000000\n",
      "46            西北   4341.428571\n",
      "47          西北 北   4200.000000\n",
      "48            西南   8475.365854\n",
      "49          西南 西   4200.000000\n",
      "50         西南 西北   3300.000000\n",
      "---------- \n",
      "\n",
      "Survival Correlation by: rental_mode\n",
      "  rental_mode        price\n",
      "0          合租  2535.392157\n",
      "1          整租  5065.436043\n",
      "2        暂无数据  4806.031440\n",
      "---------- \n",
      "\n",
      "Survival Correlation by: zone\n",
      "      zone         price\n",
      "0       丁桥   2993.501484\n",
      "1     万达广场   4720.000000\n",
      "2       三塘   4077.230769\n",
      "3       三墩   4410.738636\n",
      "4      三里亭   4512.087912\n",
      "5      丝绸城   4416.666667\n",
      "6       临安   2080.000000\n",
      "7       临平   2778.741824\n",
      "8       义桥   3563.138686\n",
      "9       之江   7380.000000\n",
      "10      乔司   3376.966292\n",
      "11      九堡   4625.233645\n",
      "12      九莲   5680.851064\n",
      "13      仁和   2357.461538\n",
      "14     众安桥   4588.000000\n",
      "15    体育场路   6655.555556\n",
      "16     信义坊   3820.121951\n",
      "17      勾庄   4150.000000\n",
      "18      半山   3492.916667\n",
      "19     华家池   6767.741935\n",
      "20      南星  15381.052632\n",
      "21     南肖埠   4960.714286\n",
      "22    南部卧城   3211.821229\n",
      "23      古荡   4178.062500\n",
      "24      和平   7042.307692\n",
      "25      和睦   4021.212121\n",
      "26      嘉绿   5229.333333\n",
      "27     四季青   5580.000000\n",
      "28    城东新城   5216.054422\n",
      "29      城站   3857.142857\n",
      "..     ...           ...\n",
      "72      申花   5311.785714\n",
      "73      留下   3433.333333\n",
      "74     白马湖   4882.790698\n",
      "75      石桥   4014.375000\n",
      "76      笕桥   4836.569444\n",
      "77      翠苑   4302.083333\n",
      "78     翡翠城   4587.209302\n",
      "79      良渚   3757.007937\n",
      "80    萧山市区   4219.105263\n",
      "81   萧山开发区   3884.834171\n",
      "82   萧山新城区   4685.306785\n",
      "83      西兴   5561.750000\n",
      "84    西湖景区   2500.000000\n",
      "85      西溪   7630.524390\n",
      "86      转塘   4603.364865\n",
      "87      近江   5664.024390\n",
      "88      采荷   5346.666667\n",
      "89     金沙湖   5402.000000\n",
      "90   钱江世纪城   5614.137097\n",
      "91    钱江新城  14351.725664\n",
      "92      长庆   5167.647059\n",
      "93      长河   6680.779221\n",
      "94      闲林   3879.000000\n",
      "95     闸弄口   4296.730769\n",
      "96      闻堰   5219.162500\n",
      "97     雄镇楼   4832.172414\n",
      "98   高教园区东   2913.333333\n",
      "99   高教园区西   4698.275862\n",
      "100     黄龙   5697.034483\n",
      "101     鼓楼   4140.816327\n",
      "\n",
      "[102 rows x 2 columns]\n",
      "---------- \n",
      "\n",
      "Survival Correlation by: total_time\n",
      "      total_time         price\n",
      "0              5   3600.000000\n",
      "1              6   2600.000000\n",
      "2              7   4850.000000\n",
      "3              8   3660.000000\n",
      "4              9   3985.714286\n",
      "5             10   3950.000000\n",
      "6             11   5200.000000\n",
      "7             12   7336.363636\n",
      "8             13   3500.000000\n",
      "9             14   5975.000000\n",
      "10            15  19650.000000\n",
      "11            16   5445.000000\n",
      "12            17   6109.090909\n",
      "13            18   4446.666667\n",
      "14            19   7069.117647\n",
      "15            20   5085.185185\n",
      "16            21   6789.473684\n",
      "17            22   4265.476190\n",
      "18            23   4937.142857\n",
      "19            24   5190.000000\n",
      "20            25   5714.285714\n",
      "21            26   4450.520548\n",
      "22            27   5226.071429\n",
      "23            28   5065.413534\n",
      "24            29   4802.970297\n",
      "25            30   6012.758621\n",
      "26            31   5420.256637\n",
      "27            32   4707.973333\n",
      "28            33   5635.233645\n",
      "29            34   5208.631579\n",
      "..           ...           ...\n",
      "91            96   3297.872340\n",
      "92            97   3976.470588\n",
      "93            98   5113.333333\n",
      "94            99   3658.974359\n",
      "95           100   2775.000000\n",
      "96           101   3195.200000\n",
      "97           102   3430.000000\n",
      "98           103   2628.571429\n",
      "99           104   2125.000000\n",
      "100          105   2320.000000\n",
      "101          106   2866.666667\n",
      "102          107   2713.636364\n",
      "103          108   2583.500000\n",
      "104          109   2543.750000\n",
      "105          110   2887.500000\n",
      "106          113   3275.000000\n",
      "107          115   2266.666667\n",
      "108          117   2600.000000\n",
      "109          118   3750.000000\n",
      "110          121   4640.000000\n",
      "111          125   2700.000000\n",
      "112          126   2450.000000\n",
      "113          128   1400.000000\n",
      "114          136   3200.000000\n",
      "115          139   3000.000000\n",
      "116          141   3500.000000\n",
      "117          147   1750.000000\n",
      "118          155   3500.000000\n",
      "119          157   2000.000000\n",
      "120  99999999999   4753.529412\n",
      "\n",
      "[121 rows x 2 columns]\n",
      "---------- \n",
      "\n"
     ]
    }
   ],
   "source": [
    "# 超级超级赞， 让我对整个数据有了全面的认识  （这样才可以掌控全局）\n",
    "for f in Features:\n",
    "    if train_data[f].dtype != 'float64' :\n",
    "        print('Survival Correlation by:', f)\n",
    "        print(train_data[[f, Target]].groupby(f, as_index=False).mean())\n",
    "        print('-'*10, '\\n')"
   ]
  },
  {
   "cell_type": "code",
   "execution_count": 1271,
   "metadata": {},
   "outputs": [],
   "source": [
    "# 转换数据格式\n",
    "for data in data_cleaner:\n",
    "    data.building_start_year[data.building_start_year == \"塔楼\"] = None\n",
    "    data.building_start_year[data.building_start_year == \"平房\"] = None\n",
    "    data.building_start_year[data.building_start_year == \"暂无数据\"] = None\n",
    "    data.building_start_year[data.building_start_year == \"板塔结合\"] = None\n",
    "    data.building_start_year[data.building_start_year == \"板楼\"] = None\n",
    "    data.building_start_year = pd.DataFrame(data.building_start_year, dtype=\"float\")\n",
    "    data.building_start_year[data.building_start_year.isnull()] = data.building_start_year.mean()\n",
    "    data.building_start_year[data.building_start_year<=1980] = 0 \n",
    "    data.building_start_year[(1980<data.building_start_year) & (data.building_start_year<=1990)] = 1\n",
    "    data.building_start_year[(1990<data.building_start_year) & (data.building_start_year<=2000)] = 2\n",
    "    data.building_start_year[(2000<data.building_start_year) & (data.building_start_year<=2010)] = 3\n",
    "    data.building_start_year[(2010<data.building_start_year) & (data.building_start_year<=2020)] = 4"
   ]
  },
  {
   "cell_type": "code",
   "execution_count": 1272,
   "metadata": {
    "scrolled": true
   },
   "outputs": [
    {
     "data": {
      "text/plain": [
       "array([4., 3., 1., 2., 0.])"
      ]
     },
     "execution_count": 1272,
     "metadata": {},
     "output_type": "execute_result"
    }
   ],
   "source": [
    "data.building_start_year.unique()"
   ]
  },
  {
   "cell_type": "code",
   "execution_count": 1273,
   "metadata": {},
   "outputs": [],
   "source": [
    "def foo_1(x):\n",
    "    if int(x) <= 200:\n",
    "        return 1\n",
    "    elif 200 < int(x) <= 400:\n",
    "        return 2\n",
    "    elif 400 < int(x) <= 600:\n",
    "        return 3\n",
    "    elif 600 < int(x) <= 800:\n",
    "        return 4\n",
    "    elif 800 < int(x) <= 1000:\n",
    "        return 5\n",
    "    elif 1000 < int(x) <= 1200:\n",
    "        return 6\n",
    "    \n",
    "for data in data_cleaner:\n",
    "    data.metro[data.metro == \"暂无数据\"] = None\n",
    "    data.metro[data.metro.notnull()] = data.metro[data.metro.notnull()].apply(lambda x: re.findall(r\"(\\d+)米\", x)[0]).astype(\"int\")\n",
    "    data.metro[data.metro.notnull()] = data.metro[data.metro.notnull()].apply(foo_1)\n",
    "    data.metro[data.metro.isnull()] = 10\n",
    "    data.metro = pd.DataFrame(data.metro, dtype=\"float\")"
   ]
  },
  {
   "cell_type": "code",
   "execution_count": 1274,
   "metadata": {},
   "outputs": [
    {
     "data": {
      "text/plain": [
       "array([10.,  6.,  4.,  5.,  3.,  1.,  2.])"
      ]
     },
     "execution_count": 1274,
     "metadata": {},
     "output_type": "execute_result"
    }
   ],
   "source": [
    "lianjia.metro.unique()"
   ]
  },
  {
   "cell_type": "code",
   "execution_count": 1275,
   "metadata": {},
   "outputs": [
    {
     "data": {
      "text/plain": [
       "Series([], Name: metro, dtype: float64)"
      ]
     },
     "execution_count": 1275,
     "metadata": {},
     "output_type": "execute_result"
    }
   ],
   "source": [
    "data.metro[data.metro.isnull()]"
   ]
  },
  {
   "cell_type": "code",
   "execution_count": 1276,
   "metadata": {},
   "outputs": [
    {
     "name": "stdout",
     "output_type": "stream",
     "text": [
      "(9233,)\n",
      "(9233,)\n",
      "(4000,)\n",
      "(4000,)\n",
      "(13233,)\n",
      "(13233,)\n",
      "   east  south  west  north\n",
      "0     0      1     0      1\n",
      "1     0      1     0      0\n",
      "2     0      1     0      0\n",
      "3     0      1     0      0\n",
      "4     0      1     0      0\n"
     ]
    }
   ],
   "source": [
    "# 将“朝向”字段转换掉（新生成4个维度，表示“包含”的意思）\n",
    "def foo_2(df):\n",
    "    \n",
    "    l_d = []\n",
    "    l_n = []\n",
    "    l_x = []\n",
    "    l_b = []\n",
    "\n",
    "    for i in df.orientation:\n",
    "        if \"东\" in i:\n",
    "            l_d.append(1)\n",
    "        else:\n",
    "            l_d.append(0)\n",
    "        if \"南\" in i:\n",
    "            l_n.append(1)\n",
    "        else:\n",
    "            l_n.append(0)\n",
    "        if \"西\" in i:\n",
    "            l_x.append(1)\n",
    "        else:\n",
    "            l_x.append(0)\n",
    "        if \"北\" in i:\n",
    "            l_b.append(1)\n",
    "        else:\n",
    "            l_b.append(0)\n",
    "    print(np.array(l_n).shape)\n",
    "    print(np.array(l_d).shape)\n",
    "    df[\"east\"] = l_d\n",
    "    df[\"south\"] = l_n\n",
    "    df[\"west\"] = l_x\n",
    "    df[\"north\"] = l_b\n",
    "    # 并删除原“orientation”字段\n",
    "    df.drop([\"orientation\"], axis=1, inplace=True)\n",
    "    \n",
    "        \n",
    "for data in data_cleaner:\n",
    "    foo_2(data)\n",
    "   \n",
    "print(lianjia[[\"east\", \"south\", \"west\", \"north\"]].head())"
   ]
  },
  {
   "cell_type": "code",
   "execution_count": 1277,
   "metadata": {},
   "outputs": [],
   "source": [
    "# 注意！！！！！！\n",
    "# 这里不能在for循环里给循环数data 直接赋值！！！\n",
    "# 如果是对data的键值赋值是可以的， 直接赋值则不影响原对象\n",
    "# for data in data_cleaner:\n",
    "#     data = pd.get_dummies(Features)\n",
    "\n",
    "\n",
    "# 卧槽尼玛！！！！  坑真多!！！  这样for循环赋值还是不行！！！\n",
    "# 这样索引赋值，就是把索引指向新的值，而原对象的值还是不变\n",
    "# 估计不能通过for循环来赋值了， 把这步dumy的操作放到后面（建模前）\n",
    "# for i in range(len(data_cleaner)):\n",
    "#     data_cleaner[i] = pd.get_dummies(data_cleaner[i])"
   ]
  },
  {
   "cell_type": "code",
   "execution_count": 1278,
   "metadata": {},
   "outputs": [],
   "source": [
    "# 至此， 非数值型的数据类型、格式已经转换完成， 下面开始转化数值型数据"
   ]
  },
  {
   "cell_type": "code",
   "execution_count": 1279,
   "metadata": {},
   "outputs": [
    {
     "data": {
      "text/plain": [
       "16.37255346482279"
      ]
     },
     "execution_count": 1279,
     "metadata": {},
     "output_type": "execute_result"
    }
   ],
   "source": [
    "lianjia.total_floor.mean()"
   ]
  },
  {
   "cell_type": "code",
   "execution_count": 1280,
   "metadata": {},
   "outputs": [],
   "source": [
    "def foo_3(x):\n",
    "    if int(x) == 0:\n",
    "        return 4\n",
    "    elif 0 < int(x) <= 2:\n",
    "        return 1\n",
    "    elif 2 < int(x) <= 5:\n",
    "        return 2\n",
    "    elif 5 < int(x) <= 15:\n",
    "        return 3\n",
    "    elif 15 < int(x) <= 30:\n",
    "        return 4\n",
    "    elif 30 < int(x) <= 60:\n",
    "        return 5\n",
    "    \n",
    "for data in data_cleaner:\n",
    "    data.total_floor= data.total_floor.apply(foo_3)"
   ]
  },
  {
   "cell_type": "code",
   "execution_count": 1281,
   "metadata": {},
   "outputs": [
    {
     "data": {
      "text/plain": [
       "array([4, 1, 3, 2, 5], dtype=int64)"
      ]
     },
     "execution_count": 1281,
     "metadata": {},
     "output_type": "execute_result"
    }
   ],
   "source": [
    "lianjia.total_floor.unique()"
   ]
  },
  {
   "cell_type": "code",
   "execution_count": 1282,
   "metadata": {
    "scrolled": true
   },
   "outputs": [
    {
     "name": "stdout",
     "output_type": "stream",
     "text": [
      "<class 'pandas.core.frame.DataFrame'>\n",
      "Int64Index: 13233 entries, 0 to 13232\n",
      "Data columns (total 16 columns):\n",
      "building_start_year    13233 non-null float64\n",
      "district               13233 non-null object\n",
      "housing_area           13233 non-null float64\n",
      "metro                  13233 non-null float64\n",
      "price                  13233 non-null float64\n",
      "rental_mode            13233 non-null object\n",
      "shi                    13233 non-null float64\n",
      "ting                   13233 non-null float64\n",
      "total_floor            13233 non-null int64\n",
      "wei                    13233 non-null float64\n",
      "zone                   13233 non-null object\n",
      "total_time             13233 non-null int64\n",
      "east                   13233 non-null int64\n",
      "south                  13233 non-null int64\n",
      "west                   13233 non-null int64\n",
      "north                  13233 non-null int64\n",
      "dtypes: float64(7), int64(6), object(3)\n",
      "memory usage: 2.3+ MB\n"
     ]
    }
   ],
   "source": [
    "lianjia.info()"
   ]
  },
  {
   "cell_type": "code",
   "execution_count": 1283,
   "metadata": {},
   "outputs": [
    {
     "name": "stdout",
     "output_type": "stream",
     "text": [
      "<class 'pandas.core.frame.DataFrame'>\n",
      "Int64Index: 13233 entries, 0 to 13232\n",
      "Data columns (total 17 columns):\n",
      "building_start_year    13233 non-null float64\n",
      "district               13233 non-null object\n",
      "housing_area           13233 non-null float64\n",
      "metro                  13233 non-null float64\n",
      "price                  13233 non-null float64\n",
      "rental_mode            13233 non-null object\n",
      "shi                    13233 non-null float64\n",
      "ting                   13233 non-null float64\n",
      "total_floor            13233 non-null int64\n",
      "wei                    13233 non-null float64\n",
      "zone                   13233 non-null object\n",
      "total_time             13233 non-null float64\n",
      "east                   13233 non-null int64\n",
      "south                  13233 non-null int64\n",
      "west                   13233 non-null int64\n",
      "north                  13233 non-null int64\n",
      "cost_e                 13233 non-null float64\n",
      "dtypes: float64(9), int64(5), object(3)\n",
      "memory usage: 2.4+ MB\n"
     ]
    }
   ],
   "source": [
    "# 1.去掉total_time的99999异常值；  2.创建新的“性价比”字段\n",
    "for data in data_cleaner:\n",
    "    data.total_time[data.total_time>160] = data.total_time[data.total_time<160].mean()\n",
    "    data[\"cost_e\"] = data.price / data.housing_area\n",
    "lianjia.info()"
   ]
  },
  {
   "cell_type": "code",
   "execution_count": 1284,
   "metadata": {
    "scrolled": true
   },
   "outputs": [
    {
     "data": {
      "text/plain": [
       "{'whiskers': [<matplotlib.lines.Line2D at 0x133da1dc5f8>,\n",
       "  <matplotlib.lines.Line2D at 0x133da1dc978>],\n",
       " 'caps': [<matplotlib.lines.Line2D at 0x133da1dccf8>,\n",
       "  <matplotlib.lines.Line2D at 0x133da2090b8>],\n",
       " 'boxes': [<matplotlib.lines.Line2D at 0x133da1dc470>],\n",
       " 'medians': [<matplotlib.lines.Line2D at 0x133da209438>],\n",
       " 'fliers': [<matplotlib.lines.Line2D at 0x133da209b38>],\n",
       " 'means': [<matplotlib.lines.Line2D at 0x133da2097b8>]}"
      ]
     },
     "execution_count": 1284,
     "metadata": {},
     "output_type": "execute_result"
    },
    {
     "data": {
      "image/png": "[encoded data removed]",
      "text/plain": [
       "<Figure size 432x288 with 1 Axes>"
      ]
     },
     "metadata": {
      "needs_background": "light"
     },
     "output_type": "display_data"
    }
   ],
   "source": [
    "# 查看一下label的箱线图\n",
    "fig, axes =plt.subplots()\n",
    "axes.boxplot(x=lianjia[Target], showmeans = True, meanline = True)"
   ]
  },
  {
   "cell_type": "code",
   "execution_count": 1285,
   "metadata": {},
   "outputs": [
    {
     "data": {
      "text/plain": [
       "Index(['building_start_year', 'housing_area', 'metro', 'shi', 'total_floor',\n",
       "       'wei', 'total_time', 'east', 'south', 'west', 'north', 'cost_e'],\n",
       "      dtype='object')"
      ]
     },
     "execution_count": 1285,
     "metadata": {},
     "output_type": "execute_result"
    }
   ],
   "source": [
    "features_numeral = lianjia.dtypes[lianjia.dtypes!= object].index.drop([\"price\", \"ting\"])\n",
    "features_numeral"
   ]
  },
  {
   "cell_type": "code",
   "execution_count": 1286,
   "metadata": {},
   "outputs": [
    {
     "data": {
      "image/png": "[encoded data removed]",
      "text/plain": [
       "<Figure size 1152x1800 with 12 Axes>"
      ]
     },
     "metadata": {
      "needs_background": "light"
     },
     "output_type": "display_data"
    }
   ],
   "source": [
    "# 查看各个特征的箱线图\n",
    "# 虚线为均值，蓝线为中位数。\n",
    "# 中位数是有可能和下4分位或顶线重合的（由所有数中，中间数值的那个数决定）\n",
    "# 箱线图可以清晰地看出离群值，但是这里我们也明白，该离群值实际上并不离群，大概率是真实数据，所以不打算把他们排除掉\n",
    "# （更严谨的做法是：把离群值取出来，看看是否真的异常，逐个排查；但这样太麻烦了，我在excel中看是正常的。。。。）(预测效果不好后，再来改)\n",
    "fig, axes =plt.subplots(4, 3, figsize=(16, 25))\n",
    "features_numeral = lianjia.dtypes[lianjia.dtypes!= object].index.drop([\"price\", \"ting\"])\n",
    "for i in range(12):\n",
    "    axes[i//3, (i%3)].boxplot(x=lianjia[features_numeral[i]], showmeans=True, meanline=True)\n",
    "    axes[i//3, (i%3)].set_title(features_numeral[i])"
   ]
  },
  {
   "cell_type": "code",
   "execution_count": 1287,
   "metadata": {},
   "outputs": [
    {
     "data": {
      "text/html": [
       "<div>\n",
       "<style scoped>\n",
       "    .dataframe tbody tr th:only-of-type {\n",
       "        vertical-align: middle;\n",
       "    }\n",
       "\n",
       "    .dataframe tbody tr th {\n",
       "        vertical-align: top;\n",
       "    }\n",
       "\n",
       "    .dataframe thead th {\n",
       "        text-align: right;\n",
       "    }\n",
       "</style>\n",
       "<table border=\"1\" class=\"dataframe\">\n",
       "  <thead>\n",
       "    <tr style=\"text-align: right;\">\n",
       "      <th></th>\n",
       "      <th>building_start_year</th>\n",
       "      <th>district</th>\n",
       "      <th>housing_area</th>\n",
       "      <th>metro</th>\n",
       "      <th>price</th>\n",
       "      <th>rental_mode</th>\n",
       "      <th>shi</th>\n",
       "      <th>ting</th>\n",
       "      <th>total_floor</th>\n",
       "      <th>wei</th>\n",
       "      <th>zone</th>\n",
       "      <th>total_time</th>\n",
       "      <th>east</th>\n",
       "      <th>south</th>\n",
       "      <th>west</th>\n",
       "      <th>north</th>\n",
       "      <th>cost_e</th>\n",
       "    </tr>\n",
       "  </thead>\n",
       "  <tbody>\n",
       "    <tr>\n",
       "      <th>11372</th>\n",
       "      <td>2.0</td>\n",
       "      <td>西湖区</td>\n",
       "      <td>3800.0</td>\n",
       "      <td>5.0</td>\n",
       "      <td>3800.0</td>\n",
       "      <td>暂无数据</td>\n",
       "      <td>2.0</td>\n",
       "      <td>1.0</td>\n",
       "      <td>3</td>\n",
       "      <td>1.0</td>\n",
       "      <td>文教</td>\n",
       "      <td>33.0</td>\n",
       "      <td>0</td>\n",
       "      <td>1</td>\n",
       "      <td>0</td>\n",
       "      <td>0</td>\n",
       "      <td>1.0</td>\n",
       "    </tr>\n",
       "  </tbody>\n",
       "</table>\n",
       "</div>"
      ],
      "text/plain": [
       "       building_start_year district  housing_area  metro   price rental_mode  \\\n",
       "11372                  2.0      西湖区        3800.0    5.0  3800.0        暂无数据   \n",
       "\n",
       "       shi  ting  total_floor  wei zone  total_time  east  south  west  north  \\\n",
       "11372  2.0   1.0            3  1.0   文教        33.0     0      1     0      0   \n",
       "\n",
       "       cost_e  \n",
       "11372     1.0  "
      ]
     },
     "execution_count": 1287,
     "metadata": {},
     "output_type": "execute_result"
    }
   ],
   "source": [
    "# 找到了这个sb异常值：\n",
    "aberrant_doc = lianjia.loc[lianjia.housing_area[lianjia.housing_area>3000].index]\n",
    "aberrant_doc"
   ]
  },
  {
   "cell_type": "code",
   "execution_count": 1288,
   "metadata": {},
   "outputs": [
    {
     "data": {
      "text/plain": [
       "51    文教\n",
       "Name: zone, dtype: object"
      ]
     },
     "execution_count": 1288,
     "metadata": {},
     "output_type": "execute_result"
    }
   ],
   "source": [
    "filter_foo_1.zone[filter_foo_1.zone == \"文教\"]"
   ]
  },
  {
   "cell_type": "code",
   "execution_count": 1289,
   "metadata": {},
   "outputs": [
    {
     "name": "stdout",
     "output_type": "stream",
     "text": [
      "51    文教\n",
      "Name: zone, dtype: object\n",
      "\n",
      "\n",
      " 119.19984962406016\n"
     ]
    },
    {
     "data": {
      "text/plain": [
       "119.0"
      ]
     },
     "execution_count": 1289,
     "metadata": {},
     "output_type": "execute_result"
    }
   ],
   "source": [
    "# 通过group_by 找到同为“文教”商圈的小区的平均面积是多少，用来填充离群值\n",
    "# print(train_data[[\"zone\", \"housing_area\"]].groupby(\"zone\", as_index=False).mean())\n",
    "# type(train_data[[\"zone\", \"housing_area\"]].groupby(\"zone\", as_index=False).mean())\n",
    "filter_foo_1 = train_data[[\"zone\", \"housing_area\"]].groupby(\"zone\", as_index=False).mean()\n",
    "print(filter_foo_1.zone[filter_foo_1.zone==aberrant_doc.zone.iloc[0]])\n",
    "print(\"\\n\\n\",filter_foo_1.loc[51].housing_area)\n",
    "for data in data_cleaner:\n",
    "    if 11372 in data.index:\n",
    "        data.loc[11372, \"housing_area\"] = 119  # 费老半天劲， 终于给他赋值上了。。。。。（解决了该离群值）\n",
    "lianjia.loc[11372, \"housing_area\"]"
   ]
  },
  {
   "cell_type": "code",
   "execution_count": 1290,
   "metadata": {},
   "outputs": [
    {
     "data": {
      "text/html": [
       "<div>\n",
       "<style scoped>\n",
       "    .dataframe tbody tr th:only-of-type {\n",
       "        vertical-align: middle;\n",
       "    }\n",
       "\n",
       "    .dataframe tbody tr th {\n",
       "        vertical-align: top;\n",
       "    }\n",
       "\n",
       "    .dataframe thead th {\n",
       "        text-align: right;\n",
       "    }\n",
       "</style>\n",
       "<table border=\"1\" class=\"dataframe\">\n",
       "  <thead>\n",
       "    <tr style=\"text-align: right;\">\n",
       "      <th></th>\n",
       "      <th>district</th>\n",
       "      <th>price</th>\n",
       "      <th>housing_area</th>\n",
       "      <th>cost_e</th>\n",
       "    </tr>\n",
       "  </thead>\n",
       "  <tbody>\n",
       "    <tr>\n",
       "      <th>627</th>\n",
       "      <td>余杭区</td>\n",
       "      <td>50000.0</td>\n",
       "      <td>88.00</td>\n",
       "      <td>568.181818</td>\n",
       "    </tr>\n",
       "    <tr>\n",
       "      <th>660</th>\n",
       "      <td>余杭区</td>\n",
       "      <td>50000.0</td>\n",
       "      <td>98.65</td>\n",
       "      <td>506.842372</td>\n",
       "    </tr>\n",
       "    <tr>\n",
       "      <th>9862</th>\n",
       "      <td>上城区</td>\n",
       "      <td>31000.0</td>\n",
       "      <td>93.59</td>\n",
       "      <td>331.231969</td>\n",
       "    </tr>\n",
       "    <tr>\n",
       "      <th>9864</th>\n",
       "      <td>上城区</td>\n",
       "      <td>13500.0</td>\n",
       "      <td>45.00</td>\n",
       "      <td>300.000000</td>\n",
       "    </tr>\n",
       "    <tr>\n",
       "      <th>9859</th>\n",
       "      <td>上城区</td>\n",
       "      <td>11300.0</td>\n",
       "      <td>42.00</td>\n",
       "      <td>269.047619</td>\n",
       "    </tr>\n",
       "    <tr>\n",
       "      <th>4560</th>\n",
       "      <td>萧山区</td>\n",
       "      <td>1860.0</td>\n",
       "      <td>7.10</td>\n",
       "      <td>261.971831</td>\n",
       "    </tr>\n",
       "    <tr>\n",
       "      <th>9863</th>\n",
       "      <td>上城区</td>\n",
       "      <td>51000.0</td>\n",
       "      <td>195.32</td>\n",
       "      <td>261.109973</td>\n",
       "    </tr>\n",
       "    <tr>\n",
       "      <th>9861</th>\n",
       "      <td>上城区</td>\n",
       "      <td>29500.0</td>\n",
       "      <td>113.00</td>\n",
       "      <td>261.061947</td>\n",
       "    </tr>\n",
       "    <tr>\n",
       "      <th>4561</th>\n",
       "      <td>萧山区</td>\n",
       "      <td>1830.0</td>\n",
       "      <td>7.14</td>\n",
       "      <td>256.302521</td>\n",
       "    </tr>\n",
       "    <tr>\n",
       "      <th>8664</th>\n",
       "      <td>拱墅区</td>\n",
       "      <td>990.0</td>\n",
       "      <td>3.90</td>\n",
       "      <td>253.846154</td>\n",
       "    </tr>\n",
       "    <tr>\n",
       "      <th>625</th>\n",
       "      <td>余杭区</td>\n",
       "      <td>50000.0</td>\n",
       "      <td>197.34</td>\n",
       "      <td>253.369819</td>\n",
       "    </tr>\n",
       "    <tr>\n",
       "      <th>11916</th>\n",
       "      <td>滨江区</td>\n",
       "      <td>18000.0</td>\n",
       "      <td>72.48</td>\n",
       "      <td>248.344371</td>\n",
       "    </tr>\n",
       "    <tr>\n",
       "      <th>4540</th>\n",
       "      <td>萧山区</td>\n",
       "      <td>1760.0</td>\n",
       "      <td>7.20</td>\n",
       "      <td>244.444444</td>\n",
       "    </tr>\n",
       "    <tr>\n",
       "      <th>11106</th>\n",
       "      <td>拱墅区</td>\n",
       "      <td>80000.0</td>\n",
       "      <td>327.60</td>\n",
       "      <td>244.200244</td>\n",
       "    </tr>\n",
       "    <tr>\n",
       "      <th>9948</th>\n",
       "      <td>滨江区</td>\n",
       "      <td>52000.0</td>\n",
       "      <td>213.00</td>\n",
       "      <td>244.131455</td>\n",
       "    </tr>\n",
       "    <tr>\n",
       "      <th>2775</th>\n",
       "      <td>江干区</td>\n",
       "      <td>1330.0</td>\n",
       "      <td>5.50</td>\n",
       "      <td>241.818182</td>\n",
       "    </tr>\n",
       "    <tr>\n",
       "      <th>9870</th>\n",
       "      <td>上城区</td>\n",
       "      <td>15360.0</td>\n",
       "      <td>64.00</td>\n",
       "      <td>240.000000</td>\n",
       "    </tr>\n",
       "    <tr>\n",
       "      <th>2755</th>\n",
       "      <td>江干区</td>\n",
       "      <td>1290.0</td>\n",
       "      <td>5.50</td>\n",
       "      <td>234.545455</td>\n",
       "    </tr>\n",
       "    <tr>\n",
       "      <th>4558</th>\n",
       "      <td>萧山区</td>\n",
       "      <td>1390.0</td>\n",
       "      <td>6.01</td>\n",
       "      <td>231.281198</td>\n",
       "    </tr>\n",
       "    <tr>\n",
       "      <th>9860</th>\n",
       "      <td>上城区</td>\n",
       "      <td>13000.0</td>\n",
       "      <td>56.31</td>\n",
       "      <td>230.864855</td>\n",
       "    </tr>\n",
       "    <tr>\n",
       "      <th>9871</th>\n",
       "      <td>上城区</td>\n",
       "      <td>13000.0</td>\n",
       "      <td>56.31</td>\n",
       "      <td>230.864855</td>\n",
       "    </tr>\n",
       "    <tr>\n",
       "      <th>4760</th>\n",
       "      <td>萧山区</td>\n",
       "      <td>20833.0</td>\n",
       "      <td>90.26</td>\n",
       "      <td>230.810990</td>\n",
       "    </tr>\n",
       "    <tr>\n",
       "      <th>10157</th>\n",
       "      <td>滨江区</td>\n",
       "      <td>13000.0</td>\n",
       "      <td>60.00</td>\n",
       "      <td>216.666667</td>\n",
       "    </tr>\n",
       "    <tr>\n",
       "      <th>10106</th>\n",
       "      <td>滨江区</td>\n",
       "      <td>1730.0</td>\n",
       "      <td>8.03</td>\n",
       "      <td>215.442092</td>\n",
       "    </tr>\n",
       "    <tr>\n",
       "      <th>6006</th>\n",
       "      <td>江干区</td>\n",
       "      <td>1190.0</td>\n",
       "      <td>5.60</td>\n",
       "      <td>212.500000</td>\n",
       "    </tr>\n",
       "    <tr>\n",
       "      <th>8650</th>\n",
       "      <td>拱墅区</td>\n",
       "      <td>990.0</td>\n",
       "      <td>4.68</td>\n",
       "      <td>211.538462</td>\n",
       "    </tr>\n",
       "    <tr>\n",
       "      <th>10105</th>\n",
       "      <td>滨江区</td>\n",
       "      <td>1830.0</td>\n",
       "      <td>8.87</td>\n",
       "      <td>206.313416</td>\n",
       "    </tr>\n",
       "    <tr>\n",
       "      <th>9872</th>\n",
       "      <td>上城区</td>\n",
       "      <td>8200.0</td>\n",
       "      <td>40.00</td>\n",
       "      <td>205.000000</td>\n",
       "    </tr>\n",
       "    <tr>\n",
       "      <th>6586</th>\n",
       "      <td>江干区</td>\n",
       "      <td>1490.0</td>\n",
       "      <td>7.30</td>\n",
       "      <td>204.109589</td>\n",
       "    </tr>\n",
       "    <tr>\n",
       "      <th>2762</th>\n",
       "      <td>江干区</td>\n",
       "      <td>1830.0</td>\n",
       "      <td>9.00</td>\n",
       "      <td>203.333333</td>\n",
       "    </tr>\n",
       "    <tr>\n",
       "      <th>4559</th>\n",
       "      <td>萧山区</td>\n",
       "      <td>2460.0</td>\n",
       "      <td>12.10</td>\n",
       "      <td>203.305785</td>\n",
       "    </tr>\n",
       "    <tr>\n",
       "      <th>10337</th>\n",
       "      <td>上城区</td>\n",
       "      <td>60000.0</td>\n",
       "      <td>299.62</td>\n",
       "      <td>200.253655</td>\n",
       "    </tr>\n",
       "  </tbody>\n",
       "</table>\n",
       "</div>"
      ],
      "text/plain": [
       "      district    price  housing_area      cost_e\n",
       "627        余杭区  50000.0         88.00  568.181818\n",
       "660        余杭区  50000.0         98.65  506.842372\n",
       "9862       上城区  31000.0         93.59  331.231969\n",
       "9864       上城区  13500.0         45.00  300.000000\n",
       "9859       上城区  11300.0         42.00  269.047619\n",
       "4560       萧山区   1860.0          7.10  261.971831\n",
       "9863       上城区  51000.0        195.32  261.109973\n",
       "9861       上城区  29500.0        113.00  261.061947\n",
       "4561       萧山区   1830.0          7.14  256.302521\n",
       "8664       拱墅区    990.0          3.90  253.846154\n",
       "625        余杭区  50000.0        197.34  253.369819\n",
       "11916      滨江区  18000.0         72.48  248.344371\n",
       "4540       萧山区   1760.0          7.20  244.444444\n",
       "11106      拱墅区  80000.0        327.60  244.200244\n",
       "9948       滨江区  52000.0        213.00  244.131455\n",
       "2775       江干区   1330.0          5.50  241.818182\n",
       "9870       上城区  15360.0         64.00  240.000000\n",
       "2755       江干区   1290.0          5.50  234.545455\n",
       "4558       萧山区   1390.0          6.01  231.281198\n",
       "9860       上城区  13000.0         56.31  230.864855\n",
       "9871       上城区  13000.0         56.31  230.864855\n",
       "4760       萧山区  20833.0         90.26  230.810990\n",
       "10157      滨江区  13000.0         60.00  216.666667\n",
       "10106      滨江区   1730.0          8.03  215.442092\n",
       "6006       江干区   1190.0          5.60  212.500000\n",
       "8650       拱墅区    990.0          4.68  211.538462\n",
       "10105      滨江区   1830.0          8.87  206.313416\n",
       "9872       上城区   8200.0         40.00  205.000000\n",
       "6586       江干区   1490.0          7.30  204.109589\n",
       "2762       江干区   1830.0          9.00  203.333333\n",
       "4559       萧山区   2460.0         12.10  203.305785\n",
       "10337      上城区  60000.0        299.62  200.253655"
      ]
     },
     "execution_count": 1290,
     "metadata": {},
     "output_type": "execute_result"
    }
   ],
   "source": [
    "# 检查一下“性价比”离群值\n",
    "lianjia.loc[lianjia.cost_e[lianjia.cost_e>200].index][[\"district\", \"price\", \"housing_area\", \"cost_e\"]].sort_values(by=\"cost_e\", ascending=False)"
   ]
  },
  {
   "cell_type": "code",
   "execution_count": 1291,
   "metadata": {},
   "outputs": [],
   "source": [
    "# 由上看出，前两个余杭区的特别可疑——查看网页后可以确定是离群值，删掉这sb\n",
    "for data in data_cleaner:\n",
    "    if 627 in data.index:\n",
    "        data.drop(627, inplace=True)\n",
    "    if 660 in data.index:\n",
    "        data.drop(660, inplace=True)"
   ]
  },
  {
   "cell_type": "code",
   "execution_count": 1292,
   "metadata": {},
   "outputs": [
    {
     "data": {
      "text/plain": [
       "<matplotlib.legend.Legend at 0x133dbda0b00>"
      ]
     },
     "execution_count": 1292,
     "metadata": {},
     "output_type": "execute_result"
    },
    {
     "data": {
      "image/png": "[encoded data removed]",
      "text/plain": [
       "<Figure size 1152x864 with 4 Axes>"
      ]
     },
     "metadata": {
      "needs_background": "light"
     },
     "output_type": "display_data"
    }
   ],
   "source": [
    "# 各个朝向的性价比情况\n",
    "plt.figure(figsize=[16,12])\n",
    "plt.subplot(221)\n",
    "plt.hist([lianjia[lianjia.east==0].cost_e, lianjia[lianjia.east==1].cost_e], stacked=True, color=[\"g\", \"r\"], label=[\"e=0\", \"e=1\"])\n",
    "plt.title(\"esat ----- cost_e \")\n",
    "plt.xlabel(\"cost_e\")\n",
    "plt.ylabel(\"house counts\")\n",
    "plt.legend()\n",
    "\n",
    "plt.subplot(222)\n",
    "plt.hist([lianjia[lianjia.south==0].cost_e, lianjia[lianjia.south==1].cost_e], stacked=True, color=[\"g\", \"r\"], label=[\"s=0\", \"s=1\"])\n",
    "plt.title(\"south ----- cost_e \")\n",
    "plt.xlabel(\"cost_e\")\n",
    "plt.ylabel(\"house counts\")\n",
    "plt.legend()\n",
    "\n",
    "plt.subplot(223)\n",
    "plt.hist([lianjia[lianjia.west==0].cost_e, lianjia[lianjia.west==1].cost_e], stacked=True, color=[\"g\", \"r\"], label=[\"w=0\", \"w=1\"])\n",
    "plt.title(\"west ----- cost_e \")\n",
    "plt.xlabel(\"cost_e\")\n",
    "plt.ylabel(\"house counts\")\n",
    "plt.legend()\n",
    "\n",
    "plt.subplot(224)\n",
    "plt.hist([lianjia[lianjia.north==0].cost_e, lianjia[lianjia.north==1].cost_e], stacked=True, color=[\"g\", \"r\"], label=[\"n=0\", \"n=1\"])\n",
    "plt.title(\"north ----- cost_e \")\n",
    "plt.xlabel(\"cost_e\")\n",
    "plt.ylabel(\"house counts\")\n",
    "plt.legend()\n",
    "\n",
    "# 由下可以看出，标注朝南的房子多（但好像也摸索不出什么规律）"
   ]
  },
  {
   "cell_type": "code",
   "execution_count": 1293,
   "metadata": {},
   "outputs": [
    {
     "name": "stdout",
     "output_type": "stream",
     "text": [
      "<class 'pandas.core.frame.DataFrame'>\n",
      "Int64Index: 13231 entries, 0 to 13232\n",
      "Data columns (total 17 columns):\n",
      "building_start_year    13231 non-null float64\n",
      "district               13231 non-null object\n",
      "housing_area           13231 non-null float64\n",
      "metro                  13231 non-null float64\n",
      "price                  13231 non-null float64\n",
      "rental_mode            13231 non-null object\n",
      "shi                    13231 non-null float64\n",
      "ting                   13231 non-null float64\n",
      "total_floor            13231 non-null int64\n",
      "wei                    13231 non-null float64\n",
      "zone                   13231 non-null object\n",
      "total_time             13231 non-null float64\n",
      "east                   13231 non-null int64\n",
      "south                  13231 non-null int64\n",
      "west                   13231 non-null int64\n",
      "north                  13231 non-null int64\n",
      "cost_e                 13231 non-null float64\n",
      "dtypes: float64(9), int64(5), object(3)\n",
      "memory usage: 1.8+ MB\n"
     ]
    }
   ],
   "source": [
    "lianjia.info()"
   ]
  },
  {
   "cell_type": "code",
   "execution_count": 1294,
   "metadata": {},
   "outputs": [
    {
     "data": {
      "text/plain": [
       "<matplotlib.axes._subplots.AxesSubplot at 0x133d70e1c50>"
      ]
     },
     "execution_count": 1294,
     "metadata": {},
     "output_type": "execute_result"
    },
    {
     "data": {
      "image/png": "[encoded data removed]",
      "text/plain": [
       "<Figure size 1152x864 with 6 Axes>"
      ]
     },
     "metadata": {
      "needs_background": "light"
     },
     "output_type": "display_data"
    }
   ],
   "source": [
    "# 使用sns的接口画图，更加漂亮！！\n",
    "# 针对这种分类数据，很适合这种画图（可以一目了然哪些类别的价格高/低）\n",
    "\n",
    "fig, saxis = plt.subplots(2, 3,figsize=(16,12))\n",
    "\n",
    "sns.barplot(x = 'district', y = 'total_time', data=lianjia, ax = saxis[0,0])\n",
    "\n",
    "sns.barplot(x = 'district', y = 'cost_e', data=lianjia, ax = saxis[0,1])  \n",
    "\n",
    "sns.barplot(x = 'rental_mode', y = 'cost_e', data=lianjia, ax = saxis[0,2])  # 这里合租的性价比这么低！！真的有问题啊！！！\n",
    "\n",
    "sns.barplot(x = 'metro', y = 'cost_e', data=lianjia, ax = saxis[1,0])\n",
    "\n",
    "sns.barplot(x = 'total_floor', y = 'cost_e', data=lianjia, ax = saxis[1,1])  \n",
    "\n",
    "sns.barplot(x = 'building_start_year', y = 'cost_e', data=lianjia, ax = saxis[1,2])"
   ]
  },
  {
   "cell_type": "code",
   "execution_count": 1295,
   "metadata": {},
   "outputs": [
    {
     "data": {
      "text/plain": [
       "array(['西湖区', '下城区', '余杭区', '下沙区', '江干区', '拱墅区', '滨江区', '萧山区', '临安区',\n",
       "       '富阳区', '上城区'], dtype=object)"
      ]
     },
     "execution_count": 1295,
     "metadata": {},
     "output_type": "execute_result"
    }
   ],
   "source": [
    "lianjia.district.unique()"
   ]
  },
  {
   "cell_type": "code",
   "execution_count": 1296,
   "metadata": {},
   "outputs": [
    {
     "data": {
      "text/plain": [
       "array(['暂无数据', '整租', '合租'], dtype=object)"
      ]
     },
     "execution_count": 1296,
     "metadata": {},
     "output_type": "execute_result"
    }
   ],
   "source": [
    "lianjia.rental_mode.unique()"
   ]
  },
  {
   "cell_type": "code",
   "execution_count": 1297,
   "metadata": {},
   "outputs": [
    {
     "name": "stdout",
     "output_type": "stream",
     "text": [
      "<class 'pandas.core.frame.DataFrame'>\n",
      "Int64Index: 13231 entries, 0 to 13232\n",
      "Data columns (total 17 columns):\n",
      "building_start_year    13231 non-null float64\n",
      "district               13231 non-null object\n",
      "housing_area           13231 non-null float64\n",
      "metro                  13231 non-null float64\n",
      "price                  13231 non-null float64\n",
      "rental_mode            13231 non-null object\n",
      "shi                    13231 non-null float64\n",
      "ting                   13231 non-null float64\n",
      "total_floor            13231 non-null int64\n",
      "wei                    13231 non-null float64\n",
      "zone                   13231 non-null object\n",
      "total_time             13231 non-null float64\n",
      "east                   13231 non-null int64\n",
      "south                  13231 non-null int64\n",
      "west                   13231 non-null int64\n",
      "north                  13231 non-null int64\n",
      "cost_e                 13231 non-null float64\n",
      "dtypes: float64(9), int64(5), object(3)\n",
      "memory usage: 2.4+ MB\n"
     ]
    }
   ],
   "source": [
    "lianjia.info()"
   ]
  },
  {
   "cell_type": "code",
   "execution_count": 1298,
   "metadata": {},
   "outputs": [
    {
     "name": "stdout",
     "output_type": "stream",
     "text": [
      "Survival Correlation by: building_start_year\n",
      "   building_start_year     cost_e\n",
      "3                  3.0  55.633598\n",
      "4                  4.0  61.453073\n",
      "2                  2.0  64.425721\n",
      "0                  0.0  71.809681\n",
      "1                  1.0  73.896379\n",
      "---------- \n",
      "\n",
      "Survival Correlation by: district\n",
      "   district     cost_e\n",
      "3       临安区  23.766451\n",
      "5       富阳区  28.565065\n",
      "4       余杭区  42.706389\n",
      "9       萧山区  52.347625\n",
      "7       江干区  62.582386\n",
      "6       拱墅区  65.432862\n",
      "10      西湖区  67.422001\n",
      "1       下城区  68.419138\n",
      "2       下沙区  75.819167\n",
      "0       上城区  86.377171\n",
      "8       滨江区  87.775166\n",
      "---------- \n",
      "\n",
      "Survival Correlation by: metro\n",
      "   metro     cost_e\n",
      "6   10.0  54.751307\n",
      "0    1.0  66.045812\n",
      "5    6.0  67.735565\n",
      "4    5.0  70.715302\n",
      "2    3.0  72.262488\n",
      "3    4.0  76.932293\n",
      "1    2.0  77.551716\n",
      "---------- \n",
      "\n",
      "Survival Correlation by: rental_mode\n",
      "  rental_mode      cost_e\n",
      "2        暂无数据   58.670024\n",
      "1          整租   61.185908\n",
      "0          合租  148.789656\n",
      "---------- \n",
      "\n",
      "Survival Correlation by: shi\n",
      "    shi      cost_e\n",
      "6   6.0   50.680775\n",
      "8   8.0   50.785198\n",
      "3   3.0   51.771263\n",
      "4   4.0   57.714866\n",
      "2   2.0   61.979982\n",
      "0   0.0   68.012422\n",
      "5   5.0   71.080612\n",
      "7   7.0   74.809528\n",
      "1   1.0   75.917165\n",
      "9  12.0  161.616162\n",
      "---------- \n",
      "\n",
      "Survival Correlation by: ting\n",
      "   ting     cost_e\n",
      "5   5.0  42.118152\n",
      "4   4.0  47.658944\n",
      "3   3.0  49.532128\n",
      "2   2.0  51.812601\n",
      "1   1.0  66.226981\n",
      "0   0.0  78.411177\n",
      "---------- \n",
      "\n",
      "Survival Correlation by: total_floor\n",
      "   total_floor     cost_e\n",
      "0            1  54.629821\n",
      "1            2  55.927618\n",
      "2            3  59.925567\n",
      "3            4  61.818719\n",
      "4            5  61.991771\n",
      "---------- \n",
      "\n",
      "Survival Correlation by: wei\n",
      "   wei      cost_e\n",
      "2  2.0   52.567942\n",
      "3  3.0   53.279623\n",
      "5  5.0   56.757167\n",
      "4  4.0   62.842232\n",
      "1  1.0   63.617246\n",
      "8  8.0   80.137828\n",
      "7  7.0   91.852668\n",
      "0  0.0  100.141868\n",
      "9  9.0  110.838111\n",
      "6  6.0  112.440409\n",
      "---------- \n",
      "\n",
      "Survival Correlation by: zone\n",
      "      zone      cost_e\n",
      "71      瓶窑   22.003809\n",
      "13      仁和   23.027844\n",
      "6       临安   23.766451\n",
      "52      星桥   27.055916\n",
      "40      崇贤   27.966959\n",
      "38      富阳   28.565065\n",
      "39     小和山   29.692135\n",
      "34     大江东   32.762708\n",
      "8       义桥   36.019050\n",
      "73      留下   37.104524\n",
      "94      闲林   37.812481\n",
      "79      良渚   39.302657\n",
      "7       临平   39.580201\n",
      "81   萧山开发区   39.892643\n",
      "10      乔司   39.917482\n",
      "59     沿江北   40.730060\n",
      "30      塘栖   41.117705\n",
      "0       丁桥   42.576161\n",
      "22    南部卧城   43.499407\n",
      "96      闻堰   43.842035\n",
      "60     沿江南   45.465115\n",
      "75      石桥   46.855526\n",
      "78     翡翠城   47.201329\n",
      "33    大学城北   47.672403\n",
      "11      九堡   48.239387\n",
      "86      转塘   48.420344\n",
      "67      湘湖   48.953776\n",
      "18      半山   49.705926\n",
      "80    萧山市区   51.245587\n",
      "17      勾庄   51.529464\n",
      "..     ...         ...\n",
      "44     彩虹城   74.701724\n",
      "87      近江   75.009192\n",
      "51      文教   75.047585\n",
      "55      朝晖   75.050850\n",
      "69      潮鸣   76.001617\n",
      "31      复兴   76.059446\n",
      "84    西湖景区   76.219512\n",
      "93      长河   76.962435\n",
      "21     南肖埠   78.743336\n",
      "15    体育场路   79.303903\n",
      "36      奥体   79.469468\n",
      "64      清泰   80.434296\n",
      "100     黄龙   81.007657\n",
      "35      天水   81.480328\n",
      "88      采荷   82.550538\n",
      "19     华家池   83.580313\n",
      "29      城站   83.943958\n",
      "12      九莲   84.377566\n",
      "27     四季青   84.411745\n",
      "5      丝绸城   86.851696\n",
      "14     众安桥   87.208913\n",
      "63      清波   88.711016\n",
      "58      武林   89.167153\n",
      "28    城东新城   91.534843\n",
      "74     白马湖   92.135974\n",
      "66      湖滨   96.537274\n",
      "91    钱江新城   99.902252\n",
      "83      西兴  101.244550\n",
      "68   滨江区政府  103.434057\n",
      "20      南星  114.509183\n",
      "\n",
      "[102 rows x 2 columns]\n",
      "---------- \n",
      "\n",
      "Survival Correlation by: total_time\n",
      "     total_time      cost_e\n",
      "109       117.0   15.323160\n",
      "104       108.0   19.932350\n",
      "114       128.0   20.932540\n",
      "111       121.0   20.936486\n",
      "99        103.0   21.176757\n",
      "120       157.0   21.739130\n",
      "113       126.0   21.976048\n",
      "112       125.0   22.500000\n",
      "102       106.0   22.749566\n",
      "117       141.0   23.972603\n",
      "103       107.0   25.611842\n",
      "88         92.0   26.089768\n",
      "119       155.0   26.972873\n",
      "105       109.0   27.002938\n",
      "115       136.0   27.324815\n",
      "100       104.0   27.808566\n",
      "108       115.0   28.373544\n",
      "96        100.0   28.758955\n",
      "116       139.0   29.702970\n",
      "101       105.0   29.826132\n",
      "87         91.0   30.466780\n",
      "97        101.0   30.839728\n",
      "84         88.0   31.006046\n",
      "76         80.0   31.270209\n",
      "89         93.0   31.468422\n",
      "91         95.0   32.677014\n",
      "106       110.0   33.308615\n",
      "85         89.0   33.888847\n",
      "92         96.0   34.245131\n",
      "81         85.0   34.630408\n",
      "..          ...         ...\n",
      "23         28.0   74.581114\n",
      "30         35.0   74.690005\n",
      "42         47.0   74.817677\n",
      "11         16.0   75.010172\n",
      "37         42.0   76.197534\n",
      "1           6.0   76.246334\n",
      "32         37.0   76.281818\n",
      "22         27.0   76.575042\n",
      "36         41.0   76.608764\n",
      "24         29.0   76.804294\n",
      "17         22.0   77.272358\n",
      "20         25.0   78.088111\n",
      "16         21.0   78.530568\n",
      "33         38.0   78.604186\n",
      "2           7.0   80.312536\n",
      "15         20.0   80.707636\n",
      "3           8.0   81.014449\n",
      "39         44.0   81.025225\n",
      "5          10.0   81.253579\n",
      "12         17.0   82.823817\n",
      "6          11.0   83.132325\n",
      "13         18.0   84.405482\n",
      "40         45.0   84.711733\n",
      "14         19.0   85.766833\n",
      "35         40.0   85.783270\n",
      "9          14.0   87.358630\n",
      "4           9.0   88.409346\n",
      "7          12.0   91.559567\n",
      "8          13.0   96.153846\n",
      "10         15.0  108.471950\n",
      "\n",
      "[121 rows x 2 columns]\n",
      "---------- \n",
      "\n",
      "Survival Correlation by: east\n",
      "   east     cost_e\n",
      "0     0  60.290212\n",
      "1     1  65.883386\n",
      "---------- \n",
      "\n",
      "Survival Correlation by: south\n",
      "   south     cost_e\n",
      "1      1  59.486177\n",
      "0      0  73.745729\n",
      "---------- \n",
      "\n",
      "Survival Correlation by: west\n",
      "   west     cost_e\n",
      "0     0  60.052972\n",
      "1     1  74.532090\n",
      "---------- \n",
      "\n",
      "Survival Correlation by: north\n",
      "   north     cost_e\n",
      "1      1  58.197992\n",
      "0      0  61.372335\n",
      "---------- \n",
      "\n"
     ]
    }
   ],
   "source": [
    "## 这个部分可能整个分析中最重要之一了！！！（可以看出每个分类的房租性价比）（已经按照升序排列了）\n",
    "\n",
    "\n",
    "# 超级超级赞， 让我对整个数据有了全面的认识  （这样才可以掌控全局）\n",
    "# 再一次查看全局数据，可见，数据格式已经转化完毕（还差dumy）\n",
    "for f in lianjia.columns.drop([\"price\", \"housing_area\", \"cost_e\"]):\n",
    "    print('Survival Correlation by:', f)\n",
    "    print(train_data[[f, \"cost_e\"]].groupby(f, as_index=False).mean().sort_values(\"cost_e\"))   \n",
    "    print('-'*10, '\\n')"
   ]
  },
  {
   "cell_type": "markdown",
   "metadata": {},
   "source": [
    "### 至此， 数据清洗、格式转化、缺省处理、离群值处理、探索性分析都做完了！"
   ]
  },
  {
   "cell_type": "code",
   "execution_count": 1299,
   "metadata": {},
   "outputs": [],
   "source": [
    "# 1.开始dummy\n",
    "total_data = pd.concat([train_data, test_data])\n",
    "total_data_dummies = pd.get_dummies(total_data)\n",
    "train_data_dummies = pd.get_dummies(total_data_dummies.loc[train_data.index])\n",
    "test_data_dummies = pd.get_dummies(total_data_dummies.loc[test_data.index])\n",
    "lianjia_dummies = pd.get_dummies(lianjia_dummies)"
   ]
  },
  {
   "cell_type": "code",
   "execution_count": 1300,
   "metadata": {},
   "outputs": [
    {
     "data": {
      "text/plain": [
       "0.7518548589886721"
      ]
     },
     "execution_count": 1300,
     "metadata": {},
     "output_type": "execute_result"
    }
   ],
   "source": [
    "# 2. log化\n",
    "lianjia_dummies.price = np.log(lianjia_dummies.price)\n",
    "train_data_dummies.price = np.log(train_data_dummies.price)\n",
    "test_data_dummies.price = np.log(test_data_dummies.price)\n",
    "\n",
    "lianjia_dummies.price.mean()"
   ]
  },
  {
   "cell_type": "code",
   "execution_count": 1301,
   "metadata": {},
   "outputs": [
    {
     "data": {
      "text/html": [
       "<div>\n",
       "<style scoped>\n",
       "    .dataframe tbody tr th:only-of-type {\n",
       "        vertical-align: middle;\n",
       "    }\n",
       "\n",
       "    .dataframe tbody tr th {\n",
       "        vertical-align: top;\n",
       "    }\n",
       "\n",
       "    .dataframe thead th {\n",
       "        text-align: right;\n",
       "    }\n",
       "</style>\n",
       "<table border=\"1\" class=\"dataframe\">\n",
       "  <thead>\n",
       "    <tr style=\"text-align: right;\">\n",
       "      <th></th>\n",
       "      <th>building_start_year</th>\n",
       "      <th>housing_area</th>\n",
       "      <th>metro</th>\n",
       "      <th>price</th>\n",
       "      <th>shi</th>\n",
       "      <th>ting</th>\n",
       "      <th>total_floor</th>\n",
       "      <th>wei</th>\n",
       "      <th>total_time</th>\n",
       "      <th>east</th>\n",
       "      <th>...</th>\n",
       "      <th>zone_长庆</th>\n",
       "      <th>zone_长河</th>\n",
       "      <th>zone_闲林</th>\n",
       "      <th>zone_闸弄口</th>\n",
       "      <th>zone_闻堰</th>\n",
       "      <th>zone_雄镇楼</th>\n",
       "      <th>zone_高教园区东</th>\n",
       "      <th>zone_高教园区西</th>\n",
       "      <th>zone_黄龙</th>\n",
       "      <th>zone_鼓楼</th>\n",
       "    </tr>\n",
       "  </thead>\n",
       "  <tbody>\n",
       "    <tr>\n",
       "      <th>0</th>\n",
       "      <td>4.0</td>\n",
       "      <td>89.0</td>\n",
       "      <td>10.0</td>\n",
       "      <td>0.759535</td>\n",
       "      <td>3.0</td>\n",
       "      <td>2.0</td>\n",
       "      <td>4</td>\n",
       "      <td>1.0</td>\n",
       "      <td>53.0</td>\n",
       "      <td>0</td>\n",
       "      <td>...</td>\n",
       "      <td>0</td>\n",
       "      <td>0</td>\n",
       "      <td>0</td>\n",
       "      <td>0</td>\n",
       "      <td>0</td>\n",
       "      <td>0</td>\n",
       "      <td>0</td>\n",
       "      <td>0</td>\n",
       "      <td>0</td>\n",
       "      <td>0</td>\n",
       "    </tr>\n",
       "    <tr>\n",
       "      <th>1</th>\n",
       "      <td>4.0</td>\n",
       "      <td>89.3</td>\n",
       "      <td>6.0</td>\n",
       "      <td>0.755953</td>\n",
       "      <td>3.0</td>\n",
       "      <td>1.0</td>\n",
       "      <td>4</td>\n",
       "      <td>1.0</td>\n",
       "      <td>53.0</td>\n",
       "      <td>0</td>\n",
       "      <td>...</td>\n",
       "      <td>0</td>\n",
       "      <td>0</td>\n",
       "      <td>0</td>\n",
       "      <td>0</td>\n",
       "      <td>0</td>\n",
       "      <td>0</td>\n",
       "      <td>0</td>\n",
       "      <td>0</td>\n",
       "      <td>0</td>\n",
       "      <td>0</td>\n",
       "    </tr>\n",
       "  </tbody>\n",
       "</table>\n",
       "<p>2 rows × 130 columns</p>\n",
       "</div>"
      ],
      "text/plain": [
       "   building_start_year  housing_area  metro     price  shi  ting  total_floor  \\\n",
       "0                  4.0          89.0   10.0  0.759535  3.0   2.0            4   \n",
       "1                  4.0          89.3    6.0  0.755953  3.0   1.0            4   \n",
       "\n",
       "   wei  total_time  east   ...     zone_长庆  zone_长河  zone_闲林  zone_闸弄口  \\\n",
       "0  1.0        53.0     0   ...           0        0        0         0   \n",
       "1  1.0        53.0     0   ...           0        0        0         0   \n",
       "\n",
       "   zone_闻堰  zone_雄镇楼  zone_高教园区东  zone_高教园区西  zone_黄龙  zone_鼓楼  \n",
       "0        0         0           0           0        0        0  \n",
       "1        0         0           0           0        0        0  \n",
       "\n",
       "[2 rows x 130 columns]"
      ]
     },
     "execution_count": 1301,
     "metadata": {},
     "output_type": "execute_result"
    }
   ],
   "source": [
    "lianjia_dummies.head(2)"
   ]
  },
  {
   "cell_type": "markdown",
   "metadata": {},
   "source": [
    "# 开始进行建模！！"
   ]
  },
  {
   "cell_type": "code",
   "execution_count": 1302,
   "metadata": {},
   "outputs": [],
   "source": [
    "# 分裂： train_features, test_features, train_labels, test_labels\n",
    "train_labels = train_data_dummies.pop(\"price\")\n",
    "train_features = train_data_dummies\n",
    "test_labels = test_data_dummies.pop(\"price\")\n",
    "test_features = test_data_dummies"
   ]
  },
  {
   "cell_type": "code",
   "execution_count": 1303,
   "metadata": {},
   "outputs": [
    {
     "data": {
      "text/plain": [
       "0.7518548589886721"
      ]
     },
     "execution_count": 1303,
     "metadata": {},
     "output_type": "execute_result"
    }
   ],
   "source": [
    "lianjia_dummies.price.mean()"
   ]
  },
  {
   "cell_type": "code",
   "execution_count": 1307,
   "metadata": {},
   "outputs": [
    {
     "data": {
      "text/html": [
       "<div>\n",
       "<style scoped>\n",
       "    .dataframe tbody tr th:only-of-type {\n",
       "        vertical-align: middle;\n",
       "    }\n",
       "\n",
       "    .dataframe tbody tr th {\n",
       "        vertical-align: top;\n",
       "    }\n",
       "\n",
       "    .dataframe thead th {\n",
       "        text-align: right;\n",
       "    }\n",
       "</style>\n",
       "<table border=\"1\" class=\"dataframe\">\n",
       "  <thead>\n",
       "    <tr style=\"text-align: right;\">\n",
       "      <th></th>\n",
       "      <th>building_start_year</th>\n",
       "      <th>housing_area</th>\n",
       "      <th>metro</th>\n",
       "      <th>shi</th>\n",
       "      <th>ting</th>\n",
       "      <th>total_floor</th>\n",
       "      <th>wei</th>\n",
       "      <th>total_time</th>\n",
       "      <th>east</th>\n",
       "      <th>south</th>\n",
       "      <th>...</th>\n",
       "      <th>zone_长庆</th>\n",
       "      <th>zone_长河</th>\n",
       "      <th>zone_闲林</th>\n",
       "      <th>zone_闸弄口</th>\n",
       "      <th>zone_闻堰</th>\n",
       "      <th>zone_雄镇楼</th>\n",
       "      <th>zone_高教园区东</th>\n",
       "      <th>zone_高教园区西</th>\n",
       "      <th>zone_黄龙</th>\n",
       "      <th>zone_鼓楼</th>\n",
       "    </tr>\n",
       "  </thead>\n",
       "  <tbody>\n",
       "    <tr>\n",
       "      <th>10748</th>\n",
       "      <td>3.0</td>\n",
       "      <td>50.00</td>\n",
       "      <td>6.0</td>\n",
       "      <td>2.0</td>\n",
       "      <td>2.0</td>\n",
       "      <td>3</td>\n",
       "      <td>1.0</td>\n",
       "      <td>43.0</td>\n",
       "      <td>0</td>\n",
       "      <td>1</td>\n",
       "      <td>...</td>\n",
       "      <td>0</td>\n",
       "      <td>1</td>\n",
       "      <td>0</td>\n",
       "      <td>0</td>\n",
       "      <td>0</td>\n",
       "      <td>0</td>\n",
       "      <td>0</td>\n",
       "      <td>0</td>\n",
       "      <td>0</td>\n",
       "      <td>0</td>\n",
       "    </tr>\n",
       "    <tr>\n",
       "      <th>9862</th>\n",
       "      <td>4.0</td>\n",
       "      <td>93.59</td>\n",
       "      <td>10.0</td>\n",
       "      <td>1.0</td>\n",
       "      <td>0.0</td>\n",
       "      <td>4</td>\n",
       "      <td>1.0</td>\n",
       "      <td>40.0</td>\n",
       "      <td>0</td>\n",
       "      <td>1</td>\n",
       "      <td>...</td>\n",
       "      <td>0</td>\n",
       "      <td>0</td>\n",
       "      <td>0</td>\n",
       "      <td>0</td>\n",
       "      <td>0</td>\n",
       "      <td>0</td>\n",
       "      <td>0</td>\n",
       "      <td>0</td>\n",
       "      <td>0</td>\n",
       "      <td>0</td>\n",
       "    </tr>\n",
       "  </tbody>\n",
       "</table>\n",
       "<p>2 rows × 129 columns</p>\n",
       "</div>"
      ],
      "text/plain": [
       "       building_start_year  housing_area  metro  shi  ting  total_floor  wei  \\\n",
       "10748                  3.0         50.00    6.0  2.0   2.0            3  1.0   \n",
       "9862                   4.0         93.59   10.0  1.0   0.0            4  1.0   \n",
       "\n",
       "       total_time  east  south   ...     zone_长庆  zone_长河  zone_闲林  zone_闸弄口  \\\n",
       "10748        43.0     0      1   ...           0        1        0         0   \n",
       "9862         40.0     0      1   ...           0        0        0         0   \n",
       "\n",
       "       zone_闻堰  zone_雄镇楼  zone_高教园区东  zone_高教园区西  zone_黄龙  zone_鼓楼  \n",
       "10748        0         0           0           0        0        0  \n",
       "9862         0         0           0           0        0        0  \n",
       "\n",
       "[2 rows x 129 columns]"
      ]
     },
     "execution_count": 1307,
     "metadata": {},
     "output_type": "execute_result"
    }
   ],
   "source": [
    "train_data_dummies.head(2)"
   ]
  },
  {
   "cell_type": "code",
   "execution_count": null,
   "metadata": {},
   "outputs": [],
   "source": [
    "#? 需要把所有的numeral 类型的维度都给标准化嘛？？"
   ]
  },
  {
   "cell_type": "code",
   "execution_count": 1309,
   "metadata": {},
   "outputs": [],
   "source": [
    "from xgboost import XGBRegressor\n",
    "import sklearn.model_selection as ms\n",
    "import sklearn.ensemble as se"
   ]
  },
  {
   "cell_type": "markdown",
   "metadata": {},
   "source": [
    "## XGboost"
   ]
  },
  {
   "cell_type": "code",
   "execution_count": 1310,
   "metadata": {},
   "outputs": [
    {
     "data": {
      "text/plain": [
       "array([0.99471841, 0.98589685, 0.99746181, 0.99766123, 0.99729864,\n",
       "       0.99731942, 0.99609799, 0.99641572, 0.99715731, 0.99654998])"
      ]
     },
     "execution_count": 1310,
     "metadata": {},
     "output_type": "execute_result"
    }
   ],
   "source": [
    "# model = XGBRegressor(5)\n",
    "# ms.cross_val_score(model, train_features, train_labels, cv=10)"
   ]
  },
  {
   "cell_type": "code",
   "execution_count": 1311,
   "metadata": {},
   "outputs": [
    {
     "data": {
      "text/plain": [
       "array([0.98978713, 0.99405633, 0.99273484])"
      ]
     },
     "execution_count": 1311,
     "metadata": {},
     "output_type": "execute_result"
    }
   ],
   "source": [
    "model = XGBRegressor(3)\n",
    "ms.cross_val_score(model, train_features, train_labels, cv=3)"
   ]
  },
  {
   "cell_type": "code",
   "execution_count": 1312,
   "metadata": {},
   "outputs": [
    {
     "data": {
      "text/plain": [
       "array([8.185425, 8.185425, 8.054157, ..., 8.300726, 8.911366, 8.911366],\n",
       "      dtype=float32)"
      ]
     },
     "execution_count": 1312,
     "metadata": {},
     "output_type": "execute_result"
    }
   ],
   "source": [
    "model.fit(train_features, train_labels)\n",
    "pred_y1 = model.predict(test_features)\n",
    "pred_y1"
   ]
  },
  {
   "cell_type": "code",
   "execution_count": 1313,
   "metadata": {},
   "outputs": [
    {
     "data": {
      "text/plain": [
       "array([3588.2676, 3588.2676, 3146.85  , ..., 4026.7944, 7415.7876,\n",
       "       7415.7876], dtype=float32)"
      ]
     },
     "execution_count": 1313,
     "metadata": {},
     "output_type": "execute_result"
    }
   ],
   "source": [
    "pred_y1 = np.exp(pred_y1)\n",
    "pred_y1"
   ]
  },
  {
   "cell_type": "code",
   "execution_count": 1317,
   "metadata": {},
   "outputs": [],
   "source": [
    "rrr = np.exp(test_labels)"
   ]
  },
  {
   "cell_type": "code",
   "execution_count": 1320,
   "metadata": {},
   "outputs": [
    {
     "data": {
      "text/plain": [
       "0.9956281570392468"
      ]
     },
     "execution_count": 1320,
     "metadata": {},
     "output_type": "execute_result"
    }
   ],
   "source": [
    "model.score(test_features, test_labels)"
   ]
  },
  {
   "cell_type": "code",
   "execution_count": null,
   "metadata": {},
   "outputs": [],
   "source": []
  },
  {
   "cell_type": "code",
   "execution_count": null,
   "metadata": {},
   "outputs": [],
   "source": []
  },
  {
   "cell_type": "code",
   "execution_count": null,
   "metadata": {},
   "outputs": [],
   "source": []
  },
  {
   "cell_type": "code",
   "execution_count": 1321,
   "metadata": {},
   "outputs": [],
   "source": [
    "a = rrr\n",
    "b = pred_y1"
   ]
  },
  {
   "cell_type": "code",
   "execution_count": 1336,
   "metadata": {},
   "outputs": [
    {
     "data": {
      "text/plain": [
       "5499.999999999999"
      ]
     },
     "execution_count": 1336,
     "metadata": {},
     "output_type": "execute_result"
    }
   ],
   "source": [
    "a.iloc[1001]"
   ]
  },
  {
   "cell_type": "code",
   "execution_count": 1337,
   "metadata": {},
   "outputs": [
    {
     "data": {
      "text/plain": [
       "5495.2744"
      ]
     },
     "execution_count": 1337,
     "metadata": {},
     "output_type": "execute_result"
    }
   ],
   "source": [
    "b[1001]"
   ]
  },
  {
   "cell_type": "code",
   "execution_count": 1331,
   "metadata": {},
   "outputs": [
    {
     "data": {
      "text/plain": [
       "0.04285714285714286"
      ]
     },
     "execution_count": 1331,
     "metadata": {},
     "output_type": "execute_result"
    }
   ],
   "source": [
    "90/2100"
   ]
  },
  {
   "cell_type": "code",
   "execution_count": null,
   "metadata": {},
   "outputs": [],
   "source": []
  },
  {
   "cell_type": "code",
   "execution_count": null,
   "metadata": {},
   "outputs": [],
   "source": []
  },
  {
   "cell_type": "code",
   "execution_count": null,
   "metadata": {},
   "outputs": [],
   "source": []
  },
  {
   "cell_type": "code",
   "execution_count": null,
   "metadata": {},
   "outputs": [],
   "source": []
  },
  {
   "cell_type": "markdown",
   "metadata": {},
   "source": [
    "## RandomForest"
   ]
  },
  {
   "cell_type": "code",
   "execution_count": 1338,
   "metadata": {},
   "outputs": [
    {
     "data": {
      "text/plain": [
       "0.9997218324398693"
      ]
     },
     "execution_count": 1338,
     "metadata": {},
     "output_type": "execute_result"
    }
   ],
   "source": [
    "model2 = se.RandomForestRegressor(200)\n",
    "model2.fit(train_features, train_labels)\n",
    "model2.score(train_features, train_labels)"
   ]
  },
  {
   "cell_type": "code",
   "execution_count": 1339,
   "metadata": {},
   "outputs": [
    {
     "data": {
      "text/plain": [
       "0.9993693771674619"
      ]
     },
     "execution_count": 1339,
     "metadata": {},
     "output_type": "execute_result"
    }
   ],
   "source": [
    "model2.score(test_features, test_labels)"
   ]
  },
  {
   "cell_type": "code",
   "execution_count": 1344,
   "metadata": {},
   "outputs": [],
   "source": [
    "pred_y2 = model2.predict(test_features)\n",
    "b2 = pred_y2\n",
    "b2 = np.exp(b2)"
   ]
  },
  {
   "cell_type": "code",
   "execution_count": 1345,
   "metadata": {},
   "outputs": [
    {
     "data": {
      "text/plain": [
       "5502.718454845129"
      ]
     },
     "execution_count": 1345,
     "metadata": {},
     "output_type": "execute_result"
    }
   ],
   "source": [
    "b2[1001]"
   ]
  },
  {
   "cell_type": "code",
   "execution_count": null,
   "metadata": {},
   "outputs": [],
   "source": []
  },
  {
   "cell_type": "code",
   "execution_count": null,
   "metadata": {},
   "outputs": [],
   "source": []
  },
  {
   "cell_type": "code",
   "execution_count": null,
   "metadata": {},
   "outputs": [],
   "source": []
  },
  {
   "cell_type": "code",
   "execution_count": null,
   "metadata": {},
   "outputs": [],
   "source": []
  },
  {
   "cell_type": "code",
   "execution_count": null,
   "metadata": {},
   "outputs": [],
   "source": []
  },
  {
   "cell_type": "code",
   "execution_count": null,
   "metadata": {},
   "outputs": [],
   "source": []
  },
  {
   "cell_type": "code",
   "execution_count": null,
   "metadata": {},
   "outputs": [],
   "source": []
  },
  {
   "cell_type": "code",
   "execution_count": null,
   "metadata": {},
   "outputs": [],
   "source": []
  },
  {
   "cell_type": "code",
   "execution_count": 1352,
   "metadata": {},
   "outputs": [],
   "source": [
    "from sklearn.linear_model import LinearRegression\n",
    "from sklearn.linear_model import Ridge\n",
    "from sklearn.pipeline import make_pipeline"
   ]
  },
  {
   "cell_type": "code",
   "execution_count": 1349,
   "metadata": {},
   "outputs": [
    {
     "data": {
      "text/plain": [
       "LinearRegression(copy_X=True, fit_intercept=True, n_jobs=None,\n",
       "         normalize=False)"
      ]
     },
     "execution_count": 1349,
     "metadata": {},
     "output_type": "execute_result"
    }
   ],
   "source": [
    "model_3 = LinearRegression(fit_intercept=True)\n",
    "model_3.fit(train_features, train_labels)"
   ]
  },
  {
   "cell_type": "code",
   "execution_count": 1350,
   "metadata": {},
   "outputs": [
    {
     "data": {
      "text/plain": [
       "0.8569888338635564"
      ]
     },
     "execution_count": 1350,
     "metadata": {},
     "output_type": "execute_result"
    }
   ],
   "source": [
    "model_3.score(test_features, test_labels)"
   ]
  },
  {
   "cell_type": "code",
   "execution_count": null,
   "metadata": {},
   "outputs": [],
   "source": []
  },
  {
   "cell_type": "code",
   "execution_count": 1357,
   "metadata": {},
   "outputs": [],
   "source": [
    "# model_4 = make_pipeline(LinearRegression(), Ridge(alpha=0.1))"
   ]
  },
  {
   "cell_type": "code",
   "execution_count": 1362,
   "metadata": {},
   "outputs": [
    {
     "data": {
      "text/plain": [
       "0.8563725982485075"
      ]
     },
     "execution_count": 1362,
     "metadata": {},
     "output_type": "execute_result"
    }
   ],
   "source": [
    "model_4 = LinearRegression(fit_intercept=True, normalize=True)\n",
    "model_4.fit(train_features, train_labels)\n",
    "model_4.score(test_features, test_labels)"
   ]
  },
  {
   "cell_type": "code",
   "execution_count": 1360,
   "metadata": {},
   "outputs": [],
   "source": [
    "LinearRegression?"
   ]
  },
  {
   "cell_type": "code",
   "execution_count": null,
   "metadata": {},
   "outputs": [],
   "source": []
  },
  {
   "cell_type": "code",
   "execution_count": null,
   "metadata": {},
   "outputs": [],
   "source": []
  },
  {
   "cell_type": "code",
   "execution_count": null,
   "metadata": {},
   "outputs": [],
   "source": []
  },
  {
   "cell_type": "code",
   "execution_count": null,
   "metadata": {},
   "outputs": [],
   "source": []
  },
  {
   "cell_type": "code",
   "execution_count": null,
   "metadata": {},
   "outputs": [],
   "source": []
  },
  {
   "cell_type": "code",
   "execution_count": null,
   "metadata": {},
   "outputs": [],
   "source": []
  },
  {
   "cell_type": "code",
   "execution_count": 1364,
   "metadata": {},
   "outputs": [],
   "source": [
    "model_5 = svm.SVR(kernel=\"rbf\", C=10, epsilon=0.2)"
   ]
  },
  {
   "cell_type": "code",
   "execution_count": 1366,
   "metadata": {},
   "outputs": [
    {
     "data": {
      "text/plain": [
       "SVR(C=10, cache_size=200, coef0=0.0, degree=3, epsilon=0.2,\n",
       "  gamma='auto_deprecated', kernel='rbf', max_iter=-1, shrinking=True,\n",
       "  tol=0.001, verbose=False)"
      ]
     },
     "execution_count": 1366,
     "metadata": {},
     "output_type": "execute_result"
    }
   ],
   "source": [
    "model_5.fit(train_features, train_labels)"
   ]
  },
  {
   "cell_type": "code",
   "execution_count": 1367,
   "metadata": {},
   "outputs": [
    {
     "data": {
      "text/plain": [
       "0.8508305318588183"
      ]
     },
     "execution_count": 1367,
     "metadata": {},
     "output_type": "execute_result"
    }
   ],
   "source": [
    "model_5.score(test_features, test_labels)"
   ]
  },
  {
   "cell_type": "code",
   "execution_count": null,
   "metadata": {},
   "outputs": [],
   "source": []
  },
  {
   "cell_type": "code",
   "execution_count": null,
   "metadata": {},
   "outputs": [],
   "source": []
  },
  {
   "cell_type": "code",
   "execution_count": null,
   "metadata": {},
   "outputs": [],
   "source": []
  },
  {
   "cell_type": "code",
   "execution_count": null,
   "metadata": {},
   "outputs": [],
   "source": []
  },
  {
   "cell_type": "code",
   "execution_count": null,
   "metadata": {},
   "outputs": [],
   "source": []
  },
  {
   "cell_type": "code",
   "execution_count": null,
   "metadata": {},
   "outputs": [],
   "source": []
  },
  {
   "cell_type": "code",
   "execution_count": null,
   "metadata": {},
   "outputs": [],
   "source": []
  },
  {
   "cell_type": "code",
   "execution_count": null,
   "metadata": {},
   "outputs": [],
   "source": []
  }
 ],
 "metadata": {
  "kernelspec": {
   "display_name": "Python 3",
   "language": "python",
   "name": "python3"
  },
  "language_info": {
   "codemirror_mode": {
    "name": "ipython",
    "version": 3
   },
   "file_extension": ".py",
   "mimetype": "text/x-python",
   "name": "python",
   "nbconvert_exporter": "python",
   "pygments_lexer": "ipython3",
   "version": "3.6.0"
  }
 },
 "nbformat": 4,
 "nbformat_minor": 2
}
