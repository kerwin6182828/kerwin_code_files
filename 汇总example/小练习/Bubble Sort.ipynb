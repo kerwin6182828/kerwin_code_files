{
 "cells": [
  {
   "cell_type": "code",
   "execution_count": 3,
   "metadata": {},
   "outputs": [
    {
     "name": "stdout",
     "output_type": "stream",
     "text": [
      "count:  4905\n",
      "count:  4950\n",
      "[ 0  1  4  4  6  6  7  9 10 10 11 11 12 13 13 14 16 16 17 18 19 19 20 20\n",
      " 21 21 22 24 25 26 27 27 28 29 29 30 34 34 34 35 36 37 39 39 40 42 44 45\n",
      " 45 47 47 47 48 48 48 49 50 50 50 50 51 53 54 55 58 58 59 60 61 63 67 68\n",
      " 70 70 71 71 72 75 75 75 76 78 78 79 79 85 86 86 88 88 89 90 91 91 91 91\n",
      " 92 94 98 99]\n",
      "\n",
      "[  1   2   3   4   5   6   7   8   9  10  11  12  13  14  15  16  17  18\n",
      "  19  20  21  22  23  24  25  26  27  28  29  30  31  32  33  34  35  36\n",
      "  37  38  39  40  41  42  43  44  45  46  47  48  49  50  51  52  53  54\n",
      "  55  56  57  58  59  60  61  62  63  64  65  66  67  68  69  70  71  72\n",
      "  73  74  75  76  77  78  79  80  81  82  83  84  85  86  87  88  89  90\n",
      "  91  92  93  94  95  96  97  98  99 100]\n"
     ]
    }
   ],
   "source": [
    "import numpy as np\n",
    "\n",
    "def boo(l):\n",
    "    count = 0\n",
    "    for i in range(len(l)-1, 0, -1):\n",
    "        num = 0\n",
    "        for j in range(i):\n",
    "            count += 1\n",
    "            if l[j] > l[j+1]:\n",
    "                l[j], l[j+1] = l[j+1], l[j]\n",
    "            else:\n",
    "                num += 1\n",
    "        if num == i:\n",
    "            print(\"count: \", count)\n",
    "            return l\n",
    "    print(\"count: \", count)\n",
    "    return l\n",
    "\n",
    "lst1 = np.random.randint(0, 100, 100)\n",
    "lst2 = np.arange(100, 0, -1)\n",
    "l1 = boo(lst1)\n",
    "l2 = boo(lst2)\n",
    "print(l1, l2, sep=\"\\n\\n\")"
   ]
  },
  {
   "cell_type": "code",
   "execution_count": null,
   "metadata": {},
   "outputs": [],
   "source": []
  }
 ],
 "metadata": {
  "kernelspec": {
   "display_name": "Python 3",
   "language": "python",
   "name": "python3"
  },
  "language_info": {
   "codemirror_mode": {
    "name": "ipython",
    "version": 3
   },
   "file_extension": ".py",
   "mimetype": "text/x-python",
   "name": "python",
   "nbconvert_exporter": "python",
   "pygments_lexer": "ipython3",
   "version": "3.6.0"
  }
 },
 "nbformat": 4,
 "nbformat_minor": 2
}
