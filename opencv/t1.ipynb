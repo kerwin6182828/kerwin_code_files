{
 "cells": [
  {
   "cell_type": "code",
   "execution_count": 2,
   "metadata": {},
   "outputs": [],
   "source": [
    "# import matplotlib.pyplot as plt\n",
    "import numpy as np\n",
    "# import pandas as pd\n",
    "# import tensorflow as tf\n",
    "# import sklearn\n",
    "import cv2\n",
    "# from PIL import Image\n",
    "import math\n",
    "# import scipy\n",
    "# from scipy import stats\n",
    "# %matplotlib notebook"
   ]
  },
  {
   "cell_type": "code",
   "execution_count": 73,
   "metadata": {},
   "outputs": [],
   "source": [
    "class Code_rec():\n",
    "    # 用cv2转成HSV颜色空间，轻松提取不同色调的字符str\n",
    "    def extract_image(self, four_str_color, im_hsv):\n",
    "        image_list = []\n",
    "        for i in four_str_color:\n",
    "            lower = np.array([i, 0, 0])\n",
    "            upper = np.array([i, 255, 255])\n",
    "            mask = cv2.inRange(im_hsv,lowerb=lower, upperb=upper)\n",
    "            image_list.append(mask)\n",
    "        return image_list\n",
    "\n",
    "    #用递归计算叠加最大值（其实有点小题大做了）——封装好了，以后只管调用就好，懒得再看了，也不写备注了\n",
    "    def calculate_index(self, lst):\n",
    "        ll = []\n",
    "        def foo(lst, i):\n",
    "            try:\n",
    "                if lst[i] == 0:\n",
    "                    return 0\n",
    "                else:\n",
    "                    x = lst[i] + foo(lst, i+1)\n",
    "                    return x\n",
    "            except:\n",
    "                return lst[i]\n",
    "        for i in range(len(lst)):\n",
    "            ll.append(foo(lst, i))\n",
    "        #最大的索引，也就是字符出现的最左边的索引位置\n",
    "        left_index = np.argmax(ll)\n",
    "        for n, i in enumerate(ll[left_index:]):\n",
    "            if i == 0:\n",
    "                length = n\n",
    "                break\n",
    "        mid_index = left_index + length // 2\n",
    "        #返回每张img的中间位置索引\n",
    "        return mid_index\n",
    "    \n",
    "         \n",
    "    def get_img_order_index(self, imgs):\n",
    "        \"\"\"\n",
    "        得到提取出来的4个不同颜色的img列表，计算他们的排列顺序、中心位置，并返回\n",
    "        \"\"\"\n",
    "        count = 0\n",
    "        wrapper_dict = {}\n",
    "        for num, img in enumerate(imgs):\n",
    "            pixel_num_lst = []\n",
    "            for index, col in enumerate(img.T):\n",
    "                pixel_num = 0\n",
    "                for row in col:\n",
    "                    count += 1\n",
    "                    if row == 255:\n",
    "                        pixel_num += 1\n",
    "                pixel_num_lst.append(pixel_num)\n",
    "            \n",
    "            mid_index = self.calculate_index(pixel_num_lst)  # 返回字符的左右边界的索引\n",
    "            wrapper_dict[num] = mid_index\n",
    "#         print(wrapper_dict)\n",
    "        order_index = np.argsort([mid for mid in wrapper_dict.values()]) # 得到从左到右的排序的图片索引\n",
    "        ordered_imgs = [j for j in  zip(np.array(imgs)[order_index], [wrapper_dict[i] for i in order_index])]\n",
    "        #上面ordered_imgs 的返回结构：[(<im1>, mid_index), (<im2>, mid_index)...]\n",
    "#         print(ordered_imgs)\n",
    "        return ordered_imgs\n",
    "\n",
    "    def cut_image(self, imgs):\n",
    "        \"\"\"\n",
    "        按中间位置左右切割20个像素，得到一个小正方形的str二值图案\n",
    "        \"\"\"\n",
    "        img_cuted_lst = []\n",
    "        for i in imgs:\n",
    "            img_cuted = i[0][:, i[1]-20:i[1]+20]\n",
    "#             print(img_cuted)\n",
    "            img_cuted_lst.append(img_cuted)\n",
    "        return img_cuted_lst\n",
    "        \n",
    "    def save_image(self, imgs, filename=None):\n",
    "        num = 1\n",
    "        if not filename:\n",
    "            for img in imgs:\n",
    "                cv2.imwrite(\"./code_imgs/img%s.jpg\"%num, img)\n",
    "                num += 1\n",
    "        else:\n",
    "            for img in imgs:\n",
    "                cv2.imwrite(\"./code_imgs/img%s--%s.jpg\"%(filename,num), img)\n",
    "                num += 1\n",
    "        \n",
    "    def convert_image(self, filename):\n",
    "        \"\"\"\n",
    "        输入：原始的验证码的文件路径名\n",
    "        输出：分割好的 4 张二值化的小正方形的img矩阵列表  \n",
    "            （format: [im1, im2, im3, im4] ）\n",
    "             (use: 1.存储 2.训练模型 3.喂给模型得到预测结果 )\n",
    "        \n",
    "        \"\"\"\n",
    "        im = cv2.imread(filename)\n",
    "        cv2.imshow(\"im-\", im)\n",
    "        im = cv2.morphologyEx(im, cv2.MORPH_CLOSE, (2, 1))\n",
    "        im = cv2.medianBlur(im, 3)\n",
    "\n",
    "        im_hsv = cv2.cvtColor(im, cv2.COLOR_BGR2HSV)#把BGR图像转换为HSV格式\n",
    "        im_bins = np.bincount(im_hsv.reshape(-1, 3)[:, 0])\n",
    "        four_str_color = np.argsort(im_bins)[-1::-1][1:5]\n",
    "\n",
    "        image_extract_list = self.extract_image(four_str_color, im_hsv)\n",
    "        img_order_lst = self.get_img_order_index(image_extract_list)  # 得到img的从左到右的排列顺序，以及每个img的left_right索引，等待切割\n",
    "        img_converted_lst = self.cut_image(img_order_lst)\n",
    "#         self.save_image(img_cuted_lst)\n",
    "        \n",
    "        cv2.waitKey(0)\n",
    "        cv2.destroyAllWindows()\n",
    "        return img_converted_lst\n",
    "    \n",
    "# code_rec = Code_rec()\n",
    "# img_converted_lst = code_rec.convert_image(\"t2.jpg\")\n",
    "# code_rec.save_image(img_converted_lst)"
   ]
  },
  {
   "cell_type": "code",
   "execution_count": 74,
   "metadata": {},
   "outputs": [
    {
     "ename": "UnboundLocalError",
     "evalue": "local variable 'length' referenced before assignment",
     "output_type": "error",
     "traceback": [
      "\u001b[1;31m---------------------------------------------------------------------------\u001b[0m",
      "\u001b[1;31mUnboundLocalError\u001b[0m                         Traceback (most recent call last)",
      "\u001b[1;32m<ipython-input-74-b20f1c1b920e>\u001b[0m in \u001b[0;36m<module>\u001b[1;34m\u001b[0m\n\u001b[0;32m      1\u001b[0m \u001b[0mcode_rec\u001b[0m \u001b[1;33m=\u001b[0m \u001b[0mCode_rec\u001b[0m\u001b[1;33m(\u001b[0m\u001b[1;33m)\u001b[0m\u001b[1;33m\u001b[0m\u001b[0m\n\u001b[0;32m      2\u001b[0m \u001b[1;32mfor\u001b[0m \u001b[0mi\u001b[0m \u001b[1;32min\u001b[0m \u001b[0mrange\u001b[0m\u001b[1;33m(\u001b[0m\u001b[1;36m1\u001b[0m\u001b[1;33m,\u001b[0m \u001b[1;36m7\u001b[0m\u001b[1;33m)\u001b[0m\u001b[1;33m:\u001b[0m\u001b[1;33m\u001b[0m\u001b[0m\n\u001b[1;32m----> 3\u001b[1;33m     \u001b[0mimgs\u001b[0m \u001b[1;33m=\u001b[0m \u001b[0mcode_rec\u001b[0m\u001b[1;33m.\u001b[0m\u001b[0mconvert_image\u001b[0m\u001b[1;33m(\u001b[0m\u001b[1;34m\"t%s.jpg\"\u001b[0m\u001b[1;33m%\u001b[0m\u001b[0mi\u001b[0m\u001b[1;33m)\u001b[0m\u001b[1;33m\u001b[0m\u001b[0m\n\u001b[0m\u001b[0;32m      4\u001b[0m     \u001b[0mcode_rec\u001b[0m\u001b[1;33m.\u001b[0m\u001b[0msave_image\u001b[0m\u001b[1;33m(\u001b[0m\u001b[0mimgs\u001b[0m\u001b[1;33m,\u001b[0m \u001b[1;34m\"%s\"\u001b[0m\u001b[1;33m%\u001b[0m\u001b[0mi\u001b[0m\u001b[1;33m)\u001b[0m\u001b[1;33m\u001b[0m\u001b[0m\n",
      "\u001b[1;32m<ipython-input-73-037ae6095dff>\u001b[0m in \u001b[0;36mconvert_image\u001b[1;34m(self, filename)\u001b[0m\n\u001b[0;32m    100\u001b[0m \u001b[1;33m\u001b[0m\u001b[0m\n\u001b[0;32m    101\u001b[0m         \u001b[0mimage_extract_list\u001b[0m \u001b[1;33m=\u001b[0m \u001b[0mself\u001b[0m\u001b[1;33m.\u001b[0m\u001b[0mextract_image\u001b[0m\u001b[1;33m(\u001b[0m\u001b[0mfour_str_color\u001b[0m\u001b[1;33m,\u001b[0m \u001b[0mim_hsv\u001b[0m\u001b[1;33m)\u001b[0m\u001b[1;33m\u001b[0m\u001b[0m\n\u001b[1;32m--> 102\u001b[1;33m         \u001b[0mimg_order_lst\u001b[0m \u001b[1;33m=\u001b[0m \u001b[0mself\u001b[0m\u001b[1;33m.\u001b[0m\u001b[0mget_img_order_index\u001b[0m\u001b[1;33m(\u001b[0m\u001b[0mimage_extract_list\u001b[0m\u001b[1;33m)\u001b[0m  \u001b[1;31m# 得到img的从左到右的排列顺序，以及每个img的left_right索引，等待切割\u001b[0m\u001b[1;33m\u001b[0m\u001b[0m\n\u001b[0m\u001b[0;32m    103\u001b[0m         \u001b[0mimg_converted_lst\u001b[0m \u001b[1;33m=\u001b[0m \u001b[0mself\u001b[0m\u001b[1;33m.\u001b[0m\u001b[0mcut_image\u001b[0m\u001b[1;33m(\u001b[0m\u001b[0mimg_order_lst\u001b[0m\u001b[1;33m)\u001b[0m\u001b[1;33m\u001b[0m\u001b[0m\n\u001b[0;32m    104\u001b[0m \u001b[1;31m#         self.save_image(img_cuted_lst)\u001b[0m\u001b[1;33m\u001b[0m\u001b[1;33m\u001b[0m\u001b[0m\n",
      "\u001b[1;32m<ipython-input-73-037ae6095dff>\u001b[0m in \u001b[0;36mget_img_order_index\u001b[1;34m(self, imgs)\u001b[0m\n\u001b[0;32m     51\u001b[0m                 \u001b[0mpixel_num_lst\u001b[0m\u001b[1;33m.\u001b[0m\u001b[0mappend\u001b[0m\u001b[1;33m(\u001b[0m\u001b[0mpixel_num\u001b[0m\u001b[1;33m)\u001b[0m\u001b[1;33m\u001b[0m\u001b[0m\n\u001b[0;32m     52\u001b[0m \u001b[1;33m\u001b[0m\u001b[0m\n\u001b[1;32m---> 53\u001b[1;33m             \u001b[0mmid_index\u001b[0m \u001b[1;33m=\u001b[0m \u001b[0mself\u001b[0m\u001b[1;33m.\u001b[0m\u001b[0mcalculate_index\u001b[0m\u001b[1;33m(\u001b[0m\u001b[0mpixel_num_lst\u001b[0m\u001b[1;33m)\u001b[0m  \u001b[1;31m# 返回字符的左右边界的索引\u001b[0m\u001b[1;33m\u001b[0m\u001b[0m\n\u001b[0m\u001b[0;32m     54\u001b[0m             \u001b[0mwrapper_dict\u001b[0m\u001b[1;33m[\u001b[0m\u001b[0mnum\u001b[0m\u001b[1;33m]\u001b[0m \u001b[1;33m=\u001b[0m \u001b[0mmid_index\u001b[0m\u001b[1;33m\u001b[0m\u001b[0m\n\u001b[0;32m     55\u001b[0m \u001b[1;31m#         print(wrapper_dict)\u001b[0m\u001b[1;33m\u001b[0m\u001b[1;33m\u001b[0m\u001b[0m\n",
      "\u001b[1;32m<ipython-input-73-037ae6095dff>\u001b[0m in \u001b[0;36mcalculate_index\u001b[1;34m(self, lst)\u001b[0m\n\u001b[0;32m     30\u001b[0m                 \u001b[0mlength\u001b[0m \u001b[1;33m=\u001b[0m \u001b[0mn\u001b[0m\u001b[1;33m\u001b[0m\u001b[0m\n\u001b[0;32m     31\u001b[0m                 \u001b[1;32mbreak\u001b[0m\u001b[1;33m\u001b[0m\u001b[0m\n\u001b[1;32m---> 32\u001b[1;33m         \u001b[0mmid_index\u001b[0m \u001b[1;33m=\u001b[0m \u001b[0mleft_index\u001b[0m \u001b[1;33m+\u001b[0m \u001b[0mlength\u001b[0m \u001b[1;33m//\u001b[0m \u001b[1;36m2\u001b[0m\u001b[1;33m\u001b[0m\u001b[0m\n\u001b[0m\u001b[0;32m     33\u001b[0m         \u001b[1;31m#返回每张img的中间位置索引\u001b[0m\u001b[1;33m\u001b[0m\u001b[1;33m\u001b[0m\u001b[0m\n\u001b[0;32m     34\u001b[0m         \u001b[1;32mreturn\u001b[0m \u001b[0mmid_index\u001b[0m\u001b[1;33m\u001b[0m\u001b[0m\n",
      "\u001b[1;31mUnboundLocalError\u001b[0m: local variable 'length' referenced before assignment"
     ]
    }
   ],
   "source": [
    "code_rec = Code_rec()\n",
    "for i in range(1, 7):\n",
    "    imgs = code_rec.convert_image(\"t%s.jpg\"%i)\n",
    "    code_rec.save_image(imgs, \"%s\"%i)"
   ]
  },
  {
   "cell_type": "code",
   "execution_count": null,
   "metadata": {},
   "outputs": [],
   "source": []
  },
  {
   "cell_type": "code",
   "execution_count": 72,
   "metadata": {},
   "outputs": [],
   "source": [
    "for i in range(1, 1000):\n",
    "    im = cv2.imread(\"./code_img/t%s.jpg\"%i)\n",
    "    im = im[:40, :120, :]\n",
    "#     print(im.shape)\n",
    "    cv2.imwrite(\"./code_img/t%s.jpg\"%i, im)"
   ]
  },
  {
   "cell_type": "code",
   "execution_count": null,
   "metadata": {},
   "outputs": [],
   "source": []
  },
  {
   "cell_type": "code",
   "execution_count": null,
   "metadata": {},
   "outputs": [],
   "source": []
  },
  {
   "cell_type": "code",
   "execution_count": null,
   "metadata": {},
   "outputs": [],
   "source": []
  },
  {
   "cell_type": "code",
   "execution_count": null,
   "metadata": {},
   "outputs": [],
   "source": []
  },
  {
   "cell_type": "code",
   "execution_count": null,
   "metadata": {},
   "outputs": [],
   "source": []
  },
  {
   "cell_type": "code",
   "execution_count": null,
   "metadata": {},
   "outputs": [],
   "source": []
  },
  {
   "cell_type": "code",
   "execution_count": null,
   "metadata": {},
   "outputs": [],
   "source": []
  },
  {
   "cell_type": "code",
   "execution_count": null,
   "metadata": {},
   "outputs": [],
   "source": []
  },
  {
   "cell_type": "code",
   "execution_count": null,
   "metadata": {},
   "outputs": [],
   "source": []
  },
  {
   "cell_type": "code",
   "execution_count": null,
   "metadata": {},
   "outputs": [],
   "source": []
  },
  {
   "cell_type": "code",
   "execution_count": null,
   "metadata": {},
   "outputs": [],
   "source": []
  },
  {
   "cell_type": "code",
   "execution_count": null,
   "metadata": {},
   "outputs": [],
   "source": []
  },
  {
   "cell_type": "code",
   "execution_count": null,
   "metadata": {},
   "outputs": [],
   "source": []
  },
  {
   "cell_type": "code",
   "execution_count": null,
   "metadata": {},
   "outputs": [],
   "source": []
  },
  {
   "cell_type": "code",
   "execution_count": null,
   "metadata": {},
   "outputs": [],
   "source": []
  },
  {
   "cell_type": "code",
   "execution_count": null,
   "metadata": {},
   "outputs": [],
   "source": []
  },
  {
   "cell_type": "code",
   "execution_count": null,
   "metadata": {},
   "outputs": [],
   "source": []
  },
  {
   "cell_type": "code",
   "execution_count": null,
   "metadata": {},
   "outputs": [],
   "source": []
  },
  {
   "cell_type": "code",
   "execution_count": null,
   "metadata": {},
   "outputs": [],
   "source": []
  },
  {
   "cell_type": "code",
   "execution_count": null,
   "metadata": {},
   "outputs": [],
   "source": []
  },
  {
   "cell_type": "code",
   "execution_count": null,
   "metadata": {},
   "outputs": [],
   "source": []
  },
  {
   "cell_type": "code",
   "execution_count": null,
   "metadata": {},
   "outputs": [],
   "source": []
  },
  {
   "cell_type": "code",
   "execution_count": null,
   "metadata": {},
   "outputs": [],
   "source": [
    "ss.head(20)"
   ]
  },
  {
   "cell_type": "code",
   "execution_count": null,
   "metadata": {},
   "outputs": [],
   "source": [
    "ss.tshift(-7) / ss"
   ]
  },
  {
   "cell_type": "code",
   "execution_count": null,
   "metadata": {},
   "outputs": [],
   "source": []
  },
  {
   "cell_type": "code",
   "execution_count": null,
   "metadata": {},
   "outputs": [],
   "source": []
  },
  {
   "cell_type": "code",
   "execution_count": null,
   "metadata": {},
   "outputs": [],
   "source": [
    "np.arange(48, 60).sum()/12"
   ]
  },
  {
   "cell_type": "code",
   "execution_count": null,
   "metadata": {},
   "outputs": [],
   "source": [
    "s.asfreq(\"BA\")"
   ]
  },
  {
   "cell_type": "code",
   "execution_count": null,
   "metadata": {},
   "outputs": [],
   "source": []
  },
  {
   "cell_type": "code",
   "execution_count": null,
   "metadata": {},
   "outputs": [],
   "source": []
  },
  {
   "cell_type": "code",
   "execution_count": null,
   "metadata": {},
   "outputs": [],
   "source": []
  },
  {
   "cell_type": "code",
   "execution_count": null,
   "metadata": {},
   "outputs": [],
   "source": []
  },
  {
   "cell_type": "code",
   "execution_count": null,
   "metadata": {},
   "outputs": [],
   "source": []
  },
  {
   "cell_type": "code",
   "execution_count": null,
   "metadata": {},
   "outputs": [],
   "source": []
  },
  {
   "cell_type": "code",
   "execution_count": null,
   "metadata": {},
   "outputs": [],
   "source": []
  },
  {
   "cell_type": "code",
   "execution_count": null,
   "metadata": {},
   "outputs": [],
   "source": []
  },
  {
   "cell_type": "code",
   "execution_count": null,
   "metadata": {},
   "outputs": [],
   "source": []
  },
  {
   "cell_type": "code",
   "execution_count": null,
   "metadata": {},
   "outputs": [],
   "source": []
  },
  {
   "cell_type": "code",
   "execution_count": null,
   "metadata": {},
   "outputs": [],
   "source": []
  }
 ],
 "metadata": {
  "kernelspec": {
   "display_name": "Python 3",
   "language": "python",
   "name": "python3"
  },
  "language_info": {
   "codemirror_mode": {
    "name": "ipython",
    "version": 3
   },
   "file_extension": ".py",
   "mimetype": "text/x-python",
   "name": "python",
   "nbconvert_exporter": "python",
   "pygments_lexer": "ipython3",
   "version": "3.6.0"
  }
 },
 "nbformat": 4,
 "nbformat_minor": 2
}
